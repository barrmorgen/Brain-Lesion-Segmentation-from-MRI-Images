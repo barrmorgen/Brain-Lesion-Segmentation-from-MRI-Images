{
 "cells": [
  {
   "cell_type": "markdown",
   "metadata": {},
   "source": [
    "# U-Net\n"
   ]
  },
  {
   "cell_type": "code",
   "execution_count": 1,
   "metadata": {},
   "outputs": [],
   "source": [
    "import torch\n",
    "import torch.nn as nn\n",
    "import torch.nn.functional as F\n",
    "import random\n",
    "import sys\n",
    "import os\n",
    "from optparse import OptionParser\n",
    "import numpy as np\n",
    "from torch import optim\n",
    "from PIL import Image\n",
    "import progressbar\n",
    "from torch.autograd import Function, Variable\n",
    "import matplotlib.pyplot as plt\n",
    "import matplotlib\n",
    "from torchvision import transforms\n",
    "from glob import glob\n",
    "from skimage import io\n",
    "from sklearn.feature_extraction.image import extract_patches_2d,reconstruct_from_patches_2d\n",
    "import pickle\n",
    "from torch.utils.data import Dataset\n",
    "%matplotlib inline\n",
    "import cv2"
   ]
  },
  {
   "cell_type": "code",
   "execution_count": 2,
   "metadata": {},
   "outputs": [
    {
     "name": "stdout",
     "output_type": "stream",
     "text": [
      "cuda:0\n"
     ]
    }
   ],
   "source": [
    "device = torch.device(\"cuda:0\" if torch.cuda.is_available() else \"cpu\")\n",
    "print(device)\n"
   ]
  },
  {
   "cell_type": "code",
   "execution_count": 3,
   "metadata": {},
   "outputs": [],
   "source": [
    "progress = progressbar.ProgressBar(widgets=[progressbar.Bar('*', '[', ']'), progressbar.Percentage(), ' '])"
   ]
  },
  {
   "cell_type": "code",
   "execution_count": 4,
   "metadata": {},
   "outputs": [],
   "source": [
    "# DEFINE SINGLE_CONV CLASS\n",
    "class single_conv(nn.Module):\n",
    "    '''(conv => BN => ReLU) '''\n",
    "    def __init__(self, in_ch, out_ch):\n",
    "        super(single_conv, self).__init__()\n",
    "        # Define the layers here\n",
    "        # Note: for conv, use a padding of (1,1) so that size is maintained\n",
    "        self.conv = nn.Conv2d(in_ch, out_ch, kernel_size=3,stride=1,padding=1)\n",
    "        self.bn = nn.BatchNorm2d(out_ch)\n",
    "        self.relu = nn.ReLU()\n",
    "        \n",
    "        \n",
    "    def forward(self, x):\n",
    "        # define forward operation using the layers we have defined\n",
    "        x = self.relu(self.bn(self.conv(x)))\n",
    "        return x\n",
    "\n",
    "# DEFINE DOWN CLASS\n",
    "class down(nn.Module):\n",
    "    def __init__(self):\n",
    "        super(down, self).__init__()\n",
    "        self.down = nn.MaxPool2d((2, 2)) # use nn.MaxPool2d( )\n",
    "        \n",
    "    def forward(self, x):\n",
    "        x = self.down(x)\n",
    "        \n",
    "        return x\n",
    "\n",
    "\n",
    "# DEFINE UP CLASS\n",
    "# Note that this class will not only upsample x1, but also concatenate up-sampled x1 with x2 to generate the final output\n",
    "\n",
    "class up(nn.Module):\n",
    "    def __init__(self):\n",
    "        super(up, self).__init__()       \n",
    "        self.up = nn.Upsample(scale_factor=2, mode='bilinear')  # use nn.Upsample() with mode bilinear\n",
    "\n",
    "    def forward(self, x1, x2): # Takes in smaller x1 and larger x2\n",
    "        # First we upsample x1 to be same size as x2\n",
    "        x1 = self.up(x1)\n",
    "        \n",
    "        # This part is tricky so we've completed this\n",
    "        # Notice that x2 and x1 may not have the same spatial size. \n",
    "        # This is because when you downsample old_x2(say 25 by 25), you will get x1(12 by 12)   \n",
    "        # Then you perform upsample to x1, you will get new_x1(24 by 24)\n",
    "        # You should pad a new row and column so that new_x1 and x2 have the same size.\n",
    "        diffY = x2.size()[2] - x1.size()[2]\n",
    "        diffX = x2.size()[3] - x1.size()[3]\n",
    "        x1 = F.pad(x1, (diffX // 2, diffX - diffX//2,\n",
    "                        diffY // 2, diffY - diffY//2))\n",
    "        \n",
    "        # Now we concatenat x2 and x1 along channel dimension: torch.cat()\n",
    "        # Note pytorch tensor shape correspond to: (batchsize, channel, x_dim, y_dim)\n",
    "        x = torch.cat((x1,x2), dim=1)\n",
    "        \n",
    "        return x\n",
    "\n",
    "\n",
    "# DEFINE OUTCONV CLASS\n",
    "class outconv(nn.Module):\n",
    "    def __init__(self, in_ch, out_ch):\n",
    "        super(outconv, self).__init__()\n",
    "        # 1 conv layer\n",
    "        self.conv = nn.Conv2d(in_ch, out_ch, kernel_size=1,stride=1,padding=0)\n",
    "\n",
    "    def forward(self, x):\n",
    "        x = self.conv(x)\n",
    "        \n",
    "        return x\n"
   ]
  },
  {
   "cell_type": "code",
   "execution_count": 5,
   "metadata": {},
   "outputs": [],
   "source": [
    "################################################ [TODO] ###################################################\n",
    "# Build your network with predefined classes: single_conv, up, down, outconv\n",
    "# The number of input and output channels should follow the U-Net Structure shown above.\n",
    "import torch.nn.functional as F\n",
    "class UNet(nn.Module):\n",
    "    def __init__(self, n_channels_in, n_channels_out):\n",
    "        super(UNet, self).__init__()\n",
    "        ## Define the necessary layers using the classes defined above\n",
    "        self.conv1=single_conv(n_channels_in,16)\n",
    "        self.down=down()\n",
    "        self.up=up()\n",
    "        self.conv2=single_conv(16,32)\n",
    "        self.conv3=single_conv(32,32)\n",
    "        self.conv4=single_conv(64,16)\n",
    "        self.conv5=single_conv(32,16)\n",
    "        self.outconv=outconv(16,n_channels_out)\n",
    "\n",
    "\n",
    "    def forward(self, x):\n",
    "        # Define forward pass\n",
    "        x0=self.conv1(x)\n",
    "        x1=self.down(x0)\n",
    "        x1=self.conv2(x1)\n",
    "        x2=self.down(x1)\n",
    "        x2=self.conv3(x2)\n",
    "        x3=self.up(x2,x1)\n",
    "        x3=self.conv4(x3)\n",
    "        x=self.up(x3,x0)\n",
    "        x=self.conv5(x)\n",
    "        x=self.outconv(x)\n",
    "        \n",
    "        return x\n",
    "    "
   ]
  },
  {
   "cell_type": "code",
   "execution_count": 6,
   "metadata": {},
   "outputs": [],
   "source": [
    "#### define transform classes for  data augmentation\n",
    "class Flip(object):\n",
    "    \"\"\"\n",
    "    Flip the image left or right for data augmentation, but prefer original image.\n",
    "    \"\"\"\n",
    "    def __init__(self,ori_probability=0.60):\n",
    "        self.ori_probability = ori_probability\n",
    " \n",
    "    def __call__(self, sample):\n",
    "        if random.uniform(0,1) < self.ori_probability:\n",
    "            return sample\n",
    "        else:\n",
    "            img, label = sample['img'], sample['label']\n",
    "            img_flip = img[:,:,::-1]\n",
    "            label_flip = label[:,::-1]\n",
    "            \n",
    "            return {'img': img_flip, 'label': label_flip}\n",
    "        \n",
    "class ToTensor(object):\n",
    "    \"\"\"\n",
    "    Convert ndarrays in sample to Tensors.\n",
    "    \"\"\"\n",
    "    def __init__(self):\n",
    "        pass\n",
    "\n",
    "    def __call__(self, sample):\n",
    "        image, label = sample['img'], sample['label']\n",
    "\n",
    "        return {'img': torch.from_numpy(image.copy()).type(torch.FloatTensor),\n",
    "                'label': torch.from_numpy(label.copy()).type(torch.FloatTensor)}"
   ]
  },
  {
   "cell_type": "code",
   "execution_count": 7,
   "metadata": {},
   "outputs": [],
   "source": [
    "train_img_masks_save_path = 'Pickles/train_img_masks.pickle'\n",
    "if os.path.exists(train_img_masks_save_path):\n",
    "    with open(train_img_masks_save_path,'rb') as f:\n",
    "        train_img_masks = pickle.load(f)\n",
    "    f.close()\n",
    "else:\n",
    "    print('Error! Training Set Pickle not found!')\n",
    "\n",
    "val_img_masks_save_path = 'Pickles/val_img_masks.pickle'\n",
    "if os.path.exists(val_img_masks_save_path):\n",
    "    with open(val_img_masks_save_path,'rb') as f:\n",
    "        val_img_masks = pickle.load(f)\n",
    "    f.close()\n",
    "else:\n",
    "    print('Error! Validation Set Pickle not found!')"
   ]
  },
  {
   "cell_type": "code",
   "execution_count": 8,
   "metadata": {},
   "outputs": [],
   "source": [
    "# the dataset class\n",
    "class CustomDataset(Dataset):\n",
    "    def __init__(self, image_masks, transforms=None): \n",
    "\n",
    "        self.image_masks = image_masks\n",
    "        self.transforms = transforms\n",
    "    \n",
    "    def __len__(self):  # return count of sample we have\n",
    "\n",
    "        return len(self.image_masks)\n",
    "    \n",
    "    def __getitem__(self, index):\n",
    "\n",
    "        image = np.array(self.image_masks[index][0]) # Channel,H, W\n",
    "        mask = self.image_masks[index][1]\n",
    "        \n",
    "        sample = {'img': image, 'label': mask}\n",
    "        \n",
    "        if transforms:\n",
    "            sample = self.transforms(sample)\n",
    "            \n",
    "        return sample\n",
    "\n",
    "train_dataset = CustomDataset(train_img_masks, transforms=transforms.Compose([Flip(),ToTensor()]))\n",
    "val_dataset = CustomDataset(val_img_masks, transforms=transforms.Compose([Flip(),ToTensor()]))"
   ]
  },
  {
   "cell_type": "code",
   "execution_count": 9,
   "metadata": {},
   "outputs": [
    {
     "name": "stdout",
     "output_type": "stream",
     "text": [
      "UNet(\n",
      "  (conv1): single_conv(\n",
      "    (conv): Conv2d(4, 16, kernel_size=(3, 3), stride=(1, 1), padding=(1, 1))\n",
      "    (bn): BatchNorm2d(16, eps=1e-05, momentum=0.1, affine=True, track_running_stats=True)\n",
      "    (relu): ReLU()\n",
      "  )\n",
      "  (down): down(\n",
      "    (down): MaxPool2d(kernel_size=(2, 2), stride=(2, 2), padding=0, dilation=1, ceil_mode=False)\n",
      "  )\n",
      "  (up): up(\n",
      "    (up): Upsample(scale_factor=2.0, mode=bilinear)\n",
      "  )\n",
      "  (conv2): single_conv(\n",
      "    (conv): Conv2d(16, 32, kernel_size=(3, 3), stride=(1, 1), padding=(1, 1))\n",
      "    (bn): BatchNorm2d(32, eps=1e-05, momentum=0.1, affine=True, track_running_stats=True)\n",
      "    (relu): ReLU()\n",
      "  )\n",
      "  (conv3): single_conv(\n",
      "    (conv): Conv2d(32, 32, kernel_size=(3, 3), stride=(1, 1), padding=(1, 1))\n",
      "    (bn): BatchNorm2d(32, eps=1e-05, momentum=0.1, affine=True, track_running_stats=True)\n",
      "    (relu): ReLU()\n",
      "  )\n",
      "  (conv4): single_conv(\n",
      "    (conv): Conv2d(64, 16, kernel_size=(3, 3), stride=(1, 1), padding=(1, 1))\n",
      "    (bn): BatchNorm2d(16, eps=1e-05, momentum=0.1, affine=True, track_running_stats=True)\n",
      "    (relu): ReLU()\n",
      "  )\n",
      "  (conv5): single_conv(\n",
      "    (conv): Conv2d(32, 16, kernel_size=(3, 3), stride=(1, 1), padding=(1, 1))\n",
      "    (bn): BatchNorm2d(16, eps=1e-05, momentum=0.1, affine=True, track_running_stats=True)\n",
      "    (relu): ReLU()\n",
      "  )\n",
      "  (outconv): outconv(\n",
      "    (conv): Conv2d(16, 5, kernel_size=(1, 1), stride=(1, 1))\n",
      "  )\n",
      ")\n",
      "Number of parameters in network:  28645\n"
     ]
    }
   ],
   "source": [
    "# Create Model object from the class defined above. Input channels = 4, output channels = 5\n",
    "net = UNet(4,5).to(device,dtype=torch.float32)\n",
    "net.to(device) \n",
    "# if using GPU\n",
    "# If continuing from previously saved model, use \n",
    "# net.load_state_dict(torch.load('PATH TO SAVED MODEL FILE'))\n",
    "print(net)\n",
    "\n",
    "# This shows the number of parameters in the network\n",
    "n_params = sum(p.numel() for p in net.parameters() if p.requires_grad)\n",
    "print('Number of parameters in network: ', n_params)"
   ]
  },
  {
   "cell_type": "code",
   "execution_count": 10,
   "metadata": {
    "scrolled": true
   },
   "outputs": [
    {
     "name": "stderr",
     "output_type": "stream",
     "text": [
      "\r",
      "                                                                               \r",
      "\r",
      "[                                                                        ]N/A% "
     ]
    },
    {
     "name": "stdout",
     "output_type": "stream",
     "text": [
      "Starting epoch 1/100.\n"
     ]
    },
    {
     "name": "stderr",
     "output_type": "stream",
     "text": [
      "C:\\Users\\Juan\\anaconda3\\envs\\Image_Processing\\lib\\site-packages\\torch\\nn\\functional.py:2479: UserWarning: Default upsampling behavior when mode=bilinear is changed to align_corners=False since 0.4.0. Please specify align_corners=True if the old behavior is desired. See the documentation of nn.Upsample for details.\n",
      "  \"See the documentation of nn.Upsample for details.\".format(mode))\n",
      "[****                                                                    ]  6% "
     ]
    },
    {
     "name": "stdout",
     "output_type": "stream",
     "text": [
      "0.0000 --- loss: 1.728394\n"
     ]
    },
    {
     "name": "stderr",
     "output_type": "stream",
     "text": [
      "[**********************                                                  ] 31% "
     ]
    },
    {
     "name": "stdout",
     "output_type": "stream",
     "text": [
      "0.2000 --- loss: 1.430888\n"
     ]
    },
    {
     "name": "stderr",
     "output_type": "stream",
     "text": [
      "[***********************************                                     ] 49% "
     ]
    },
    {
     "name": "stdout",
     "output_type": "stream",
     "text": [
      "0.4000 --- loss: 1.364657\n"
     ]
    },
    {
     "name": "stderr",
     "output_type": "stream",
     "text": [
      "[***************************************************                     ] 71% "
     ]
    },
    {
     "name": "stdout",
     "output_type": "stream",
     "text": [
      "0.6000 --- loss: 1.186183\n"
     ]
    },
    {
     "name": "stderr",
     "output_type": "stream",
     "text": [
      "[***************************************************************         ] 87% "
     ]
    },
    {
     "name": "stdout",
     "output_type": "stream",
     "text": [
      "0.8000 --- loss: 1.041553\n"
     ]
    },
    {
     "name": "stderr",
     "output_type": "stream",
     "text": [
      "[                                                                        ]N/A% "
     ]
    },
    {
     "name": "stdout",
     "output_type": "stream",
     "text": [
      "Epoch finished ! Loss: 1.2915095090866089\n",
      "Validation Cross-Entropy Coeff: 1.0303250551223755\n",
      "Checkpoint 1 saved !\n",
      "Starting epoch 2/100.\n",
      "0.0000 --- loss: 0.995399"
     ]
    },
    {
     "name": "stderr",
     "output_type": "stream",
     "text": [
      "                                                                               \r"
     ]
    },
    {
     "name": "stdout",
     "output_type": "stream",
     "text": [
      "\n"
     ]
    },
    {
     "name": "stderr",
     "output_type": "stream",
     "text": [
      "[*********************                                                   ] 29% "
     ]
    },
    {
     "name": "stdout",
     "output_type": "stream",
     "text": [
      "0.2000 --- loss: 0.967076\n"
     ]
    },
    {
     "name": "stderr",
     "output_type": "stream",
     "text": [
      "[*************************************                                   ] 51% "
     ]
    },
    {
     "name": "stdout",
     "output_type": "stream",
     "text": [
      "0.4000 --- loss: 0.883065\n"
     ]
    },
    {
     "name": "stderr",
     "output_type": "stream",
     "text": [
      "[***************************************************                     ] 71% "
     ]
    },
    {
     "name": "stdout",
     "output_type": "stream",
     "text": [
      "0.6000 --- loss: 0.889826\n"
     ]
    },
    {
     "name": "stderr",
     "output_type": "stream",
     "text": [
      "[******************************************************************      ] 91% "
     ]
    },
    {
     "name": "stdout",
     "output_type": "stream",
     "text": [
      "0.8000 --- loss: 0.796675\n"
     ]
    },
    {
     "name": "stderr",
     "output_type": "stream",
     "text": [
      "[                                                                        ]N/A% "
     ]
    },
    {
     "name": "stdout",
     "output_type": "stream",
     "text": [
      "Epoch finished ! Loss: 0.9415095448493958\n",
      "Validation Cross-Entropy Coeff: 0.8560175895690918\n",
      "Checkpoint 2 saved !\n",
      "Starting epoch 3/100.\n",
      "0.0000 --- loss: 0.890037\n"
     ]
    },
    {
     "name": "stderr",
     "output_type": "stream",
     "text": [
      "[**********************                                                  ] 31% "
     ]
    },
    {
     "name": "stdout",
     "output_type": "stream",
     "text": [
      "0.2000 --- loss: 0.742268\n"
     ]
    },
    {
     "name": "stderr",
     "output_type": "stream",
     "text": [
      "[**********************************                                      ] 47% "
     ]
    },
    {
     "name": "stdout",
     "output_type": "stream",
     "text": [
      "0.4000 --- loss: 0.863660\n"
     ]
    },
    {
     "name": "stderr",
     "output_type": "stream",
     "text": [
      "[***************************************************                     ] 71% "
     ]
    },
    {
     "name": "stdout",
     "output_type": "stream",
     "text": [
      "0.6000 --- loss: 0.850523\n"
     ]
    },
    {
     "name": "stderr",
     "output_type": "stream",
     "text": [
      "[****************************************************************        ] 88% "
     ]
    },
    {
     "name": "stdout",
     "output_type": "stream",
     "text": [
      "0.8000 --- loss: 0.752353\n"
     ]
    },
    {
     "name": "stderr",
     "output_type": "stream",
     "text": [
      "[                                                                        ]N/A% "
     ]
    },
    {
     "name": "stdout",
     "output_type": "stream",
     "text": [
      "Epoch finished ! Loss: 0.8243234157562256\n",
      "Validation Cross-Entropy Coeff: 0.7686100006103516\n",
      "Checkpoint 3 saved !\n",
      "Starting epoch 4/100.\n",
      "0.0000 --- loss: 0.731203\n"
     ]
    },
    {
     "name": "stderr",
     "output_type": "stream",
     "text": [
      "[**********************                                                  ] 31% "
     ]
    },
    {
     "name": "stdout",
     "output_type": "stream",
     "text": [
      "0.2000 --- loss: 0.652371\n"
     ]
    },
    {
     "name": "stderr",
     "output_type": "stream",
     "text": [
      "[*************************************                                   ] 51% "
     ]
    },
    {
     "name": "stdout",
     "output_type": "stream",
     "text": [
      "0.4000 --- loss: 0.741190\n"
     ]
    },
    {
     "name": "stderr",
     "output_type": "stream",
     "text": [
      "[***************************************************                     ] 71% "
     ]
    },
    {
     "name": "stdout",
     "output_type": "stream",
     "text": [
      "0.6000 --- loss: 0.733127\n"
     ]
    },
    {
     "name": "stderr",
     "output_type": "stream",
     "text": [
      "[******************************************************************      ] 91% "
     ]
    },
    {
     "name": "stdout",
     "output_type": "stream",
     "text": [
      "0.8000 --- loss: 0.634450\n"
     ]
    },
    {
     "name": "stderr",
     "output_type": "stream",
     "text": [
      "[                                                                        ]N/A% "
     ]
    },
    {
     "name": "stdout",
     "output_type": "stream",
     "text": [
      "Epoch finished ! Loss: 0.7627637386322021\n",
      "Validation Cross-Entropy Coeff: 0.7162224650382996\n",
      "Checkpoint 4 saved !\n",
      "Starting epoch 5/100.\n",
      "0.0000 --- loss: 0.818682\n"
     ]
    },
    {
     "name": "stderr",
     "output_type": "stream",
     "text": [
      "[***********************                                                 ] 32% "
     ]
    },
    {
     "name": "stdout",
     "output_type": "stream",
     "text": [
      "0.2000 --- loss: 0.726576\n"
     ]
    },
    {
     "name": "stderr",
     "output_type": "stream",
     "text": [
      "[*************************************                                   ] 51% "
     ]
    },
    {
     "name": "stdout",
     "output_type": "stream",
     "text": [
      "0.4000 --- loss: 0.724172\n"
     ]
    },
    {
     "name": "stderr",
     "output_type": "stream",
     "text": [
      "[***************************************************                     ] 71% "
     ]
    },
    {
     "name": "stdout",
     "output_type": "stream",
     "text": [
      "0.6000 --- loss: 0.662257\n"
     ]
    },
    {
     "name": "stderr",
     "output_type": "stream",
     "text": [
      "[****************************************************************        ] 89% "
     ]
    },
    {
     "name": "stdout",
     "output_type": "stream",
     "text": [
      "0.8000 --- loss: 0.637390\n"
     ]
    },
    {
     "name": "stderr",
     "output_type": "stream",
     "text": [
      "                                                                               \r"
     ]
    },
    {
     "name": "stdout",
     "output_type": "stream",
     "text": [
      "Epoch finished ! Loss: 0.7285264134407043\n",
      "Validation Cross-Entropy Coeff: 0.7082765102386475\n",
      "Checkpoint 5 saved !\n",
      "Starting epoch 6/100.\n",
      "0.0000 --- loss: 0.804082\n"
     ]
    },
    {
     "name": "stderr",
     "output_type": "stream",
     "text": [
      "[**********************                                                  ] 31% "
     ]
    },
    {
     "name": "stdout",
     "output_type": "stream",
     "text": [
      "0.2000 --- loss: 0.650508\n"
     ]
    },
    {
     "name": "stderr",
     "output_type": "stream",
     "text": [
      "[***********************************                                     ] 49% "
     ]
    },
    {
     "name": "stdout",
     "output_type": "stream",
     "text": [
      "0.4000 --- loss: 0.668278\n"
     ]
    },
    {
     "name": "stderr",
     "output_type": "stream",
     "text": [
      "[***************************************************                     ] 71% "
     ]
    },
    {
     "name": "stdout",
     "output_type": "stream",
     "text": [
      "0.6000 --- loss: 0.812987\n"
     ]
    },
    {
     "name": "stderr",
     "output_type": "stream",
     "text": [
      "[**************************************************************          ] 86% "
     ]
    },
    {
     "name": "stdout",
     "output_type": "stream",
     "text": [
      "0.8000 --- loss: 0.776282\n"
     ]
    },
    {
     "name": "stderr",
     "output_type": "stream",
     "text": [
      "[                                                                        ]N/A% "
     ]
    },
    {
     "name": "stdout",
     "output_type": "stream",
     "text": [
      "Epoch finished ! Loss: 0.7030444741249084\n",
      "Validation Cross-Entropy Coeff: 0.6678983569145203\n",
      "Checkpoint 6 saved !\n",
      "Starting epoch 7/100.\n",
      "0.0000 --- loss: 0.763904\n"
     ]
    },
    {
     "name": "stderr",
     "output_type": "stream",
     "text": [
      "[**********************                                                  ] 31% "
     ]
    },
    {
     "name": "stdout",
     "output_type": "stream",
     "text": [
      "0.2000 --- loss: 0.665481\n"
     ]
    },
    {
     "name": "stderr",
     "output_type": "stream",
     "text": [
      "[*************************************                                   ] 51% "
     ]
    },
    {
     "name": "stdout",
     "output_type": "stream",
     "text": [
      "0.4000 --- loss: 0.621260\n"
     ]
    },
    {
     "name": "stderr",
     "output_type": "stream",
     "text": [
      "[**************************************************                      ] 69% "
     ]
    },
    {
     "name": "stdout",
     "output_type": "stream",
     "text": [
      "0.6000 --- loss: 0.792261\n"
     ]
    },
    {
     "name": "stderr",
     "output_type": "stream",
     "text": [
      "[******************************************************************      ] 91% "
     ]
    },
    {
     "name": "stdout",
     "output_type": "stream",
     "text": [
      "0.8000 --- loss: 0.713899\n"
     ]
    },
    {
     "name": "stderr",
     "output_type": "stream",
     "text": [
      "[*********************************************************************   ] 95% "
     ]
    },
    {
     "name": "stdout",
     "output_type": "stream",
     "text": [
      "Epoch finished ! Loss: 0.6867576241493225\n",
      "Validation Cross-Entropy Coeff: 0.6917678713798523\n",
      "Checkpoint 7 saved !"
     ]
    },
    {
     "name": "stderr",
     "output_type": "stream",
     "text": [
      "                                                                               \r"
     ]
    },
    {
     "name": "stdout",
     "output_type": "stream",
     "text": [
      "\n",
      "Starting epoch 8/100.\n",
      "0.0000 --- loss: 0.717816\n"
     ]
    },
    {
     "name": "stderr",
     "output_type": "stream",
     "text": [
      "[**********************                                                  ] 31% "
     ]
    },
    {
     "name": "stdout",
     "output_type": "stream",
     "text": [
      "0.2000 --- loss: 0.682309\n"
     ]
    },
    {
     "name": "stderr",
     "output_type": "stream",
     "text": [
      "[**********************************                                      ] 48% "
     ]
    },
    {
     "name": "stdout",
     "output_type": "stream",
     "text": [
      "0.4000 --- loss: 0.609523\n"
     ]
    },
    {
     "name": "stderr",
     "output_type": "stream",
     "text": [
      "[***************************************************                     ] 71% "
     ]
    },
    {
     "name": "stdout",
     "output_type": "stream",
     "text": [
      "0.6000 --- loss: 0.611661\n"
     ]
    },
    {
     "name": "stderr",
     "output_type": "stream",
     "text": [
      "[****************************************************************        ] 89% "
     ]
    },
    {
     "name": "stdout",
     "output_type": "stream",
     "text": [
      "0.8000 --- loss: 0.592472\n"
     ]
    },
    {
     "name": "stderr",
     "output_type": "stream",
     "text": [
      "[************************************************************************]100% "
     ]
    },
    {
     "name": "stdout",
     "output_type": "stream",
     "text": [
      "Epoch finished ! Loss: 0.6665159463882446\n",
      "Validation Cross-Entropy Coeff: 0.6392553448677063\n",
      "Checkpoint 8 saved !"
     ]
    },
    {
     "name": "stderr",
     "output_type": "stream",
     "text": [
      "                                                                               \r"
     ]
    },
    {
     "name": "stdout",
     "output_type": "stream",
     "text": [
      "\n",
      "Starting epoch 9/100.\n",
      "0.0000 --- loss: 0.688408\n"
     ]
    },
    {
     "name": "stderr",
     "output_type": "stream",
     "text": [
      "[**********************                                                  ] 31% "
     ]
    },
    {
     "name": "stdout",
     "output_type": "stream",
     "text": [
      "0.2000 --- loss: 0.654886\n"
     ]
    },
    {
     "name": "stderr",
     "output_type": "stream",
     "text": [
      "[**********************************                                      ] 47% "
     ]
    },
    {
     "name": "stdout",
     "output_type": "stream",
     "text": [
      "0.4000 --- loss: 0.683284\n"
     ]
    },
    {
     "name": "stderr",
     "output_type": "stream",
     "text": [
      "[************************************************                        ] 67% "
     ]
    },
    {
     "name": "stdout",
     "output_type": "stream",
     "text": [
      "0.6000 --- loss: 0.631051\n"
     ]
    },
    {
     "name": "stderr",
     "output_type": "stream",
     "text": [
      "[****************************************************************        ] 89% "
     ]
    },
    {
     "name": "stdout",
     "output_type": "stream",
     "text": [
      "0.8000 --- loss: 0.626199\n"
     ]
    },
    {
     "name": "stderr",
     "output_type": "stream",
     "text": [
      "[                                                                        ]N/A% "
     ]
    },
    {
     "name": "stdout",
     "output_type": "stream",
     "text": [
      "Epoch finished ! Loss: 0.6530904769897461\n",
      "Validation Cross-Entropy Coeff: 0.6246805191040039\n",
      "Checkpoint 9 saved !\n",
      "Starting epoch 10/100.\n",
      "0.0000 --- loss: 0.592459\n"
     ]
    },
    {
     "name": "stderr",
     "output_type": "stream",
     "text": [
      "[**********************                                                  ] 31% "
     ]
    },
    {
     "name": "stdout",
     "output_type": "stream",
     "text": [
      "0.2000 --- loss: 0.727414\n"
     ]
    },
    {
     "name": "stderr",
     "output_type": "stream",
     "text": [
      "[***********************************                                     ] 49% "
     ]
    },
    {
     "name": "stdout",
     "output_type": "stream",
     "text": [
      "0.4000 --- loss: 0.752630\n"
     ]
    },
    {
     "name": "stderr",
     "output_type": "stream",
     "text": [
      "[**************************************************                      ] 69% "
     ]
    },
    {
     "name": "stdout",
     "output_type": "stream",
     "text": [
      "0.6000 --- loss: 0.628956\n"
     ]
    },
    {
     "name": "stderr",
     "output_type": "stream",
     "text": [
      "[****************************************************************        ] 89% "
     ]
    },
    {
     "name": "stdout",
     "output_type": "stream",
     "text": [
      "0.8000 --- loss: 0.601471\n"
     ]
    },
    {
     "name": "stderr",
     "output_type": "stream",
     "text": [
      "[                                                                        ]N/A% "
     ]
    },
    {
     "name": "stdout",
     "output_type": "stream",
     "text": [
      "Epoch finished ! Loss: 0.643239438533783\n",
      "Validation Cross-Entropy Coeff: 0.6296776533126831\n",
      "Checkpoint 10 saved !\n",
      "Starting epoch 11/100.\n",
      "0.0000 --- loss: 0.525182\n"
     ]
    },
    {
     "name": "stderr",
     "output_type": "stream",
     "text": [
      "[**********************                                                  ] 31% "
     ]
    },
    {
     "name": "stdout",
     "output_type": "stream",
     "text": [
      "0.2000 --- loss: 0.609669\n"
     ]
    },
    {
     "name": "stderr",
     "output_type": "stream",
     "text": [
      "                                                                               \r"
     ]
    },
    {
     "name": "stdout",
     "output_type": "stream",
     "text": [
      "0.4000 --- loss: 0.657702\n"
     ]
    },
    {
     "name": "stderr",
     "output_type": "stream",
     "text": [
      "[***************************************************                     ] 71% "
     ]
    },
    {
     "name": "stdout",
     "output_type": "stream",
     "text": [
      "0.6000 --- loss: 0.609535\n"
     ]
    },
    {
     "name": "stderr",
     "output_type": "stream",
     "text": [
      "[******************************************************************      ] 91% "
     ]
    },
    {
     "name": "stdout",
     "output_type": "stream",
     "text": [
      "0.8000 --- loss: 0.736656\n"
     ]
    },
    {
     "name": "stderr",
     "output_type": "stream",
     "text": [
      "[                                                                        ]N/A% "
     ]
    },
    {
     "name": "stdout",
     "output_type": "stream",
     "text": [
      "Epoch finished ! Loss: 0.6367912888526917\n",
      "Validation Cross-Entropy Coeff: 0.6307874321937561\n",
      "Checkpoint 11 saved !\n",
      "Starting epoch 12/100.\n"
     ]
    },
    {
     "name": "stderr",
     "output_type": "stream",
     "text": [
      "                                                                               \r"
     ]
    },
    {
     "name": "stdout",
     "output_type": "stream",
     "text": [
      "0.0000 --- loss: 0.629722\n"
     ]
    },
    {
     "name": "stderr",
     "output_type": "stream",
     "text": [
      "[**********************                                                  ] 31% "
     ]
    },
    {
     "name": "stdout",
     "output_type": "stream",
     "text": [
      "0.2000 --- loss: 0.599579\n"
     ]
    },
    {
     "name": "stderr",
     "output_type": "stream",
     "text": [
      "[***********************************                                     ] 49% "
     ]
    },
    {
     "name": "stdout",
     "output_type": "stream",
     "text": [
      "0.4000 --- loss: 0.659522\n"
     ]
    },
    {
     "name": "stderr",
     "output_type": "stream",
     "text": [
      "[**************************************************                      ] 69% "
     ]
    },
    {
     "name": "stdout",
     "output_type": "stream",
     "text": [
      "0.6000 --- loss: 0.624396\n"
     ]
    },
    {
     "name": "stderr",
     "output_type": "stream",
     "text": [
      "[****************************************************************        ] 88% "
     ]
    },
    {
     "name": "stdout",
     "output_type": "stream",
     "text": [
      "0.8000 --- loss: 0.574593\n"
     ]
    },
    {
     "name": "stderr",
     "output_type": "stream",
     "text": [
      "[                                                                        ]N/A% "
     ]
    },
    {
     "name": "stdout",
     "output_type": "stream",
     "text": [
      "Epoch finished ! Loss: 0.6306292414665222\n",
      "Validation Cross-Entropy Coeff: 0.6112082004547119\n",
      "Checkpoint 12 saved !\n",
      "Starting epoch 13/100.\n",
      "0.0000 --- loss: 0.590319\n"
     ]
    },
    {
     "name": "stderr",
     "output_type": "stream",
     "text": [
      "[**********************                                                  ] 31% "
     ]
    },
    {
     "name": "stdout",
     "output_type": "stream",
     "text": [
      "0.2000 --- loss: 0.623967\n"
     ]
    },
    {
     "name": "stderr",
     "output_type": "stream",
     "text": [
      "[**********************************                                      ] 48% "
     ]
    },
    {
     "name": "stdout",
     "output_type": "stream",
     "text": [
      "0.4000 --- loss: 0.645133\n"
     ]
    },
    {
     "name": "stderr",
     "output_type": "stream",
     "text": [
      "[***************************************************                     ] 71% "
     ]
    },
    {
     "name": "stdout",
     "output_type": "stream",
     "text": [
      "0.6000 --- loss: 0.543216\n"
     ]
    },
    {
     "name": "stderr",
     "output_type": "stream",
     "text": [
      "[****************************************************************        ] 88% "
     ]
    },
    {
     "name": "stdout",
     "output_type": "stream",
     "text": [
      "0.8000 --- loss: 0.634153\n"
     ]
    },
    {
     "name": "stderr",
     "output_type": "stream",
     "text": [
      "[                                                                        ]N/A% "
     ]
    },
    {
     "name": "stdout",
     "output_type": "stream",
     "text": [
      "Epoch finished ! Loss: 0.6233513355255127\n",
      "Validation Cross-Entropy Coeff: 0.5999628901481628\n",
      "Checkpoint 13 saved !\n",
      "Starting epoch 14/100.\n",
      "0.0000 --- loss: 0.564276\n"
     ]
    },
    {
     "name": "stderr",
     "output_type": "stream",
     "text": [
      "[**********************                                                  ] 31% "
     ]
    },
    {
     "name": "stdout",
     "output_type": "stream",
     "text": [
      "0.2000 --- loss: 0.550359\n"
     ]
    },
    {
     "name": "stderr",
     "output_type": "stream",
     "text": [
      "[**********************************                                      ] 48% "
     ]
    },
    {
     "name": "stdout",
     "output_type": "stream",
     "text": [
      "0.4000 --- loss: 0.572337\n"
     ]
    },
    {
     "name": "stderr",
     "output_type": "stream",
     "text": [
      "[*************************************************                       ] 68% "
     ]
    },
    {
     "name": "stdout",
     "output_type": "stream",
     "text": [
      "0.6000 --- loss: 0.667381\n"
     ]
    },
    {
     "name": "stderr",
     "output_type": "stream",
     "text": [
      "[******************************************************************      ] 91% "
     ]
    },
    {
     "name": "stdout",
     "output_type": "stream",
     "text": [
      "0.8000 --- loss: 0.583622\n"
     ]
    },
    {
     "name": "stderr",
     "output_type": "stream",
     "text": [
      "[                                                                        ]N/A% "
     ]
    },
    {
     "name": "stdout",
     "output_type": "stream",
     "text": [
      "Epoch finished ! Loss: 0.6145187020301819\n",
      "Validation Cross-Entropy Coeff: 0.5861682295799255\n",
      "Checkpoint 14 saved !\n",
      "Starting epoch 15/100.\n",
      "0.0000 --- loss: 0.649392\n"
     ]
    },
    {
     "name": "stderr",
     "output_type": "stream",
     "text": [
      "[*******************                                                     ] 27% "
     ]
    },
    {
     "name": "stdout",
     "output_type": "stream",
     "text": [
      "0.2000 --- loss: 0.631151\n"
     ]
    },
    {
     "name": "stderr",
     "output_type": "stream",
     "text": [
      "[*************************************                                   ] 51% "
     ]
    },
    {
     "name": "stdout",
     "output_type": "stream",
     "text": [
      "0.4000 --- loss: 0.589900\n"
     ]
    },
    {
     "name": "stderr",
     "output_type": "stream",
     "text": [
      "[***************************************************                     ] 71% "
     ]
    },
    {
     "name": "stdout",
     "output_type": "stream",
     "text": [
      "0.6000 --- loss: 0.618677\n"
     ]
    },
    {
     "name": "stderr",
     "output_type": "stream",
     "text": [
      "[******************************************************************      ] 91% "
     ]
    },
    {
     "name": "stdout",
     "output_type": "stream",
     "text": [
      "0.8000 --- loss: 0.735874\n"
     ]
    },
    {
     "name": "stderr",
     "output_type": "stream",
     "text": [
      "[                                                                        ]N/A% "
     ]
    },
    {
     "name": "stdout",
     "output_type": "stream",
     "text": [
      "Epoch finished ! Loss: 0.6099556684494019\n",
      "Validation Cross-Entropy Coeff: 0.5913063883781433\n",
      "Checkpoint 15 saved !\n",
      "Starting epoch 16/100.\n",
      "0.0000 --- loss: 0.606181\n"
     ]
    },
    {
     "name": "stderr",
     "output_type": "stream",
     "text": [
      "[**********************                                                  ] 31% "
     ]
    },
    {
     "name": "stdout",
     "output_type": "stream",
     "text": [
      "0.2000 --- loss: 0.567930\n"
     ]
    },
    {
     "name": "stderr",
     "output_type": "stream",
     "text": [
      "[*************************************                                   ] 51% "
     ]
    },
    {
     "name": "stdout",
     "output_type": "stream",
     "text": [
      "0.4000 --- loss: 0.600638\n"
     ]
    },
    {
     "name": "stderr",
     "output_type": "stream",
     "text": [
      "[***************************************************                     ] 71% "
     ]
    },
    {
     "name": "stdout",
     "output_type": "stream",
     "text": [
      "0.6000 --- loss: 0.712946\n"
     ]
    },
    {
     "name": "stderr",
     "output_type": "stream",
     "text": [
      "[******************************************************************      ] 91% "
     ]
    },
    {
     "name": "stdout",
     "output_type": "stream",
     "text": [
      "0.8000 --- loss: 0.556670\n"
     ]
    },
    {
     "name": "stderr",
     "output_type": "stream",
     "text": [
      "[**                                                                      ]  3% "
     ]
    },
    {
     "name": "stdout",
     "output_type": "stream",
     "text": [
      "Epoch finished ! Loss: 0.6082887649536133\n",
      "Validation Cross-Entropy Coeff: 0.5913406014442444\n",
      "Checkpoint 16 saved !\n",
      "Starting epoch 17/100.\n",
      "0.0000 --- loss: 0.619533\n"
     ]
    },
    {
     "name": "stderr",
     "output_type": "stream",
     "text": [
      "[**********************                                                  ] 31% "
     ]
    },
    {
     "name": "stdout",
     "output_type": "stream",
     "text": [
      "0.2000 --- loss: 0.588420\n"
     ]
    },
    {
     "name": "stderr",
     "output_type": "stream",
     "text": [
      "[**********************************                                      ] 47% "
     ]
    },
    {
     "name": "stdout",
     "output_type": "stream",
     "text": [
      "0.4000 --- loss: 0.599202\n"
     ]
    },
    {
     "name": "stderr",
     "output_type": "stream",
     "text": [
      "[***************************************************                     ] 71% "
     ]
    },
    {
     "name": "stdout",
     "output_type": "stream",
     "text": [
      "0.6000 --- loss: 0.599310\n"
     ]
    },
    {
     "name": "stderr",
     "output_type": "stream",
     "text": [
      "[****************************************************************        ] 89% "
     ]
    },
    {
     "name": "stdout",
     "output_type": "stream",
     "text": [
      "0.8000 --- loss: 0.560994\n"
     ]
    },
    {
     "name": "stderr",
     "output_type": "stream",
     "text": [
      "[                                                                        ]N/A% "
     ]
    },
    {
     "name": "stdout",
     "output_type": "stream",
     "text": [
      "Epoch finished ! Loss: 0.603615939617157\n",
      "Validation Cross-Entropy Coeff: 0.6402223110198975\n",
      "Checkpoint 17 saved !\n",
      "Starting epoch 18/100.\n",
      "0.0000 --- loss: 0.589034\n"
     ]
    },
    {
     "name": "stderr",
     "output_type": "stream",
     "text": [
      "[*********************                                                   ] 29% "
     ]
    },
    {
     "name": "stdout",
     "output_type": "stream",
     "text": [
      "0.2000 --- loss: 0.555546\n"
     ]
    },
    {
     "name": "stderr",
     "output_type": "stream",
     "text": [
      "[*************************************                                   ] 51% "
     ]
    },
    {
     "name": "stdout",
     "output_type": "stream",
     "text": [
      "0.4000 --- loss: 0.522753\n"
     ]
    },
    {
     "name": "stderr",
     "output_type": "stream",
     "text": [
      "[***************************************************                     ] 71% "
     ]
    },
    {
     "name": "stdout",
     "output_type": "stream",
     "text": [
      "0.6000 --- loss: 0.486892\n"
     ]
    },
    {
     "name": "stderr",
     "output_type": "stream",
     "text": [
      "[******************************************************************      ] 91% "
     ]
    },
    {
     "name": "stdout",
     "output_type": "stream",
     "text": [
      "0.8000 --- loss: 0.560250\n"
     ]
    },
    {
     "name": "stderr",
     "output_type": "stream",
     "text": [
      "[                                                                        ]N/A% "
     ]
    },
    {
     "name": "stdout",
     "output_type": "stream",
     "text": [
      "Epoch finished ! Loss: 0.6010942459106445\n",
      "Validation Cross-Entropy Coeff: 0.5904446840286255\n",
      "Checkpoint 18 saved !\n",
      "Starting epoch 19/100.\n",
      "0.0000 --- loss: 0.661148\n"
     ]
    },
    {
     "name": "stderr",
     "output_type": "stream",
     "text": [
      "[**********************                                                  ] 31% "
     ]
    },
    {
     "name": "stdout",
     "output_type": "stream",
     "text": [
      "0.2000 --- loss: 0.568996\n"
     ]
    },
    {
     "name": "stderr",
     "output_type": "stream",
     "text": [
      "[*************************************                                   ] 51% "
     ]
    },
    {
     "name": "stdout",
     "output_type": "stream",
     "text": [
      "0.4000 --- loss: 0.593411\n"
     ]
    },
    {
     "name": "stderr",
     "output_type": "stream",
     "text": [
      "[**************************************************                      ] 69% "
     ]
    },
    {
     "name": "stdout",
     "output_type": "stream",
     "text": [
      "0.6000 --- loss: 0.552846\n"
     ]
    },
    {
     "name": "stderr",
     "output_type": "stream",
     "text": [
      "[***************************************************************         ] 87% "
     ]
    },
    {
     "name": "stdout",
     "output_type": "stream",
     "text": [
      "0.8000 --- loss: 0.591757\n"
     ]
    },
    {
     "name": "stderr",
     "output_type": "stream",
     "text": [
      "[                                                                        ]N/A% "
     ]
    },
    {
     "name": "stdout",
     "output_type": "stream",
     "text": [
      "Epoch finished ! Loss: 0.6000770926475525\n",
      "Validation Cross-Entropy Coeff: 0.5941610336303711\n",
      "Checkpoint 19 saved !\n",
      "Starting epoch 20/100.\n",
      "0.0000 --- loss: 0.565589"
     ]
    },
    {
     "name": "stderr",
     "output_type": "stream",
     "text": [
      "[********                                                                ] 11% "
     ]
    },
    {
     "name": "stdout",
     "output_type": "stream",
     "text": [
      "\n"
     ]
    },
    {
     "name": "stderr",
     "output_type": "stream",
     "text": [
      "[**********************                                                  ] 31% "
     ]
    },
    {
     "name": "stdout",
     "output_type": "stream",
     "text": [
      "0.2000 --- loss: 0.626616\n"
     ]
    },
    {
     "name": "stderr",
     "output_type": "stream",
     "text": [
      "[*************************************                                   ] 51% "
     ]
    },
    {
     "name": "stdout",
     "output_type": "stream",
     "text": [
      "0.4000 --- loss: 0.671985\n"
     ]
    },
    {
     "name": "stderr",
     "output_type": "stream",
     "text": [
      "[***************************************************                     ] 71% "
     ]
    },
    {
     "name": "stdout",
     "output_type": "stream",
     "text": [
      "0.6000 --- loss: 0.633266\n"
     ]
    },
    {
     "name": "stderr",
     "output_type": "stream",
     "text": [
      "[******************************************************************      ] 91% "
     ]
    },
    {
     "name": "stdout",
     "output_type": "stream",
     "text": [
      "0.8000 --- loss: 0.621704\n"
     ]
    },
    {
     "name": "stderr",
     "output_type": "stream",
     "text": [
      "[*********************************************************************   ] 95% "
     ]
    },
    {
     "name": "stdout",
     "output_type": "stream",
     "text": [
      "Epoch finished ! Loss: 0.5945898294448853\n",
      "Validation Cross-Entropy Coeff: 0.5747072696685791\n",
      "Checkpoint 20 saved !"
     ]
    },
    {
     "name": "stderr",
     "output_type": "stream",
     "text": [
      "[********                                                                ] 11% "
     ]
    },
    {
     "name": "stdout",
     "output_type": "stream",
     "text": [
      "\n",
      "Starting epoch 21/100.\n",
      "0.0000 --- loss: 0.655618\n"
     ]
    },
    {
     "name": "stderr",
     "output_type": "stream",
     "text": [
      "[**********************                                                  ] 31% "
     ]
    },
    {
     "name": "stdout",
     "output_type": "stream",
     "text": [
      "0.2000 --- loss: 0.539820\n"
     ]
    },
    {
     "name": "stderr",
     "output_type": "stream",
     "text": [
      "[*************************************                                   ] 51% "
     ]
    },
    {
     "name": "stdout",
     "output_type": "stream",
     "text": [
      "0.4000 --- loss: 0.553291\n"
     ]
    },
    {
     "name": "stderr",
     "output_type": "stream",
     "text": [
      "[****************************************************                    ] 72% "
     ]
    },
    {
     "name": "stdout",
     "output_type": "stream",
     "text": [
      "0.6000 --- loss: 0.535474\n"
     ]
    },
    {
     "name": "stderr",
     "output_type": "stream",
     "text": [
      "[******************************************************************      ] 91% "
     ]
    },
    {
     "name": "stdout",
     "output_type": "stream",
     "text": [
      "0.8000 --- loss: 0.634687\n"
     ]
    },
    {
     "name": "stderr",
     "output_type": "stream",
     "text": [
      "[                                                                        ]N/A% "
     ]
    },
    {
     "name": "stdout",
     "output_type": "stream",
     "text": [
      "Epoch finished ! Loss: 0.5890008807182312\n",
      "Validation Cross-Entropy Coeff: 0.5749557018280029\n",
      "Checkpoint 21 saved !\n",
      "Starting epoch 22/100.\n",
      "0.0000 --- loss: 0.568510\n"
     ]
    },
    {
     "name": "stderr",
     "output_type": "stream",
     "text": [
      "[***********************                                                 ] 32% "
     ]
    },
    {
     "name": "stdout",
     "output_type": "stream",
     "text": [
      "0.2000 --- loss: 0.490052\n"
     ]
    },
    {
     "name": "stderr",
     "output_type": "stream",
     "text": [
      "                                                                               \r"
     ]
    },
    {
     "name": "stdout",
     "output_type": "stream",
     "text": [
      "0.4000 --- loss: 0.555017\n"
     ]
    },
    {
     "name": "stderr",
     "output_type": "stream",
     "text": [
      "[*************************************************                       ] 68% "
     ]
    },
    {
     "name": "stdout",
     "output_type": "stream",
     "text": [
      "0.6000 --- loss: 0.800180\n"
     ]
    },
    {
     "name": "stderr",
     "output_type": "stream",
     "text": [
      "[****************************************************************        ] 88% "
     ]
    },
    {
     "name": "stdout",
     "output_type": "stream",
     "text": [
      "0.8000 --- loss: 0.721058\n"
     ]
    },
    {
     "name": "stderr",
     "output_type": "stream",
     "text": [
      "[                                                                        ]N/A% "
     ]
    },
    {
     "name": "stdout",
     "output_type": "stream",
     "text": [
      "Epoch finished ! Loss: 0.5905012488365173\n",
      "Validation Cross-Entropy Coeff: 0.5857068300247192\n",
      "Checkpoint 22 saved !\n",
      "Starting epoch 23/100.\n"
     ]
    },
    {
     "name": "stderr",
     "output_type": "stream",
     "text": [
      "[********                                                                ] 11% "
     ]
    },
    {
     "name": "stdout",
     "output_type": "stream",
     "text": [
      "0.0000 --- loss: 0.500871\n"
     ]
    },
    {
     "name": "stderr",
     "output_type": "stream",
     "text": [
      "[**********************                                                  ] 31% "
     ]
    },
    {
     "name": "stdout",
     "output_type": "stream",
     "text": [
      "0.2000 --- loss: 0.603235\n"
     ]
    },
    {
     "name": "stderr",
     "output_type": "stream",
     "text": [
      "[**********************************                                      ] 48% "
     ]
    },
    {
     "name": "stdout",
     "output_type": "stream",
     "text": [
      "0.4000 --- loss: 0.573753\n"
     ]
    },
    {
     "name": "stderr",
     "output_type": "stream",
     "text": [
      "[****************************************************                    ] 72% "
     ]
    },
    {
     "name": "stdout",
     "output_type": "stream",
     "text": [
      "0.6000 --- loss: 0.520023\n"
     ]
    },
    {
     "name": "stderr",
     "output_type": "stream",
     "text": [
      "[******************************************************************      ] 91% "
     ]
    },
    {
     "name": "stdout",
     "output_type": "stream",
     "text": [
      "0.8000 --- loss: 0.564353\n"
     ]
    },
    {
     "name": "stderr",
     "output_type": "stream",
     "text": [
      "[                                                                        ]N/A% "
     ]
    },
    {
     "name": "stdout",
     "output_type": "stream",
     "text": [
      "Epoch finished ! Loss: 0.5885554552078247\n",
      "Validation Cross-Entropy Coeff: 0.565190851688385\n",
      "Checkpoint 23 saved !\n",
      "Starting epoch 24/100.\n",
      "0.0000 --- loss: 0.605674"
     ]
    },
    {
     "name": "stderr",
     "output_type": "stream",
     "text": [
      "[********                                                                ] 11% "
     ]
    },
    {
     "name": "stdout",
     "output_type": "stream",
     "text": [
      "\n"
     ]
    },
    {
     "name": "stderr",
     "output_type": "stream",
     "text": [
      "[*******************                                                     ] 27% "
     ]
    },
    {
     "name": "stdout",
     "output_type": "stream",
     "text": [
      "0.2000 --- loss: 0.545446\n"
     ]
    },
    {
     "name": "stderr",
     "output_type": "stream",
     "text": [
      "[*************************************                                   ] 51% "
     ]
    },
    {
     "name": "stdout",
     "output_type": "stream",
     "text": [
      "0.4000 --- loss: 0.596211\n"
     ]
    },
    {
     "name": "stderr",
     "output_type": "stream",
     "text": [
      "[**************************************************                      ] 69% "
     ]
    },
    {
     "name": "stdout",
     "output_type": "stream",
     "text": [
      "0.6000 --- loss: 0.541188\n"
     ]
    },
    {
     "name": "stderr",
     "output_type": "stream",
     "text": [
      "[****************************************************************        ] 89% "
     ]
    },
    {
     "name": "stdout",
     "output_type": "stream",
     "text": [
      "0.8000 --- loss: 0.522000\n"
     ]
    },
    {
     "name": "stderr",
     "output_type": "stream",
     "text": [
      "[                                                                        ]N/A% "
     ]
    },
    {
     "name": "stdout",
     "output_type": "stream",
     "text": [
      "Epoch finished ! Loss: 0.5875946283340454\n",
      "Validation Cross-Entropy Coeff: 0.5979152917861938\n",
      "Checkpoint 24 saved !\n",
      "Starting epoch 25/100.\n",
      "0.0000 --- loss: 0.484472\n"
     ]
    },
    {
     "name": "stderr",
     "output_type": "stream",
     "text": [
      "[*********************                                                   ] 29% "
     ]
    },
    {
     "name": "stdout",
     "output_type": "stream",
     "text": [
      "0.2000 --- loss: 0.515409\n"
     ]
    },
    {
     "name": "stderr",
     "output_type": "stream",
     "text": [
      "[**********************************                                      ] 48% "
     ]
    },
    {
     "name": "stdout",
     "output_type": "stream",
     "text": [
      "0.4000 --- loss: 0.494331\n"
     ]
    },
    {
     "name": "stderr",
     "output_type": "stream",
     "text": [
      "[***************************************************                     ] 71% "
     ]
    },
    {
     "name": "stdout",
     "output_type": "stream",
     "text": [
      "0.6000 --- loss: 0.608457\n"
     ]
    },
    {
     "name": "stderr",
     "output_type": "stream",
     "text": [
      "[******************************************************************      ] 91% "
     ]
    },
    {
     "name": "stdout",
     "output_type": "stream",
     "text": [
      "0.8000 --- loss: 0.502108\n"
     ]
    },
    {
     "name": "stderr",
     "output_type": "stream",
     "text": [
      "[                                                                        ]N/A% "
     ]
    },
    {
     "name": "stdout",
     "output_type": "stream",
     "text": [
      "Epoch finished ! Loss: 0.5798527002334595\n",
      "Validation Cross-Entropy Coeff: 0.59527587890625\n",
      "Checkpoint 25 saved !\n",
      "Starting epoch 26/100.\n",
      "0.0000 --- loss: 0.661067"
     ]
    },
    {
     "name": "stderr",
     "output_type": "stream",
     "text": [
      "[********                                                                ] 11% "
     ]
    },
    {
     "name": "stdout",
     "output_type": "stream",
     "text": [
      "\n"
     ]
    },
    {
     "name": "stderr",
     "output_type": "stream",
     "text": [
      "[**********************                                                  ] 31% "
     ]
    },
    {
     "name": "stdout",
     "output_type": "stream",
     "text": [
      "0.2000 --- loss: 0.646471\n"
     ]
    },
    {
     "name": "stderr",
     "output_type": "stream",
     "text": [
      "[*************************************                                   ] 51% "
     ]
    },
    {
     "name": "stdout",
     "output_type": "stream",
     "text": [
      "0.4000 --- loss: 0.607179\n"
     ]
    },
    {
     "name": "stderr",
     "output_type": "stream",
     "text": [
      "[************************************************                        ] 66% "
     ]
    },
    {
     "name": "stdout",
     "output_type": "stream",
     "text": [
      "0.6000 --- loss: 0.535651\n"
     ]
    },
    {
     "name": "stderr",
     "output_type": "stream",
     "text": [
      "[****************************************************************        ] 89% "
     ]
    },
    {
     "name": "stdout",
     "output_type": "stream",
     "text": [
      "0.8000 --- loss: 0.619707\n"
     ]
    },
    {
     "name": "stderr",
     "output_type": "stream",
     "text": [
      "[                                                                        ]N/A% "
     ]
    },
    {
     "name": "stdout",
     "output_type": "stream",
     "text": [
      "Epoch finished ! Loss: 0.578827440738678\n",
      "Validation Cross-Entropy Coeff: 0.5534632205963135\n",
      "Checkpoint 26 saved !\n",
      "Starting epoch 27/100.\n",
      "0.0000 --- loss: 0.538607\n"
     ]
    },
    {
     "name": "stderr",
     "output_type": "stream",
     "text": [
      "[**********************                                                  ] 31% "
     ]
    },
    {
     "name": "stdout",
     "output_type": "stream",
     "text": [
      "0.2000 --- loss: 0.539184\n"
     ]
    },
    {
     "name": "stderr",
     "output_type": "stream",
     "text": [
      "[**********************************                                      ] 48% "
     ]
    },
    {
     "name": "stdout",
     "output_type": "stream",
     "text": [
      "0.4000 --- loss: 0.586564\n"
     ]
    },
    {
     "name": "stderr",
     "output_type": "stream",
     "text": [
      "[**************************************************                      ] 69% "
     ]
    },
    {
     "name": "stdout",
     "output_type": "stream",
     "text": [
      "0.6000 --- loss: 0.582081\n"
     ]
    },
    {
     "name": "stderr",
     "output_type": "stream",
     "text": [
      "[******************************************************************      ] 91% "
     ]
    },
    {
     "name": "stdout",
     "output_type": "stream",
     "text": [
      "0.8000 --- loss: 0.590613\n"
     ]
    },
    {
     "name": "stderr",
     "output_type": "stream",
     "text": [
      "[                                                                        ]N/A% "
     ]
    },
    {
     "name": "stdout",
     "output_type": "stream",
     "text": [
      "Epoch finished ! Loss: 0.5771093368530273\n",
      "Validation Cross-Entropy Coeff: 0.5583786964416504\n",
      "Checkpoint 27 saved !\n",
      "Starting epoch 28/100.\n",
      "0.0000 --- loss: 0.518598"
     ]
    },
    {
     "name": "stderr",
     "output_type": "stream",
     "text": [
      "[********                                                                ] 11% "
     ]
    },
    {
     "name": "stdout",
     "output_type": "stream",
     "text": [
      "\n"
     ]
    },
    {
     "name": "stderr",
     "output_type": "stream",
     "text": [
      "[**********************                                                  ] 31% "
     ]
    },
    {
     "name": "stdout",
     "output_type": "stream",
     "text": [
      "0.2000 --- loss: 0.639568\n"
     ]
    },
    {
     "name": "stderr",
     "output_type": "stream",
     "text": [
      "[***********************************                                     ] 49% "
     ]
    },
    {
     "name": "stdout",
     "output_type": "stream",
     "text": [
      "0.4000 --- loss: 0.733550\n"
     ]
    },
    {
     "name": "stderr",
     "output_type": "stream",
     "text": [
      "[************************************************                        ] 67% "
     ]
    },
    {
     "name": "stdout",
     "output_type": "stream",
     "text": [
      "0.6000 --- loss: 0.544676\n"
     ]
    },
    {
     "name": "stderr",
     "output_type": "stream",
     "text": [
      "[****************************************************************        ] 89% "
     ]
    },
    {
     "name": "stdout",
     "output_type": "stream",
     "text": [
      "0.8000 --- loss: 0.564666\n"
     ]
    },
    {
     "name": "stderr",
     "output_type": "stream",
     "text": [
      "[                                                                        ]N/A% "
     ]
    },
    {
     "name": "stdout",
     "output_type": "stream",
     "text": [
      "Epoch finished ! Loss: 0.5713358521461487\n",
      "Validation Cross-Entropy Coeff: 0.5621383190155029\n",
      "Checkpoint 28 saved !\n",
      "Starting epoch 29/100.\n",
      "0.0000 --- loss: 0.669746"
     ]
    },
    {
     "name": "stderr",
     "output_type": "stream",
     "text": [
      "[********                                                                ] 11% "
     ]
    },
    {
     "name": "stdout",
     "output_type": "stream",
     "text": [
      "\n"
     ]
    },
    {
     "name": "stderr",
     "output_type": "stream",
     "text": [
      "[**********************                                                  ] 31% "
     ]
    },
    {
     "name": "stdout",
     "output_type": "stream",
     "text": [
      "0.2000 --- loss: 0.562848\n"
     ]
    },
    {
     "name": "stderr",
     "output_type": "stream",
     "text": [
      "[*************************************                                   ] 51% "
     ]
    },
    {
     "name": "stdout",
     "output_type": "stream",
     "text": [
      "0.4000 --- loss: 0.517489\n"
     ]
    },
    {
     "name": "stderr",
     "output_type": "stream",
     "text": [
      "[***************************************************                     ] 71% "
     ]
    },
    {
     "name": "stdout",
     "output_type": "stream",
     "text": [
      "0.6000 --- loss: 0.607225\n"
     ]
    },
    {
     "name": "stderr",
     "output_type": "stream",
     "text": [
      "[******************************************************************      ] 91% "
     ]
    },
    {
     "name": "stdout",
     "output_type": "stream",
     "text": [
      "0.8000 --- loss: 0.598151\n"
     ]
    },
    {
     "name": "stderr",
     "output_type": "stream",
     "text": [
      "[                                                                        ]N/A% "
     ]
    },
    {
     "name": "stdout",
     "output_type": "stream",
     "text": [
      "Epoch finished ! Loss: 0.5713163018226624\n",
      "Validation Cross-Entropy Coeff: 0.5612295866012573\n",
      "Checkpoint 29 saved !\n",
      "Starting epoch 30/100.\n",
      "0.0000 --- loss: 0.534449\n"
     ]
    },
    {
     "name": "stderr",
     "output_type": "stream",
     "text": [
      "[**********************                                                  ] 31% "
     ]
    },
    {
     "name": "stdout",
     "output_type": "stream",
     "text": [
      "0.2000 --- loss: 0.498969\n"
     ]
    },
    {
     "name": "stderr",
     "output_type": "stream",
     "text": [
      "[*************************************                                   ] 51% "
     ]
    },
    {
     "name": "stdout",
     "output_type": "stream",
     "text": [
      "0.4000 --- loss: 0.676781\n"
     ]
    },
    {
     "name": "stderr",
     "output_type": "stream",
     "text": [
      "[***************************************************                     ] 71% "
     ]
    },
    {
     "name": "stdout",
     "output_type": "stream",
     "text": [
      "0.6000 --- loss: 0.620697\n"
     ]
    },
    {
     "name": "stderr",
     "output_type": "stream",
     "text": [
      "[****************************************************************        ] 89% "
     ]
    },
    {
     "name": "stdout",
     "output_type": "stream",
     "text": [
      "0.8000 --- loss: 0.528127\n"
     ]
    },
    {
     "name": "stderr",
     "output_type": "stream",
     "text": [
      "[                                                                        ]N/A% "
     ]
    },
    {
     "name": "stdout",
     "output_type": "stream",
     "text": [
      "Epoch finished ! Loss: 0.5715329051017761\n",
      "Validation Cross-Entropy Coeff: 0.5578212738037109\n",
      "Checkpoint 30 saved !\n",
      "Starting epoch 31/100.\n",
      "0.0000 --- loss: 0.569918\n"
     ]
    },
    {
     "name": "stderr",
     "output_type": "stream",
     "text": [
      "[********************                                                    ] 28% "
     ]
    },
    {
     "name": "stdout",
     "output_type": "stream",
     "text": [
      "0.2000 --- loss: 0.560582\n"
     ]
    },
    {
     "name": "stderr",
     "output_type": "stream",
     "text": [
      "[*************************************                                   ] 51% "
     ]
    },
    {
     "name": "stdout",
     "output_type": "stream",
     "text": [
      "0.4000 --- loss: 0.575088\n"
     ]
    },
    {
     "name": "stderr",
     "output_type": "stream",
     "text": [
      "[**************************************************                      ] 69% "
     ]
    },
    {
     "name": "stdout",
     "output_type": "stream",
     "text": [
      "0.6000 --- loss: 0.706614\n"
     ]
    },
    {
     "name": "stderr",
     "output_type": "stream",
     "text": [
      "[****************************************************************        ] 89% "
     ]
    },
    {
     "name": "stdout",
     "output_type": "stream",
     "text": [
      "0.8000 --- loss: 0.500931\n"
     ]
    },
    {
     "name": "stderr",
     "output_type": "stream",
     "text": [
      "[                                                                        ]N/A% "
     ]
    },
    {
     "name": "stdout",
     "output_type": "stream",
     "text": [
      "Epoch finished ! Loss: 0.5693032741546631\n",
      "Validation Cross-Entropy Coeff: 0.562907338142395\n",
      "Checkpoint 31 saved !\n",
      "Starting epoch 32/100.\n",
      "0.0000 --- loss: 0.603253\n"
     ]
    },
    {
     "name": "stderr",
     "output_type": "stream",
     "text": [
      "[**********************                                                  ] 31% "
     ]
    },
    {
     "name": "stdout",
     "output_type": "stream",
     "text": [
      "0.2000 --- loss: 0.560953\n"
     ]
    },
    {
     "name": "stderr",
     "output_type": "stream",
     "text": [
      "[*************************************                                   ] 51% "
     ]
    },
    {
     "name": "stdout",
     "output_type": "stream",
     "text": [
      "0.4000 --- loss: 0.538087\n"
     ]
    },
    {
     "name": "stderr",
     "output_type": "stream",
     "text": [
      "[***************************************************                     ] 71% "
     ]
    },
    {
     "name": "stdout",
     "output_type": "stream",
     "text": [
      "0.6000 --- loss: 0.518567\n"
     ]
    },
    {
     "name": "stderr",
     "output_type": "stream",
     "text": [
      "[******************************************************************      ] 92% "
     ]
    },
    {
     "name": "stdout",
     "output_type": "stream",
     "text": [
      "0.8000 --- loss: 0.557577\n"
     ]
    },
    {
     "name": "stderr",
     "output_type": "stream",
     "text": [
      "[                                                                        ]N/A% "
     ]
    },
    {
     "name": "stdout",
     "output_type": "stream",
     "text": [
      "Epoch finished ! Loss: 0.565923810005188\n",
      "Validation Cross-Entropy Coeff: 0.547730028629303\n",
      "Checkpoint 32 saved !\n",
      "Starting epoch 33/100.\n",
      "0.0000 --- loss: 0.575355"
     ]
    },
    {
     "name": "stderr",
     "output_type": "stream",
     "text": [
      "[********                                                                ] 11% "
     ]
    },
    {
     "name": "stdout",
     "output_type": "stream",
     "text": [
      "\n"
     ]
    },
    {
     "name": "stderr",
     "output_type": "stream",
     "text": [
      "[*********************                                                   ] 29% "
     ]
    },
    {
     "name": "stdout",
     "output_type": "stream",
     "text": [
      "0.2000 --- loss: 0.507210\n"
     ]
    },
    {
     "name": "stderr",
     "output_type": "stream",
     "text": [
      "[*************************************                                   ] 51% "
     ]
    },
    {
     "name": "stdout",
     "output_type": "stream",
     "text": [
      "0.4000 --- loss: 0.600457\n"
     ]
    },
    {
     "name": "stderr",
     "output_type": "stream",
     "text": [
      "[***************************************************                     ] 71% "
     ]
    },
    {
     "name": "stdout",
     "output_type": "stream",
     "text": [
      "0.6000 --- loss: 0.623262\n"
     ]
    },
    {
     "name": "stderr",
     "output_type": "stream",
     "text": [
      "[******************************************************************      ] 91% "
     ]
    },
    {
     "name": "stdout",
     "output_type": "stream",
     "text": [
      "0.8000 --- loss: 0.544503\n"
     ]
    },
    {
     "name": "stderr",
     "output_type": "stream",
     "text": [
      "[                                                                        ]N/A% "
     ]
    },
    {
     "name": "stdout",
     "output_type": "stream",
     "text": [
      "Epoch finished ! Loss: 0.5664580464363098\n",
      "Validation Cross-Entropy Coeff: 0.5796325206756592\n",
      "Checkpoint 33 saved !\n",
      "Starting epoch 34/100.\n",
      "0.0000 --- loss: 0.580723\n"
     ]
    },
    {
     "name": "stderr",
     "output_type": "stream",
     "text": [
      "[**********************                                                  ] 31% "
     ]
    },
    {
     "name": "stdout",
     "output_type": "stream",
     "text": [
      "0.2000 --- loss: 0.547209\n"
     ]
    },
    {
     "name": "stderr",
     "output_type": "stream",
     "text": [
      "[***********************************                                     ] 49% "
     ]
    },
    {
     "name": "stdout",
     "output_type": "stream",
     "text": [
      "0.4000 --- loss: 0.503890\n"
     ]
    },
    {
     "name": "stderr",
     "output_type": "stream",
     "text": [
      "[************************************************                        ] 66% "
     ]
    },
    {
     "name": "stdout",
     "output_type": "stream",
     "text": [
      "0.6000 --- loss: 0.576796\n"
     ]
    },
    {
     "name": "stderr",
     "output_type": "stream",
     "text": [
      "[******************************************************************      ] 91% "
     ]
    },
    {
     "name": "stdout",
     "output_type": "stream",
     "text": [
      "0.8000 --- loss: 0.590025\n"
     ]
    },
    {
     "name": "stderr",
     "output_type": "stream",
     "text": [
      "[                                                                        ]N/A% "
     ]
    },
    {
     "name": "stdout",
     "output_type": "stream",
     "text": [
      "Epoch finished ! Loss: 0.5659076571464539\n",
      "Validation Cross-Entropy Coeff: 0.5411650538444519\n",
      "Checkpoint 34 saved !\n",
      "Starting epoch 35/100.\n",
      "0.0000 --- loss: 0.577537\n"
     ]
    },
    {
     "name": "stderr",
     "output_type": "stream",
     "text": [
      "[**********************                                                  ] 31% "
     ]
    },
    {
     "name": "stdout",
     "output_type": "stream",
     "text": [
      "0.2000 --- loss: 0.563571\n"
     ]
    },
    {
     "name": "stderr",
     "output_type": "stream",
     "text": [
      "[**********************************                                      ] 48% "
     ]
    },
    {
     "name": "stdout",
     "output_type": "stream",
     "text": [
      "0.4000 --- loss: 0.570908\n"
     ]
    },
    {
     "name": "stderr",
     "output_type": "stream",
     "text": [
      "                                                                               \r"
     ]
    },
    {
     "name": "stdout",
     "output_type": "stream",
     "text": [
      "0.6000 --- loss: 0.470974\n"
     ]
    },
    {
     "name": "stderr",
     "output_type": "stream",
     "text": [
      "[***************************************************************         ] 87% "
     ]
    },
    {
     "name": "stdout",
     "output_type": "stream",
     "text": [
      "0.8000 --- loss: 0.531863\n"
     ]
    },
    {
     "name": "stderr",
     "output_type": "stream",
     "text": [
      "[                                                                        ]N/A% "
     ]
    },
    {
     "name": "stdout",
     "output_type": "stream",
     "text": [
      "Epoch finished ! Loss: 0.5621070265769958\n",
      "Validation Cross-Entropy Coeff: 0.5473647713661194\n",
      "Checkpoint 35 saved !\n",
      "Starting epoch 36/100.\n",
      "0.0000 --- loss: 0.506901\n"
     ]
    },
    {
     "name": "stderr",
     "output_type": "stream",
     "text": [
      "[*******************                                                     ] 27% "
     ]
    },
    {
     "name": "stdout",
     "output_type": "stream",
     "text": [
      "0.2000 --- loss: 0.529797\n"
     ]
    },
    {
     "name": "stderr",
     "output_type": "stream",
     "text": [
      "[*************************************                                   ] 51% "
     ]
    },
    {
     "name": "stdout",
     "output_type": "stream",
     "text": [
      "0.4000 --- loss: 0.593528\n"
     ]
    },
    {
     "name": "stderr",
     "output_type": "stream",
     "text": [
      "[**************************************************                      ] 69% "
     ]
    },
    {
     "name": "stdout",
     "output_type": "stream",
     "text": [
      "0.6000 --- loss: 0.485218\n"
     ]
    },
    {
     "name": "stderr",
     "output_type": "stream",
     "text": [
      "[****************************************************************        ] 88% "
     ]
    },
    {
     "name": "stdout",
     "output_type": "stream",
     "text": [
      "0.8000 --- loss: 0.509956\n"
     ]
    },
    {
     "name": "stderr",
     "output_type": "stream",
     "text": [
      "[                                                                        ]N/A% "
     ]
    },
    {
     "name": "stdout",
     "output_type": "stream",
     "text": [
      "Epoch finished ! Loss: 0.5652335286140442\n",
      "Validation Cross-Entropy Coeff: 0.5502289533615112\n",
      "Checkpoint 36 saved !\n",
      "Starting epoch 37/100.\n",
      "0.0000 --- loss: 0.469686\n"
     ]
    },
    {
     "name": "stderr",
     "output_type": "stream",
     "text": [
      "[**********************                                                  ] 31% "
     ]
    },
    {
     "name": "stdout",
     "output_type": "stream",
     "text": [
      "0.2000 --- loss: 0.633821\n"
     ]
    },
    {
     "name": "stderr",
     "output_type": "stream",
     "text": [
      "[*************************************                                   ] 51% "
     ]
    },
    {
     "name": "stdout",
     "output_type": "stream",
     "text": [
      "0.4000 --- loss: 0.573781\n"
     ]
    },
    {
     "name": "stderr",
     "output_type": "stream",
     "text": [
      "[***************************************************                     ] 71% "
     ]
    },
    {
     "name": "stdout",
     "output_type": "stream",
     "text": [
      "0.6000 --- loss: 0.522332\n"
     ]
    },
    {
     "name": "stderr",
     "output_type": "stream",
     "text": [
      "[******************************************************************      ] 91% "
     ]
    },
    {
     "name": "stdout",
     "output_type": "stream",
     "text": [
      "0.8000 --- loss: 0.645613\n"
     ]
    },
    {
     "name": "stderr",
     "output_type": "stream",
     "text": [
      "[                                                                        ]N/A% "
     ]
    },
    {
     "name": "stdout",
     "output_type": "stream",
     "text": [
      "Epoch finished ! Loss: 0.5591479539871216\n",
      "Validation Cross-Entropy Coeff: 0.5412169694900513\n",
      "Checkpoint 37 saved !\n",
      "Starting epoch 38/100.\n",
      "0.0000 --- loss: 0.512595"
     ]
    },
    {
     "name": "stderr",
     "output_type": "stream",
     "text": [
      "[********                                                                ] 11% "
     ]
    },
    {
     "name": "stdout",
     "output_type": "stream",
     "text": [
      "\n"
     ]
    },
    {
     "name": "stderr",
     "output_type": "stream",
     "text": [
      "[**********************                                                  ] 31% "
     ]
    },
    {
     "name": "stdout",
     "output_type": "stream",
     "text": [
      "0.2000 --- loss: 0.586203\n"
     ]
    },
    {
     "name": "stderr",
     "output_type": "stream",
     "text": [
      "[*************************************                                   ] 51% "
     ]
    },
    {
     "name": "stdout",
     "output_type": "stream",
     "text": [
      "0.4000 --- loss: 0.529156\n"
     ]
    },
    {
     "name": "stderr",
     "output_type": "stream",
     "text": [
      "[**************************************************                      ] 69% "
     ]
    },
    {
     "name": "stdout",
     "output_type": "stream",
     "text": [
      "0.6000 --- loss: 0.635268\n"
     ]
    },
    {
     "name": "stderr",
     "output_type": "stream",
     "text": [
      "[******************************************************************      ] 91% "
     ]
    },
    {
     "name": "stdout",
     "output_type": "stream",
     "text": [
      "0.8000 --- loss: 0.509807\n"
     ]
    },
    {
     "name": "stderr",
     "output_type": "stream",
     "text": [
      "[                                                                        ]N/A% "
     ]
    },
    {
     "name": "stdout",
     "output_type": "stream",
     "text": [
      "Epoch finished ! Loss: 0.5566472411155701\n",
      "Validation Cross-Entropy Coeff: 0.559880256652832\n",
      "Checkpoint 38 saved !\n",
      "Starting epoch 39/100.\n",
      "0.0000 --- loss: 0.610123\n"
     ]
    },
    {
     "name": "stderr",
     "output_type": "stream",
     "text": [
      "[**********************                                                  ] 31% "
     ]
    },
    {
     "name": "stdout",
     "output_type": "stream",
     "text": [
      "0.2000 --- loss: 0.623519\n"
     ]
    },
    {
     "name": "stderr",
     "output_type": "stream",
     "text": [
      "[***********************************                                     ] 49% "
     ]
    },
    {
     "name": "stdout",
     "output_type": "stream",
     "text": [
      "0.4000 --- loss: 0.645932\n"
     ]
    },
    {
     "name": "stderr",
     "output_type": "stream",
     "text": [
      "[************************************************                        ] 67% "
     ]
    },
    {
     "name": "stdout",
     "output_type": "stream",
     "text": [
      "0.6000 --- loss: 0.542120\n"
     ]
    },
    {
     "name": "stderr",
     "output_type": "stream",
     "text": [
      "[****************************************************************        ] 89% "
     ]
    },
    {
     "name": "stdout",
     "output_type": "stream",
     "text": [
      "0.8000 --- loss: 0.514625\n"
     ]
    },
    {
     "name": "stderr",
     "output_type": "stream",
     "text": [
      "[                                                                        ]N/A% "
     ]
    },
    {
     "name": "stdout",
     "output_type": "stream",
     "text": [
      "Epoch finished ! Loss: 0.5562956929206848\n",
      "Validation Cross-Entropy Coeff: 0.5561521053314209\n",
      "Checkpoint 39 saved !\n",
      "Starting epoch 40/100.\n",
      "0.0000 --- loss: 0.501855\n"
     ]
    },
    {
     "name": "stderr",
     "output_type": "stream",
     "text": [
      "[**********************                                                  ] 31% "
     ]
    },
    {
     "name": "stdout",
     "output_type": "stream",
     "text": [
      "0.2000 --- loss: 0.659727\n"
     ]
    },
    {
     "name": "stderr",
     "output_type": "stream",
     "text": [
      "[***********************************                                     ] 49% "
     ]
    },
    {
     "name": "stdout",
     "output_type": "stream",
     "text": [
      "0.4000 --- loss: 0.603002\n"
     ]
    },
    {
     "name": "stderr",
     "output_type": "stream",
     "text": [
      "[***************************************************                     ] 71% "
     ]
    },
    {
     "name": "stdout",
     "output_type": "stream",
     "text": [
      "0.6000 --- loss: 0.501067\n"
     ]
    },
    {
     "name": "stderr",
     "output_type": "stream",
     "text": [
      "[***************************************************************         ] 87% "
     ]
    },
    {
     "name": "stdout",
     "output_type": "stream",
     "text": [
      "0.8000 --- loss: 0.510106\n"
     ]
    },
    {
     "name": "stderr",
     "output_type": "stream",
     "text": [
      "[                                                                        ]N/A% "
     ]
    },
    {
     "name": "stdout",
     "output_type": "stream",
     "text": [
      "Epoch finished ! Loss: 0.5536981225013733\n",
      "Validation Cross-Entropy Coeff: 0.548137903213501\n",
      "Checkpoint 40 saved !\n",
      "Starting epoch 41/100.\n",
      "0.0000 --- loss: 0.420712\n"
     ]
    },
    {
     "name": "stderr",
     "output_type": "stream",
     "text": [
      "[*******************                                                     ] 27% "
     ]
    },
    {
     "name": "stdout",
     "output_type": "stream",
     "text": [
      "0.2000 --- loss: 0.601033\n"
     ]
    },
    {
     "name": "stderr",
     "output_type": "stream",
     "text": [
      "[***********************************                                     ] 49% "
     ]
    },
    {
     "name": "stdout",
     "output_type": "stream",
     "text": [
      "0.4000 --- loss: 0.565970\n"
     ]
    },
    {
     "name": "stderr",
     "output_type": "stream",
     "text": [
      "[***************************************************                     ] 71% "
     ]
    },
    {
     "name": "stdout",
     "output_type": "stream",
     "text": [
      "0.6000 --- loss: 0.635744\n"
     ]
    },
    {
     "name": "stderr",
     "output_type": "stream",
     "text": [
      "[******************************************************************      ] 91% "
     ]
    },
    {
     "name": "stdout",
     "output_type": "stream",
     "text": [
      "0.8000 --- loss: 0.517177\n"
     ]
    },
    {
     "name": "stderr",
     "output_type": "stream",
     "text": [
      "[******************************************************************      ] 91% "
     ]
    },
    {
     "name": "stdout",
     "output_type": "stream",
     "text": [
      "Epoch finished ! Loss: 0.5564489364624023\n",
      "Validation Cross-Entropy Coeff: 0.5507279634475708\n",
      "Checkpoint 41 saved !"
     ]
    },
    {
     "name": "stderr",
     "output_type": "stream",
     "text": [
      "[********                                                                ] 11% "
     ]
    },
    {
     "name": "stdout",
     "output_type": "stream",
     "text": [
      "\n",
      "Starting epoch 42/100.\n",
      "0.0000 --- loss: 0.631703\n"
     ]
    },
    {
     "name": "stderr",
     "output_type": "stream",
     "text": [
      "[**********************                                                  ] 31% "
     ]
    },
    {
     "name": "stdout",
     "output_type": "stream",
     "text": [
      "0.2000 --- loss: 0.520103\n"
     ]
    },
    {
     "name": "stderr",
     "output_type": "stream",
     "text": [
      "[*************************************                                   ] 51% "
     ]
    },
    {
     "name": "stdout",
     "output_type": "stream",
     "text": [
      "0.4000 --- loss: 0.502146\n"
     ]
    },
    {
     "name": "stderr",
     "output_type": "stream",
     "text": [
      "[***************************************************                     ] 71% "
     ]
    },
    {
     "name": "stdout",
     "output_type": "stream",
     "text": [
      "0.6000 --- loss: 0.502771\n"
     ]
    },
    {
     "name": "stderr",
     "output_type": "stream",
     "text": [
      "[******************************************************************      ] 91% "
     ]
    },
    {
     "name": "stdout",
     "output_type": "stream",
     "text": [
      "0.8000 --- loss: 0.571781\n"
     ]
    },
    {
     "name": "stderr",
     "output_type": "stream",
     "text": [
      "[                                                                        ]N/A% "
     ]
    },
    {
     "name": "stdout",
     "output_type": "stream",
     "text": [
      "Epoch finished ! Loss: 0.5591810345649719\n",
      "Validation Cross-Entropy Coeff: 0.5469089150428772\n",
      "Checkpoint 42 saved !\n",
      "Starting epoch 43/100.\n",
      "0.0000 --- loss: 0.609502\n"
     ]
    },
    {
     "name": "stderr",
     "output_type": "stream",
     "text": [
      "[******************                                                      ] 26% "
     ]
    },
    {
     "name": "stdout",
     "output_type": "stream",
     "text": [
      "0.2000 --- loss: 0.484764\n"
     ]
    },
    {
     "name": "stderr",
     "output_type": "stream",
     "text": [
      "[*************************************                                   ] 51% "
     ]
    },
    {
     "name": "stdout",
     "output_type": "stream",
     "text": [
      "0.4000 --- loss: 0.513029\n"
     ]
    },
    {
     "name": "stderr",
     "output_type": "stream",
     "text": [
      "[***************************************************                     ] 71% "
     ]
    },
    {
     "name": "stdout",
     "output_type": "stream",
     "text": [
      "0.6000 --- loss: 0.481716\n"
     ]
    },
    {
     "name": "stderr",
     "output_type": "stream",
     "text": [
      "[******************************************************************      ] 91% "
     ]
    },
    {
     "name": "stdout",
     "output_type": "stream",
     "text": [
      "0.8000 --- loss: 0.585633\n"
     ]
    },
    {
     "name": "stderr",
     "output_type": "stream",
     "text": [
      "[                                                                        ]N/A% "
     ]
    },
    {
     "name": "stdout",
     "output_type": "stream",
     "text": [
      "Epoch finished ! Loss: 0.5585623979568481\n",
      "Validation Cross-Entropy Coeff: 0.5335763692855835\n",
      "Checkpoint 43 saved !\n",
      "Starting epoch 44/100.\n",
      "0.0000 --- loss: 0.539512\n"
     ]
    },
    {
     "name": "stderr",
     "output_type": "stream",
     "text": [
      "[*********************                                                   ] 29% "
     ]
    },
    {
     "name": "stdout",
     "output_type": "stream",
     "text": [
      "0.2000 --- loss: 0.563141\n"
     ]
    },
    {
     "name": "stderr",
     "output_type": "stream",
     "text": [
      "[*************************************                                   ] 51% "
     ]
    },
    {
     "name": "stdout",
     "output_type": "stream",
     "text": [
      "0.4000 --- loss: 0.590795\n"
     ]
    },
    {
     "name": "stderr",
     "output_type": "stream",
     "text": [
      "[***************************************************                     ] 71% "
     ]
    },
    {
     "name": "stdout",
     "output_type": "stream",
     "text": [
      "0.6000 --- loss: 0.560048\n"
     ]
    },
    {
     "name": "stderr",
     "output_type": "stream",
     "text": [
      "[**************************************************************          ] 86% "
     ]
    },
    {
     "name": "stdout",
     "output_type": "stream",
     "text": [
      "0.8000 --- loss: 0.505653\n"
     ]
    },
    {
     "name": "stderr",
     "output_type": "stream",
     "text": [
      "[                                                                        ]N/A% "
     ]
    },
    {
     "name": "stdout",
     "output_type": "stream",
     "text": [
      "Epoch finished ! Loss: 0.5520399212837219\n",
      "Validation Cross-Entropy Coeff: 0.5826259851455688\n",
      "Checkpoint 44 saved !\n",
      "Starting epoch 45/100.\n",
      "0.0000 --- loss: 0.540230\n"
     ]
    },
    {
     "name": "stderr",
     "output_type": "stream",
     "text": [
      "[**********************                                                  ] 31% "
     ]
    },
    {
     "name": "stdout",
     "output_type": "stream",
     "text": [
      "0.2000 --- loss: 0.643297\n"
     ]
    },
    {
     "name": "stderr",
     "output_type": "stream",
     "text": [
      "[*********************************                                       ] 46% "
     ]
    },
    {
     "name": "stdout",
     "output_type": "stream",
     "text": [
      "0.4000 --- loss: 0.526137\n"
     ]
    },
    {
     "name": "stderr",
     "output_type": "stream",
     "text": [
      "[************************************************                        ] 66% "
     ]
    },
    {
     "name": "stdout",
     "output_type": "stream",
     "text": [
      "0.6000 --- loss: 0.533865\n"
     ]
    },
    {
     "name": "stderr",
     "output_type": "stream",
     "text": [
      "[******************************************************************      ] 91% "
     ]
    },
    {
     "name": "stdout",
     "output_type": "stream",
     "text": [
      "0.8000 --- loss: 0.627137\n"
     ]
    },
    {
     "name": "stderr",
     "output_type": "stream",
     "text": [
      "[                                                                        ]N/A% "
     ]
    },
    {
     "name": "stdout",
     "output_type": "stream",
     "text": [
      "Epoch finished ! Loss: 0.5492938756942749\n",
      "Validation Cross-Entropy Coeff: 0.5532921552658081\n",
      "Checkpoint 45 saved !\n",
      "Starting epoch 46/100.\n",
      "0.0000 --- loss: 0.576083\n"
     ]
    },
    {
     "name": "stderr",
     "output_type": "stream",
     "text": [
      "                                                                               \r"
     ]
    },
    {
     "name": "stdout",
     "output_type": "stream",
     "text": [
      "0.2000 --- loss: 0.554310\n"
     ]
    },
    {
     "name": "stderr",
     "output_type": "stream",
     "text": [
      "[***********************************                                     ] 49% "
     ]
    },
    {
     "name": "stdout",
     "output_type": "stream",
     "text": [
      "0.4000 --- loss: 0.496850\n"
     ]
    },
    {
     "name": "stderr",
     "output_type": "stream",
     "text": [
      "[***************************************************                     ] 71% "
     ]
    },
    {
     "name": "stdout",
     "output_type": "stream",
     "text": [
      "0.6000 --- loss: 0.428433\n"
     ]
    },
    {
     "name": "stderr",
     "output_type": "stream",
     "text": [
      "[******************************************************************      ] 91% "
     ]
    },
    {
     "name": "stdout",
     "output_type": "stream",
     "text": [
      "0.8000 --- loss: 0.645534\n"
     ]
    },
    {
     "name": "stderr",
     "output_type": "stream",
     "text": [
      "[                                                                        ]N/A% "
     ]
    },
    {
     "name": "stdout",
     "output_type": "stream",
     "text": [
      "Epoch finished ! Loss: 0.5541699528694153\n",
      "Validation Cross-Entropy Coeff: 0.5349297523498535\n",
      "Checkpoint 46 saved !\n",
      "Starting epoch 47/100.\n",
      "0.0000 --- loss: 0.556894\n"
     ]
    },
    {
     "name": "stderr",
     "output_type": "stream",
     "text": [
      "[**********************                                                  ] 31% "
     ]
    },
    {
     "name": "stdout",
     "output_type": "stream",
     "text": [
      "0.2000 --- loss: 0.635600\n"
     ]
    },
    {
     "name": "stderr",
     "output_type": "stream",
     "text": [
      "[***********************************                                     ] 49% "
     ]
    },
    {
     "name": "stdout",
     "output_type": "stream",
     "text": [
      "0.4000 --- loss: 0.543053\n"
     ]
    },
    {
     "name": "stderr",
     "output_type": "stream",
     "text": [
      "[***************************************************                     ] 71% "
     ]
    },
    {
     "name": "stdout",
     "output_type": "stream",
     "text": [
      "0.6000 --- loss: 0.478113\n"
     ]
    },
    {
     "name": "stderr",
     "output_type": "stream",
     "text": [
      "[******************************************************************      ] 91% "
     ]
    },
    {
     "name": "stdout",
     "output_type": "stream",
     "text": [
      "0.8000 --- loss: 0.582790\n"
     ]
    },
    {
     "name": "stderr",
     "output_type": "stream",
     "text": [
      "[                                                                        ]N/A% "
     ]
    },
    {
     "name": "stdout",
     "output_type": "stream",
     "text": [
      "Epoch finished ! Loss: 0.546072781085968\n",
      "Validation Cross-Entropy Coeff: 0.5393021106719971\n",
      "Checkpoint 47 saved !\n",
      "Starting epoch 48/100.\n",
      "0.0000 --- loss: 0.466038\n"
     ]
    },
    {
     "name": "stderr",
     "output_type": "stream",
     "text": [
      "[**********************                                                  ] 31% "
     ]
    },
    {
     "name": "stdout",
     "output_type": "stream",
     "text": [
      "0.2000 --- loss: 0.530513\n"
     ]
    },
    {
     "name": "stderr",
     "output_type": "stream",
     "text": [
      "[***********************************                                     ] 49% "
     ]
    },
    {
     "name": "stdout",
     "output_type": "stream",
     "text": [
      "0.4000 --- loss: 0.478196\n"
     ]
    },
    {
     "name": "stderr",
     "output_type": "stream",
     "text": [
      "[***************************************************                     ] 71% "
     ]
    },
    {
     "name": "stdout",
     "output_type": "stream",
     "text": [
      "0.6000 --- loss: 0.577504\n"
     ]
    },
    {
     "name": "stderr",
     "output_type": "stream",
     "text": [
      "[****************************************************************        ] 89% "
     ]
    },
    {
     "name": "stdout",
     "output_type": "stream",
     "text": [
      "0.8000 --- loss: 0.509341\n"
     ]
    },
    {
     "name": "stderr",
     "output_type": "stream",
     "text": [
      "[                                                                        ]N/A% "
     ]
    },
    {
     "name": "stdout",
     "output_type": "stream",
     "text": [
      "Epoch finished ! Loss: 0.5466781258583069\n",
      "Validation Cross-Entropy Coeff: 0.5348473787307739\n",
      "Checkpoint 48 saved !\n",
      "Starting epoch 49/100.\n"
     ]
    },
    {
     "name": "stderr",
     "output_type": "stream",
     "text": [
      "                                                                               \r"
     ]
    },
    {
     "name": "stdout",
     "output_type": "stream",
     "text": [
      "0.0000 --- loss: 0.549748\n"
     ]
    },
    {
     "name": "stderr",
     "output_type": "stream",
     "text": [
      "[**********************                                                  ] 31% "
     ]
    },
    {
     "name": "stdout",
     "output_type": "stream",
     "text": [
      "0.2000 --- loss: 0.576638\n"
     ]
    },
    {
     "name": "stderr",
     "output_type": "stream",
     "text": [
      "[***********************************                                     ] 49% "
     ]
    },
    {
     "name": "stdout",
     "output_type": "stream",
     "text": [
      "0.4000 --- loss: 0.489975\n"
     ]
    },
    {
     "name": "stderr",
     "output_type": "stream",
     "text": [
      "[***************************************************                     ] 71% "
     ]
    },
    {
     "name": "stdout",
     "output_type": "stream",
     "text": [
      "0.6000 --- loss: 0.594979\n"
     ]
    },
    {
     "name": "stderr",
     "output_type": "stream",
     "text": [
      "[****************************************************************        ] 89% "
     ]
    },
    {
     "name": "stdout",
     "output_type": "stream",
     "text": [
      "0.8000 --- loss: 0.544646\n"
     ]
    },
    {
     "name": "stderr",
     "output_type": "stream",
     "text": [
      "[                                                                        ]N/A% "
     ]
    },
    {
     "name": "stdout",
     "output_type": "stream",
     "text": [
      "Epoch finished ! Loss: 0.545803427696228\n",
      "Validation Cross-Entropy Coeff: 0.5389968156814575\n",
      "Checkpoint 49 saved !\n",
      "Starting epoch 50/100.\n",
      "0.0000 --- loss: 0.556097\n"
     ]
    },
    {
     "name": "stderr",
     "output_type": "stream",
     "text": [
      "[**********************                                                  ] 31% "
     ]
    },
    {
     "name": "stdout",
     "output_type": "stream",
     "text": [
      "0.2000 --- loss: 0.520827\n"
     ]
    },
    {
     "name": "stderr",
     "output_type": "stream",
     "text": [
      "[*************************************                                   ] 51% "
     ]
    },
    {
     "name": "stdout",
     "output_type": "stream",
     "text": [
      "0.4000 --- loss: 0.585150\n"
     ]
    },
    {
     "name": "stderr",
     "output_type": "stream",
     "text": [
      "[***************************************************                     ] 71% "
     ]
    },
    {
     "name": "stdout",
     "output_type": "stream",
     "text": [
      "0.6000 --- loss: 0.543049\n"
     ]
    },
    {
     "name": "stderr",
     "output_type": "stream",
     "text": [
      "[****************************************************************        ] 89% "
     ]
    },
    {
     "name": "stdout",
     "output_type": "stream",
     "text": [
      "0.8000 --- loss: 0.528016\n"
     ]
    },
    {
     "name": "stderr",
     "output_type": "stream",
     "text": [
      "[                                                                        ]N/A% "
     ]
    },
    {
     "name": "stdout",
     "output_type": "stream",
     "text": [
      "Epoch finished ! Loss: 0.5460981130599976\n",
      "Validation Cross-Entropy Coeff: 0.5690139532089233\n",
      "Checkpoint 50 saved !\n",
      "Starting epoch 51/100.\n",
      "0.0000 --- loss: 0.459819\n"
     ]
    },
    {
     "name": "stderr",
     "output_type": "stream",
     "text": [
      "                                                                               \r"
     ]
    },
    {
     "name": "stdout",
     "output_type": "stream",
     "text": [
      "0.2000 --- loss: 0.460147\n"
     ]
    },
    {
     "name": "stderr",
     "output_type": "stream",
     "text": [
      "[**********************************                                      ] 48% "
     ]
    },
    {
     "name": "stdout",
     "output_type": "stream",
     "text": [
      "0.4000 --- loss: 0.632711\n"
     ]
    },
    {
     "name": "stderr",
     "output_type": "stream",
     "text": [
      "[***************************************************                     ] 71% "
     ]
    },
    {
     "name": "stdout",
     "output_type": "stream",
     "text": [
      "0.6000 --- loss: 0.519688\n"
     ]
    },
    {
     "name": "stderr",
     "output_type": "stream",
     "text": [
      "[***************************************************************         ] 87% "
     ]
    },
    {
     "name": "stdout",
     "output_type": "stream",
     "text": [
      "0.8000 --- loss: 0.551880\n"
     ]
    },
    {
     "name": "stderr",
     "output_type": "stream",
     "text": [
      "[***************************************************************         ] 87% "
     ]
    },
    {
     "name": "stdout",
     "output_type": "stream",
     "text": [
      "Epoch finished ! Loss: 0.5429666638374329\n",
      "Validation Cross-Entropy Coeff: 0.6059279441833496"
     ]
    },
    {
     "name": "stderr",
     "output_type": "stream",
     "text": [
      "[******                                                                  ]  9% "
     ]
    },
    {
     "name": "stdout",
     "output_type": "stream",
     "text": [
      "\n",
      "Checkpoint 51 saved !\n",
      "Starting epoch 52/100.\n",
      "0.0000 --- loss: 0.518106\n"
     ]
    },
    {
     "name": "stderr",
     "output_type": "stream",
     "text": [
      "[********************                                                    ] 28% "
     ]
    },
    {
     "name": "stdout",
     "output_type": "stream",
     "text": [
      "0.2000 --- loss: 0.566393\n"
     ]
    },
    {
     "name": "stderr",
     "output_type": "stream",
     "text": [
      "[***********************************                                     ] 49% "
     ]
    },
    {
     "name": "stdout",
     "output_type": "stream",
     "text": [
      "0.4000 --- loss: 0.524919\n"
     ]
    },
    {
     "name": "stderr",
     "output_type": "stream",
     "text": [
      "[**************************************************                      ] 69% "
     ]
    },
    {
     "name": "stdout",
     "output_type": "stream",
     "text": [
      "0.6000 --- loss: 0.466390\n"
     ]
    },
    {
     "name": "stderr",
     "output_type": "stream",
     "text": [
      "[******************************************************************      ] 91% "
     ]
    },
    {
     "name": "stdout",
     "output_type": "stream",
     "text": [
      "0.8000 --- loss: 0.577053\n"
     ]
    },
    {
     "name": "stderr",
     "output_type": "stream",
     "text": [
      "[                                                                        ]N/A% "
     ]
    },
    {
     "name": "stdout",
     "output_type": "stream",
     "text": [
      "Epoch finished ! Loss: 0.5445314645767212\n",
      "Validation Cross-Entropy Coeff: 0.531424880027771\n",
      "Checkpoint 52 saved !\n",
      "Starting epoch 53/100.\n",
      "0.0000 --- loss: 0.482645"
     ]
    },
    {
     "name": "stderr",
     "output_type": "stream",
     "text": [
      "[********                                                                ] 11% "
     ]
    },
    {
     "name": "stdout",
     "output_type": "stream",
     "text": [
      "\n"
     ]
    },
    {
     "name": "stderr",
     "output_type": "stream",
     "text": [
      "[**********************                                                  ] 31% "
     ]
    },
    {
     "name": "stdout",
     "output_type": "stream",
     "text": [
      "0.2000 --- loss: 0.476201\n"
     ]
    },
    {
     "name": "stderr",
     "output_type": "stream",
     "text": [
      "[***********************************                                     ] 49% "
     ]
    },
    {
     "name": "stdout",
     "output_type": "stream",
     "text": [
      "0.4000 --- loss: 0.538920\n"
     ]
    },
    {
     "name": "stderr",
     "output_type": "stream",
     "text": [
      "[***************************************************                     ] 71% "
     ]
    },
    {
     "name": "stdout",
     "output_type": "stream",
     "text": [
      "0.6000 --- loss: 0.599075\n"
     ]
    },
    {
     "name": "stderr",
     "output_type": "stream",
     "text": [
      "[****************************************************************        ] 89% "
     ]
    },
    {
     "name": "stdout",
     "output_type": "stream",
     "text": [
      "0.8000 --- loss: 0.452984\n"
     ]
    },
    {
     "name": "stderr",
     "output_type": "stream",
     "text": [
      "[                                                                        ]N/A% "
     ]
    },
    {
     "name": "stdout",
     "output_type": "stream",
     "text": [
      "Epoch finished ! Loss: 0.5434203743934631\n",
      "Validation Cross-Entropy Coeff: 0.5860694646835327\n",
      "Checkpoint 53 saved !\n",
      "Starting epoch 54/100.\n",
      "0.0000 --- loss: 0.528350\n"
     ]
    },
    {
     "name": "stderr",
     "output_type": "stream",
     "text": [
      "[*********************                                                   ] 29% "
     ]
    },
    {
     "name": "stdout",
     "output_type": "stream",
     "text": [
      "0.2000 --- loss: 0.572387\n"
     ]
    },
    {
     "name": "stderr",
     "output_type": "stream",
     "text": [
      "[*************************************                                   ] 51% "
     ]
    },
    {
     "name": "stdout",
     "output_type": "stream",
     "text": [
      "0.4000 --- loss: 0.564998\n"
     ]
    },
    {
     "name": "stderr",
     "output_type": "stream",
     "text": [
      "[**************************************************                      ] 69% "
     ]
    },
    {
     "name": "stdout",
     "output_type": "stream",
     "text": [
      "0.6000 --- loss: 0.632189\n"
     ]
    },
    {
     "name": "stderr",
     "output_type": "stream",
     "text": [
      "[******************************************************************      ] 91% "
     ]
    },
    {
     "name": "stdout",
     "output_type": "stream",
     "text": [
      "0.8000 --- loss: 0.547494\n"
     ]
    },
    {
     "name": "stderr",
     "output_type": "stream",
     "text": [
      "[***************************************************************         ] 87% "
     ]
    },
    {
     "name": "stdout",
     "output_type": "stream",
     "text": [
      "Epoch finished ! Loss: 0.546082615852356\n",
      "Validation Cross-Entropy Coeff: 0.6518915891647339\n",
      "Checkpoint 54 saved !"
     ]
    },
    {
     "name": "stderr",
     "output_type": "stream",
     "text": [
      "                                                                               \r"
     ]
    },
    {
     "name": "stdout",
     "output_type": "stream",
     "text": [
      "\n",
      "Starting epoch 55/100.\n",
      "0.0000 --- loss: 0.464016\n"
     ]
    },
    {
     "name": "stderr",
     "output_type": "stream",
     "text": [
      "[**********************                                                  ] 31% "
     ]
    },
    {
     "name": "stdout",
     "output_type": "stream",
     "text": [
      "0.2000 --- loss: 0.489504\n"
     ]
    },
    {
     "name": "stderr",
     "output_type": "stream",
     "text": [
      "[***********************************                                     ] 49% "
     ]
    },
    {
     "name": "stdout",
     "output_type": "stream",
     "text": [
      "0.4000 --- loss: 0.499334\n"
     ]
    },
    {
     "name": "stderr",
     "output_type": "stream",
     "text": [
      "[**************************************************                      ] 69% "
     ]
    },
    {
     "name": "stdout",
     "output_type": "stream",
     "text": [
      "0.6000 --- loss: 0.501959\n"
     ]
    },
    {
     "name": "stderr",
     "output_type": "stream",
     "text": [
      "[******************************************************************      ] 91% "
     ]
    },
    {
     "name": "stdout",
     "output_type": "stream",
     "text": [
      "0.8000 --- loss: 0.659954\n"
     ]
    },
    {
     "name": "stderr",
     "output_type": "stream",
     "text": [
      "[                                                                        ]N/A% "
     ]
    },
    {
     "name": "stdout",
     "output_type": "stream",
     "text": [
      "Epoch finished ! Loss: 0.5414853692054749\n",
      "Validation Cross-Entropy Coeff: 0.5507607460021973\n",
      "Checkpoint 55 saved !\n",
      "Starting epoch 56/100.\n",
      "0.0000 --- loss: 0.533642\n"
     ]
    },
    {
     "name": "stderr",
     "output_type": "stream",
     "text": [
      "[*********************                                                   ] 29% "
     ]
    },
    {
     "name": "stdout",
     "output_type": "stream",
     "text": [
      "0.2000 --- loss: 0.651396\n"
     ]
    },
    {
     "name": "stderr",
     "output_type": "stream",
     "text": [
      "[***********************************                                     ] 49% "
     ]
    },
    {
     "name": "stdout",
     "output_type": "stream",
     "text": [
      "0.4000 --- loss: 0.494129\n"
     ]
    },
    {
     "name": "stderr",
     "output_type": "stream",
     "text": [
      "[***************************************************                     ] 71% "
     ]
    },
    {
     "name": "stdout",
     "output_type": "stream",
     "text": [
      "0.6000 --- loss: 0.630987\n"
     ]
    },
    {
     "name": "stderr",
     "output_type": "stream",
     "text": [
      "[**************************************************************          ] 86% "
     ]
    },
    {
     "name": "stdout",
     "output_type": "stream",
     "text": [
      "0.8000 --- loss: 0.503546\n"
     ]
    },
    {
     "name": "stderr",
     "output_type": "stream",
     "text": [
      "[                                                                        ]N/A% "
     ]
    },
    {
     "name": "stdout",
     "output_type": "stream",
     "text": [
      "Epoch finished ! Loss: 0.5339632630348206\n",
      "Validation Cross-Entropy Coeff: 0.5308389663696289\n",
      "Checkpoint 56 saved !\n",
      "Starting epoch 57/100.\n",
      "0.0000 --- loss: 0.621630\n"
     ]
    },
    {
     "name": "stderr",
     "output_type": "stream",
     "text": [
      "[**********************                                                  ] 31% "
     ]
    },
    {
     "name": "stdout",
     "output_type": "stream",
     "text": [
      "0.2000 --- loss: 0.532726\n"
     ]
    },
    {
     "name": "stderr",
     "output_type": "stream",
     "text": [
      "[***********************************                                     ] 49% "
     ]
    },
    {
     "name": "stdout",
     "output_type": "stream",
     "text": [
      "0.4000 --- loss: 0.474594\n"
     ]
    },
    {
     "name": "stderr",
     "output_type": "stream",
     "text": [
      "[***************************************************                     ] 71% "
     ]
    },
    {
     "name": "stdout",
     "output_type": "stream",
     "text": [
      "0.6000 --- loss: 0.508871\n"
     ]
    },
    {
     "name": "stderr",
     "output_type": "stream",
     "text": [
      "[******************************************************************      ] 91% "
     ]
    },
    {
     "name": "stdout",
     "output_type": "stream",
     "text": [
      "0.8000 --- loss: 0.585835\n"
     ]
    },
    {
     "name": "stderr",
     "output_type": "stream",
     "text": [
      "[                                                                        ]N/A% "
     ]
    },
    {
     "name": "stdout",
     "output_type": "stream",
     "text": [
      "Epoch finished ! Loss: 0.5383570790290833\n",
      "Validation Cross-Entropy Coeff: 0.5238937735557556\n",
      "Checkpoint 57 saved !\n",
      "Starting epoch 58/100.\n",
      "0.0000 --- loss: 0.494287\n"
     ]
    },
    {
     "name": "stderr",
     "output_type": "stream",
     "text": [
      "[*********************                                                   ] 29% "
     ]
    },
    {
     "name": "stdout",
     "output_type": "stream",
     "text": [
      "0.2000 --- loss: 0.471116\n"
     ]
    },
    {
     "name": "stderr",
     "output_type": "stream",
     "text": [
      "[*************************************                                   ] 51% "
     ]
    },
    {
     "name": "stdout",
     "output_type": "stream",
     "text": [
      "0.4000 --- loss: 0.520672\n"
     ]
    },
    {
     "name": "stderr",
     "output_type": "stream",
     "text": [
      "[***************************************************                     ] 71% "
     ]
    },
    {
     "name": "stdout",
     "output_type": "stream",
     "text": [
      "0.6000 --- loss: 0.636893\n"
     ]
    },
    {
     "name": "stderr",
     "output_type": "stream",
     "text": [
      "[******************************************************************      ] 91% "
     ]
    },
    {
     "name": "stdout",
     "output_type": "stream",
     "text": [
      "0.8000 --- loss: 0.483893\n"
     ]
    },
    {
     "name": "stderr",
     "output_type": "stream",
     "text": [
      "[*********************************************************************   ] 95% "
     ]
    },
    {
     "name": "stdout",
     "output_type": "stream",
     "text": [
      "Epoch finished ! Loss: 0.539595365524292\n",
      "Validation Cross-Entropy Coeff: 0.5296275615692139\n",
      "Checkpoint 58 saved !"
     ]
    },
    {
     "name": "stderr",
     "output_type": "stream",
     "text": [
      "[*****                                                                   ]  7% "
     ]
    },
    {
     "name": "stdout",
     "output_type": "stream",
     "text": [
      "\n",
      "Starting epoch 59/100.\n",
      "0.0000 --- loss: 0.471671\n"
     ]
    },
    {
     "name": "stderr",
     "output_type": "stream",
     "text": [
      "[**********************                                                  ] 31% "
     ]
    },
    {
     "name": "stdout",
     "output_type": "stream",
     "text": [
      "0.2000 --- loss: 0.599484\n"
     ]
    },
    {
     "name": "stderr",
     "output_type": "stream",
     "text": [
      "[**********************************                                      ] 48% "
     ]
    },
    {
     "name": "stdout",
     "output_type": "stream",
     "text": [
      "0.4000 --- loss: 0.547493\n"
     ]
    },
    {
     "name": "stderr",
     "output_type": "stream",
     "text": [
      "[**************************************************                      ] 69% "
     ]
    },
    {
     "name": "stdout",
     "output_type": "stream",
     "text": [
      "0.6000 --- loss: 0.502084\n"
     ]
    },
    {
     "name": "stderr",
     "output_type": "stream",
     "text": [
      "[******************************************************************      ] 91% "
     ]
    },
    {
     "name": "stdout",
     "output_type": "stream",
     "text": [
      "0.8000 --- loss: 0.574030\n"
     ]
    },
    {
     "name": "stderr",
     "output_type": "stream",
     "text": [
      "[                                                                        ]N/A% "
     ]
    },
    {
     "name": "stdout",
     "output_type": "stream",
     "text": [
      "Epoch finished ! Loss: 0.5383060574531555\n",
      "Validation Cross-Entropy Coeff: 0.526189386844635\n",
      "Checkpoint 59 saved !\n",
      "Starting epoch 60/100.\n",
      "0.0000 --- loss: 0.496919\n"
     ]
    },
    {
     "name": "stderr",
     "output_type": "stream",
     "text": [
      "[**********************                                                  ] 31% "
     ]
    },
    {
     "name": "stdout",
     "output_type": "stream",
     "text": [
      "0.2000 --- loss: 0.566425\n"
     ]
    },
    {
     "name": "stderr",
     "output_type": "stream",
     "text": [
      "[*************************************                                   ] 51% "
     ]
    },
    {
     "name": "stdout",
     "output_type": "stream",
     "text": [
      "0.4000 --- loss: 0.483436\n"
     ]
    },
    {
     "name": "stderr",
     "output_type": "stream",
     "text": [
      "[***************************************************                     ] 71% "
     ]
    },
    {
     "name": "stdout",
     "output_type": "stream",
     "text": [
      "0.6000 --- loss: 0.537057\n"
     ]
    },
    {
     "name": "stderr",
     "output_type": "stream",
     "text": [
      "[******************************************************************      ] 91% "
     ]
    },
    {
     "name": "stdout",
     "output_type": "stream",
     "text": [
      "0.8000 --- loss: 0.459203\n"
     ]
    },
    {
     "name": "stderr",
     "output_type": "stream",
     "text": [
      "[                                                                        ]N/A% "
     ]
    },
    {
     "name": "stdout",
     "output_type": "stream",
     "text": [
      "Epoch finished ! Loss: 0.5317371487617493\n",
      "Validation Cross-Entropy Coeff: 0.5458458662033081\n",
      "Checkpoint 60 saved !\n",
      "Starting epoch 61/100.\n",
      "0.0000 --- loss: 0.515343\n"
     ]
    },
    {
     "name": "stderr",
     "output_type": "stream",
     "text": [
      "[**********************                                                  ] 31% "
     ]
    },
    {
     "name": "stdout",
     "output_type": "stream",
     "text": [
      "0.2000 --- loss: 0.606903\n"
     ]
    },
    {
     "name": "stderr",
     "output_type": "stream",
     "text": [
      "[*************************************                                   ] 51% "
     ]
    },
    {
     "name": "stdout",
     "output_type": "stream",
     "text": [
      "0.4000 --- loss: 0.557855\n"
     ]
    },
    {
     "name": "stderr",
     "output_type": "stream",
     "text": [
      "[*************************************************                       ] 68% "
     ]
    },
    {
     "name": "stdout",
     "output_type": "stream",
     "text": [
      "0.6000 --- loss: 0.508522\n"
     ]
    },
    {
     "name": "stderr",
     "output_type": "stream",
     "text": [
      "[******************************************************************      ] 91% "
     ]
    },
    {
     "name": "stdout",
     "output_type": "stream",
     "text": [
      "0.8000 --- loss: 0.536843\n"
     ]
    },
    {
     "name": "stderr",
     "output_type": "stream",
     "text": [
      "[                                                                        ]N/A% "
     ]
    },
    {
     "name": "stdout",
     "output_type": "stream",
     "text": [
      "Epoch finished ! Loss: 0.534282922744751\n",
      "Validation Cross-Entropy Coeff: 0.5171813368797302\n",
      "Checkpoint 61 saved !\n",
      "Starting epoch 62/100.\n",
      "0.0000 --- loss: 0.493510\n"
     ]
    },
    {
     "name": "stderr",
     "output_type": "stream",
     "text": [
      "[*********************                                                   ] 29% "
     ]
    },
    {
     "name": "stdout",
     "output_type": "stream",
     "text": [
      "0.2000 --- loss: 0.634458\n"
     ]
    },
    {
     "name": "stderr",
     "output_type": "stream",
     "text": [
      "[*************************************                                   ] 51% "
     ]
    },
    {
     "name": "stdout",
     "output_type": "stream",
     "text": [
      "0.4000 --- loss: 0.548750\n"
     ]
    },
    {
     "name": "stderr",
     "output_type": "stream",
     "text": [
      "[***************************************************                     ] 71% "
     ]
    },
    {
     "name": "stdout",
     "output_type": "stream",
     "text": [
      "0.6000 --- loss: 0.508733\n"
     ]
    },
    {
     "name": "stderr",
     "output_type": "stream",
     "text": [
      "[******************************************************************      ] 91% "
     ]
    },
    {
     "name": "stdout",
     "output_type": "stream",
     "text": [
      "0.8000 --- loss: 0.452514\n"
     ]
    },
    {
     "name": "stderr",
     "output_type": "stream",
     "text": [
      "[***************************************************************         ] 87% "
     ]
    },
    {
     "name": "stdout",
     "output_type": "stream",
     "text": [
      "Epoch finished ! Loss: 0.5333437323570251\n",
      "Validation Cross-Entropy Coeff: 0.5245101451873779"
     ]
    },
    {
     "name": "stderr",
     "output_type": "stream",
     "text": [
      "[*****                                                                   ]  7% "
     ]
    },
    {
     "name": "stdout",
     "output_type": "stream",
     "text": [
      "\n",
      "Checkpoint 62 saved !\n",
      "Starting epoch 63/100.\n",
      "0.0000 --- loss: 0.436913\n"
     ]
    },
    {
     "name": "stderr",
     "output_type": "stream",
     "text": [
      "[********************                                                    ] 28% "
     ]
    },
    {
     "name": "stdout",
     "output_type": "stream",
     "text": [
      "0.2000 --- loss: 0.585707\n"
     ]
    },
    {
     "name": "stderr",
     "output_type": "stream",
     "text": [
      "[*************************************                                   ] 51% "
     ]
    },
    {
     "name": "stdout",
     "output_type": "stream",
     "text": [
      "0.4000 --- loss: 0.497921\n"
     ]
    },
    {
     "name": "stderr",
     "output_type": "stream",
     "text": [
      "[***************************************************                     ] 71% "
     ]
    },
    {
     "name": "stdout",
     "output_type": "stream",
     "text": [
      "0.6000 --- loss: 0.524897\n"
     ]
    },
    {
     "name": "stderr",
     "output_type": "stream",
     "text": [
      "[******************************************************************      ] 91% "
     ]
    },
    {
     "name": "stdout",
     "output_type": "stream",
     "text": [
      "0.8000 --- loss: 0.507830\n"
     ]
    },
    {
     "name": "stderr",
     "output_type": "stream",
     "text": [
      "[***************************************************************         ] 87% "
     ]
    },
    {
     "name": "stdout",
     "output_type": "stream",
     "text": [
      "Epoch finished ! Loss: 0.5338839888572693\n",
      "Validation Cross-Entropy Coeff: 0.5250689387321472"
     ]
    },
    {
     "name": "stderr",
     "output_type": "stream",
     "text": [
      "                                                                               \r"
     ]
    },
    {
     "name": "stdout",
     "output_type": "stream",
     "text": [
      "\n",
      "Checkpoint 63 saved !\n",
      "Starting epoch 64/100.\n",
      "0.0000 --- loss: 0.536817\n"
     ]
    },
    {
     "name": "stderr",
     "output_type": "stream",
     "text": [
      "[**********************                                                  ] 31% "
     ]
    },
    {
     "name": "stdout",
     "output_type": "stream",
     "text": [
      "0.2000 --- loss: 0.529658\n"
     ]
    },
    {
     "name": "stderr",
     "output_type": "stream",
     "text": [
      "[**********************************                                      ] 48% "
     ]
    },
    {
     "name": "stdout",
     "output_type": "stream",
     "text": [
      "0.4000 --- loss: 0.549721\n"
     ]
    },
    {
     "name": "stderr",
     "output_type": "stream",
     "text": [
      "[***************************************************                     ] 71% "
     ]
    },
    {
     "name": "stdout",
     "output_type": "stream",
     "text": [
      "0.6000 --- loss: 0.467670\n"
     ]
    },
    {
     "name": "stderr",
     "output_type": "stream",
     "text": [
      "[***************************************************************         ] 87% "
     ]
    },
    {
     "name": "stdout",
     "output_type": "stream",
     "text": [
      "0.8000 --- loss: 0.472176\n"
     ]
    },
    {
     "name": "stderr",
     "output_type": "stream",
     "text": [
      "[************************************************************            ] 83% "
     ]
    },
    {
     "name": "stdout",
     "output_type": "stream",
     "text": [
      "Epoch finished ! Loss: 0.5326512455940247\n",
      "Validation Cross-Entropy Coeff: 0.5179771184921265"
     ]
    },
    {
     "name": "stderr",
     "output_type": "stream",
     "text": [
      "[****                                                                    ]  6% "
     ]
    },
    {
     "name": "stdout",
     "output_type": "stream",
     "text": [
      "\n",
      "Checkpoint 64 saved !\n",
      "Starting epoch 65/100.\n",
      "0.0000 --- loss: 0.503113\n"
     ]
    },
    {
     "name": "stderr",
     "output_type": "stream",
     "text": [
      "[*********************                                                   ] 29% "
     ]
    },
    {
     "name": "stdout",
     "output_type": "stream",
     "text": [
      "0.2000 --- loss: 0.517610\n"
     ]
    },
    {
     "name": "stderr",
     "output_type": "stream",
     "text": [
      "[***********************************                                     ] 49% "
     ]
    },
    {
     "name": "stdout",
     "output_type": "stream",
     "text": [
      "0.4000 --- loss: 0.538826\n"
     ]
    },
    {
     "name": "stderr",
     "output_type": "stream",
     "text": [
      "[**************************************************                      ] 69% "
     ]
    },
    {
     "name": "stdout",
     "output_type": "stream",
     "text": [
      "0.6000 --- loss: 0.553672\n"
     ]
    },
    {
     "name": "stderr",
     "output_type": "stream",
     "text": [
      "[****************************************************************        ] 89% "
     ]
    },
    {
     "name": "stdout",
     "output_type": "stream",
     "text": [
      "0.8000 --- loss: 0.635487\n"
     ]
    },
    {
     "name": "stderr",
     "output_type": "stream",
     "text": [
      "[******************************************************************      ] 91% "
     ]
    },
    {
     "name": "stdout",
     "output_type": "stream",
     "text": [
      "Epoch finished ! Loss: 0.5321660041809082\n",
      "Validation Cross-Entropy Coeff: 0.5477468967437744\n",
      "Checkpoint 65 saved !\n",
      "Starting epoch 66/100."
     ]
    },
    {
     "name": "stderr",
     "output_type": "stream",
     "text": [
      "[****                                                                    ]  6% "
     ]
    },
    {
     "name": "stdout",
     "output_type": "stream",
     "text": [
      "\n",
      "0.0000 --- loss: 0.506241\n"
     ]
    },
    {
     "name": "stderr",
     "output_type": "stream",
     "text": [
      "[*********************                                                   ] 29% "
     ]
    },
    {
     "name": "stdout",
     "output_type": "stream",
     "text": [
      "0.2000 --- loss: 0.632100\n"
     ]
    },
    {
     "name": "stderr",
     "output_type": "stream",
     "text": [
      "[*********************************                                       ] 46% "
     ]
    },
    {
     "name": "stdout",
     "output_type": "stream",
     "text": [
      "0.4000 --- loss: 0.466481\n"
     ]
    },
    {
     "name": "stderr",
     "output_type": "stream",
     "text": [
      "[*************************************************                       ] 68% "
     ]
    },
    {
     "name": "stdout",
     "output_type": "stream",
     "text": [
      "0.6000 --- loss: 0.528289\n"
     ]
    },
    {
     "name": "stderr",
     "output_type": "stream",
     "text": [
      "[***************************************************************         ] 87% "
     ]
    },
    {
     "name": "stdout",
     "output_type": "stream",
     "text": [
      "0.8000 --- loss: 0.507775\n"
     ]
    },
    {
     "name": "stderr",
     "output_type": "stream",
     "text": [
      "[                                                                        ]N/A% "
     ]
    },
    {
     "name": "stdout",
     "output_type": "stream",
     "text": [
      "Epoch finished ! Loss: 0.53107750415802\n",
      "Validation Cross-Entropy Coeff: 0.5257258415222168\n",
      "Checkpoint 66 saved !\n",
      "Starting epoch 67/100.\n",
      "0.0000 --- loss: 0.552556"
     ]
    },
    {
     "name": "stderr",
     "output_type": "stream",
     "text": [
      "[********                                                                ] 11% "
     ]
    },
    {
     "name": "stdout",
     "output_type": "stream",
     "text": [
      "\n"
     ]
    },
    {
     "name": "stderr",
     "output_type": "stream",
     "text": [
      "[**********************                                                  ] 31% "
     ]
    },
    {
     "name": "stdout",
     "output_type": "stream",
     "text": [
      "0.2000 --- loss: 0.498276\n"
     ]
    },
    {
     "name": "stderr",
     "output_type": "stream",
     "text": [
      "[**********************************                                      ] 47% "
     ]
    },
    {
     "name": "stdout",
     "output_type": "stream",
     "text": [
      "0.4000 --- loss: 0.544975\n"
     ]
    },
    {
     "name": "stderr",
     "output_type": "stream",
     "text": [
      "[*************************************************                       ] 68% "
     ]
    },
    {
     "name": "stdout",
     "output_type": "stream",
     "text": [
      "0.6000 --- loss: 0.711465\n"
     ]
    },
    {
     "name": "stderr",
     "output_type": "stream",
     "text": [
      "[******************************************************************      ] 91% "
     ]
    },
    {
     "name": "stdout",
     "output_type": "stream",
     "text": [
      "0.8000 --- loss: 0.484966\n"
     ]
    },
    {
     "name": "stderr",
     "output_type": "stream",
     "text": [
      "[                                                                        ]N/A% "
     ]
    },
    {
     "name": "stdout",
     "output_type": "stream",
     "text": [
      "Epoch finished ! Loss: 0.5311155915260315\n",
      "Validation Cross-Entropy Coeff: 0.540520966053009\n",
      "Checkpoint 67 saved !\n",
      "Starting epoch 68/100.\n",
      "0.0000 --- loss: 0.498577"
     ]
    },
    {
     "name": "stderr",
     "output_type": "stream",
     "text": [
      "[********                                                                ] 11% "
     ]
    },
    {
     "name": "stdout",
     "output_type": "stream",
     "text": [
      "\n"
     ]
    },
    {
     "name": "stderr",
     "output_type": "stream",
     "text": [
      "[********************                                                    ] 28% "
     ]
    },
    {
     "name": "stdout",
     "output_type": "stream",
     "text": [
      "0.2000 --- loss: 0.537477\n"
     ]
    },
    {
     "name": "stderr",
     "output_type": "stream",
     "text": [
      "[***********************************                                     ] 49% "
     ]
    },
    {
     "name": "stdout",
     "output_type": "stream",
     "text": [
      "0.4000 --- loss: 0.483934\n"
     ]
    },
    {
     "name": "stderr",
     "output_type": "stream",
     "text": [
      "[*************************************************                       ] 68% "
     ]
    },
    {
     "name": "stdout",
     "output_type": "stream",
     "text": [
      "0.6000 --- loss: 0.489310\n"
     ]
    },
    {
     "name": "stderr",
     "output_type": "stream",
     "text": [
      "[******************************************************************      ] 91% "
     ]
    },
    {
     "name": "stdout",
     "output_type": "stream",
     "text": [
      "0.8000 --- loss: 0.449391\n"
     ]
    },
    {
     "name": "stderr",
     "output_type": "stream",
     "text": [
      "[                                                                        ]N/A% "
     ]
    },
    {
     "name": "stdout",
     "output_type": "stream",
     "text": [
      "Epoch finished ! Loss: 0.5262354016304016\n",
      "Validation Cross-Entropy Coeff: 0.5192638635635376\n",
      "Checkpoint 68 saved !\n",
      "Starting epoch 69/100.\n",
      "0.0000 --- loss: 0.575649"
     ]
    },
    {
     "name": "stderr",
     "output_type": "stream",
     "text": [
      "[******                                                                  ]  9% "
     ]
    },
    {
     "name": "stdout",
     "output_type": "stream",
     "text": [
      "\n"
     ]
    },
    {
     "name": "stderr",
     "output_type": "stream",
     "text": [
      "[**********************                                                  ] 31% "
     ]
    },
    {
     "name": "stdout",
     "output_type": "stream",
     "text": [
      "0.2000 --- loss: 0.453532\n"
     ]
    },
    {
     "name": "stderr",
     "output_type": "stream",
     "text": [
      "[*************************************                                   ] 51% "
     ]
    },
    {
     "name": "stdout",
     "output_type": "stream",
     "text": [
      "0.4000 --- loss: 0.532073\n"
     ]
    },
    {
     "name": "stderr",
     "output_type": "stream",
     "text": [
      "[***************************************************                     ] 71% "
     ]
    },
    {
     "name": "stdout",
     "output_type": "stream",
     "text": [
      "0.6000 --- loss: 0.509207\n"
     ]
    },
    {
     "name": "stderr",
     "output_type": "stream",
     "text": [
      "[******************************************************************      ] 91% "
     ]
    },
    {
     "name": "stdout",
     "output_type": "stream",
     "text": [
      "0.8000 --- loss: 0.429693\n"
     ]
    },
    {
     "name": "stderr",
     "output_type": "stream",
     "text": [
      "[                                                                        ]N/A% "
     ]
    },
    {
     "name": "stdout",
     "output_type": "stream",
     "text": [
      "Epoch finished ! Loss: 0.5291957259178162\n",
      "Validation Cross-Entropy Coeff: 0.5258776545524597\n",
      "Checkpoint 69 saved !\n",
      "Starting epoch 70/100.\n",
      "0.0000 --- loss: 0.535780\n"
     ]
    },
    {
     "name": "stderr",
     "output_type": "stream",
     "text": [
      "[**********************                                                  ] 31% "
     ]
    },
    {
     "name": "stdout",
     "output_type": "stream",
     "text": [
      "0.2000 --- loss: 0.611677\n"
     ]
    },
    {
     "name": "stderr",
     "output_type": "stream",
     "text": [
      "[***********************************                                     ] 49% "
     ]
    },
    {
     "name": "stdout",
     "output_type": "stream",
     "text": [
      "0.4000 --- loss: 0.546447\n"
     ]
    },
    {
     "name": "stderr",
     "output_type": "stream",
     "text": [
      "[**************************************************                      ] 69% "
     ]
    },
    {
     "name": "stdout",
     "output_type": "stream",
     "text": [
      "0.6000 --- loss: 0.549944\n"
     ]
    },
    {
     "name": "stderr",
     "output_type": "stream",
     "text": [
      "[***************************************************************         ] 87% "
     ]
    },
    {
     "name": "stdout",
     "output_type": "stream",
     "text": [
      "0.8000 --- loss: 0.554298\n"
     ]
    },
    {
     "name": "stderr",
     "output_type": "stream",
     "text": [
      "[                                                                        ]N/A% "
     ]
    },
    {
     "name": "stdout",
     "output_type": "stream",
     "text": [
      "Epoch finished ! Loss: 0.5327873826026917\n",
      "Validation Cross-Entropy Coeff: 0.521824061870575\n",
      "Checkpoint 70 saved !\n",
      "Starting epoch 71/100.\n",
      "0.0000 --- loss: 0.527529\n"
     ]
    },
    {
     "name": "stderr",
     "output_type": "stream",
     "text": [
      "[********************                                                    ] 28% "
     ]
    },
    {
     "name": "stdout",
     "output_type": "stream",
     "text": [
      "0.2000 --- loss: 0.466141\n"
     ]
    },
    {
     "name": "stderr",
     "output_type": "stream",
     "text": [
      "[*************************************                                   ] 51% "
     ]
    },
    {
     "name": "stdout",
     "output_type": "stream",
     "text": [
      "0.4000 --- loss: 0.568798\n"
     ]
    },
    {
     "name": "stderr",
     "output_type": "stream",
     "text": [
      "[***************************************************                     ] 71% "
     ]
    },
    {
     "name": "stdout",
     "output_type": "stream",
     "text": [
      "0.6000 --- loss: 0.517729\n"
     ]
    },
    {
     "name": "stderr",
     "output_type": "stream",
     "text": [
      "[****************************************************************        ] 89% "
     ]
    },
    {
     "name": "stdout",
     "output_type": "stream",
     "text": [
      "0.8000 --- loss: 0.470914\n"
     ]
    },
    {
     "name": "stderr",
     "output_type": "stream",
     "text": [
      "[                                                                        ]N/A% "
     ]
    },
    {
     "name": "stdout",
     "output_type": "stream",
     "text": [
      "Epoch finished ! Loss: 0.5287348031997681\n",
      "Validation Cross-Entropy Coeff: 0.5174845457077026\n",
      "Checkpoint 71 saved !\n",
      "Starting epoch 72/100.\n",
      "0.0000 --- loss: 0.559882\n"
     ]
    },
    {
     "name": "stderr",
     "output_type": "stream",
     "text": [
      "[**********************                                                  ] 31% "
     ]
    },
    {
     "name": "stdout",
     "output_type": "stream",
     "text": [
      "0.2000 --- loss: 0.498524\n"
     ]
    },
    {
     "name": "stderr",
     "output_type": "stream",
     "text": [
      "[*************************************                                   ] 51% "
     ]
    },
    {
     "name": "stdout",
     "output_type": "stream",
     "text": [
      "0.4000 --- loss: 0.412196\n"
     ]
    },
    {
     "name": "stderr",
     "output_type": "stream",
     "text": [
      "[**************************************************                      ] 69% "
     ]
    },
    {
     "name": "stdout",
     "output_type": "stream",
     "text": [
      "0.6000 --- loss: 0.589709\n"
     ]
    },
    {
     "name": "stderr",
     "output_type": "stream",
     "text": [
      "[******************************************************************      ] 91% "
     ]
    },
    {
     "name": "stdout",
     "output_type": "stream",
     "text": [
      "0.8000 --- loss: 0.570723\n"
     ]
    },
    {
     "name": "stderr",
     "output_type": "stream",
     "text": [
      "[                                                                        ]N/A% "
     ]
    },
    {
     "name": "stdout",
     "output_type": "stream",
     "text": [
      "Epoch finished ! Loss: 0.5256088376045227\n",
      "Validation Cross-Entropy Coeff: 0.5389797687530518\n",
      "Checkpoint 72 saved !\n",
      "Starting epoch 73/100.\n",
      "0.0000 --- loss: 0.424611\n"
     ]
    },
    {
     "name": "stderr",
     "output_type": "stream",
     "text": [
      "[*********************                                                   ] 29% "
     ]
    },
    {
     "name": "stdout",
     "output_type": "stream",
     "text": [
      "0.2000 --- loss: 0.416830\n"
     ]
    },
    {
     "name": "stderr",
     "output_type": "stream",
     "text": [
      "[*************************************                                   ] 51% "
     ]
    },
    {
     "name": "stdout",
     "output_type": "stream",
     "text": [
      "0.4000 --- loss: 0.631579\n"
     ]
    },
    {
     "name": "stderr",
     "output_type": "stream",
     "text": [
      "[***************************************************                     ] 71% "
     ]
    },
    {
     "name": "stdout",
     "output_type": "stream",
     "text": [
      "0.6000 --- loss: 0.500142\n"
     ]
    },
    {
     "name": "stderr",
     "output_type": "stream",
     "text": [
      "[******************************************************************      ] 91% "
     ]
    },
    {
     "name": "stdout",
     "output_type": "stream",
     "text": [
      "0.8000 --- loss: 0.590034\n"
     ]
    },
    {
     "name": "stderr",
     "output_type": "stream",
     "text": [
      "[                                                                        ]N/A% "
     ]
    },
    {
     "name": "stdout",
     "output_type": "stream",
     "text": [
      "Epoch finished ! Loss: 0.5280885696411133\n",
      "Validation Cross-Entropy Coeff: 0.5172070264816284\n",
      "Checkpoint 73 saved !\n",
      "Starting epoch 74/100.\n",
      "0.0000 --- loss: 0.538579"
     ]
    },
    {
     "name": "stderr",
     "output_type": "stream",
     "text": [
      "[********                                                                ] 11% "
     ]
    },
    {
     "name": "stdout",
     "output_type": "stream",
     "text": [
      "\n"
     ]
    },
    {
     "name": "stderr",
     "output_type": "stream",
     "text": [
      "[**********************                                                  ] 31% "
     ]
    },
    {
     "name": "stdout",
     "output_type": "stream",
     "text": [
      "0.2000 --- loss: 0.564035\n"
     ]
    },
    {
     "name": "stderr",
     "output_type": "stream",
     "text": [
      "[*************************************                                   ] 51% "
     ]
    },
    {
     "name": "stdout",
     "output_type": "stream",
     "text": [
      "0.4000 --- loss: 0.522274\n"
     ]
    },
    {
     "name": "stderr",
     "output_type": "stream",
     "text": [
      "[***************************************************                     ] 71% "
     ]
    },
    {
     "name": "stdout",
     "output_type": "stream",
     "text": [
      "0.6000 --- loss: 0.495564\n"
     ]
    },
    {
     "name": "stderr",
     "output_type": "stream",
     "text": [
      "[**************************************************************          ] 86% "
     ]
    },
    {
     "name": "stdout",
     "output_type": "stream",
     "text": [
      "0.8000 --- loss: 0.496716\n"
     ]
    },
    {
     "name": "stderr",
     "output_type": "stream",
     "text": [
      "[                                                                        ]N/A% "
     ]
    },
    {
     "name": "stdout",
     "output_type": "stream",
     "text": [
      "Epoch finished ! Loss: 0.5244061350822449\n",
      "Validation Cross-Entropy Coeff: 0.5116888284683228\n",
      "Checkpoint 74 saved !\n",
      "Starting epoch 75/100.\n",
      "0.0000 --- loss: 0.606489"
     ]
    },
    {
     "name": "stderr",
     "output_type": "stream",
     "text": [
      "[********                                                                ] 12% "
     ]
    },
    {
     "name": "stdout",
     "output_type": "stream",
     "text": [
      "\n"
     ]
    },
    {
     "name": "stderr",
     "output_type": "stream",
     "text": [
      "[**********************                                                  ] 31% "
     ]
    },
    {
     "name": "stdout",
     "output_type": "stream",
     "text": [
      "0.2000 --- loss: 0.603538\n"
     ]
    },
    {
     "name": "stderr",
     "output_type": "stream",
     "text": [
      "[*************************************                                   ] 51% "
     ]
    },
    {
     "name": "stdout",
     "output_type": "stream",
     "text": [
      "0.4000 --- loss: 0.571611\n"
     ]
    },
    {
     "name": "stderr",
     "output_type": "stream",
     "text": [
      "[**************************************************                      ] 69% "
     ]
    },
    {
     "name": "stdout",
     "output_type": "stream",
     "text": [
      "0.6000 --- loss: 0.671855\n"
     ]
    },
    {
     "name": "stderr",
     "output_type": "stream",
     "text": [
      "[******************************************************************      ] 91% "
     ]
    },
    {
     "name": "stdout",
     "output_type": "stream",
     "text": [
      "0.8000 --- loss: 0.500053\n"
     ]
    },
    {
     "name": "stderr",
     "output_type": "stream",
     "text": [
      "[                                                                        ]N/A% "
     ]
    },
    {
     "name": "stdout",
     "output_type": "stream",
     "text": [
      "Epoch finished ! Loss: 0.5282149314880371\n",
      "Validation Cross-Entropy Coeff: 0.5327372550964355\n",
      "Checkpoint 75 saved !\n",
      "Starting epoch 76/100.\n",
      "0.0000 --- loss: 0.618170"
     ]
    },
    {
     "name": "stderr",
     "output_type": "stream",
     "text": [
      "[********                                                                ] 11% "
     ]
    },
    {
     "name": "stdout",
     "output_type": "stream",
     "text": [
      "\n"
     ]
    },
    {
     "name": "stderr",
     "output_type": "stream",
     "text": [
      "[**********************                                                  ] 31% "
     ]
    },
    {
     "name": "stdout",
     "output_type": "stream",
     "text": [
      "0.2000 --- loss: 0.562302\n"
     ]
    },
    {
     "name": "stderr",
     "output_type": "stream",
     "text": [
      "[***********************************                                     ] 49% "
     ]
    },
    {
     "name": "stdout",
     "output_type": "stream",
     "text": [
      "0.4000 --- loss: 0.477096\n"
     ]
    },
    {
     "name": "stderr",
     "output_type": "stream",
     "text": [
      "[***************************************************                     ] 71% "
     ]
    },
    {
     "name": "stdout",
     "output_type": "stream",
     "text": [
      "0.6000 --- loss: 0.461809\n"
     ]
    },
    {
     "name": "stderr",
     "output_type": "stream",
     "text": [
      "[****************************************************************        ] 88% "
     ]
    },
    {
     "name": "stdout",
     "output_type": "stream",
     "text": [
      "0.8000 --- loss: 0.552665\n"
     ]
    },
    {
     "name": "stderr",
     "output_type": "stream",
     "text": [
      "[                                                                        ]N/A% "
     ]
    },
    {
     "name": "stdout",
     "output_type": "stream",
     "text": [
      "Epoch finished ! Loss: 0.5264583826065063\n",
      "Validation Cross-Entropy Coeff: 0.510467529296875\n",
      "Checkpoint 76 saved !\n",
      "Starting epoch 77/100.\n",
      "0.0000 --- loss: 0.464324\n"
     ]
    },
    {
     "name": "stderr",
     "output_type": "stream",
     "text": [
      "[**********************                                                  ] 31% "
     ]
    },
    {
     "name": "stdout",
     "output_type": "stream",
     "text": [
      "0.2000 --- loss: 0.481649\n"
     ]
    },
    {
     "name": "stderr",
     "output_type": "stream",
     "text": [
      "[*************************************                                   ] 51% "
     ]
    },
    {
     "name": "stdout",
     "output_type": "stream",
     "text": [
      "0.4000 --- loss: 0.530402\n"
     ]
    },
    {
     "name": "stderr",
     "output_type": "stream",
     "text": [
      "[***************************************************                     ] 71% "
     ]
    },
    {
     "name": "stdout",
     "output_type": "stream",
     "text": [
      "0.6000 --- loss: 0.691197\n"
     ]
    },
    {
     "name": "stderr",
     "output_type": "stream",
     "text": [
      "[******************************************************************      ] 91% "
     ]
    },
    {
     "name": "stdout",
     "output_type": "stream",
     "text": [
      "0.8000 --- loss: 0.517894\n"
     ]
    },
    {
     "name": "stderr",
     "output_type": "stream",
     "text": [
      "[                                                                        ]N/A% "
     ]
    },
    {
     "name": "stdout",
     "output_type": "stream",
     "text": [
      "Epoch finished ! Loss: 0.5242682695388794\n",
      "Validation Cross-Entropy Coeff: 0.5210860967636108\n",
      "Checkpoint 77 saved !\n",
      "Starting epoch 78/100.\n",
      "0.0000 --- loss: 0.609621\n"
     ]
    },
    {
     "name": "stderr",
     "output_type": "stream",
     "text": [
      "[**********************                                                  ] 31% "
     ]
    },
    {
     "name": "stdout",
     "output_type": "stream",
     "text": [
      "0.2000 --- loss: 0.510046\n"
     ]
    },
    {
     "name": "stderr",
     "output_type": "stream",
     "text": [
      "[*************************************                                   ] 51% "
     ]
    },
    {
     "name": "stdout",
     "output_type": "stream",
     "text": [
      "0.4000 --- loss: 0.487478\n"
     ]
    },
    {
     "name": "stderr",
     "output_type": "stream",
     "text": [
      "[***************************************************                     ] 71% "
     ]
    },
    {
     "name": "stdout",
     "output_type": "stream",
     "text": [
      "0.6000 --- loss: 0.601592\n"
     ]
    },
    {
     "name": "stderr",
     "output_type": "stream",
     "text": [
      "[******************************************************************      ] 91% "
     ]
    },
    {
     "name": "stdout",
     "output_type": "stream",
     "text": [
      "0.8000 --- loss: 0.599520\n"
     ]
    },
    {
     "name": "stderr",
     "output_type": "stream",
     "text": [
      "[*********************************************************************   ] 95% "
     ]
    },
    {
     "name": "stdout",
     "output_type": "stream",
     "text": [
      "Epoch finished ! Loss: 0.5230834484100342\n",
      "Validation Cross-Entropy Coeff: 0.527087926864624\n",
      "Checkpoint 78 saved !"
     ]
    },
    {
     "name": "stderr",
     "output_type": "stream",
     "text": [
      "[******                                                                  ]  9% "
     ]
    },
    {
     "name": "stdout",
     "output_type": "stream",
     "text": [
      "\n",
      "Starting epoch 79/100.\n",
      "0.0000 --- loss: 0.555654\n"
     ]
    },
    {
     "name": "stderr",
     "output_type": "stream",
     "text": [
      "[*********************                                                   ] 29% "
     ]
    },
    {
     "name": "stdout",
     "output_type": "stream",
     "text": [
      "0.2000 --- loss: 0.678040\n"
     ]
    },
    {
     "name": "stderr",
     "output_type": "stream",
     "text": [
      "[*************************************                                   ] 51% "
     ]
    },
    {
     "name": "stdout",
     "output_type": "stream",
     "text": [
      "0.4000 --- loss: 0.499034\n"
     ]
    },
    {
     "name": "stderr",
     "output_type": "stream",
     "text": [
      "[***************************************************                     ] 71% "
     ]
    },
    {
     "name": "stdout",
     "output_type": "stream",
     "text": [
      "0.6000 --- loss: 0.601627\n"
     ]
    },
    {
     "name": "stderr",
     "output_type": "stream",
     "text": [
      "[******************************************************************      ] 91% "
     ]
    },
    {
     "name": "stdout",
     "output_type": "stream",
     "text": [
      "0.8000 --- loss: 0.513578\n"
     ]
    },
    {
     "name": "stderr",
     "output_type": "stream",
     "text": [
      "[                                                                        ]N/A% "
     ]
    },
    {
     "name": "stdout",
     "output_type": "stream",
     "text": [
      "Epoch finished ! Loss: 0.5238096714019775\n",
      "Validation Cross-Entropy Coeff: 0.5331230759620667\n",
      "Checkpoint 79 saved !\n",
      "Starting epoch 80/100.\n",
      "0.0000 --- loss: 0.514036\n"
     ]
    },
    {
     "name": "stderr",
     "output_type": "stream",
     "text": [
      "[**********************                                                  ] 31% "
     ]
    },
    {
     "name": "stdout",
     "output_type": "stream",
     "text": [
      "0.2000 --- loss: 0.540249\n"
     ]
    },
    {
     "name": "stderr",
     "output_type": "stream",
     "text": [
      "[*************************************                                   ] 51% "
     ]
    },
    {
     "name": "stdout",
     "output_type": "stream",
     "text": [
      "0.4000 --- loss: 0.602055\n"
     ]
    },
    {
     "name": "stderr",
     "output_type": "stream",
     "text": [
      "[**************************************************                      ] 69% "
     ]
    },
    {
     "name": "stdout",
     "output_type": "stream",
     "text": [
      "0.6000 --- loss: 0.556653\n"
     ]
    },
    {
     "name": "stderr",
     "output_type": "stream",
     "text": [
      "[******************************************************************      ] 91% "
     ]
    },
    {
     "name": "stdout",
     "output_type": "stream",
     "text": [
      "0.8000 --- loss: 0.478998\n"
     ]
    },
    {
     "name": "stderr",
     "output_type": "stream",
     "text": [
      "[                                                                        ]N/A% "
     ]
    },
    {
     "name": "stdout",
     "output_type": "stream",
     "text": [
      "Epoch finished ! Loss: 0.5259599685668945\n",
      "Validation Cross-Entropy Coeff: 0.5118260383605957\n",
      "Checkpoint 80 saved !\n",
      "Starting epoch 81/100.\n",
      "0.0000 --- loss: 0.486574\n"
     ]
    },
    {
     "name": "stderr",
     "output_type": "stream",
     "text": [
      "[**********************                                                  ] 31% "
     ]
    },
    {
     "name": "stdout",
     "output_type": "stream",
     "text": [
      "0.2000 --- loss: 0.546236\n"
     ]
    },
    {
     "name": "stderr",
     "output_type": "stream",
     "text": [
      "[*************************************                                   ] 51% "
     ]
    },
    {
     "name": "stdout",
     "output_type": "stream",
     "text": [
      "0.4000 --- loss: 0.538333\n"
     ]
    },
    {
     "name": "stderr",
     "output_type": "stream",
     "text": [
      "[***************************************************                     ] 71% "
     ]
    },
    {
     "name": "stdout",
     "output_type": "stream",
     "text": [
      "0.6000 --- loss: 0.481312\n"
     ]
    },
    {
     "name": "stderr",
     "output_type": "stream",
     "text": [
      "[******************************************************************      ] 91% "
     ]
    },
    {
     "name": "stdout",
     "output_type": "stream",
     "text": [
      "0.8000 --- loss: 0.473821\n"
     ]
    },
    {
     "name": "stderr",
     "output_type": "stream",
     "text": [
      "[                                                                        ]N/A% "
     ]
    },
    {
     "name": "stdout",
     "output_type": "stream",
     "text": [
      "Epoch finished ! Loss: 0.5260813236236572\n",
      "Validation Cross-Entropy Coeff: 0.5158799886703491\n",
      "Checkpoint 81 saved !\n",
      "Starting epoch 82/100.\n",
      "0.0000 --- loss: 0.590713\n"
     ]
    },
    {
     "name": "stderr",
     "output_type": "stream",
     "text": [
      "[*********************                                                   ] 29% "
     ]
    },
    {
     "name": "stdout",
     "output_type": "stream",
     "text": [
      "0.2000 --- loss: 0.514298\n"
     ]
    },
    {
     "name": "stderr",
     "output_type": "stream",
     "text": [
      "[*************************************                                   ] 51% "
     ]
    },
    {
     "name": "stdout",
     "output_type": "stream",
     "text": [
      "0.4000 --- loss: 0.459632\n"
     ]
    },
    {
     "name": "stderr",
     "output_type": "stream",
     "text": [
      "[***************************************************                     ] 71% "
     ]
    },
    {
     "name": "stdout",
     "output_type": "stream",
     "text": [
      "0.6000 --- loss: 0.411324\n"
     ]
    },
    {
     "name": "stderr",
     "output_type": "stream",
     "text": [
      "[******************************************************************      ] 91% "
     ]
    },
    {
     "name": "stdout",
     "output_type": "stream",
     "text": [
      "0.8000 --- loss: 0.568729\n"
     ]
    },
    {
     "name": "stderr",
     "output_type": "stream",
     "text": [
      "[                                                                        ]N/A% "
     ]
    },
    {
     "name": "stdout",
     "output_type": "stream",
     "text": [
      "Epoch finished ! Loss: 0.5197470784187317\n",
      "Validation Cross-Entropy Coeff: 0.5463629364967346\n",
      "Checkpoint 82 saved !\n",
      "Starting epoch 83/100.\n",
      "0.0000 --- loss: 0.506186\n"
     ]
    },
    {
     "name": "stderr",
     "output_type": "stream",
     "text": [
      "[**********************                                                  ] 31% "
     ]
    },
    {
     "name": "stdout",
     "output_type": "stream",
     "text": [
      "0.2000 --- loss: 0.479418\n"
     ]
    },
    {
     "name": "stderr",
     "output_type": "stream",
     "text": [
      "[*************************************                                   ] 51% "
     ]
    },
    {
     "name": "stdout",
     "output_type": "stream",
     "text": [
      "0.4000 --- loss: 0.576456\n"
     ]
    },
    {
     "name": "stderr",
     "output_type": "stream",
     "text": [
      "[***************************************************                     ] 71% "
     ]
    },
    {
     "name": "stdout",
     "output_type": "stream",
     "text": [
      "0.6000 --- loss: 0.549757\n"
     ]
    },
    {
     "name": "stderr",
     "output_type": "stream",
     "text": [
      "[******************************************************************      ] 91% "
     ]
    },
    {
     "name": "stdout",
     "output_type": "stream",
     "text": [
      "0.8000 --- loss: 0.382792\n"
     ]
    },
    {
     "name": "stderr",
     "output_type": "stream",
     "text": [
      "[                                                                        ]N/A% "
     ]
    },
    {
     "name": "stdout",
     "output_type": "stream",
     "text": [
      "Epoch finished ! Loss: 0.5196577906608582\n",
      "Validation Cross-Entropy Coeff: 0.5114436745643616\n",
      "Checkpoint 83 saved !\n",
      "Starting epoch 84/100.\n",
      "0.0000 --- loss: 0.446663\n"
     ]
    },
    {
     "name": "stderr",
     "output_type": "stream",
     "text": [
      "[**********************                                                  ] 31% "
     ]
    },
    {
     "name": "stdout",
     "output_type": "stream",
     "text": [
      "0.2000 --- loss: 0.421254\n"
     ]
    },
    {
     "name": "stderr",
     "output_type": "stream",
     "text": [
      "[*************************************                                   ] 51% "
     ]
    },
    {
     "name": "stdout",
     "output_type": "stream",
     "text": [
      "0.4000 --- loss: 0.530736\n"
     ]
    },
    {
     "name": "stderr",
     "output_type": "stream",
     "text": [
      "[***************************************************                     ] 71% "
     ]
    },
    {
     "name": "stdout",
     "output_type": "stream",
     "text": [
      "0.6000 --- loss: 0.478549\n"
     ]
    },
    {
     "name": "stderr",
     "output_type": "stream",
     "text": [
      "[****************************************************************        ] 89% "
     ]
    },
    {
     "name": "stdout",
     "output_type": "stream",
     "text": [
      "0.8000 --- loss: 0.498055\n"
     ]
    },
    {
     "name": "stderr",
     "output_type": "stream",
     "text": [
      "[                                                                        ]N/A% "
     ]
    },
    {
     "name": "stdout",
     "output_type": "stream",
     "text": [
      "Epoch finished ! Loss: 0.5176109671592712\n",
      "Validation Cross-Entropy Coeff: 0.5121304988861084\n",
      "Checkpoint 84 saved !\n",
      "Starting epoch 85/100.\n",
      "0.0000 --- loss: 0.532171\n"
     ]
    },
    {
     "name": "stderr",
     "output_type": "stream",
     "text": [
      "[***********************                                                 ] 32% "
     ]
    },
    {
     "name": "stdout",
     "output_type": "stream",
     "text": [
      "0.2000 --- loss: 0.442113\n"
     ]
    },
    {
     "name": "stderr",
     "output_type": "stream",
     "text": [
      "[*************************************                                   ] 51% "
     ]
    },
    {
     "name": "stdout",
     "output_type": "stream",
     "text": [
      "0.4000 --- loss: 0.523004\n"
     ]
    },
    {
     "name": "stderr",
     "output_type": "stream",
     "text": [
      "[***************************************************                     ] 71% "
     ]
    },
    {
     "name": "stdout",
     "output_type": "stream",
     "text": [
      "0.6000 --- loss: 0.476657\n"
     ]
    },
    {
     "name": "stderr",
     "output_type": "stream",
     "text": [
      "[**************************************************************          ] 86% "
     ]
    },
    {
     "name": "stdout",
     "output_type": "stream",
     "text": [
      "0.8000 --- loss: 0.507045\n"
     ]
    },
    {
     "name": "stderr",
     "output_type": "stream",
     "text": [
      "[                                                                        ]N/A% "
     ]
    },
    {
     "name": "stdout",
     "output_type": "stream",
     "text": [
      "Epoch finished ! Loss: 0.5167769193649292\n",
      "Validation Cross-Entropy Coeff: 0.5652870535850525\n",
      "Checkpoint 85 saved !\n",
      "Starting epoch 86/100.\n",
      "0.0000 --- loss: 0.518123\n"
     ]
    },
    {
     "name": "stderr",
     "output_type": "stream",
     "text": [
      "[**********************                                                  ] 31% "
     ]
    },
    {
     "name": "stdout",
     "output_type": "stream",
     "text": [
      "0.2000 --- loss: 0.569286\n"
     ]
    },
    {
     "name": "stderr",
     "output_type": "stream",
     "text": [
      "[*************************************                                   ] 51% "
     ]
    },
    {
     "name": "stdout",
     "output_type": "stream",
     "text": [
      "0.4000 --- loss: 0.500984\n"
     ]
    },
    {
     "name": "stderr",
     "output_type": "stream",
     "text": [
      "[***************************************************                     ] 71% "
     ]
    },
    {
     "name": "stdout",
     "output_type": "stream",
     "text": [
      "0.6000 --- loss: 0.554957\n"
     ]
    },
    {
     "name": "stderr",
     "output_type": "stream",
     "text": [
      "[******************************************************************      ] 91% "
     ]
    },
    {
     "name": "stdout",
     "output_type": "stream",
     "text": [
      "0.8000 --- loss: 0.583765\n"
     ]
    },
    {
     "name": "stderr",
     "output_type": "stream",
     "text": [
      "[                                                                        ]N/A% "
     ]
    },
    {
     "name": "stdout",
     "output_type": "stream",
     "text": [
      "Epoch finished ! Loss: 0.5193665027618408\n",
      "Validation Cross-Entropy Coeff: 0.5125952959060669\n",
      "Checkpoint 86 saved !\n",
      "Starting epoch 87/100.\n",
      "0.0000 --- loss: 0.502341\n"
     ]
    },
    {
     "name": "stderr",
     "output_type": "stream",
     "text": [
      "[**********************                                                  ] 31% "
     ]
    },
    {
     "name": "stdout",
     "output_type": "stream",
     "text": [
      "0.2000 --- loss: 0.487212\n"
     ]
    },
    {
     "name": "stderr",
     "output_type": "stream",
     "text": [
      "[*************************************                                   ] 51% "
     ]
    },
    {
     "name": "stdout",
     "output_type": "stream",
     "text": [
      "0.4000 --- loss: 0.488273\n"
     ]
    },
    {
     "name": "stderr",
     "output_type": "stream",
     "text": [
      "[**************************************************                      ] 69% "
     ]
    },
    {
     "name": "stdout",
     "output_type": "stream",
     "text": [
      "0.6000 --- loss: 0.558072\n"
     ]
    },
    {
     "name": "stderr",
     "output_type": "stream",
     "text": [
      "[******************************************************************      ] 91% "
     ]
    },
    {
     "name": "stdout",
     "output_type": "stream",
     "text": [
      "0.8000 --- loss: 0.583399\n"
     ]
    },
    {
     "name": "stderr",
     "output_type": "stream",
     "text": [
      "[                                                                        ]N/A% "
     ]
    },
    {
     "name": "stdout",
     "output_type": "stream",
     "text": [
      "Epoch finished ! Loss: 0.5196087956428528\n",
      "Validation Cross-Entropy Coeff: 0.5138872265815735\n",
      "Checkpoint 87 saved !\n",
      "Starting epoch 88/100.\n",
      "0.0000 --- loss: 0.563338\n"
     ]
    },
    {
     "name": "stderr",
     "output_type": "stream",
     "text": [
      "[********************                                                    ] 28% "
     ]
    },
    {
     "name": "stdout",
     "output_type": "stream",
     "text": [
      "0.2000 --- loss: 0.503423\n"
     ]
    },
    {
     "name": "stderr",
     "output_type": "stream",
     "text": [
      "[**********************************                                      ] 48% "
     ]
    },
    {
     "name": "stdout",
     "output_type": "stream",
     "text": [
      "0.4000 --- loss: 0.482203\n"
     ]
    },
    {
     "name": "stderr",
     "output_type": "stream",
     "text": [
      "[***************************************************                     ] 71% "
     ]
    },
    {
     "name": "stdout",
     "output_type": "stream",
     "text": [
      "0.6000 --- loss: 0.455600\n"
     ]
    },
    {
     "name": "stderr",
     "output_type": "stream",
     "text": [
      "[****************************************************************        ] 88% "
     ]
    },
    {
     "name": "stdout",
     "output_type": "stream",
     "text": [
      "0.8000 --- loss: 0.566736\n"
     ]
    },
    {
     "name": "stderr",
     "output_type": "stream",
     "text": [
      "[                                                                        ]N/A% "
     ]
    },
    {
     "name": "stdout",
     "output_type": "stream",
     "text": [
      "Epoch finished ! Loss: 0.5204278826713562\n",
      "Validation Cross-Entropy Coeff: 0.5253632664680481\n",
      "Checkpoint 88 saved !\n",
      "Starting epoch 89/100.\n",
      "0.0000 --- loss: 0.530345\n"
     ]
    },
    {
     "name": "stderr",
     "output_type": "stream",
     "text": [
      "[**********************                                                  ] 31% "
     ]
    },
    {
     "name": "stdout",
     "output_type": "stream",
     "text": [
      "0.2000 --- loss: 0.392470\n"
     ]
    },
    {
     "name": "stderr",
     "output_type": "stream",
     "text": [
      "[*************************************                                   ] 51% "
     ]
    },
    {
     "name": "stdout",
     "output_type": "stream",
     "text": [
      "0.4000 --- loss: 0.539401\n"
     ]
    },
    {
     "name": "stderr",
     "output_type": "stream",
     "text": [
      "[**************************************************                      ] 69% "
     ]
    },
    {
     "name": "stdout",
     "output_type": "stream",
     "text": [
      "0.6000 --- loss: 0.442952\n"
     ]
    },
    {
     "name": "stderr",
     "output_type": "stream",
     "text": [
      "[****************************************************************        ] 89% "
     ]
    },
    {
     "name": "stdout",
     "output_type": "stream",
     "text": [
      "0.8000 --- loss: 0.528769\n"
     ]
    },
    {
     "name": "stderr",
     "output_type": "stream",
     "text": [
      "[***************************************************************         ] 87% "
     ]
    },
    {
     "name": "stdout",
     "output_type": "stream",
     "text": [
      "Epoch finished ! Loss: 0.517809271812439\n",
      "Validation Cross-Entropy Coeff: 0.5362580418586731"
     ]
    },
    {
     "name": "stderr",
     "output_type": "stream",
     "text": [
      "                                                                               \r"
     ]
    },
    {
     "name": "stdout",
     "output_type": "stream",
     "text": [
      "\n",
      "Checkpoint 89 saved !\n",
      "Starting epoch 90/100.\n",
      "0.0000 --- loss: 0.480819\n"
     ]
    },
    {
     "name": "stderr",
     "output_type": "stream",
     "text": [
      "[********************                                                    ] 28% "
     ]
    },
    {
     "name": "stdout",
     "output_type": "stream",
     "text": [
      "0.2000 --- loss: 0.651706\n"
     ]
    },
    {
     "name": "stderr",
     "output_type": "stream",
     "text": [
      "[**********************************                                      ] 47% "
     ]
    },
    {
     "name": "stdout",
     "output_type": "stream",
     "text": [
      "0.4000 --- loss: 0.486028\n"
     ]
    },
    {
     "name": "stderr",
     "output_type": "stream",
     "text": [
      "[************************************************                        ] 67% "
     ]
    },
    {
     "name": "stdout",
     "output_type": "stream",
     "text": [
      "0.6000 --- loss: 0.470075\n"
     ]
    },
    {
     "name": "stderr",
     "output_type": "stream",
     "text": [
      "[******************************************************************      ] 91% "
     ]
    },
    {
     "name": "stdout",
     "output_type": "stream",
     "text": [
      "0.8000 --- loss: 0.560873\n"
     ]
    },
    {
     "name": "stderr",
     "output_type": "stream",
     "text": [
      "[                                                                        ]N/A% "
     ]
    },
    {
     "name": "stdout",
     "output_type": "stream",
     "text": [
      "Epoch finished ! Loss: 0.5205641984939575\n",
      "Validation Cross-Entropy Coeff: 0.5178220272064209\n",
      "Checkpoint 90 saved !\n",
      "Starting epoch 91/100.\n",
      "0.0000 --- loss: 0.560963\n"
     ]
    },
    {
     "name": "stderr",
     "output_type": "stream",
     "text": [
      "[**********************                                                  ] 31% "
     ]
    },
    {
     "name": "stdout",
     "output_type": "stream",
     "text": [
      "0.2000 --- loss: 0.509924\n"
     ]
    },
    {
     "name": "stderr",
     "output_type": "stream",
     "text": [
      "[**********************************                                      ] 48% "
     ]
    },
    {
     "name": "stdout",
     "output_type": "stream",
     "text": [
      "0.4000 --- loss: 0.525437\n"
     ]
    },
    {
     "name": "stderr",
     "output_type": "stream",
     "text": [
      "[**************************************************                      ] 69% "
     ]
    },
    {
     "name": "stdout",
     "output_type": "stream",
     "text": [
      "0.6000 --- loss: 0.579507\n"
     ]
    },
    {
     "name": "stderr",
     "output_type": "stream",
     "text": [
      "[******************************************************************      ] 91% "
     ]
    },
    {
     "name": "stdout",
     "output_type": "stream",
     "text": [
      "0.8000 --- loss: 0.509412\n"
     ]
    },
    {
     "name": "stderr",
     "output_type": "stream",
     "text": [
      "[                                                                        ]N/A% "
     ]
    },
    {
     "name": "stdout",
     "output_type": "stream",
     "text": [
      "Epoch finished ! Loss: 0.5202745199203491\n",
      "Validation Cross-Entropy Coeff: 0.5162578821182251\n",
      "Checkpoint 91 saved !\n",
      "Starting epoch 92/100.\n",
      "0.0000 --- loss: 0.561010\n"
     ]
    },
    {
     "name": "stderr",
     "output_type": "stream",
     "text": [
      "[**********************                                                  ] 31% "
     ]
    },
    {
     "name": "stdout",
     "output_type": "stream",
     "text": [
      "0.2000 --- loss: 0.487188\n"
     ]
    },
    {
     "name": "stderr",
     "output_type": "stream",
     "text": [
      "[*************************************                                   ] 51% "
     ]
    },
    {
     "name": "stdout",
     "output_type": "stream",
     "text": [
      "0.4000 --- loss: 0.586857\n"
     ]
    },
    {
     "name": "stderr",
     "output_type": "stream",
     "text": [
      "[**************************************************                      ] 69% "
     ]
    },
    {
     "name": "stdout",
     "output_type": "stream",
     "text": [
      "0.6000 --- loss: 0.514414\n"
     ]
    },
    {
     "name": "stderr",
     "output_type": "stream",
     "text": [
      "[****************************************************************        ] 89% "
     ]
    },
    {
     "name": "stdout",
     "output_type": "stream",
     "text": [
      "0.8000 --- loss: 0.478120\n"
     ]
    },
    {
     "name": "stderr",
     "output_type": "stream",
     "text": [
      "[                                                                        ]N/A% "
     ]
    },
    {
     "name": "stdout",
     "output_type": "stream",
     "text": [
      "Epoch finished ! Loss: 0.5145092010498047\n",
      "Validation Cross-Entropy Coeff: 0.5075101852416992\n",
      "Checkpoint 92 saved !\n",
      "Starting epoch 93/100.\n",
      "0.0000 --- loss: 0.488402\n"
     ]
    },
    {
     "name": "stderr",
     "output_type": "stream",
     "text": [
      "[**********************                                                  ] 31% "
     ]
    },
    {
     "name": "stdout",
     "output_type": "stream",
     "text": [
      "0.2000 --- loss: 0.435869\n"
     ]
    },
    {
     "name": "stderr",
     "output_type": "stream",
     "text": [
      "[*************************************                                   ] 51% "
     ]
    },
    {
     "name": "stdout",
     "output_type": "stream",
     "text": [
      "0.4000 --- loss: 0.443840\n"
     ]
    },
    {
     "name": "stderr",
     "output_type": "stream",
     "text": [
      "[**************************************************                      ] 69% "
     ]
    },
    {
     "name": "stdout",
     "output_type": "stream",
     "text": [
      "0.6000 --- loss: 0.595984\n"
     ]
    },
    {
     "name": "stderr",
     "output_type": "stream",
     "text": [
      "[****************************************************************        ] 88% "
     ]
    },
    {
     "name": "stdout",
     "output_type": "stream",
     "text": [
      "0.8000 --- loss: 0.482336\n"
     ]
    },
    {
     "name": "stderr",
     "output_type": "stream",
     "text": [
      "[                                                                        ]N/A% "
     ]
    },
    {
     "name": "stdout",
     "output_type": "stream",
     "text": [
      "Epoch finished ! Loss: 0.5147653222084045\n",
      "Validation Cross-Entropy Coeff: 0.5347445011138916\n",
      "Checkpoint 93 saved !\n",
      "Starting epoch 94/100.\n",
      "0.0000 --- loss: 0.416590\n"
     ]
    },
    {
     "name": "stderr",
     "output_type": "stream",
     "text": [
      "[**********************                                                  ] 31% "
     ]
    },
    {
     "name": "stdout",
     "output_type": "stream",
     "text": [
      "0.2000 --- loss: 0.525308\n"
     ]
    },
    {
     "name": "stderr",
     "output_type": "stream",
     "text": [
      "[***********************************                                     ] 49% "
     ]
    },
    {
     "name": "stdout",
     "output_type": "stream",
     "text": [
      "0.4000 --- loss: 0.502664\n"
     ]
    },
    {
     "name": "stderr",
     "output_type": "stream",
     "text": [
      "[***************************************************                     ] 71% "
     ]
    },
    {
     "name": "stdout",
     "output_type": "stream",
     "text": [
      "0.6000 --- loss: 0.574566\n"
     ]
    },
    {
     "name": "stderr",
     "output_type": "stream",
     "text": [
      "[****************************************************************        ] 89% "
     ]
    },
    {
     "name": "stdout",
     "output_type": "stream",
     "text": [
      "0.8000 --- loss: 0.561782\n"
     ]
    },
    {
     "name": "stderr",
     "output_type": "stream",
     "text": [
      "[                                                                        ]N/A% "
     ]
    },
    {
     "name": "stdout",
     "output_type": "stream",
     "text": [
      "Epoch finished ! Loss: 0.5144191980361938\n",
      "Validation Cross-Entropy Coeff: 0.5346365571022034\n",
      "Checkpoint 94 saved !\n",
      "Starting epoch 95/100.\n",
      "0.0000 --- loss: 0.497432\n"
     ]
    },
    {
     "name": "stderr",
     "output_type": "stream",
     "text": [
      "[**********************                                                  ] 31% "
     ]
    },
    {
     "name": "stdout",
     "output_type": "stream",
     "text": [
      "0.2000 --- loss: 0.500234\n"
     ]
    },
    {
     "name": "stderr",
     "output_type": "stream",
     "text": [
      "[***********************************                                     ] 49% "
     ]
    },
    {
     "name": "stdout",
     "output_type": "stream",
     "text": [
      "0.4000 --- loss: 0.513094\n"
     ]
    },
    {
     "name": "stderr",
     "output_type": "stream",
     "text": [
      "[***************************************************                     ] 71% "
     ]
    },
    {
     "name": "stdout",
     "output_type": "stream",
     "text": [
      "0.6000 --- loss: 0.550494\n"
     ]
    },
    {
     "name": "stderr",
     "output_type": "stream",
     "text": [
      "[******************************************************************      ] 91% "
     ]
    },
    {
     "name": "stdout",
     "output_type": "stream",
     "text": [
      "0.8000 --- loss: 0.463617\n"
     ]
    },
    {
     "name": "stderr",
     "output_type": "stream",
     "text": [
      "[                                                                        ]N/A% "
     ]
    },
    {
     "name": "stdout",
     "output_type": "stream",
     "text": [
      "Epoch finished ! Loss: 0.5178831219673157\n",
      "Validation Cross-Entropy Coeff: 0.5216270685195923\n",
      "Checkpoint 95 saved !\n",
      "Starting epoch 96/100.\n",
      "0.0000 --- loss: 0.472528\n"
     ]
    },
    {
     "name": "stderr",
     "output_type": "stream",
     "text": [
      "[**********************                                                  ] 31% "
     ]
    },
    {
     "name": "stdout",
     "output_type": "stream",
     "text": [
      "0.2000 --- loss: 0.464269\n"
     ]
    },
    {
     "name": "stderr",
     "output_type": "stream",
     "text": [
      "[*************************************                                   ] 51% "
     ]
    },
    {
     "name": "stdout",
     "output_type": "stream",
     "text": [
      "0.4000 --- loss: 0.505079\n"
     ]
    },
    {
     "name": "stderr",
     "output_type": "stream",
     "text": [
      "[****************************************************                    ] 72% "
     ]
    },
    {
     "name": "stdout",
     "output_type": "stream",
     "text": [
      "0.6000 --- loss: 0.589357\n"
     ]
    },
    {
     "name": "stderr",
     "output_type": "stream",
     "text": [
      "[****************************************************************        ] 89% "
     ]
    },
    {
     "name": "stdout",
     "output_type": "stream",
     "text": [
      "0.8000 --- loss: 0.472388\n"
     ]
    },
    {
     "name": "stderr",
     "output_type": "stream",
     "text": [
      "[                                                                        ]N/A% "
     ]
    },
    {
     "name": "stdout",
     "output_type": "stream",
     "text": [
      "Epoch finished ! Loss: 0.5122359395027161\n",
      "Validation Cross-Entropy Coeff: 0.5394807457923889\n",
      "Checkpoint 96 saved !\n",
      "Starting epoch 97/100.\n",
      "0.0000 --- loss: 0.560902\n"
     ]
    },
    {
     "name": "stderr",
     "output_type": "stream",
     "text": [
      "[********************                                                    ] 28% "
     ]
    },
    {
     "name": "stdout",
     "output_type": "stream",
     "text": [
      "0.2000 --- loss: 0.571502\n"
     ]
    },
    {
     "name": "stderr",
     "output_type": "stream",
     "text": [
      "[*************************************                                   ] 51% "
     ]
    },
    {
     "name": "stdout",
     "output_type": "stream",
     "text": [
      "0.4000 --- loss: 0.500686\n"
     ]
    },
    {
     "name": "stderr",
     "output_type": "stream",
     "text": [
      "[***************************************************                     ] 71% "
     ]
    },
    {
     "name": "stdout",
     "output_type": "stream",
     "text": [
      "0.6000 --- loss: 0.501786\n"
     ]
    },
    {
     "name": "stderr",
     "output_type": "stream",
     "text": [
      "[****************************************************************        ] 88% "
     ]
    },
    {
     "name": "stdout",
     "output_type": "stream",
     "text": [
      "0.8000 --- loss: 0.439924\n"
     ]
    },
    {
     "name": "stderr",
     "output_type": "stream",
     "text": [
      "[                                                                        ]N/A% "
     ]
    },
    {
     "name": "stdout",
     "output_type": "stream",
     "text": [
      "Epoch finished ! Loss: 0.5108485221862793\n",
      "Validation Cross-Entropy Coeff: 0.5232247114181519\n",
      "Checkpoint 97 saved !\n",
      "Starting epoch 98/100.\n",
      "0.0000 --- loss: 0.421463\n"
     ]
    },
    {
     "name": "stderr",
     "output_type": "stream",
     "text": [
      "[********************                                                    ] 28% "
     ]
    },
    {
     "name": "stdout",
     "output_type": "stream",
     "text": [
      "0.2000 --- loss: 0.478815\n"
     ]
    },
    {
     "name": "stderr",
     "output_type": "stream",
     "text": [
      "[*************************************                                   ] 51% "
     ]
    },
    {
     "name": "stdout",
     "output_type": "stream",
     "text": [
      "0.4000 --- loss: 0.411703\n"
     ]
    },
    {
     "name": "stderr",
     "output_type": "stream",
     "text": [
      "[***************************************************                     ] 71% "
     ]
    },
    {
     "name": "stdout",
     "output_type": "stream",
     "text": [
      "0.6000 --- loss: 0.541848\n"
     ]
    },
    {
     "name": "stderr",
     "output_type": "stream",
     "text": [
      "[******************************************************************      ] 91% "
     ]
    },
    {
     "name": "stdout",
     "output_type": "stream",
     "text": [
      "0.8000 --- loss: 0.461064\n"
     ]
    },
    {
     "name": "stderr",
     "output_type": "stream",
     "text": [
      "[                                                                        ]N/A% "
     ]
    },
    {
     "name": "stdout",
     "output_type": "stream",
     "text": [
      "Epoch finished ! Loss: 0.5153204202651978\n",
      "Validation Cross-Entropy Coeff: 0.5098011493682861\n",
      "Checkpoint 98 saved !\n",
      "Starting epoch 99/100.\n",
      "0.0000 --- loss: 0.530832\n"
     ]
    },
    {
     "name": "stderr",
     "output_type": "stream",
     "text": [
      "[**********************                                                  ] 31% "
     ]
    },
    {
     "name": "stdout",
     "output_type": "stream",
     "text": [
      "0.2000 --- loss: 0.539621\n"
     ]
    },
    {
     "name": "stderr",
     "output_type": "stream",
     "text": [
      "[*************************************                                   ] 51% "
     ]
    },
    {
     "name": "stdout",
     "output_type": "stream",
     "text": [
      "0.4000 --- loss: 0.431554\n"
     ]
    },
    {
     "name": "stderr",
     "output_type": "stream",
     "text": [
      "[***************************************************                     ] 71% "
     ]
    },
    {
     "name": "stdout",
     "output_type": "stream",
     "text": [
      "0.6000 --- loss: 0.484428\n"
     ]
    },
    {
     "name": "stderr",
     "output_type": "stream",
     "text": [
      "[****************************************************************        ] 89% "
     ]
    },
    {
     "name": "stdout",
     "output_type": "stream",
     "text": [
      "0.8000 --- loss: 0.562202\n"
     ]
    },
    {
     "name": "stderr",
     "output_type": "stream",
     "text": [
      "[                                                                        ]N/A% "
     ]
    },
    {
     "name": "stdout",
     "output_type": "stream",
     "text": [
      "Epoch finished ! Loss: 0.5133711695671082\n",
      "Validation Cross-Entropy Coeff: 0.5160880088806152\n",
      "Checkpoint 99 saved !\n",
      "Starting epoch 100/100.\n",
      "0.0000 --- loss: 0.412099"
     ]
    },
    {
     "name": "stderr",
     "output_type": "stream",
     "text": [
      "[********                                                                ] 11% "
     ]
    },
    {
     "name": "stdout",
     "output_type": "stream",
     "text": [
      "\n"
     ]
    },
    {
     "name": "stderr",
     "output_type": "stream",
     "text": [
      "[*********************                                                   ] 29% "
     ]
    },
    {
     "name": "stdout",
     "output_type": "stream",
     "text": [
      "0.2000 --- loss: 0.588157\n"
     ]
    },
    {
     "name": "stderr",
     "output_type": "stream",
     "text": [
      "[**********************************                                      ] 47% "
     ]
    },
    {
     "name": "stdout",
     "output_type": "stream",
     "text": [
      "0.4000 --- loss: 0.523496\n"
     ]
    },
    {
     "name": "stderr",
     "output_type": "stream",
     "text": [
      "[***************************************************                     ] 71% "
     ]
    },
    {
     "name": "stdout",
     "output_type": "stream",
     "text": [
      "0.6000 --- loss: 0.453390\n"
     ]
    },
    {
     "name": "stderr",
     "output_type": "stream",
     "text": [
      "[****************************************************************        ] 89% "
     ]
    },
    {
     "name": "stdout",
     "output_type": "stream",
     "text": [
      "0.8000 --- loss: 0.501908\n"
     ]
    },
    {
     "name": "stderr",
     "output_type": "stream",
     "text": [
      "[***************************************************                     ] 70% "
     ]
    },
    {
     "name": "stdout",
     "output_type": "stream",
     "text": [
      "Epoch finished ! Loss: 0.5128943920135498\n",
      "Validation Cross-Entropy Coeff: 0.5003989934921265\n",
      "Checkpoint 100 saved !\n"
     ]
    }
   ],
   "source": [
    "# Specify number of epochs, image scale factor, batch size and learning rate\n",
    "epochs =  100        # e.g. 10, or more until CE converge\n",
    "batch_size = 40    # e.g. 16\n",
    "lr =   0.001          # e.g. 0.01\n",
    "N_train = len(train_img_masks)\n",
    "if not os.path.exists('Model_1'):\n",
    "    os.mkdir('Model_1')\n",
    "model_save_path = 'Model_1/'  # directory to same the model after each epoch. \n",
    "\n",
    "optimizer = optim.SGD(net.parameters(), lr=lr, momentum=0.9,weight_decay=0.0005)\n",
    "#suggested parameter settings: momentum=0.9, weight_decay=0.0005\n",
    "\n",
    "# The loss function we use is Cross Entropy\n",
    "criterion = nn.CrossEntropyLoss()\n",
    "\n",
    "# Start training  #This part takes very long time to run if using CPU\n",
    "for epoch in range(epochs):\n",
    "    print('Starting epoch {}/{}.'.format(epoch + 1, epochs))\n",
    "    net.train()\n",
    "    # Reload images and masks for training and validation and perform random shuffling at the begining of each epoch\n",
    "    train_loader = torch.utils.data.DataLoader(train_dataset, batch_size=batch_size, shuffle=True, num_workers=0)\n",
    "    val_loader = torch.utils.data.DataLoader(val_dataset, batch_size=batch_size, shuffle=True, num_workers=0)\n",
    "    \n",
    "    epoch_loss = 0\n",
    "    count = 0\n",
    "    progress.currval = 0\n",
    "    progress.max_value=len(train_loader)-1\n",
    "    progress.start()\n",
    "    for i, b in enumerate(train_loader):\n",
    "        \n",
    "        imgs = b['img'].to(device,dtype=torch.float32)\n",
    "        true_masks = b['label'].to(device,dtype=torch.long)        \n",
    "        masks_pred = net(imgs)\n",
    "        # Calculate the loss by comparing the predicted masks vector and true masks vector\n",
    "        # And sum the losses together \n",
    "        loss = criterion(masks_pred,true_masks.long())\n",
    "        epoch_loss += loss\n",
    "        if count % 20 == 0:  #Print status every 20 batch\n",
    "            print('{0:.4f} --- loss: {1:.6f}'.format(i * batch_size / N_train, loss.item())) \n",
    "        count = count + 1\n",
    "        progress.update(i)\n",
    "        # It’s important to call this before loss.backward(), otherwise you’ll accumulate the gradients from multiple passes.\n",
    "        optimizer.zero_grad()\n",
    "        loss.backward()\n",
    "        optimizer.step()\n",
    "        \n",
    "    print('Epoch finished ! Loss: {}'.format(epoch_loss / i))\n",
    "    net.eval()\n",
    "    val_cross=0.0\n",
    "    val_tot=1\n",
    "    with torch.no_grad():\n",
    "        progress.currval = 0\n",
    "        progress.max_value=len(val_loader)-1\n",
    "        progress.start()\n",
    "        for i, b in enumerate(val_loader):\n",
    "            vimgs = b['img'].to(device,dtype=torch.float32)\n",
    "            vtrue_masks = b['label'].to(device,dtype=torch.long)\n",
    "            vmasks_pred = net(vimgs)\n",
    "            vloss=criterion(vmasks_pred,vtrue_masks.long())\n",
    "            val_cross += vloss\n",
    "            val_tot=i+1\n",
    "            progress.update(i)\n",
    "    print('Validation Cross-Entropy Coeff: {}'.format(val_cross/i))\n",
    "    \n",
    "    # Save the model after each epoch\n",
    "    if os.path.isdir(model_save_path):\n",
    "        torch.save(net.state_dict(),model_save_path + 'Brain_Seg_Epoch{}.pth'.format(epoch + 1))\n",
    "    else:\n",
    "        os.makedirs(model_save_path, exist_ok=True)\n",
    "        torch.save(net.state_dict(),model_save_path + 'Brain_Seg_Epoch{}.pth'.format(epoch + 1))\n",
    "    print('Checkpoint {} saved !'.format(epoch + 1))\n",
    "\n",
    "    "
   ]
  },
  {
   "cell_type": "code",
   "execution_count": 11,
   "metadata": {},
   "outputs": [],
   "source": [
    "# Define a function for prediction/testing\n",
    "def predict_img(net,full_img,batch):\n",
    "    # set the mode of your network to evaluation\n",
    "    net.eval()\n",
    "\n",
    "    full_img = np.array(full_img)\n",
    "    test_dataset=torch.from_numpy(full_img).type(torch.FloatTensor)\n",
    "    test_loader = torch.utils.data.DataLoader(test_dataset, batch_size=batch, shuffle=False, num_workers=0)\n",
    "    #X_img = X_img.unsqueeze(0)    \n",
    "    \n",
    "    with torch.no_grad():\n",
    "        # predict the masks\n",
    "        outsy=[]\n",
    "        for i, b in enumerate(test_loader):\n",
    "            imgt = b.to(device,dtype=torch.float32)\n",
    "            #imgt=imgt.to(device,dtype=torch.float32)\n",
    "            output_img = net(imgt)\n",
    "            out_probs = output_img.squeeze(0).squeeze(0)\n",
    "\n",
    "            # change back to numpy, set to uint8 \n",
    "            out_mask_np = out_probs.cpu().numpy().astype(float)\n",
    "            outsy.append(out_mask_np)\n",
    "    return outsy\n"
   ]
  },
  {
   "cell_type": "code",
   "execution_count": 12,
   "metadata": {},
   "outputs": [],
   "source": [
    "def patchify(imgs,patch_size=(33,33)):\n",
    "    '''\n",
    "        Takes 4 channels of test image and converts into 4-channel patches. Use as input for Segmentation test_loader.\n",
    "        INPUT   (1) list 'imgs': 4-Channels of image\n",
    "                (2) tuple 'patch_size': size of patches to be created\n",
    "        OUTPUT: list of patches and length of this list.\n",
    "        '''\n",
    "    patched=[]\n",
    "    for i in range(4):\n",
    "        patched.append(extract_patches_2d(imgs[i],patch_size))\n",
    "    test_patch=tuple(zip(patched[0],patched[1],patched[2],patched[3]))\n",
    "    print(len(test_patch))\n",
    "    return test_patch,len(test_patch)"
   ]
  },
  {
   "cell_type": "code",
   "execution_count": 13,
   "metadata": {},
   "outputs": [],
   "source": [
    "def depatchify(patches,img_size=(240,240)):\n",
    "    '''\n",
    "        Takes patches of segmented image and reconstructs the original image. Use on output of Segmentation test model.\n",
    "        INPUT   (1) list 'patches': Patches of segmented image obtained from NN output\n",
    "                (2) tuple 'img_size': size of original image  to reconstruct\n",
    "        OUTPUT: Reconstructed, segmented image.\n",
    "        '''\n",
    "    #reconstruct_from_patches_2d(patches,img_size)\n",
    "    return reconstruct_from_patches_2d(patches,img_size)"
   ]
  },
  {
   "cell_type": "code",
   "execution_count": 14,
   "metadata": {},
   "outputs": [],
   "source": [
    "def test_segmentation(img_num):\n",
    "    # Load an image from testing dataset\n",
    "    if os.path.exists('Pickles/test_imgs.pickle'):\n",
    "        with open('Pickles/test_imgs.pickle','rb') as f:\n",
    "            test_imgs = pickle.load(f)\n",
    "        f.close()\n",
    "    else:\n",
    "        print('Error! Test Images Pickle not found!')\n",
    "\n",
    "    palt,numt=patchify(test_imgs[img_num],(33,33))\n",
    "    itr_size=100\n",
    "    torch.cuda.empty_cache()\n",
    "    num_itr=int(float(numt)/float(itr_size))\n",
    "    if not (numt%itr_size)==0:\n",
    "        num_itr+=1\n",
    "    patched=predict_img(net,palt[0:itr_size],numt)\n",
    "    for itr in range(num_itr):\n",
    "    #    patched = predict_img(net,palt[0:2000],numt)\n",
    "        if itr<(num_itr-2):\n",
    "            patched.extend(predict_img(net,palt[int((itr+1)*itr_size):int((itr+2)*itr_size)],numt))\n",
    "        elif itr==(num_itr-2):\n",
    "            patched.extend(predict_img(net,palt[int((itr+1)*itr_size):],numt))\n",
    "        else:\n",
    "            continue\n",
    "    patched=np.array(patched)\n",
    "    print(patched.shape)\n",
    "    final_patches_r=[]\n",
    "    final_patches_g=[]\n",
    "    final_patches_b=[]\n",
    "    for i in range(patched.shape[0]):\n",
    "        for j in range(patched[i].shape[0]):\n",
    "            img_seg=np.zeros((3,patched[i].shape[2],patched[i].shape[3]))\n",
    "            #RGB Colour Code-> black(0,0,0):0,else  red(255,0,0):1,necrosis  blue(0,0,255):2,edema  green(0,255,0):3,non-enhancing tumor  yellow(255,255,0):4,enhancing tumor\n",
    "            for k in range(patched[i].shape[1]):\n",
    "                img_seg[0] += (patched[i][j][k])*(255.0*(k==1 or k==4))#red\n",
    "                img_seg[1] += (patched[i][j][k])*(255.0*(k==3 or k==4))#green\n",
    "                img_seg[2] += (patched[i][j][k])*(255.0*(k==2))#green\n",
    "            final_patches_r.append(np.array(img_seg[0]))\n",
    "            final_patches_g.append(np.array(img_seg[1]))\n",
    "            final_patches_b.append(np.array(img_seg[2]))\n",
    "    final_patches_r=np.array(final_patches_r)\n",
    "    print(final_patches_r.shape)\n",
    "    final_patches_g=np.array(final_patches_g)\n",
    "    print(final_patches_g.shape)\n",
    "    final_patches_b=np.array(final_patches_b)\n",
    "    print(final_patches_b.shape)\n",
    "    final_patches=[final_patches_r,final_patches_g,final_patches_b]\n",
    "    mask=[]\n",
    "    for i in range(3):\n",
    "          mask.append(depatchify(final_patches[i],(240,240)))\n",
    "    mask=np.array(mask).transpose((1,2,0))\n",
    "    print(mask.shape)\n",
    "\n",
    "    plt.figure(figsize = (10,10))\n",
    "    for i in range(4):\n",
    "        plt.subplot(2,2,i+1)\n",
    "        plt.imshow(test_imgs[img_num][i],cmap='gray')\n",
    "    plt.title(\"4-Channel-Testing Patch {}\".format(img_num))\n",
    "\n",
    "    plt.figure(figsize = (5,5))\n",
    "    plt.imshow(mask,cmap='gray')#vmax=img_seg.max())\n",
    "    plt.title('Tumor')"
   ]
  },
  {
   "cell_type": "code",
   "execution_count": 15,
   "metadata": {},
   "outputs": [
    {
     "name": "stdout",
     "output_type": "stream",
     "text": [
      "43264\n"
     ]
    },
    {
     "name": "stderr",
     "output_type": "stream",
     "text": [
      "C:\\Users\\Juan\\anaconda3\\envs\\Image_Processing\\lib\\site-packages\\torch\\nn\\functional.py:2479: UserWarning: Default upsampling behavior when mode=bilinear is changed to align_corners=False since 0.4.0. Please specify align_corners=True if the old behavior is desired. See the documentation of nn.Upsample for details.\n",
      "  \"See the documentation of nn.Upsample for details.\".format(mode))\n"
     ]
    },
    {
     "name": "stdout",
     "output_type": "stream",
     "text": [
      "(433,)\n",
      "(43264, 33, 33)\n",
      "(43264, 33, 33)\n",
      "(43264, 33, 33)\n"
     ]
    },
    {
     "name": "stderr",
     "output_type": "stream",
     "text": [
      "Clipping input data to the valid range for imshow with RGB data ([0..1] for floats or [0..255] for integers).\n"
     ]
    },
    {
     "name": "stdout",
     "output_type": "stream",
     "text": [
      "(240, 240, 3)\n"
     ]
    },
    {
     "data": {
      "image/png": "[encoded data removed]",
      "text/plain": [
       "<Figure size 720x720 with 4 Axes>"
      ]
     },
     "metadata": {
      "needs_background": "light"
     },
     "output_type": "display_data"
    },
    {
     "data": {
      "image/png": "[encoded data removed]",
      "text/plain": [
       "<Figure size 360x360 with 1 Axes>"
      ]
     },
     "metadata": {
      "needs_background": "light"
     },
     "output_type": "display_data"
    }
   ],
   "source": [
    "test_segmentation(3)"
   ]
  },
  {
   "cell_type": "code",
   "execution_count": 16,
   "metadata": {
    "scrolled": false
   },
   "outputs": [
    {
     "name": "stdout",
     "output_type": "stream",
     "text": [
      "43264\n"
     ]
    },
    {
     "name": "stderr",
     "output_type": "stream",
     "text": [
      "C:\\Users\\Juan\\anaconda3\\envs\\Image_Processing\\lib\\site-packages\\torch\\nn\\functional.py:2479: UserWarning: Default upsampling behavior when mode=bilinear is changed to align_corners=False since 0.4.0. Please specify align_corners=True if the old behavior is desired. See the documentation of nn.Upsample for details.\n",
      "  \"See the documentation of nn.Upsample for details.\".format(mode))\n"
     ]
    },
    {
     "name": "stdout",
     "output_type": "stream",
     "text": [
      "(433,)\n",
      "(43264, 33, 33)\n",
      "(43264, 33, 33)\n",
      "(43264, 33, 33)\n"
     ]
    },
    {
     "name": "stderr",
     "output_type": "stream",
     "text": [
      "Clipping input data to the valid range for imshow with RGB data ([0..1] for floats or [0..255] for integers).\n"
     ]
    },
    {
     "name": "stdout",
     "output_type": "stream",
     "text": [
      "(240, 240, 3)\n",
      "43264\n"
     ]
    },
    {
     "name": "stderr",
     "output_type": "stream",
     "text": [
      "C:\\Users\\Juan\\anaconda3\\envs\\Image_Processing\\lib\\site-packages\\torch\\nn\\functional.py:2479: UserWarning: Default upsampling behavior when mode=bilinear is changed to align_corners=False since 0.4.0. Please specify align_corners=True if the old behavior is desired. See the documentation of nn.Upsample for details.\n",
      "  \"See the documentation of nn.Upsample for details.\".format(mode))\n"
     ]
    },
    {
     "name": "stdout",
     "output_type": "stream",
     "text": [
      "(433,)\n",
      "(43264, 33, 33)\n",
      "(43264, 33, 33)\n",
      "(43264, 33, 33)\n"
     ]
    },
    {
     "name": "stderr",
     "output_type": "stream",
     "text": [
      "Clipping input data to the valid range for imshow with RGB data ([0..1] for floats or [0..255] for integers).\n"
     ]
    },
    {
     "name": "stdout",
     "output_type": "stream",
     "text": [
      "(240, 240, 3)\n",
      "43264\n"
     ]
    },
    {
     "name": "stderr",
     "output_type": "stream",
     "text": [
      "C:\\Users\\Juan\\anaconda3\\envs\\Image_Processing\\lib\\site-packages\\torch\\nn\\functional.py:2479: UserWarning: Default upsampling behavior when mode=bilinear is changed to align_corners=False since 0.4.0. Please specify align_corners=True if the old behavior is desired. See the documentation of nn.Upsample for details.\n",
      "  \"See the documentation of nn.Upsample for details.\".format(mode))\n"
     ]
    },
    {
     "name": "stdout",
     "output_type": "stream",
     "text": [
      "(433,)\n",
      "(43264, 33, 33)\n",
      "(43264, 33, 33)\n",
      "(43264, 33, 33)\n"
     ]
    },
    {
     "name": "stderr",
     "output_type": "stream",
     "text": [
      "Clipping input data to the valid range for imshow with RGB data ([0..1] for floats or [0..255] for integers).\n"
     ]
    },
    {
     "name": "stdout",
     "output_type": "stream",
     "text": [
      "(240, 240, 3)\n"
     ]
    },
    {
     "data": {
      "image/png": "[encoded data removed]",
      "text/plain": [
       "<Figure size 720x720 with 4 Axes>"
      ]
     },
     "metadata": {
      "needs_background": "light"
     },
     "output_type": "display_data"
    },
    {
     "data": {
      "image/png": "[encoded data removed]",
      "text/plain": [
       "<Figure size 360x360 with 1 Axes>"
      ]
     },
     "metadata": {
      "needs_background": "light"
     },
     "output_type": "display_data"
    },
    {
     "data": {
      "image/png": "[encoded data removed]",
      "text/plain": [
       "<Figure size 720x720 with 4 Axes>"
      ]
     },
     "metadata": {
      "needs_background": "light"
     },
     "output_type": "display_data"
    },
    {
     "data": {
      "image/png": "[encoded data removed]",
      "text/plain": [
       "<Figure size 360x360 with 1 Axes>"
      ]
     },
     "metadata": {
      "needs_background": "light"
     },
     "output_type": "display_data"
    },
    {
     "data": {
      "image/png": "[encoded data removed]",
      "text/plain": [
       "<Figure size 720x720 with 4 Axes>"
      ]
     },
     "metadata": {
      "needs_background": "light"
     },
     "output_type": "display_data"
    },
    {
     "data": {
      "image/png": "[encoded data removed]",
      "text/plain": [
       "<Figure size 360x360 with 1 Axes>"
      ]
     },
     "metadata": {
      "needs_background": "light"
     },
     "output_type": "display_data"
    }
   ],
   "source": [
    "test_cases=[3,14,28]\n",
    "for i in range(len(test_cases)):\n",
    "    test_segmentation(test_cases[i])"
   ]
  },
  {
   "cell_type": "code",
   "execution_count": null,
   "metadata": {},
   "outputs": [],
   "source": []
  },
  {
   "cell_type": "code",
   "execution_count": null,
   "metadata": {},
   "outputs": [],
   "source": []
  }
 ],
 "metadata": {
  "kernelspec": {
   "display_name": "Python 3",
   "language": "python",
   "name": "python3"
  },
  "language_info": {
   "codemirror_mode": {
    "name": "ipython",
    "version": 3
   },
   "file_extension": ".py",
   "mimetype": "text/x-python",
   "name": "python",
   "nbconvert_exporter": "python",
   "pygments_lexer": "ipython3",
   "version": "3.7.7"
  }
 },
 "nbformat": 4,
 "nbformat_minor": 2
}
