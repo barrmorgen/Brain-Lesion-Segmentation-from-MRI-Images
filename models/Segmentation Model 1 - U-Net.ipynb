{
 "cells": [
  {
   "cell_type": "markdown",
   "metadata": {},
   "source": [
    "# U-Net\n"
   ]
  },
  {
   "cell_type": "code",
   "execution_count": 24,
   "metadata": {},
   "outputs": [],
   "source": [
    "import torch\n",
    "import torch.nn as nn\n",
    "import torch.nn.functional as F\n",
    "import random\n",
    "import sys\n",
    "import os\n",
    "from optparse import OptionParser\n",
    "import numpy as np\n",
    "from torch import optim\n",
    "from PIL import Image\n",
    "import progressbar\n",
    "from torch.autograd import Function, Variable\n",
    "import matplotlib.pyplot as plt\n",
    "import matplotlib\n",
    "from torchvision import transforms\n",
    "from glob import glob\n",
    "from skimage import io\n",
    "from sklearn.feature_extraction.image import extract_patches_2d,reconstruct_from_patches_2d\n",
    "import pickle\n",
    "from torch.utils.data import Dataset\n",
    "%matplotlib inline\n",
    "import cv2"
   ]
  },
  {
   "cell_type": "code",
   "execution_count": 2,
   "metadata": {},
   "outputs": [
    {
     "name": "stdout",
     "output_type": "stream",
     "text": [
      "cuda:0\n"
     ]
    }
   ],
   "source": [
    "device = torch.device(\"cuda:0\" if torch.cuda.is_available() else \"cpu\")\n",
    "print(device)\n"
   ]
  },
  {
   "cell_type": "code",
   "execution_count": 3,
   "metadata": {},
   "outputs": [],
   "source": [
    "progress = progressbar.ProgressBar(widgets=[progressbar.Bar('*', '[', ']'), progressbar.Percentage(), ' '])"
   ]
  },
  {
   "cell_type": "code",
   "execution_count": 4,
   "metadata": {},
   "outputs": [],
   "source": [
    "# DEFINE SINGLE_CONV CLASS\n",
    "class single_conv(nn.Module):\n",
    "    '''(conv => BN => ReLU) '''\n",
    "    def __init__(self, in_ch, out_ch):\n",
    "        super(single_conv, self).__init__()\n",
    "        # Define the layers here\n",
    "        # Note: for conv, use a padding of (1,1) so that size is maintained\n",
    "        self.conv = nn.Conv2d(in_ch, out_ch, kernel_size=3,stride=1,padding=1)\n",
    "        self.bn = nn.BatchNorm2d(out_ch)\n",
    "        self.relu = nn.ReLU()\n",
    "        \n",
    "        \n",
    "    def forward(self, x):\n",
    "        # define forward operation using the layers we have defined\n",
    "        x = self.relu(self.bn(self.conv(x)))\n",
    "        return x\n",
    "\n",
    "# DEFINE DOWN CLASS\n",
    "class down(nn.Module):\n",
    "    def __init__(self):\n",
    "        super(down, self).__init__()\n",
    "        self.down = nn.MaxPool2d((2, 2)) # use nn.MaxPool2d( )\n",
    "        \n",
    "    def forward(self, x):\n",
    "        x = self.down(x)\n",
    "        \n",
    "        return x\n",
    "\n",
    "\n",
    "# DEFINE UP CLASS\n",
    "# Note that this class will not only upsample x1, but also concatenate up-sampled x1 with x2 to generate the final output\n",
    "\n",
    "class up(nn.Module):\n",
    "    def __init__(self):\n",
    "        super(up, self).__init__()       \n",
    "        self.up = nn.Upsample(scale_factor=2, mode='bilinear')  # use nn.Upsample() with mode bilinear\n",
    "\n",
    "    def forward(self, x1, x2): # Takes in smaller x1 and larger x2\n",
    "        # First we upsample x1 to be same size as x2\n",
    "        x1 = self.up(x1)\n",
    "        \n",
    "        # This part is tricky so we've completed this\n",
    "        # Notice that x2 and x1 may not have the same spatial size. \n",
    "        # This is because when you downsample old_x2(say 25 by 25), you will get x1(12 by 12)   \n",
    "        # Then you perform upsample to x1, you will get new_x1(24 by 24)\n",
    "        # You should pad a new row and column so that new_x1 and x2 have the same size.\n",
    "        diffY = x2.size()[2] - x1.size()[2]\n",
    "        diffX = x2.size()[3] - x1.size()[3]\n",
    "        x1 = F.pad(x1, (diffX // 2, diffX - diffX//2,\n",
    "                        diffY // 2, diffY - diffY//2))\n",
    "        \n",
    "        # Now we concatenat x2 and x1 along channel dimension: torch.cat()\n",
    "        # Note pytorch tensor shape correspond to: (batchsize, channel, x_dim, y_dim)\n",
    "        x = torch.cat((x1,x2), dim=1)\n",
    "        \n",
    "        return x\n",
    "\n",
    "\n",
    "# DEFINE OUTCONV CLASS\n",
    "class outconv(nn.Module):\n",
    "    def __init__(self, in_ch, out_ch):\n",
    "        super(outconv, self).__init__()\n",
    "        # 1 conv layer\n",
    "        self.conv = nn.Conv2d(in_ch, out_ch, kernel_size=1,stride=1,padding=0)\n",
    "\n",
    "    def forward(self, x):\n",
    "        x = self.conv(x)\n",
    "        \n",
    "        return x\n"
   ]
  },
  {
   "cell_type": "code",
   "execution_count": 5,
   "metadata": {},
   "outputs": [],
   "source": [
    "################################################ [TODO] ###################################################\n",
    "# Build your network with predefined classes: single_conv, up, down, outconv\n",
    "# The number of input and output channels should follow the U-Net Structure shown above.\n",
    "import torch.nn.functional as F\n",
    "class UNet(nn.Module):\n",
    "    def __init__(self, n_channels_in, n_channels_out):\n",
    "        super(UNet, self).__init__()\n",
    "        ## Define the necessary layers using the classes defined above\n",
    "        self.conv1=single_conv(n_channels_in,16)\n",
    "        self.down=down()\n",
    "        self.up=up()\n",
    "        self.conv2=single_conv(16,32)\n",
    "        self.conv3=single_conv(32,32)\n",
    "        self.conv4=single_conv(64,16)\n",
    "        self.conv5=single_conv(32,16)\n",
    "        self.outconv=outconv(16,n_channels_out)\n",
    "\n",
    "\n",
    "    def forward(self, x):\n",
    "        # Define forward pass\n",
    "        x0=self.conv1(x)\n",
    "        x1=self.down(x0)\n",
    "        x1=self.conv2(x1)\n",
    "        x2=self.down(x1)\n",
    "        x2=self.conv3(x2)\n",
    "        x3=self.up(x2,x1)\n",
    "        x3=self.conv4(x3)\n",
    "        x=self.up(x3,x0)\n",
    "        x=self.conv5(x)\n",
    "        x=self.outconv(x)\n",
    "        \n",
    "        return x\n",
    "    "
   ]
  },
  {
   "cell_type": "code",
   "execution_count": 6,
   "metadata": {},
   "outputs": [],
   "source": [
    "#### define transform classes for  data augmentation\n",
    "class Flip(object):\n",
    "    \"\"\"\n",
    "    Flip the image left or right for data augmentation, but prefer original image.\n",
    "    \"\"\"\n",
    "    def __init__(self,ori_probability=0.60):\n",
    "        self.ori_probability = ori_probability\n",
    " \n",
    "    def __call__(self, sample):\n",
    "        if random.uniform(0,1) < self.ori_probability:\n",
    "            return sample\n",
    "        else:\n",
    "            img, label = sample['img'], sample['label']\n",
    "            img_flip = img[:,:,::-1]\n",
    "            label_flip = label[:,::-1]\n",
    "            \n",
    "            return {'img': img_flip, 'label': label_flip}\n",
    "        \n",
    "class ToTensor(object):\n",
    "    \"\"\"\n",
    "    Convert ndarrays in sample to Tensors.\n",
    "    \"\"\"\n",
    "    def __init__(self):\n",
    "        pass\n",
    "\n",
    "    def __call__(self, sample):\n",
    "        image, label = sample['img'], sample['label']\n",
    "\n",
    "        return {'img': torch.from_numpy(image.copy()).type(torch.FloatTensor),\n",
    "                'label': torch.from_numpy(label.copy()).type(torch.FloatTensor)}"
   ]
  },
  {
   "cell_type": "code",
   "execution_count": 7,
   "metadata": {},
   "outputs": [],
   "source": [
    "train_img_masks_save_path = 'Pickles/train_img_masks.pickle'\n",
    "if os.path.exists(train_img_masks_save_path):\n",
    "    with open(train_img_masks_save_path,'rb') as f:\n",
    "        train_img_masks = pickle.load(f)\n",
    "    f.close()\n",
    "else:\n",
    "    print('Error! Training Set Pickle not found!')\n",
    "\n",
    "val_img_masks_save_path = 'Pickles/val_img_masks.pickle'\n",
    "if os.path.exists(val_img_masks_save_path):\n",
    "    with open(val_img_masks_save_path,'rb') as f:\n",
    "        val_img_masks = pickle.load(f)\n",
    "    f.close()\n",
    "else:\n",
    "    print('Error! Validation Set Pickle not found!')"
   ]
  },
  {
   "cell_type": "code",
   "execution_count": 8,
   "metadata": {},
   "outputs": [],
   "source": [
    "# the dataset class\n",
    "class CustomDataset(Dataset):\n",
    "    def __init__(self, image_masks, transforms=None): \n",
    "\n",
    "        self.image_masks = image_masks\n",
    "        self.transforms = transforms\n",
    "    \n",
    "    def __len__(self):  # return count of sample we have\n",
    "\n",
    "        return len(self.image_masks)\n",
    "    \n",
    "    def __getitem__(self, index):\n",
    "\n",
    "        image = np.array(self.image_masks[index][0]) # Channel,H, W\n",
    "        mask = self.image_masks[index][1]\n",
    "        \n",
    "        sample = {'img': image, 'label': mask}\n",
    "        \n",
    "        if transforms:\n",
    "            sample = self.transforms(sample)\n",
    "            \n",
    "        return sample\n",
    "\n",
    "train_dataset = CustomDataset(train_img_masks, transforms=transforms.Compose([Flip(),ToTensor()]))\n",
    "val_dataset = CustomDataset(val_img_masks, transforms=transforms.Compose([Flip(),ToTensor()]))"
   ]
  },
  {
   "cell_type": "code",
   "execution_count": 9,
   "metadata": {},
   "outputs": [
    {
     "name": "stdout",
     "output_type": "stream",
     "text": [
      "UNet(\n",
      "  (conv1): single_conv(\n",
      "    (conv): Conv2d(4, 16, kernel_size=(3, 3), stride=(1, 1), padding=(1, 1))\n",
      "    (bn): BatchNorm2d(16, eps=1e-05, momentum=0.1, affine=True, track_running_stats=True)\n",
      "    (relu): ReLU()\n",
      "  )\n",
      "  (down): down(\n",
      "    (down): MaxPool2d(kernel_size=(2, 2), stride=(2, 2), padding=0, dilation=1, ceil_mode=False)\n",
      "  )\n",
      "  (up): up(\n",
      "    (up): Upsample(scale_factor=2.0, mode=bilinear)\n",
      "  )\n",
      "  (conv2): single_conv(\n",
      "    (conv): Conv2d(16, 32, kernel_size=(3, 3), stride=(1, 1), padding=(1, 1))\n",
      "    (bn): BatchNorm2d(32, eps=1e-05, momentum=0.1, affine=True, track_running_stats=True)\n",
      "    (relu): ReLU()\n",
      "  )\n",
      "  (conv3): single_conv(\n",
      "    (conv): Conv2d(32, 32, kernel_size=(3, 3), stride=(1, 1), padding=(1, 1))\n",
      "    (bn): BatchNorm2d(32, eps=1e-05, momentum=0.1, affine=True, track_running_stats=True)\n",
      "    (relu): ReLU()\n",
      "  )\n",
      "  (conv4): single_conv(\n",
      "    (conv): Conv2d(64, 16, kernel_size=(3, 3), stride=(1, 1), padding=(1, 1))\n",
      "    (bn): BatchNorm2d(16, eps=1e-05, momentum=0.1, affine=True, track_running_stats=True)\n",
      "    (relu): ReLU()\n",
      "  )\n",
      "  (conv5): single_conv(\n",
      "    (conv): Conv2d(32, 16, kernel_size=(3, 3), stride=(1, 1), padding=(1, 1))\n",
      "    (bn): BatchNorm2d(16, eps=1e-05, momentum=0.1, affine=True, track_running_stats=True)\n",
      "    (relu): ReLU()\n",
      "  )\n",
      "  (outconv): outconv(\n",
      "    (conv): Conv2d(16, 5, kernel_size=(1, 1), stride=(1, 1))\n",
      "  )\n",
      ")\n",
      "Number of parameters in network:  28645\n"
     ]
    }
   ],
   "source": [
    "# Create Model object from the class defined above. Input channels = 4, output channels = 5\n",
    "net = UNet(4,5).to(device,dtype=torch.float32)\n",
    "net.to(device) \n",
    "# if using GPU\n",
    "# If continuing from previously saved model, use \n",
    "# net.load_state_dict(torch.load('PATH TO SAVED MODEL FILE'))\n",
    "print(net)\n",
    "\n",
    "# This shows the number of parameters in the network\n",
    "n_params = sum(p.numel() for p in net.parameters() if p.requires_grad)\n",
    "print('Number of parameters in network: ', n_params)"
   ]
  },
  {
   "cell_type": "code",
   "execution_count": 15,
   "metadata": {
    "scrolled": true
   },
   "outputs": [
    {
     "name": "stderr",
     "output_type": "stream",
     "text": [
      "\r",
      "                                                                               \r",
      "\r",
      "[                                                                        ]N/A% "
     ]
    },
    {
     "name": "stdout",
     "output_type": "stream",
     "text": [
      "Starting epoch 1/100.\n"
     ]
    },
    {
     "name": "stderr",
     "output_type": "stream",
     "text": [
      "[***                                                                     ]  5% "
     ]
    },
    {
     "name": "stdout",
     "output_type": "stream",
     "text": [
      "0.0000 --- loss: 0.459090\n"
     ]
    },
    {
     "name": "stderr",
     "output_type": "stream",
     "text": [
      "[*************************************************                       ] 69% "
     ]
    },
    {
     "name": "stdout",
     "output_type": "stream",
     "text": [
      "0.5000 --- loss: 0.460755\n"
     ]
    },
    {
     "name": "stderr",
     "output_type": "stream",
     "text": [
      "                                                                               \r"
     ]
    },
    {
     "name": "stdout",
     "output_type": "stream",
     "text": [
      "Epoch finished ! Loss: 0.4633990228176117\n",
      "Validation Cross-Entropy Coeff: 0.5033482313156128\n",
      "Checkpoint 1 saved !\n",
      "Starting epoch 2/100.\n",
      "0.0000 --- loss: 0.415680\n"
     ]
    },
    {
     "name": "stderr",
     "output_type": "stream",
     "text": [
      "[*******************************************************                 ] 76% "
     ]
    },
    {
     "name": "stdout",
     "output_type": "stream",
     "text": [
      "0.5000 --- loss: 0.444531\n"
     ]
    },
    {
     "name": "stderr",
     "output_type": "stream",
     "text": [
      "[***                                                                     ]  5% "
     ]
    },
    {
     "name": "stdout",
     "output_type": "stream",
     "text": [
      "Epoch finished ! Loss: 0.4558241069316864\n",
      "Validation Cross-Entropy Coeff: 0.5021816492080688\n",
      "Checkpoint 2 saved !\n",
      "Starting epoch 3/100.\n",
      "0.0000 --- loss: 0.458310\n"
     ]
    },
    {
     "name": "stderr",
     "output_type": "stream",
     "text": [
      "[*****************************************************                   ] 74% "
     ]
    },
    {
     "name": "stdout",
     "output_type": "stream",
     "text": [
      "0.5000 --- loss: 0.403603\n"
     ]
    },
    {
     "name": "stderr",
     "output_type": "stream",
     "text": [
      "[                                                                        ]N/A% "
     ]
    },
    {
     "name": "stdout",
     "output_type": "stream",
     "text": [
      "Epoch finished ! Loss: 0.45505475997924805\n",
      "Validation Cross-Entropy Coeff: 0.49897778034210205\n",
      "Checkpoint 3 saved !\n",
      "Starting epoch 4/100.\n",
      "0.0000 --- loss: 0.460782\n"
     ]
    },
    {
     "name": "stderr",
     "output_type": "stream",
     "text": [
      "[*****************************************************                   ] 74% "
     ]
    },
    {
     "name": "stdout",
     "output_type": "stream",
     "text": [
      "0.5000 --- loss: 0.454941\n"
     ]
    },
    {
     "name": "stderr",
     "output_type": "stream",
     "text": [
      "[*****                                                                   ]  7% "
     ]
    },
    {
     "name": "stdout",
     "output_type": "stream",
     "text": [
      "Epoch finished ! Loss: 0.4537065029144287\n",
      "Validation Cross-Entropy Coeff: 0.49892058968544006\n",
      "Checkpoint 4 saved !\n",
      "Starting epoch 5/100.\n",
      "0.0000 --- loss: 0.405305\n"
     ]
    },
    {
     "name": "stderr",
     "output_type": "stream",
     "text": [
      "[*************************************************                       ] 69% "
     ]
    },
    {
     "name": "stdout",
     "output_type": "stream",
     "text": [
      "0.5000 --- loss: 0.420077\n"
     ]
    },
    {
     "name": "stderr",
     "output_type": "stream",
     "text": [
      "[***                                                                     ]  5% "
     ]
    },
    {
     "name": "stdout",
     "output_type": "stream",
     "text": [
      "Epoch finished ! Loss: 0.4523654282093048\n",
      "Validation Cross-Entropy Coeff: 0.5007813572883606\n",
      "Checkpoint 5 saved !\n",
      "Starting epoch 6/100.\n",
      "0.0000 --- loss: 0.430151\n"
     ]
    },
    {
     "name": "stderr",
     "output_type": "stream",
     "text": [
      "[*****************************************************                   ] 74% "
     ]
    },
    {
     "name": "stdout",
     "output_type": "stream",
     "text": [
      "0.5000 --- loss: 0.441298\n"
     ]
    },
    {
     "name": "stderr",
     "output_type": "stream",
     "text": [
      "[***                                                                     ]  5% "
     ]
    },
    {
     "name": "stdout",
     "output_type": "stream",
     "text": [
      "Epoch finished ! Loss: 0.4549081325531006\n",
      "Validation Cross-Entropy Coeff: 0.5015352368354797\n",
      "Checkpoint 6 saved !\n",
      "Starting epoch 7/100.\n",
      "0.0000 --- loss: 0.448661\n"
     ]
    },
    {
     "name": "stderr",
     "output_type": "stream",
     "text": [
      "[************************************************                        ] 66% "
     ]
    },
    {
     "name": "stdout",
     "output_type": "stream",
     "text": [
      "0.5000 --- loss: 0.436623\n"
     ]
    },
    {
     "name": "stderr",
     "output_type": "stream",
     "text": [
      "[                                                                        ]N/A% "
     ]
    },
    {
     "name": "stdout",
     "output_type": "stream",
     "text": [
      "Epoch finished ! Loss: 0.45557722449302673\n",
      "Validation Cross-Entropy Coeff: 0.4983021914958954\n",
      "Checkpoint 7 saved !\n",
      "Starting epoch 8/100.\n",
      "0.0000 --- loss: 0.492507\n"
     ]
    },
    {
     "name": "stderr",
     "output_type": "stream",
     "text": [
      "[*****************************************************                   ] 74% "
     ]
    },
    {
     "name": "stdout",
     "output_type": "stream",
     "text": [
      "0.5000 --- loss: 0.450907\n"
     ]
    },
    {
     "name": "stderr",
     "output_type": "stream",
     "text": [
      "[***                                                                     ]  5% "
     ]
    },
    {
     "name": "stdout",
     "output_type": "stream",
     "text": [
      "Epoch finished ! Loss: 0.45422354340553284\n",
      "Validation Cross-Entropy Coeff: 0.5029325485229492\n",
      "Checkpoint 8 saved !\n",
      "Starting epoch 9/100.\n",
      "0.0000 --- loss: 0.447110\n"
     ]
    },
    {
     "name": "stderr",
     "output_type": "stream",
     "text": [
      "[*****************************************************                   ] 74% "
     ]
    },
    {
     "name": "stdout",
     "output_type": "stream",
     "text": [
      "0.5000 --- loss: 0.430322\n"
     ]
    },
    {
     "name": "stderr",
     "output_type": "stream",
     "text": [
      "[***                                                                     ]  5% "
     ]
    },
    {
     "name": "stdout",
     "output_type": "stream",
     "text": [
      "Epoch finished ! Loss: 0.4534056782722473\n",
      "Validation Cross-Entropy Coeff: 0.502308189868927\n",
      "Checkpoint 9 saved !\n",
      "Starting epoch 10/100.\n",
      "0.0000 --- loss: 0.384112\n"
     ]
    },
    {
     "name": "stderr",
     "output_type": "stream",
     "text": [
      "[*****************************************************                   ] 74% "
     ]
    },
    {
     "name": "stdout",
     "output_type": "stream",
     "text": [
      "0.5000 --- loss: 0.420287\n"
     ]
    },
    {
     "name": "stderr",
     "output_type": "stream",
     "text": [
      "[*****                                                                   ]  7% "
     ]
    },
    {
     "name": "stdout",
     "output_type": "stream",
     "text": [
      "Epoch finished ! Loss: 0.45448777079582214\n",
      "Validation Cross-Entropy Coeff: 0.502302348613739\n",
      "Checkpoint 10 saved !\n",
      "Starting epoch 11/100.\n",
      "0.0000 --- loss: 0.506127\n"
     ]
    },
    {
     "name": "stderr",
     "output_type": "stream",
     "text": [
      "[*************************************************                       ] 69% "
     ]
    },
    {
     "name": "stdout",
     "output_type": "stream",
     "text": [
      "0.5000 --- loss: 0.472988\n"
     ]
    },
    {
     "name": "stderr",
     "output_type": "stream",
     "text": [
      "[***                                                                     ]  5% "
     ]
    },
    {
     "name": "stdout",
     "output_type": "stream",
     "text": [
      "Epoch finished ! Loss: 0.4527963697910309\n",
      "Validation Cross-Entropy Coeff: 0.5047417283058167\n",
      "Checkpoint 11 saved !\n",
      "Starting epoch 12/100.\n",
      "0.0000 --- loss: 0.425731\n"
     ]
    },
    {
     "name": "stderr",
     "output_type": "stream",
     "text": [
      "[***************************************************                     ] 71% "
     ]
    },
    {
     "name": "stdout",
     "output_type": "stream",
     "text": [
      "0.5000 --- loss: 0.464070\n"
     ]
    },
    {
     "name": "stderr",
     "output_type": "stream",
     "text": [
      "[*****                                                                   ]  7% "
     ]
    },
    {
     "name": "stdout",
     "output_type": "stream",
     "text": [
      "Epoch finished ! Loss: 0.4524213969707489\n",
      "Validation Cross-Entropy Coeff: 0.5002870559692383\n",
      "Checkpoint 12 saved !\n",
      "Starting epoch 13/100.\n",
      "0.0000 --- loss: 0.437667\n"
     ]
    },
    {
     "name": "stderr",
     "output_type": "stream",
     "text": [
      "[*************************************************                       ] 69% "
     ]
    },
    {
     "name": "stdout",
     "output_type": "stream",
     "text": [
      "0.5000 --- loss: 0.452554\n"
     ]
    },
    {
     "name": "stderr",
     "output_type": "stream",
     "text": [
      "[***                                                                     ]  5% "
     ]
    },
    {
     "name": "stdout",
     "output_type": "stream",
     "text": [
      "Epoch finished ! Loss: 0.45333272218704224\n",
      "Validation Cross-Entropy Coeff: 0.5020438432693481\n",
      "Checkpoint 13 saved !\n",
      "Starting epoch 14/100.\n",
      "0.0000 --- loss: 0.405724\n"
     ]
    },
    {
     "name": "stderr",
     "output_type": "stream",
     "text": [
      "[*****************************************************                   ] 74% "
     ]
    },
    {
     "name": "stdout",
     "output_type": "stream",
     "text": [
      "0.5000 --- loss: 0.441088\n"
     ]
    },
    {
     "name": "stderr",
     "output_type": "stream",
     "text": [
      "[                                                                        ]N/A% "
     ]
    },
    {
     "name": "stdout",
     "output_type": "stream",
     "text": [
      "Epoch finished ! Loss: 0.4527733325958252\n",
      "Validation Cross-Entropy Coeff: 0.5031428933143616\n",
      "Checkpoint 14 saved !\n",
      "Starting epoch 15/100.\n",
      "0.0000 --- loss: 0.437965\n"
     ]
    },
    {
     "name": "stderr",
     "output_type": "stream",
     "text": [
      "[************************************************                        ] 66% "
     ]
    },
    {
     "name": "stdout",
     "output_type": "stream",
     "text": [
      "0.5000 --- loss: 0.426153\n"
     ]
    },
    {
     "name": "stderr",
     "output_type": "stream",
     "text": [
      "[***                                                                     ]  5% "
     ]
    },
    {
     "name": "stdout",
     "output_type": "stream",
     "text": [
      "Epoch finished ! Loss: 0.45387306809425354\n",
      "Validation Cross-Entropy Coeff: 0.5001728534698486\n",
      "Checkpoint 15 saved !\n",
      "Starting epoch 16/100.\n",
      "0.0000 --- loss: 0.414938\n"
     ]
    },
    {
     "name": "stderr",
     "output_type": "stream",
     "text": [
      "[************************************************                        ] 66% "
     ]
    },
    {
     "name": "stdout",
     "output_type": "stream",
     "text": [
      "0.5000 --- loss: 0.435101\n"
     ]
    },
    {
     "name": "stderr",
     "output_type": "stream",
     "text": [
      "[***                                                                     ]  5% "
     ]
    },
    {
     "name": "stdout",
     "output_type": "stream",
     "text": [
      "Epoch finished ! Loss: 0.452790766954422\n",
      "Validation Cross-Entropy Coeff: 0.49834340810775757\n",
      "Checkpoint 16 saved !\n",
      "Starting epoch 17/100.\n",
      "0.0000 --- loss: 0.451044\n"
     ]
    },
    {
     "name": "stderr",
     "output_type": "stream",
     "text": [
      "                                                                               \r"
     ]
    },
    {
     "name": "stdout",
     "output_type": "stream",
     "text": [
      "0.5000 --- loss: 0.418941\n"
     ]
    },
    {
     "name": "stderr",
     "output_type": "stream",
     "text": [
      "[***                                                                     ]  5% "
     ]
    },
    {
     "name": "stdout",
     "output_type": "stream",
     "text": [
      "Epoch finished ! Loss: 0.4505104124546051\n",
      "Validation Cross-Entropy Coeff: 0.5023953318595886\n",
      "Checkpoint 17 saved !\n",
      "Starting epoch 18/100.\n",
      "0.0000 --- loss: 0.512557\n"
     ]
    },
    {
     "name": "stderr",
     "output_type": "stream",
     "text": [
      "[*****************************************************                   ] 74% "
     ]
    },
    {
     "name": "stdout",
     "output_type": "stream",
     "text": [
      "0.5000 --- loss: 0.441564\n"
     ]
    },
    {
     "name": "stderr",
     "output_type": "stream",
     "text": [
      "[***                                                                     ]  5% "
     ]
    },
    {
     "name": "stdout",
     "output_type": "stream",
     "text": [
      "Epoch finished ! Loss: 0.4527892768383026\n",
      "Validation Cross-Entropy Coeff: 0.5039728879928589\n",
      "Checkpoint 18 saved !\n",
      "Starting epoch 19/100.\n",
      "0.0000 --- loss: 0.420539\n"
     ]
    },
    {
     "name": "stderr",
     "output_type": "stream",
     "text": [
      "[*****************************************************                   ] 74% "
     ]
    },
    {
     "name": "stdout",
     "output_type": "stream",
     "text": [
      "0.5000 --- loss: 0.408140\n"
     ]
    },
    {
     "name": "stderr",
     "output_type": "stream",
     "text": [
      "[                                                                        ]N/A% "
     ]
    },
    {
     "name": "stdout",
     "output_type": "stream",
     "text": [
      "Epoch finished ! Loss: 0.4525437653064728\n",
      "Validation Cross-Entropy Coeff: 0.4988517165184021\n",
      "Checkpoint 19 saved !\n",
      "Starting epoch 20/100.\n",
      "0.0000 --- loss: 0.480171\n"
     ]
    },
    {
     "name": "stderr",
     "output_type": "stream",
     "text": [
      "[*************************************************                       ] 69% "
     ]
    },
    {
     "name": "stdout",
     "output_type": "stream",
     "text": [
      "0.5000 --- loss: 0.432336\n"
     ]
    },
    {
     "name": "stderr",
     "output_type": "stream",
     "text": [
      "[***                                                                     ]  5% "
     ]
    },
    {
     "name": "stdout",
     "output_type": "stream",
     "text": [
      "Epoch finished ! Loss: 0.458676278591156\n",
      "Validation Cross-Entropy Coeff: 0.49992048740386963\n",
      "Checkpoint 20 saved !\n",
      "Starting epoch 21/100.\n",
      "0.0000 --- loss: 0.444231\n"
     ]
    },
    {
     "name": "stderr",
     "output_type": "stream",
     "text": [
      "[************************************************                        ] 66% "
     ]
    },
    {
     "name": "stdout",
     "output_type": "stream",
     "text": [
      "0.5000 --- loss: 0.462671\n"
     ]
    },
    {
     "name": "stderr",
     "output_type": "stream",
     "text": [
      "[                                                                        ]N/A% "
     ]
    },
    {
     "name": "stdout",
     "output_type": "stream",
     "text": [
      "Epoch finished ! Loss: 0.45430105924606323\n",
      "Validation Cross-Entropy Coeff: 0.49864229559898376\n",
      "Checkpoint 21 saved !\n",
      "Starting epoch 22/100.\n",
      "0.0000 --- loss: 0.440610\n"
     ]
    },
    {
     "name": "stderr",
     "output_type": "stream",
     "text": [
      "[*************************************************                       ] 69% "
     ]
    },
    {
     "name": "stdout",
     "output_type": "stream",
     "text": [
      "0.5000 --- loss: 0.425735\n"
     ]
    },
    {
     "name": "stderr",
     "output_type": "stream",
     "text": [
      "[***                                                                     ]  5% "
     ]
    },
    {
     "name": "stdout",
     "output_type": "stream",
     "text": [
      "Epoch finished ! Loss: 0.45520737767219543\n",
      "Validation Cross-Entropy Coeff: 0.5001285672187805\n",
      "Checkpoint 22 saved !\n",
      "Starting epoch 23/100.\n",
      "0.0000 --- loss: 0.449870\n"
     ]
    },
    {
     "name": "stderr",
     "output_type": "stream",
     "text": [
      "                                                                               \r"
     ]
    },
    {
     "name": "stdout",
     "output_type": "stream",
     "text": [
      "0.5000 --- loss: 0.444169\n"
     ]
    },
    {
     "name": "stderr",
     "output_type": "stream",
     "text": [
      "[***                                                                     ]  5% "
     ]
    },
    {
     "name": "stdout",
     "output_type": "stream",
     "text": [
      "Epoch finished ! Loss: 0.45291420817375183\n",
      "Validation Cross-Entropy Coeff: 0.5006224513053894\n",
      "Checkpoint 23 saved !\n",
      "Starting epoch 24/100.\n",
      "0.0000 --- loss: 0.462689\n"
     ]
    },
    {
     "name": "stderr",
     "output_type": "stream",
     "text": [
      "[************************************************                        ] 66% "
     ]
    },
    {
     "name": "stdout",
     "output_type": "stream",
     "text": [
      "0.5000 --- loss: 0.454260\n"
     ]
    },
    {
     "name": "stderr",
     "output_type": "stream",
     "text": [
      "[***                                                                     ]  5% "
     ]
    },
    {
     "name": "stdout",
     "output_type": "stream",
     "text": [
      "Epoch finished ! Loss: 0.453990638256073\n",
      "Validation Cross-Entropy Coeff: 0.5009234547615051\n",
      "Checkpoint 24 saved !\n",
      "Starting epoch 25/100.\n",
      "0.0000 --- loss: 0.450369\n"
     ]
    },
    {
     "name": "stderr",
     "output_type": "stream",
     "text": [
      "[*****************************************************                   ] 74% "
     ]
    },
    {
     "name": "stdout",
     "output_type": "stream",
     "text": [
      "0.5000 --- loss: 0.462906\n"
     ]
    },
    {
     "name": "stderr",
     "output_type": "stream",
     "text": [
      "[***                                                                     ]  5% "
     ]
    },
    {
     "name": "stdout",
     "output_type": "stream",
     "text": [
      "Epoch finished ! Loss: 0.4526287615299225\n",
      "Validation Cross-Entropy Coeff: 0.5054769515991211\n",
      "Checkpoint 25 saved !\n",
      "Starting epoch 26/100.\n",
      "0.0000 --- loss: 0.417970\n"
     ]
    },
    {
     "name": "stderr",
     "output_type": "stream",
     "text": [
      "[*****************************************************                   ] 74% "
     ]
    },
    {
     "name": "stdout",
     "output_type": "stream",
     "text": [
      "0.5000 --- loss: 0.401316\n"
     ]
    },
    {
     "name": "stderr",
     "output_type": "stream",
     "text": [
      "[***                                                                     ]  5% "
     ]
    },
    {
     "name": "stdout",
     "output_type": "stream",
     "text": [
      "Epoch finished ! Loss: 0.45222631096839905\n",
      "Validation Cross-Entropy Coeff: 0.5030394792556763\n",
      "Checkpoint 26 saved !\n",
      "Starting epoch 27/100.\n",
      "0.0000 --- loss: 0.419327\n"
     ]
    },
    {
     "name": "stderr",
     "output_type": "stream",
     "text": [
      "[*****************************************************                   ] 74% "
     ]
    },
    {
     "name": "stdout",
     "output_type": "stream",
     "text": [
      "0.5000 --- loss: 0.448107\n"
     ]
    },
    {
     "name": "stderr",
     "output_type": "stream",
     "text": [
      "[                                                                        ]N/A% "
     ]
    },
    {
     "name": "stdout",
     "output_type": "stream",
     "text": [
      "Epoch finished ! Loss: 0.45030295848846436\n",
      "Validation Cross-Entropy Coeff: 0.5006647706031799\n",
      "Checkpoint 27 saved !\n",
      "Starting epoch 28/100.\n",
      "0.0000 --- loss: 0.439507\n"
     ]
    },
    {
     "name": "stderr",
     "output_type": "stream",
     "text": [
      "                                                                               \r"
     ]
    },
    {
     "name": "stdout",
     "output_type": "stream",
     "text": [
      "0.5000 --- loss: 0.399723\n"
     ]
    },
    {
     "name": "stderr",
     "output_type": "stream",
     "text": [
      "[***                                                                     ]  5% "
     ]
    },
    {
     "name": "stdout",
     "output_type": "stream",
     "text": [
      "Epoch finished ! Loss: 0.4524668753147125\n",
      "Validation Cross-Entropy Coeff: 0.4988115727901459\n",
      "Checkpoint 28 saved !\n",
      "Starting epoch 29/100.\n",
      "0.0000 --- loss: 0.444075\n"
     ]
    },
    {
     "name": "stderr",
     "output_type": "stream",
     "text": [
      "[*****************************************************                   ] 74% "
     ]
    },
    {
     "name": "stdout",
     "output_type": "stream",
     "text": [
      "0.5000 --- loss: 0.415390\n"
     ]
    },
    {
     "name": "stderr",
     "output_type": "stream",
     "text": [
      "[***                                                                     ]  5% "
     ]
    },
    {
     "name": "stdout",
     "output_type": "stream",
     "text": [
      "Epoch finished ! Loss: 0.45326051115989685\n",
      "Validation Cross-Entropy Coeff: 0.49970823526382446\n",
      "Checkpoint 29 saved !\n",
      "Starting epoch 30/100.\n",
      "0.0000 --- loss: 0.435959\n"
     ]
    },
    {
     "name": "stderr",
     "output_type": "stream",
     "text": [
      "[*****************************************************                   ] 74% "
     ]
    },
    {
     "name": "stdout",
     "output_type": "stream",
     "text": [
      "0.5000 --- loss: 0.453741\n"
     ]
    },
    {
     "name": "stderr",
     "output_type": "stream",
     "text": [
      "[***                                                                     ]  5% "
     ]
    },
    {
     "name": "stdout",
     "output_type": "stream",
     "text": [
      "Epoch finished ! Loss: 0.4538629949092865\n",
      "Validation Cross-Entropy Coeff: 0.5010870099067688\n",
      "Checkpoint 30 saved !\n",
      "Starting epoch 31/100.\n",
      "0.0000 --- loss: 0.458729\n"
     ]
    },
    {
     "name": "stderr",
     "output_type": "stream",
     "text": [
      "[*****************************************************                   ] 74% "
     ]
    },
    {
     "name": "stdout",
     "output_type": "stream",
     "text": [
      "0.5000 --- loss: 0.436258\n"
     ]
    },
    {
     "name": "stderr",
     "output_type": "stream",
     "text": [
      "[***                                                                     ]  5% "
     ]
    },
    {
     "name": "stdout",
     "output_type": "stream",
     "text": [
      "Epoch finished ! Loss: 0.4505869746208191\n",
      "Validation Cross-Entropy Coeff: 0.5006445646286011\n",
      "Checkpoint 31 saved !\n",
      "Starting epoch 32/100.\n",
      "0.0000 --- loss: 0.442874\n"
     ]
    },
    {
     "name": "stderr",
     "output_type": "stream",
     "text": [
      "[*****************************************************                   ] 74% "
     ]
    },
    {
     "name": "stdout",
     "output_type": "stream",
     "text": [
      "0.5000 --- loss: 0.425942\n"
     ]
    },
    {
     "name": "stderr",
     "output_type": "stream",
     "text": [
      "[***                                                                     ]  5% "
     ]
    },
    {
     "name": "stdout",
     "output_type": "stream",
     "text": [
      "Epoch finished ! Loss: 0.45192429423332214\n",
      "Validation Cross-Entropy Coeff: 0.4999656677246094\n",
      "Checkpoint 32 saved !\n",
      "Starting epoch 33/100.\n",
      "0.0000 --- loss: 0.434672\n"
     ]
    },
    {
     "name": "stderr",
     "output_type": "stream",
     "text": [
      "[*****************************************************                   ] 74% "
     ]
    },
    {
     "name": "stdout",
     "output_type": "stream",
     "text": [
      "0.5000 --- loss: 0.458438\n"
     ]
    },
    {
     "name": "stderr",
     "output_type": "stream",
     "text": [
      "[***                                                                     ]  5% "
     ]
    },
    {
     "name": "stdout",
     "output_type": "stream",
     "text": [
      "Epoch finished ! Loss: 0.4501936137676239\n",
      "Validation Cross-Entropy Coeff: 0.5018554329872131\n",
      "Checkpoint 33 saved !\n",
      "Starting epoch 34/100.\n",
      "0.0000 --- loss: 0.430327\n"
     ]
    },
    {
     "name": "stderr",
     "output_type": "stream",
     "text": [
      "[*******************************************************                 ] 76% "
     ]
    },
    {
     "name": "stdout",
     "output_type": "stream",
     "text": [
      "0.5000 --- loss: 0.458896\n"
     ]
    },
    {
     "name": "stderr",
     "output_type": "stream",
     "text": [
      "[***                                                                     ]  5% "
     ]
    },
    {
     "name": "stdout",
     "output_type": "stream",
     "text": [
      "Epoch finished ! Loss: 0.4513252079486847\n",
      "Validation Cross-Entropy Coeff: 0.4987582564353943\n",
      "Checkpoint 34 saved !\n",
      "Starting epoch 35/100.\n",
      "0.0000 --- loss: 0.430580\n"
     ]
    },
    {
     "name": "stderr",
     "output_type": "stream",
     "text": [
      "[*****************************************************                   ] 74% "
     ]
    },
    {
     "name": "stdout",
     "output_type": "stream",
     "text": [
      "0.5000 --- loss: 0.436500\n"
     ]
    },
    {
     "name": "stderr",
     "output_type": "stream",
     "text": [
      "[***                                                                     ]  5% "
     ]
    },
    {
     "name": "stdout",
     "output_type": "stream",
     "text": [
      "Epoch finished ! Loss: 0.45363256335258484\n",
      "Validation Cross-Entropy Coeff: 0.5004241466522217\n",
      "Checkpoint 35 saved !\n",
      "Starting epoch 36/100.\n",
      "0.0000 --- loss: 0.406835\n"
     ]
    },
    {
     "name": "stderr",
     "output_type": "stream",
     "text": [
      "[*****************************************************                   ] 74% "
     ]
    },
    {
     "name": "stdout",
     "output_type": "stream",
     "text": [
      "0.5000 --- loss: 0.455436\n"
     ]
    },
    {
     "name": "stderr",
     "output_type": "stream",
     "text": [
      "[***                                                                     ]  5% "
     ]
    },
    {
     "name": "stdout",
     "output_type": "stream",
     "text": [
      "Epoch finished ! Loss: 0.45245808362960815\n",
      "Validation Cross-Entropy Coeff: 0.5016993284225464\n",
      "Checkpoint 36 saved !\n",
      "Starting epoch 37/100.\n",
      "0.0000 --- loss: 0.484480\n"
     ]
    },
    {
     "name": "stderr",
     "output_type": "stream",
     "text": [
      "[************************************************                        ] 66% "
     ]
    },
    {
     "name": "stdout",
     "output_type": "stream",
     "text": [
      "0.5000 --- loss: 0.490693\n"
     ]
    },
    {
     "name": "stderr",
     "output_type": "stream",
     "text": [
      "[***                                                                     ]  5% "
     ]
    },
    {
     "name": "stdout",
     "output_type": "stream",
     "text": [
      "Epoch finished ! Loss: 0.45097973942756653\n",
      "Validation Cross-Entropy Coeff: 0.5007407665252686\n",
      "Checkpoint 37 saved !\n",
      "Starting epoch 38/100.\n",
      "0.0000 --- loss: 0.414478\n"
     ]
    },
    {
     "name": "stderr",
     "output_type": "stream",
     "text": [
      "[*****************************************************                   ] 74% "
     ]
    },
    {
     "name": "stdout",
     "output_type": "stream",
     "text": [
      "0.5000 --- loss: 0.451926\n"
     ]
    },
    {
     "name": "stderr",
     "output_type": "stream",
     "text": [
      "[***                                                                     ]  5% "
     ]
    },
    {
     "name": "stdout",
     "output_type": "stream",
     "text": [
      "Epoch finished ! Loss: 0.4509328305721283\n",
      "Validation Cross-Entropy Coeff: 0.5035111308097839\n",
      "Checkpoint 38 saved !\n",
      "Starting epoch 39/100.\n",
      "0.0000 --- loss: 0.427271\n"
     ]
    },
    {
     "name": "stderr",
     "output_type": "stream",
     "text": [
      "[************************************************                        ] 66% "
     ]
    },
    {
     "name": "stdout",
     "output_type": "stream",
     "text": [
      "0.5000 --- loss: 0.418068\n"
     ]
    },
    {
     "name": "stderr",
     "output_type": "stream",
     "text": [
      "[*****                                                                   ]  7% "
     ]
    },
    {
     "name": "stdout",
     "output_type": "stream",
     "text": [
      "Epoch finished ! Loss: 0.4495440423488617\n",
      "Validation Cross-Entropy Coeff: 0.5011076331138611\n",
      "Checkpoint 39 saved !\n",
      "Starting epoch 40/100.\n",
      "0.0000 --- loss: 0.463156\n"
     ]
    },
    {
     "name": "stderr",
     "output_type": "stream",
     "text": [
      "[*****************************************************                   ] 74% "
     ]
    },
    {
     "name": "stdout",
     "output_type": "stream",
     "text": [
      "0.5000 --- loss: 0.403850\n"
     ]
    },
    {
     "name": "stderr",
     "output_type": "stream",
     "text": [
      "[*****                                                                   ]  7% "
     ]
    },
    {
     "name": "stdout",
     "output_type": "stream",
     "text": [
      "Epoch finished ! Loss: 0.4508158564567566\n",
      "Validation Cross-Entropy Coeff: 0.5009186267852783\n",
      "Checkpoint 40 saved !\n",
      "Starting epoch 41/100.\n",
      "0.0000 --- loss: 0.414711\n"
     ]
    },
    {
     "name": "stderr",
     "output_type": "stream",
     "text": [
      "[*************************************************                       ] 69% "
     ]
    },
    {
     "name": "stdout",
     "output_type": "stream",
     "text": [
      "0.5000 --- loss: 0.429123\n"
     ]
    },
    {
     "name": "stderr",
     "output_type": "stream",
     "text": [
      "[*****                                                                   ]  7% "
     ]
    },
    {
     "name": "stdout",
     "output_type": "stream",
     "text": [
      "Epoch finished ! Loss: 0.44999226927757263\n",
      "Validation Cross-Entropy Coeff: 0.5018774271011353\n",
      "Checkpoint 41 saved !\n",
      "Starting epoch 42/100.\n",
      "0.0000 --- loss: 0.423965\n"
     ]
    },
    {
     "name": "stderr",
     "output_type": "stream",
     "text": [
      "[*************************************************                       ] 69% "
     ]
    },
    {
     "name": "stdout",
     "output_type": "stream",
     "text": [
      "0.5000 --- loss: 0.434056\n"
     ]
    },
    {
     "name": "stderr",
     "output_type": "stream",
     "text": [
      "                                                                               \r"
     ]
    },
    {
     "name": "stdout",
     "output_type": "stream",
     "text": [
      "Epoch finished ! Loss: 0.4515538513660431\n",
      "Validation Cross-Entropy Coeff: 0.5006073117256165\n",
      "Checkpoint 42 saved !\n",
      "Starting epoch 43/100.\n",
      "0.0000 --- loss: 0.449086\n"
     ]
    },
    {
     "name": "stderr",
     "output_type": "stream",
     "text": [
      "[*****************************************************                   ] 74% "
     ]
    },
    {
     "name": "stdout",
     "output_type": "stream",
     "text": [
      "0.5000 --- loss: 0.418105\n"
     ]
    },
    {
     "name": "stderr",
     "output_type": "stream",
     "text": [
      "[***                                                                     ]  5% "
     ]
    },
    {
     "name": "stdout",
     "output_type": "stream",
     "text": [
      "Epoch finished ! Loss: 0.45360833406448364\n",
      "Validation Cross-Entropy Coeff: 0.5008277893066406\n",
      "Checkpoint 43 saved !\n",
      "Starting epoch 44/100.\n",
      "0.0000 --- loss: 0.488054\n"
     ]
    },
    {
     "name": "stderr",
     "output_type": "stream",
     "text": [
      "[*****************************************************                   ] 74% "
     ]
    },
    {
     "name": "stdout",
     "output_type": "stream",
     "text": [
      "0.5000 --- loss: 0.495737\n"
     ]
    },
    {
     "name": "stderr",
     "output_type": "stream",
     "text": [
      "[***                                                                     ]  5% "
     ]
    },
    {
     "name": "stdout",
     "output_type": "stream",
     "text": [
      "Epoch finished ! Loss: 0.45296430587768555\n",
      "Validation Cross-Entropy Coeff: 0.4997994601726532\n",
      "Checkpoint 44 saved !\n",
      "Starting epoch 45/100.\n",
      "0.0000 --- loss: 0.435872\n"
     ]
    },
    {
     "name": "stderr",
     "output_type": "stream",
     "text": [
      "[*****************************************************                   ] 74% "
     ]
    },
    {
     "name": "stdout",
     "output_type": "stream",
     "text": [
      "0.5000 --- loss: 0.438232\n"
     ]
    },
    {
     "name": "stderr",
     "output_type": "stream",
     "text": [
      "[***                                                                     ]  5% "
     ]
    },
    {
     "name": "stdout",
     "output_type": "stream",
     "text": [
      "Epoch finished ! Loss: 0.4513258934020996\n",
      "Validation Cross-Entropy Coeff: 0.5030460953712463\n",
      "Checkpoint 45 saved !\n",
      "Starting epoch 46/100.\n",
      "0.0000 --- loss: 0.436028\n"
     ]
    },
    {
     "name": "stderr",
     "output_type": "stream",
     "text": [
      "[***************************************************                     ] 71% "
     ]
    },
    {
     "name": "stdout",
     "output_type": "stream",
     "text": [
      "0.5000 --- loss: 0.414519\n"
     ]
    },
    {
     "name": "stderr",
     "output_type": "stream",
     "text": [
      "[***                                                                     ]  5% "
     ]
    },
    {
     "name": "stdout",
     "output_type": "stream",
     "text": [
      "Epoch finished ! Loss: 0.4511546790599823\n",
      "Validation Cross-Entropy Coeff: 0.5001278519630432\n",
      "Checkpoint 46 saved !\n",
      "Starting epoch 47/100.\n",
      "0.0000 --- loss: 0.460998\n"
     ]
    },
    {
     "name": "stderr",
     "output_type": "stream",
     "text": [
      "[*****************************************************                   ] 74% "
     ]
    },
    {
     "name": "stdout",
     "output_type": "stream",
     "text": [
      "0.5000 --- loss: 0.485010\n"
     ]
    },
    {
     "name": "stderr",
     "output_type": "stream",
     "text": [
      "[                                                                        ]N/A% "
     ]
    },
    {
     "name": "stdout",
     "output_type": "stream",
     "text": [
      "Epoch finished ! Loss: 0.45203283429145813\n",
      "Validation Cross-Entropy Coeff: 0.5023588538169861\n",
      "Checkpoint 47 saved !\n",
      "Starting epoch 48/100.\n",
      "0.0000 --- loss: 0.492688\n"
     ]
    },
    {
     "name": "stderr",
     "output_type": "stream",
     "text": [
      "[*****************************************************                   ] 74% "
     ]
    },
    {
     "name": "stdout",
     "output_type": "stream",
     "text": [
      "0.5000 --- loss: 0.402562\n"
     ]
    },
    {
     "name": "stderr",
     "output_type": "stream",
     "text": [
      "[***                                                                     ]  5% "
     ]
    },
    {
     "name": "stdout",
     "output_type": "stream",
     "text": [
      "Epoch finished ! Loss: 0.4502023160457611\n",
      "Validation Cross-Entropy Coeff: 0.4996893107891083\n",
      "Checkpoint 48 saved !\n",
      "Starting epoch 49/100.\n",
      "0.0000 --- loss: 0.421167\n"
     ]
    },
    {
     "name": "stderr",
     "output_type": "stream",
     "text": [
      "[*****************************************************                   ] 74% "
     ]
    },
    {
     "name": "stdout",
     "output_type": "stream",
     "text": [
      "0.5000 --- loss: 0.449728\n"
     ]
    },
    {
     "name": "stderr",
     "output_type": "stream",
     "text": [
      "[***                                                                     ]  5% "
     ]
    },
    {
     "name": "stdout",
     "output_type": "stream",
     "text": [
      "Epoch finished ! Loss: 0.4498894214630127\n",
      "Validation Cross-Entropy Coeff: 0.49853774905204773\n",
      "Checkpoint 49 saved !\n",
      "Starting epoch 50/100.\n",
      "0.0000 --- loss: 0.469059\n"
     ]
    },
    {
     "name": "stderr",
     "output_type": "stream",
     "text": [
      "                                                                               \r"
     ]
    },
    {
     "name": "stdout",
     "output_type": "stream",
     "text": [
      "0.5000 --- loss: 0.426637\n"
     ]
    },
    {
     "name": "stderr",
     "output_type": "stream",
     "text": [
      "[***                                                                     ]  5% "
     ]
    },
    {
     "name": "stdout",
     "output_type": "stream",
     "text": [
      "Epoch finished ! Loss: 0.4505872130393982\n",
      "Validation Cross-Entropy Coeff: 0.502082884311676\n",
      "Checkpoint 50 saved !\n",
      "Starting epoch 51/100.\n",
      "0.0000 --- loss: 0.491956\n"
     ]
    },
    {
     "name": "stderr",
     "output_type": "stream",
     "text": [
      "[*****************************************************                   ] 74% "
     ]
    },
    {
     "name": "stdout",
     "output_type": "stream",
     "text": [
      "0.5000 --- loss: 0.435425\n"
     ]
    },
    {
     "name": "stderr",
     "output_type": "stream",
     "text": [
      "[***                                                                     ]  5% "
     ]
    },
    {
     "name": "stdout",
     "output_type": "stream",
     "text": [
      "Epoch finished ! Loss: 0.4508921802043915\n",
      "Validation Cross-Entropy Coeff: 0.49884817004203796\n",
      "Checkpoint 51 saved !\n",
      "Starting epoch 52/100.\n",
      "0.0000 --- loss: 0.407378\n"
     ]
    },
    {
     "name": "stderr",
     "output_type": "stream",
     "text": [
      "[*****************************************************                   ] 74% "
     ]
    },
    {
     "name": "stdout",
     "output_type": "stream",
     "text": [
      "0.5000 --- loss: 0.440244\n"
     ]
    },
    {
     "name": "stderr",
     "output_type": "stream",
     "text": [
      "[***                                                                     ]  5% "
     ]
    },
    {
     "name": "stdout",
     "output_type": "stream",
     "text": [
      "Epoch finished ! Loss: 0.4494764506816864\n",
      "Validation Cross-Entropy Coeff: 0.5003409385681152\n",
      "Checkpoint 52 saved !\n",
      "Starting epoch 53/100.\n",
      "0.0000 --- loss: 0.468855\n"
     ]
    },
    {
     "name": "stderr",
     "output_type": "stream",
     "text": [
      "[*****************************************************                   ] 74% "
     ]
    },
    {
     "name": "stdout",
     "output_type": "stream",
     "text": [
      "0.5000 --- loss: 0.431073\n"
     ]
    },
    {
     "name": "stderr",
     "output_type": "stream",
     "text": [
      "[                                                                        ]N/A% "
     ]
    },
    {
     "name": "stdout",
     "output_type": "stream",
     "text": [
      "Epoch finished ! Loss: 0.4497573971748352\n",
      "Validation Cross-Entropy Coeff: 0.5028927326202393\n",
      "Checkpoint 53 saved !\n",
      "Starting epoch 54/100.\n",
      "0.0000 --- loss: 0.372691\n"
     ]
    },
    {
     "name": "stderr",
     "output_type": "stream",
     "text": [
      "                                                                               \r"
     ]
    },
    {
     "name": "stdout",
     "output_type": "stream",
     "text": [
      "0.5000 --- loss: 0.425177\n"
     ]
    },
    {
     "name": "stderr",
     "output_type": "stream",
     "text": [
      "[***                                                                     ]  5% "
     ]
    },
    {
     "name": "stdout",
     "output_type": "stream",
     "text": [
      "Epoch finished ! Loss: 0.4506957232952118\n",
      "Validation Cross-Entropy Coeff: 0.5011613965034485\n",
      "Checkpoint 54 saved !\n",
      "Starting epoch 55/100.\n",
      "0.0000 --- loss: 0.462047\n"
     ]
    },
    {
     "name": "stderr",
     "output_type": "stream",
     "text": [
      "                                                                               \r"
     ]
    },
    {
     "name": "stdout",
     "output_type": "stream",
     "text": [
      "0.5000 --- loss: 0.437959\n"
     ]
    },
    {
     "name": "stderr",
     "output_type": "stream",
     "text": [
      "[***                                                                     ]  5% "
     ]
    },
    {
     "name": "stdout",
     "output_type": "stream",
     "text": [
      "Epoch finished ! Loss: 0.44744282960891724\n",
      "Validation Cross-Entropy Coeff: 0.4996592104434967\n",
      "Checkpoint 55 saved !\n",
      "Starting epoch 56/100.\n",
      "0.0000 --- loss: 0.437209\n"
     ]
    },
    {
     "name": "stderr",
     "output_type": "stream",
     "text": [
      "[*****************************************************                   ] 74% "
     ]
    },
    {
     "name": "stdout",
     "output_type": "stream",
     "text": [
      "0.5000 --- loss: 0.391708\n"
     ]
    },
    {
     "name": "stderr",
     "output_type": "stream",
     "text": [
      "[***                                                                     ]  5% "
     ]
    },
    {
     "name": "stdout",
     "output_type": "stream",
     "text": [
      "Epoch finished ! Loss: 0.4497223496437073\n",
      "Validation Cross-Entropy Coeff: 0.4984133541584015\n",
      "Checkpoint 56 saved !\n",
      "Starting epoch 57/100.\n",
      "0.0000 --- loss: 0.437996\n"
     ]
    },
    {
     "name": "stderr",
     "output_type": "stream",
     "text": [
      "[************************************************                        ] 66% "
     ]
    },
    {
     "name": "stdout",
     "output_type": "stream",
     "text": [
      "0.5000 --- loss: 0.422293\n"
     ]
    },
    {
     "name": "stderr",
     "output_type": "stream",
     "text": [
      "[***                                                                     ]  5% "
     ]
    },
    {
     "name": "stdout",
     "output_type": "stream",
     "text": [
      "Epoch finished ! Loss: 0.450803279876709\n",
      "Validation Cross-Entropy Coeff: 0.4989894926548004\n",
      "Checkpoint 57 saved !\n",
      "Starting epoch 58/100.\n",
      "0.0000 --- loss: 0.394482\n"
     ]
    },
    {
     "name": "stderr",
     "output_type": "stream",
     "text": [
      "[*****************************************************                   ] 74% "
     ]
    },
    {
     "name": "stdout",
     "output_type": "stream",
     "text": [
      "0.5000 --- loss: 0.433405\n"
     ]
    },
    {
     "name": "stderr",
     "output_type": "stream",
     "text": [
      "[***                                                                     ]  5% "
     ]
    },
    {
     "name": "stdout",
     "output_type": "stream",
     "text": [
      "Epoch finished ! Loss: 0.4472525119781494\n",
      "Validation Cross-Entropy Coeff: 0.5006584525108337\n",
      "Checkpoint 58 saved !\n",
      "Starting epoch 59/100.\n",
      "0.0000 --- loss: 0.391467\n"
     ]
    },
    {
     "name": "stderr",
     "output_type": "stream",
     "text": [
      "[*****************************************************                   ] 74% "
     ]
    },
    {
     "name": "stdout",
     "output_type": "stream",
     "text": [
      "0.5000 --- loss: 0.385630\n"
     ]
    },
    {
     "name": "stderr",
     "output_type": "stream",
     "text": [
      "[***                                                                     ]  5% "
     ]
    },
    {
     "name": "stdout",
     "output_type": "stream",
     "text": [
      "Epoch finished ! Loss: 0.4487541913986206\n",
      "Validation Cross-Entropy Coeff: 0.5014179348945618\n",
      "Checkpoint 59 saved !\n",
      "Starting epoch 60/100.\n",
      "0.0000 --- loss: 0.434022\n"
     ]
    },
    {
     "name": "stderr",
     "output_type": "stream",
     "text": [
      "[************************************************                        ] 66% "
     ]
    },
    {
     "name": "stdout",
     "output_type": "stream",
     "text": [
      "0.5000 --- loss: 0.416419\n"
     ]
    },
    {
     "name": "stderr",
     "output_type": "stream",
     "text": [
      "[***                                                                     ]  5% "
     ]
    },
    {
     "name": "stdout",
     "output_type": "stream",
     "text": [
      "Epoch finished ! Loss: 0.4506564438343048\n",
      "Validation Cross-Entropy Coeff: 0.5041338205337524\n",
      "Checkpoint 60 saved !\n",
      "Starting epoch 61/100.\n",
      "0.0000 --- loss: 0.417502\n"
     ]
    },
    {
     "name": "stderr",
     "output_type": "stream",
     "text": [
      "[*****************************************************                   ] 74% "
     ]
    },
    {
     "name": "stdout",
     "output_type": "stream",
     "text": [
      "0.5000 --- loss: 0.430410\n"
     ]
    },
    {
     "name": "stderr",
     "output_type": "stream",
     "text": [
      "[***                                                                     ]  5% "
     ]
    },
    {
     "name": "stdout",
     "output_type": "stream",
     "text": [
      "Epoch finished ! Loss: 0.4475422501564026\n",
      "Validation Cross-Entropy Coeff: 0.5023722648620605\n",
      "Checkpoint 61 saved !\n",
      "Starting epoch 62/100.\n",
      "0.0000 --- loss: 0.431857\n"
     ]
    },
    {
     "name": "stderr",
     "output_type": "stream",
     "text": [
      "[*****************************************************                   ] 74% "
     ]
    },
    {
     "name": "stdout",
     "output_type": "stream",
     "text": [
      "0.5000 --- loss: 0.423400\n"
     ]
    },
    {
     "name": "stderr",
     "output_type": "stream",
     "text": [
      "                                                                               \r"
     ]
    },
    {
     "name": "stdout",
     "output_type": "stream",
     "text": [
      "Epoch finished ! Loss: 0.45155560970306396\n",
      "Validation Cross-Entropy Coeff: 0.49831655621528625\n",
      "Checkpoint 62 saved !\n",
      "Starting epoch 63/100.\n",
      "0.0000 --- loss: 0.461539\n"
     ]
    },
    {
     "name": "stderr",
     "output_type": "stream",
     "text": [
      "[*****************************************************                   ] 74% "
     ]
    },
    {
     "name": "stdout",
     "output_type": "stream",
     "text": [
      "0.5000 --- loss: 0.444387\n"
     ]
    },
    {
     "name": "stderr",
     "output_type": "stream",
     "text": [
      "[***                                                                     ]  5% "
     ]
    },
    {
     "name": "stdout",
     "output_type": "stream",
     "text": [
      "Epoch finished ! Loss: 0.4498520791530609\n",
      "Validation Cross-Entropy Coeff: 0.5005964636802673\n",
      "Checkpoint 63 saved !\n",
      "Starting epoch 64/100.\n",
      "0.0000 --- loss: 0.447205\n"
     ]
    },
    {
     "name": "stderr",
     "output_type": "stream",
     "text": [
      "[*****************************************************                   ] 74% "
     ]
    },
    {
     "name": "stdout",
     "output_type": "stream",
     "text": [
      "0.5000 --- loss: 0.440491\n"
     ]
    },
    {
     "name": "stderr",
     "output_type": "stream",
     "text": [
      "[*****                                                                   ]  7% "
     ]
    },
    {
     "name": "stdout",
     "output_type": "stream",
     "text": [
      "Epoch finished ! Loss: 0.44792869687080383\n",
      "Validation Cross-Entropy Coeff: 0.49684831500053406\n",
      "Checkpoint 64 saved !\n",
      "Starting epoch 65/100.\n",
      "0.0000 --- loss: 0.414961\n"
     ]
    },
    {
     "name": "stderr",
     "output_type": "stream",
     "text": [
      "[*************************************************                       ] 69% "
     ]
    },
    {
     "name": "stdout",
     "output_type": "stream",
     "text": [
      "0.5000 --- loss: 0.441490\n"
     ]
    },
    {
     "name": "stderr",
     "output_type": "stream",
     "text": [
      "[***                                                                     ]  5% "
     ]
    },
    {
     "name": "stdout",
     "output_type": "stream",
     "text": [
      "Epoch finished ! Loss: 0.4498145282268524\n",
      "Validation Cross-Entropy Coeff: 0.5016500353813171\n",
      "Checkpoint 65 saved !\n",
      "Starting epoch 66/100.\n",
      "0.0000 --- loss: 0.419679\n"
     ]
    },
    {
     "name": "stderr",
     "output_type": "stream",
     "text": [
      "                                                                               \r"
     ]
    },
    {
     "name": "stdout",
     "output_type": "stream",
     "text": [
      "0.5000 --- loss: 0.439662\n"
     ]
    },
    {
     "name": "stderr",
     "output_type": "stream",
     "text": [
      "[***                                                                     ]  5% "
     ]
    },
    {
     "name": "stdout",
     "output_type": "stream",
     "text": [
      "Epoch finished ! Loss: 0.44726788997650146\n",
      "Validation Cross-Entropy Coeff: 0.5005765557289124\n",
      "Checkpoint 66 saved !\n",
      "Starting epoch 67/100.\n",
      "0.0000 --- loss: 0.481392\n"
     ]
    },
    {
     "name": "stderr",
     "output_type": "stream",
     "text": [
      "[*****************************************************                   ] 74% "
     ]
    },
    {
     "name": "stdout",
     "output_type": "stream",
     "text": [
      "0.5000 --- loss: 0.426562\n"
     ]
    },
    {
     "name": "stderr",
     "output_type": "stream",
     "text": [
      "[*****                                                                   ]  7% "
     ]
    },
    {
     "name": "stdout",
     "output_type": "stream",
     "text": [
      "Epoch finished ! Loss: 0.45088401436805725\n",
      "Validation Cross-Entropy Coeff: 0.5025231838226318\n",
      "Checkpoint 67 saved !\n",
      "Starting epoch 68/100.\n",
      "0.0000 --- loss: 0.417831\n"
     ]
    },
    {
     "name": "stderr",
     "output_type": "stream",
     "text": [
      "[*************************************************                       ] 69% "
     ]
    },
    {
     "name": "stdout",
     "output_type": "stream",
     "text": [
      "0.5000 --- loss: 0.457976\n"
     ]
    },
    {
     "name": "stderr",
     "output_type": "stream",
     "text": [
      "[***                                                                     ]  5% "
     ]
    },
    {
     "name": "stdout",
     "output_type": "stream",
     "text": [
      "Epoch finished ! Loss: 0.4468574523925781\n",
      "Validation Cross-Entropy Coeff: 0.49754229187965393\n",
      "Checkpoint 68 saved !\n",
      "Starting epoch 69/100.\n",
      "0.0000 --- loss: 0.466429\n"
     ]
    },
    {
     "name": "stderr",
     "output_type": "stream",
     "text": [
      "[*****************************************************                   ] 74% "
     ]
    },
    {
     "name": "stdout",
     "output_type": "stream",
     "text": [
      "0.5000 --- loss: 0.464259\n"
     ]
    },
    {
     "name": "stderr",
     "output_type": "stream",
     "text": [
      "[***                                                                     ]  5% "
     ]
    },
    {
     "name": "stdout",
     "output_type": "stream",
     "text": [
      "Epoch finished ! Loss: 0.4492638409137726\n",
      "Validation Cross-Entropy Coeff: 0.5032280683517456\n",
      "Checkpoint 69 saved !\n",
      "Starting epoch 70/100.\n",
      "0.0000 --- loss: 0.417419\n"
     ]
    },
    {
     "name": "stderr",
     "output_type": "stream",
     "text": [
      "[*****************************************************                   ] 74% "
     ]
    },
    {
     "name": "stdout",
     "output_type": "stream",
     "text": [
      "0.5000 --- loss: 0.434570\n"
     ]
    },
    {
     "name": "stderr",
     "output_type": "stream",
     "text": [
      "[***                                                                     ]  5% "
     ]
    },
    {
     "name": "stdout",
     "output_type": "stream",
     "text": [
      "Epoch finished ! Loss: 0.44760268926620483\n",
      "Validation Cross-Entropy Coeff: 0.49806180596351624\n",
      "Checkpoint 70 saved !\n",
      "Starting epoch 71/100.\n",
      "0.0000 --- loss: 0.433389\n"
     ]
    },
    {
     "name": "stderr",
     "output_type": "stream",
     "text": [
      "[*****************************************************                   ] 74% "
     ]
    },
    {
     "name": "stdout",
     "output_type": "stream",
     "text": [
      "0.5000 --- loss: 0.419809\n"
     ]
    },
    {
     "name": "stderr",
     "output_type": "stream",
     "text": [
      "[***                                                                     ]  5% "
     ]
    },
    {
     "name": "stdout",
     "output_type": "stream",
     "text": [
      "Epoch finished ! Loss: 0.44991928339004517\n",
      "Validation Cross-Entropy Coeff: 0.5012610554695129\n",
      "Checkpoint 71 saved !\n",
      "Starting epoch 72/100.\n",
      "0.0000 --- loss: 0.408992\n"
     ]
    },
    {
     "name": "stderr",
     "output_type": "stream",
     "text": [
      "[*****************************************************                   ] 74% "
     ]
    },
    {
     "name": "stdout",
     "output_type": "stream",
     "text": [
      "0.5000 --- loss: 0.554124\n"
     ]
    },
    {
     "name": "stderr",
     "output_type": "stream",
     "text": [
      "[                                                                        ]N/A% "
     ]
    },
    {
     "name": "stdout",
     "output_type": "stream",
     "text": [
      "Epoch finished ! Loss: 0.4496033191680908\n",
      "Validation Cross-Entropy Coeff: 0.5011182427406311\n",
      "Checkpoint 72 saved !\n",
      "Starting epoch 73/100.\n",
      "0.0000 --- loss: 0.407239\n"
     ]
    },
    {
     "name": "stderr",
     "output_type": "stream",
     "text": [
      "[*******************************************************                 ] 76% "
     ]
    },
    {
     "name": "stdout",
     "output_type": "stream",
     "text": [
      "0.5000 --- loss: 0.409767\n"
     ]
    },
    {
     "name": "stderr",
     "output_type": "stream",
     "text": [
      "[***                                                                     ]  5% "
     ]
    },
    {
     "name": "stdout",
     "output_type": "stream",
     "text": [
      "Epoch finished ! Loss: 0.4489409625530243\n",
      "Validation Cross-Entropy Coeff: 0.5013936161994934\n",
      "Checkpoint 73 saved !\n",
      "Starting epoch 74/100.\n",
      "0.0000 --- loss: 0.470767\n"
     ]
    },
    {
     "name": "stderr",
     "output_type": "stream",
     "text": [
      "[*****************************************************                   ] 74% "
     ]
    },
    {
     "name": "stdout",
     "output_type": "stream",
     "text": [
      "0.5000 --- loss: 0.469962\n"
     ]
    },
    {
     "name": "stderr",
     "output_type": "stream",
     "text": [
      "[***                                                                     ]  5% "
     ]
    },
    {
     "name": "stdout",
     "output_type": "stream",
     "text": [
      "Epoch finished ! Loss: 0.44735822081565857\n",
      "Validation Cross-Entropy Coeff: 0.5000836849212646\n",
      "Checkpoint 74 saved !\n",
      "Starting epoch 75/100.\n",
      "0.0000 --- loss: 0.422823\n"
     ]
    },
    {
     "name": "stderr",
     "output_type": "stream",
     "text": [
      "[************************************************                        ] 66% "
     ]
    },
    {
     "name": "stdout",
     "output_type": "stream",
     "text": [
      "0.5000 --- loss: 0.438756\n"
     ]
    },
    {
     "name": "stderr",
     "output_type": "stream",
     "text": [
      "[***                                                                     ]  5% "
     ]
    },
    {
     "name": "stdout",
     "output_type": "stream",
     "text": [
      "Epoch finished ! Loss: 0.44784146547317505\n",
      "Validation Cross-Entropy Coeff: 0.4989014267921448\n",
      "Checkpoint 75 saved !\n",
      "Starting epoch 76/100.\n",
      "0.0000 --- loss: 0.436382\n"
     ]
    },
    {
     "name": "stderr",
     "output_type": "stream",
     "text": [
      "[*****************************************************                   ] 74% "
     ]
    },
    {
     "name": "stdout",
     "output_type": "stream",
     "text": [
      "0.5000 --- loss: 0.433713\n"
     ]
    },
    {
     "name": "stderr",
     "output_type": "stream",
     "text": [
      "[*****                                                                   ]  7% "
     ]
    },
    {
     "name": "stdout",
     "output_type": "stream",
     "text": [
      "Epoch finished ! Loss: 0.45126014947891235\n",
      "Validation Cross-Entropy Coeff: 0.4976106882095337\n",
      "Checkpoint 76 saved !\n",
      "Starting epoch 77/100.\n",
      "0.0000 --- loss: 0.415779\n"
     ]
    },
    {
     "name": "stderr",
     "output_type": "stream",
     "text": [
      "[*************************************************                       ] 69% "
     ]
    },
    {
     "name": "stdout",
     "output_type": "stream",
     "text": [
      "0.5000 --- loss: 0.442234\n"
     ]
    },
    {
     "name": "stderr",
     "output_type": "stream",
     "text": [
      "[***                                                                     ]  5% "
     ]
    },
    {
     "name": "stdout",
     "output_type": "stream",
     "text": [
      "Epoch finished ! Loss: 0.4481203556060791\n",
      "Validation Cross-Entropy Coeff: 0.4993099570274353\n",
      "Checkpoint 77 saved !\n",
      "Starting epoch 78/100.\n",
      "0.0000 --- loss: 0.438719\n"
     ]
    },
    {
     "name": "stderr",
     "output_type": "stream",
     "text": [
      "[*****************************************************                   ] 74% "
     ]
    },
    {
     "name": "stdout",
     "output_type": "stream",
     "text": [
      "0.5000 --- loss: 0.461819\n"
     ]
    },
    {
     "name": "stderr",
     "output_type": "stream",
     "text": [
      "[***                                                                     ]  5% "
     ]
    },
    {
     "name": "stdout",
     "output_type": "stream",
     "text": [
      "Epoch finished ! Loss: 0.44864800572395325\n",
      "Validation Cross-Entropy Coeff: 0.5073052644729614\n",
      "Checkpoint 78 saved !\n",
      "Starting epoch 79/100.\n",
      "0.0000 --- loss: 0.440186\n"
     ]
    },
    {
     "name": "stderr",
     "output_type": "stream",
     "text": [
      "[*****************************************************                   ] 74% "
     ]
    },
    {
     "name": "stdout",
     "output_type": "stream",
     "text": [
      "0.5000 --- loss: 0.402554\n"
     ]
    },
    {
     "name": "stderr",
     "output_type": "stream",
     "text": [
      "[                                                                        ]N/A% "
     ]
    },
    {
     "name": "stdout",
     "output_type": "stream",
     "text": [
      "Epoch finished ! Loss: 0.44684019684791565\n",
      "Validation Cross-Entropy Coeff: 0.5010749697685242\n",
      "Checkpoint 79 saved !\n",
      "Starting epoch 80/100.\n",
      "0.0000 --- loss: 0.447136\n"
     ]
    },
    {
     "name": "stderr",
     "output_type": "stream",
     "text": [
      "[*****************************************************                   ] 74% "
     ]
    },
    {
     "name": "stdout",
     "output_type": "stream",
     "text": [
      "0.5000 --- loss: 0.394194\n"
     ]
    },
    {
     "name": "stderr",
     "output_type": "stream",
     "text": [
      "[***                                                                     ]  5% "
     ]
    },
    {
     "name": "stdout",
     "output_type": "stream",
     "text": [
      "Epoch finished ! Loss: 0.44743356108665466\n",
      "Validation Cross-Entropy Coeff: 0.5013685822486877\n",
      "Checkpoint 80 saved !\n",
      "Starting epoch 81/100.\n",
      "0.0000 --- loss: 0.444602\n"
     ]
    },
    {
     "name": "stderr",
     "output_type": "stream",
     "text": [
      "[*****************************************************                   ] 74% "
     ]
    },
    {
     "name": "stdout",
     "output_type": "stream",
     "text": [
      "0.5000 --- loss: 0.470300\n"
     ]
    },
    {
     "name": "stderr",
     "output_type": "stream",
     "text": [
      "[***                                                                     ]  5% "
     ]
    },
    {
     "name": "stdout",
     "output_type": "stream",
     "text": [
      "Epoch finished ! Loss: 0.4474228024482727\n",
      "Validation Cross-Entropy Coeff: 0.5026427507400513\n",
      "Checkpoint 81 saved !\n",
      "Starting epoch 82/100.\n",
      "0.0000 --- loss: 0.452189\n"
     ]
    },
    {
     "name": "stderr",
     "output_type": "stream",
     "text": [
      "[*****************************************************                   ] 74% "
     ]
    },
    {
     "name": "stdout",
     "output_type": "stream",
     "text": [
      "0.5000 --- loss: 0.437514\n"
     ]
    },
    {
     "name": "stderr",
     "output_type": "stream",
     "text": [
      "[***                                                                     ]  5% "
     ]
    },
    {
     "name": "stdout",
     "output_type": "stream",
     "text": [
      "Epoch finished ! Loss: 0.45061194896698\n",
      "Validation Cross-Entropy Coeff: 0.4987424314022064\n",
      "Checkpoint 82 saved !\n",
      "Starting epoch 83/100.\n",
      "0.0000 --- loss: 0.478365\n"
     ]
    },
    {
     "name": "stderr",
     "output_type": "stream",
     "text": [
      "                                                                               \r"
     ]
    },
    {
     "name": "stdout",
     "output_type": "stream",
     "text": [
      "0.5000 --- loss: 0.453832\n"
     ]
    },
    {
     "name": "stderr",
     "output_type": "stream",
     "text": [
      "                                                                               \r"
     ]
    },
    {
     "name": "stdout",
     "output_type": "stream",
     "text": [
      "Epoch finished ! Loss: 0.4493161737918854\n",
      "Validation Cross-Entropy Coeff: 0.5023360848426819\n",
      "Checkpoint 83 saved !\n",
      "Starting epoch 84/100.\n",
      "0.0000 --- loss: 0.426906\n"
     ]
    },
    {
     "name": "stderr",
     "output_type": "stream",
     "text": [
      "[*************************************************                       ] 69% "
     ]
    },
    {
     "name": "stdout",
     "output_type": "stream",
     "text": [
      "0.5000 --- loss: 0.406272\n"
     ]
    },
    {
     "name": "stderr",
     "output_type": "stream",
     "text": [
      "                                                                               \r"
     ]
    },
    {
     "name": "stdout",
     "output_type": "stream",
     "text": [
      "Epoch finished ! Loss: 0.4476487636566162\n",
      "Validation Cross-Entropy Coeff: 0.5006621479988098\n",
      "Checkpoint 84 saved !\n",
      "Starting epoch 85/100.\n",
      "0.0000 --- loss: 0.446633\n"
     ]
    },
    {
     "name": "stderr",
     "output_type": "stream",
     "text": [
      "[*****************************************************                   ] 74% "
     ]
    },
    {
     "name": "stdout",
     "output_type": "stream",
     "text": [
      "0.5000 --- loss: 0.404272\n"
     ]
    },
    {
     "name": "stderr",
     "output_type": "stream",
     "text": [
      "[                                                                        ]N/A% "
     ]
    },
    {
     "name": "stdout",
     "output_type": "stream",
     "text": [
      "Epoch finished ! Loss: 0.44883787631988525\n",
      "Validation Cross-Entropy Coeff: 0.4987380802631378\n",
      "Checkpoint 85 saved !\n",
      "Starting epoch 86/100.\n",
      "0.0000 --- loss: 0.383783\n"
     ]
    },
    {
     "name": "stderr",
     "output_type": "stream",
     "text": [
      "[*****************************************************                   ] 74% "
     ]
    },
    {
     "name": "stdout",
     "output_type": "stream",
     "text": [
      "0.5000 --- loss: 0.450048\n"
     ]
    },
    {
     "name": "stderr",
     "output_type": "stream",
     "text": [
      "[***                                                                     ]  5% "
     ]
    },
    {
     "name": "stdout",
     "output_type": "stream",
     "text": [
      "Epoch finished ! Loss: 0.44794631004333496\n",
      "Validation Cross-Entropy Coeff: 0.5011303424835205\n",
      "Checkpoint 86 saved !\n",
      "Starting epoch 87/100.\n",
      "0.0000 --- loss: 0.427664\n"
     ]
    },
    {
     "name": "stderr",
     "output_type": "stream",
     "text": [
      "[*****************************************************                   ] 74% "
     ]
    },
    {
     "name": "stdout",
     "output_type": "stream",
     "text": [
      "0.5000 --- loss: 0.422608\n"
     ]
    },
    {
     "name": "stderr",
     "output_type": "stream",
     "text": [
      "[***                                                                     ]  5% "
     ]
    },
    {
     "name": "stdout",
     "output_type": "stream",
     "text": [
      "Epoch finished ! Loss: 0.4473762512207031\n",
      "Validation Cross-Entropy Coeff: 0.5036571621894836\n",
      "Checkpoint 87 saved !\n",
      "Starting epoch 88/100.\n",
      "0.0000 --- loss: 0.404416\n"
     ]
    },
    {
     "name": "stderr",
     "output_type": "stream",
     "text": [
      "[*****************************************************                   ] 74% "
     ]
    },
    {
     "name": "stdout",
     "output_type": "stream",
     "text": [
      "0.5000 --- loss: 0.463908\n"
     ]
    },
    {
     "name": "stderr",
     "output_type": "stream",
     "text": [
      "[***                                                                     ]  5% "
     ]
    },
    {
     "name": "stdout",
     "output_type": "stream",
     "text": [
      "Epoch finished ! Loss: 0.44779646396636963\n",
      "Validation Cross-Entropy Coeff: 0.49899420142173767\n",
      "Checkpoint 88 saved !\n",
      "Starting epoch 89/100.\n",
      "0.0000 --- loss: 0.441594\n"
     ]
    },
    {
     "name": "stderr",
     "output_type": "stream",
     "text": [
      "[*****************************************************                   ] 74% "
     ]
    },
    {
     "name": "stdout",
     "output_type": "stream",
     "text": [
      "0.5000 --- loss: 0.450746\n"
     ]
    },
    {
     "name": "stderr",
     "output_type": "stream",
     "text": [
      "[***                                                                     ]  5% "
     ]
    },
    {
     "name": "stdout",
     "output_type": "stream",
     "text": [
      "Epoch finished ! Loss: 0.4499875009059906\n",
      "Validation Cross-Entropy Coeff: 0.4992658793926239\n",
      "Checkpoint 89 saved !\n",
      "Starting epoch 90/100.\n",
      "0.0000 --- loss: 0.434475\n"
     ]
    },
    {
     "name": "stderr",
     "output_type": "stream",
     "text": [
      "[*****************************************************                   ] 74% "
     ]
    },
    {
     "name": "stdout",
     "output_type": "stream",
     "text": [
      "0.5000 --- loss: 0.443452\n"
     ]
    },
    {
     "name": "stderr",
     "output_type": "stream",
     "text": [
      "[***                                                                     ]  5% "
     ]
    },
    {
     "name": "stdout",
     "output_type": "stream",
     "text": [
      "Epoch finished ! Loss: 0.44809865951538086\n",
      "Validation Cross-Entropy Coeff: 0.4991678297519684\n",
      "Checkpoint 90 saved !\n",
      "Starting epoch 91/100.\n",
      "0.0000 --- loss: 0.511414\n"
     ]
    },
    {
     "name": "stderr",
     "output_type": "stream",
     "text": [
      "[************************************************                        ] 66% "
     ]
    },
    {
     "name": "stdout",
     "output_type": "stream",
     "text": [
      "0.5000 --- loss: 0.397380\n"
     ]
    },
    {
     "name": "stderr",
     "output_type": "stream",
     "text": [
      "[***                                                                     ]  5% "
     ]
    },
    {
     "name": "stdout",
     "output_type": "stream",
     "text": [
      "Epoch finished ! Loss: 0.4490151107311249\n",
      "Validation Cross-Entropy Coeff: 0.49996763467788696\n",
      "Checkpoint 91 saved !\n",
      "Starting epoch 92/100.\n",
      "0.0000 --- loss: 0.449971\n"
     ]
    },
    {
     "name": "stderr",
     "output_type": "stream",
     "text": [
      "[*****************************************************                   ] 74% "
     ]
    },
    {
     "name": "stdout",
     "output_type": "stream",
     "text": [
      "0.5000 --- loss: 0.438377\n"
     ]
    },
    {
     "name": "stderr",
     "output_type": "stream",
     "text": [
      "[***                                                                     ]  5% "
     ]
    },
    {
     "name": "stdout",
     "output_type": "stream",
     "text": [
      "Epoch finished ! Loss: 0.44758138060569763\n",
      "Validation Cross-Entropy Coeff: 0.49744999408721924\n",
      "Checkpoint 92 saved !\n",
      "Starting epoch 93/100.\n",
      "0.0000 --- loss: 0.437704\n"
     ]
    },
    {
     "name": "stderr",
     "output_type": "stream",
     "text": [
      "[*****************************************************                   ] 74% "
     ]
    },
    {
     "name": "stdout",
     "output_type": "stream",
     "text": [
      "0.5000 --- loss: 0.441556\n"
     ]
    },
    {
     "name": "stderr",
     "output_type": "stream",
     "text": [
      "[***                                                                     ]  5% "
     ]
    },
    {
     "name": "stdout",
     "output_type": "stream",
     "text": [
      "Epoch finished ! Loss: 0.44776853919029236\n",
      "Validation Cross-Entropy Coeff: 0.502989649772644\n",
      "Checkpoint 93 saved !\n",
      "Starting epoch 94/100.\n",
      "0.0000 --- loss: 0.497807\n"
     ]
    },
    {
     "name": "stderr",
     "output_type": "stream",
     "text": [
      "[************************************************                        ] 66% "
     ]
    },
    {
     "name": "stdout",
     "output_type": "stream",
     "text": [
      "0.5000 --- loss: 0.454015\n"
     ]
    },
    {
     "name": "stderr",
     "output_type": "stream",
     "text": [
      "[                                                                        ]N/A% "
     ]
    },
    {
     "name": "stdout",
     "output_type": "stream",
     "text": [
      "Epoch finished ! Loss: 0.44686582684516907\n",
      "Validation Cross-Entropy Coeff: 0.4956236481666565\n",
      "Checkpoint 94 saved !\n",
      "Starting epoch 95/100.\n",
      "0.0000 --- loss: 0.435051\n"
     ]
    },
    {
     "name": "stderr",
     "output_type": "stream",
     "text": [
      "                                                                               \r"
     ]
    },
    {
     "name": "stdout",
     "output_type": "stream",
     "text": [
      "0.5000 --- loss: 0.427714\n"
     ]
    },
    {
     "name": "stderr",
     "output_type": "stream",
     "text": [
      "[                                                                        ]N/A% "
     ]
    },
    {
     "name": "stdout",
     "output_type": "stream",
     "text": [
      "Epoch finished ! Loss: 0.446864515542984\n",
      "Validation Cross-Entropy Coeff: 0.5067611336708069\n",
      "Checkpoint 95 saved !\n",
      "Starting epoch 96/100.\n",
      "0.0000 --- loss: 0.402930\n"
     ]
    },
    {
     "name": "stderr",
     "output_type": "stream",
     "text": [
      "[*************************************************                       ] 69% "
     ]
    },
    {
     "name": "stdout",
     "output_type": "stream",
     "text": [
      "0.5000 --- loss: 0.413835\n"
     ]
    },
    {
     "name": "stderr",
     "output_type": "stream",
     "text": [
      "[*****                                                                   ]  7% "
     ]
    },
    {
     "name": "stdout",
     "output_type": "stream",
     "text": [
      "Epoch finished ! Loss: 0.44826871156692505\n",
      "Validation Cross-Entropy Coeff: 0.4965805113315582\n",
      "Checkpoint 96 saved !\n",
      "Starting epoch 97/100.\n",
      "0.0000 --- loss: 0.420190\n"
     ]
    },
    {
     "name": "stderr",
     "output_type": "stream",
     "text": [
      "[*************************************************                       ] 69% "
     ]
    },
    {
     "name": "stdout",
     "output_type": "stream",
     "text": [
      "0.5000 --- loss: 0.402214\n"
     ]
    },
    {
     "name": "stderr",
     "output_type": "stream",
     "text": [
      "[***                                                                     ]  5% "
     ]
    },
    {
     "name": "stdout",
     "output_type": "stream",
     "text": [
      "Epoch finished ! Loss: 0.44827961921691895\n",
      "Validation Cross-Entropy Coeff: 0.5000945329666138\n",
      "Checkpoint 97 saved !\n",
      "Starting epoch 98/100.\n",
      "0.0000 --- loss: 0.415103\n"
     ]
    },
    {
     "name": "stderr",
     "output_type": "stream",
     "text": [
      "                                                                               \r"
     ]
    },
    {
     "name": "stdout",
     "output_type": "stream",
     "text": [
      "0.5000 --- loss: 0.436695\n"
     ]
    },
    {
     "name": "stderr",
     "output_type": "stream",
     "text": [
      "[***                                                                     ]  5% "
     ]
    },
    {
     "name": "stdout",
     "output_type": "stream",
     "text": [
      "Epoch finished ! Loss: 0.44685497879981995\n",
      "Validation Cross-Entropy Coeff: 0.49887815117836\n",
      "Checkpoint 98 saved !\n",
      "Starting epoch 99/100.\n",
      "0.0000 --- loss: 0.429197\n"
     ]
    },
    {
     "name": "stderr",
     "output_type": "stream",
     "text": [
      "[*****************************************************                   ] 74% "
     ]
    },
    {
     "name": "stdout",
     "output_type": "stream",
     "text": [
      "0.5000 --- loss: 0.390029\n"
     ]
    },
    {
     "name": "stderr",
     "output_type": "stream",
     "text": [
      "[*****                                                                   ]  7% "
     ]
    },
    {
     "name": "stdout",
     "output_type": "stream",
     "text": [
      "Epoch finished ! Loss: 0.4475526213645935\n",
      "Validation Cross-Entropy Coeff: 0.5004525780677795\n",
      "Checkpoint 99 saved !\n",
      "Starting epoch 100/100.\n",
      "0.0000 --- loss: 0.419419\n"
     ]
    },
    {
     "name": "stderr",
     "output_type": "stream",
     "text": [
      "[*************************************************                       ] 69% "
     ]
    },
    {
     "name": "stdout",
     "output_type": "stream",
     "text": [
      "0.5000 --- loss: 0.473934\n"
     ]
    },
    {
     "name": "stderr",
     "output_type": "stream",
     "text": [
      "[****************************************************************        ] 88% "
     ]
    },
    {
     "name": "stdout",
     "output_type": "stream",
     "text": [
      "Epoch finished ! Loss: 0.4485456049442291\n",
      "Validation Cross-Entropy Coeff: 0.49894195795059204\n",
      "Checkpoint 100 saved !\n"
     ]
    }
   ],
   "source": [
    "# Specify number of epochs, image scale factor, batch size and learning rate\n",
    "epochs =  100        # e.g. 10, or more until CE converge\n",
    "batch_size = 100    # e.g. 16\n",
    "lr =   0.001          # e.g. 0.01\n",
    "N_train = len(train_img_masks)\n",
    "if not os.path.exists('Model_1'):\n",
    "    os.mkdir('Model_1')\n",
    "model_save_path = 'Model_1/'  # directory to same the model after each epoch. \n",
    "\n",
    "optimizer = optim.SGD(net.parameters(), lr=lr, momentum=0.9,weight_decay=0.0005)\n",
    "#suggested parameter settings: momentum=0.9, weight_decay=0.0005\n",
    "\n",
    "# The loss function we use is Cross Entropy\n",
    "criterion = nn.CrossEntropyLoss()\n",
    "\n",
    "# Start training  #This part takes very long time to run if using CPU\n",
    "for epoch in range(epochs):\n",
    "    print('Starting epoch {}/{}.'.format(epoch + 1, epochs))\n",
    "    net.train()\n",
    "    # Reload images and masks for training and validation and perform random shuffling at the begining of each epoch\n",
    "    train_loader = torch.utils.data.DataLoader(train_dataset, batch_size=batch_size, shuffle=True, num_workers=0)\n",
    "    val_loader = torch.utils.data.DataLoader(val_dataset, batch_size=batch_size, shuffle=True, num_workers=0)\n",
    "    \n",
    "    epoch_loss = 0\n",
    "    count = 0\n",
    "    progress.currval = 0\n",
    "    progress.max_value=len(train_loader)-1\n",
    "    progress.start()\n",
    "    for i, b in enumerate(train_loader):\n",
    "        \n",
    "        imgs = b['img'].to(device,dtype=torch.float32)\n",
    "        true_masks = b['label'].to(device,dtype=torch.long)        \n",
    "        masks_pred = net(imgs)\n",
    "        # Calculate the loss by comparing the predicted masks vector and true masks vector\n",
    "        # And sum the losses together \n",
    "        loss = criterion(masks_pred,true_masks.long())\n",
    "        epoch_loss += loss\n",
    "        if count % 20 == 0:  #Print status every 20 batch\n",
    "            print('{0:.4f} --- loss: {1:.6f}'.format(i * batch_size / N_train, loss.item())) \n",
    "        count = count + 1\n",
    "        progress.update(i)\n",
    "        # It’s important to call this before loss.backward(), otherwise you’ll accumulate the gradients from multiple passes.\n",
    "        optimizer.zero_grad()\n",
    "        loss.backward()\n",
    "        optimizer.step()\n",
    "        \n",
    "    print('Epoch finished ! Loss: {}'.format(epoch_loss / i))\n",
    "    net.eval()\n",
    "    val_cross=0.0\n",
    "    val_tot=1\n",
    "    with torch.no_grad():\n",
    "        progress.currval = 0\n",
    "        progress.max_value=len(val_loader)-1\n",
    "        progress.start()\n",
    "        for i, b in enumerate(val_loader):\n",
    "            vimgs = b['img'].to(device,dtype=torch.float32)\n",
    "            vtrue_masks = b['label'].to(device,dtype=torch.long)\n",
    "            vmasks_pred = net(vimgs)\n",
    "            vloss=criterion(vmasks_pred,vtrue_masks.long())\n",
    "            val_cross += vloss\n",
    "            val_tot=i+1\n",
    "            progress.update(i)\n",
    "    print('Validation Cross-Entropy Coeff: {}'.format(val_cross/i))\n",
    "    \n",
    "    # Save the model after each epoch\n",
    "    if os.path.isdir(model_save_path):\n",
    "        torch.save(net.state_dict(),model_save_path + 'Brain_Seg_Epoch{}.pth'.format(epoch + 1))\n",
    "    else:\n",
    "        os.makedirs(model_save_path, exist_ok=True)\n",
    "        torch.save(net.state_dict(),model_save_path + 'Brain_Seg_Epoch{}.pth'.format(epoch + 1))\n",
    "    print('Checkpoint {} saved !'.format(epoch + 1))\n",
    "\n",
    "    "
   ]
  },
  {
   "cell_type": "code",
   "execution_count": null,
   "metadata": {},
   "outputs": [],
   "source": []
  },
  {
   "cell_type": "markdown",
   "metadata": {},
   "source": [
    "### [ TODO 4 ] load one image from testing dataset and plot output mask"
   ]
  },
  {
   "cell_type": "code",
   "execution_count": 38,
   "metadata": {},
   "outputs": [],
   "source": [
    "# Define a function for prediction/testing\n",
    "def predict_img(net,full_img,batch):\n",
    "    # set the mode of your network to evaluation\n",
    "    net.eval()\n",
    "\n",
    "    full_img = np.array(full_img)\n",
    "    test_dataset=torch.from_numpy(full_img).type(torch.FloatTensor)\n",
    "    test_loader = torch.utils.data.DataLoader(test_dataset, batch_size=batch, shuffle=False, num_workers=0)\n",
    "    #X_img = X_img.unsqueeze(0)    \n",
    "    \n",
    "    with torch.no_grad():\n",
    "        # predict the masks\n",
    "        outsy=[]\n",
    "        for i, b in enumerate(test_loader):\n",
    "            imgt = b.to(device,dtype=torch.float32)\n",
    "            #imgt=imgt.to(device,dtype=torch.float32)\n",
    "            output_img = net(imgt)\n",
    "            out_probs = output_img.squeeze(0).squeeze(0)\n",
    "\n",
    "            # change back to numpy, set to uint8 \n",
    "            out_mask_np = out_probs.cpu().numpy().astype(float)\n",
    "            outsy.append(out_mask_np)\n",
    "    return outsy\n"
   ]
  },
  {
   "cell_type": "code",
   "execution_count": 39,
   "metadata": {},
   "outputs": [],
   "source": [
    "def patchify(imgs,patch_size=(33,33)):\n",
    "    '''\n",
    "        Takes 4 channels of test image and converts into 4-channel patches. Use as input for Segmentation test_loader.\n",
    "        INPUT   (1) list 'imgs': 4-Channels of image\n",
    "                (2) tuple 'patch_size': size of patches to be created\n",
    "        OUTPUT: list of patches and length of this list.\n",
    "        '''\n",
    "    patched=[]\n",
    "    for i in range(4):\n",
    "        patched.append(extract_patches_2d(imgs[i],patch_size))\n",
    "    print(len(patched[0]))\n",
    "    test_patch=tuple(zip(patched[0],patched[1],patched[2],patched[3]))\n",
    "    print(len(test_patch))\n",
    "    return test_patch,len(test_patch)"
   ]
  },
  {
   "cell_type": "code",
   "execution_count": 40,
   "metadata": {},
   "outputs": [],
   "source": [
    "def depatchify(patches,img_size=(240,240)):\n",
    "    '''\n",
    "        Takes patches of segmented image and reconstructs the original image. Use on output of Segmentation test model.\n",
    "        INPUT   (1) list 'patches': Patches of segmented image obtained from NN output\n",
    "                (2) tuple 'img_size': size of original image  to reconstruct\n",
    "        OUTPUT: Reconstructed, segmented image.\n",
    "        '''\n",
    "    reconstruct_from_patches_2d(patches,img_size)\n",
    "    return reconstruct_from_patches_2d(patches,img_size)"
   ]
  },
  {
   "cell_type": "code",
   "execution_count": 47,
   "metadata": {},
   "outputs": [
    {
     "name": "stdout",
     "output_type": "stream",
     "text": [
      "43264\n",
      "43264\n"
     ]
    },
    {
     "name": "stderr",
     "output_type": "stream",
     "text": [
      "C:\\Users\\Juan\\anaconda3\\envs\\Image_Processing\\lib\\site-packages\\torch\\nn\\functional.py:2479: UserWarning: Default upsampling behavior when mode=bilinear is changed to align_corners=False since 0.4.0. Please specify align_corners=True if the old behavior is desired. See the documentation of nn.Upsample for details.\n",
      "  \"See the documentation of nn.Upsample for details.\".format(mode))\n"
     ]
    },
    {
     "data": {
      "image/png": "[encoded data removed]",
      "text/plain": [
       "<Figure size 720x720 with 4 Axes>"
      ]
     },
     "metadata": {
      "needs_background": "light"
     },
     "output_type": "display_data"
    }
   ],
   "source": [
    "# Load an image from testing dataset\n",
    "if os.path.exists('Pickles/test_imgs.pickle'):\n",
    "    with open('Pickles/test_imgs.pickle','rb') as f:\n",
    "        test_imgs = pickle.load(f)\n",
    "    f.close()\n",
    "else:\n",
    "    print('Error! Test Images Pickle not found!')\n",
    "    \n",
    "img_num = 3\n",
    "plt.figure(figsize = (10,10))\n",
    "for i in range(4):\n",
    "    plt.subplot(2,2,i+1)\n",
    "    plt.imshow(test_imgs[img_num][i],cmap='gray')\n",
    "plt.title(\"Sample 4-Channel-Training Patch in Pickle\")\n",
    "\n",
    "palt,numt=patchify(test_imgs[img_num],(33,33))\n",
    "torch.cuda.empty_cache()\n",
    "num_itr=int(float(numt)/100.0)\n",
    "if not (numt%100)==0:\n",
    "    num_itr+=1\n",
    "patched=predict_img(net,palt[0:100],numt)\n",
    "#for itr in range(num_itr)\n",
    "#    patched = predict_img(net,palt[0:2000],numt)\n",
    "#patched.extend(predict_img(net,palt[2000:],numt))\n",
    "#mask=depatchify(patched,(240,240))\n",
    "\n",
    "#print(mask.shape)"
   ]
  },
  {
   "cell_type": "code",
   "execution_count": 18,
   "metadata": {},
   "outputs": [],
   "source": [
    "## Extract the car from the image using the predicted mask\n",
    "#mask=np.expand_dims(mask, axis=2)\n",
    "#img_seg = mask[3]*test_img\n",
    "img_seg=np.zeros((mask.shape[1],mask.shape[2]))\n",
    "for i in range(mask.shape[0]):\n",
    "    img_seg += mask[i]#*i"
   ]
  },
  {
   "cell_type": "markdown",
   "metadata": {},
   "source": [
    "### Plot original image and mask image"
   ]
  },
  {
   "cell_type": "code",
   "execution_count": 19,
   "metadata": {},
   "outputs": [
    {
     "data": {
      "text/plain": [
       "Text(0.5, 1.0, 'Tumor')"
      ]
     },
     "execution_count": 19,
     "metadata": {},
     "output_type": "execute_result"
    },
    {
     "data": {
      "image/png": "[encoded data removed]",
      "text/plain": [
       "<Figure size 720x720 with 4 Axes>"
      ]
     },
     "metadata": {
      "needs_background": "light"
     },
     "output_type": "display_data"
    },
    {
     "data": {
      "image/png": "[encoded data removed]",
      "text/plain": [
       "<Figure size 360x360 with 1 Axes>"
      ]
     },
     "metadata": {
      "needs_background": "light"
     },
     "output_type": "display_data"
    }
   ],
   "source": [
    "################################################ [TODO] ###################################################\n",
    "# Plot original images and masks and segmented part\n",
    "plt.figure(figsize = (10,10))\n",
    "for i in range(4):\n",
    "    plt.subplot(2,2,i+1)\n",
    "    plt.imshow(test_img[i],cmap='gray')\n",
    "\n",
    "plt.figure(figsize = (5,5))\n",
    "plt.imshow(img_seg,cmap='gray')#vmax=img_seg.max())\n",
    "plt.title('Tumor')"
   ]
  },
  {
   "cell_type": "code",
   "execution_count": 200,
   "metadata": {
    "scrolled": false
   },
   "outputs": [
    {
     "data": {
      "image/png": "[encoded data removed]",
      "text/plain": [
       "<Figure size 432x288 with 3 Axes>"
      ]
     },
     "metadata": {
      "needs_background": "light"
     },
     "output_type": "display_data"
    },
    {
     "data": {
      "image/png": "[encoded data removed]",
      "text/plain": [
       "<Figure size 432x288 with 3 Axes>"
      ]
     },
     "metadata": {
      "needs_background": "light"
     },
     "output_type": "display_data"
    },
    {
     "data": {
      "image/png": "[encoded data removed]",
      "text/plain": [
       "<Figure size 432x288 with 3 Axes>"
      ]
     },
     "metadata": {
      "needs_background": "light"
     },
     "output_type": "display_data"
    },
    {
     "data": {
      "image/png": "[encoded data removed]",
      "text/plain": [
       "<Figure size 432x288 with 3 Axes>"
      ]
     },
     "metadata": {
      "needs_background": "light"
     },
     "output_type": "display_data"
    },
    {
     "data": {
      "image/png": "[encoded data removed]",
      "text/plain": [
       "<Figure size 432x288 with 3 Axes>"
      ]
     },
     "metadata": {
      "needs_background": "light"
     },
     "output_type": "display_data"
    },
    {
     "data": {
      "image/png": "[encoded data removed]",
      "text/plain": [
       "<Figure size 432x288 with 3 Axes>"
      ]
     },
     "metadata": {
      "needs_background": "light"
     },
     "output_type": "display_data"
    },
    {
     "data": {
      "image/png": "[encoded data removed]",
      "text/plain": [
       "<Figure size 432x288 with 3 Axes>"
      ]
     },
     "metadata": {
      "needs_background": "light"
     },
     "output_type": "display_data"
    },
    {
     "data": {
      "image/png": "[encoded data removed]",
      "text/plain": [
       "<Figure size 432x288 with 3 Axes>"
      ]
     },
     "metadata": {
      "needs_background": "light"
     },
     "output_type": "display_data"
    },
    {
     "data": {
      "image/png": "[encoded data removed]",
      "text/plain": [
       "<Figure size 432x288 with 3 Axes>"
      ]
     },
     "metadata": {
      "needs_background": "light"
     },
     "output_type": "display_data"
    },
    {
     "data": {
      "image/png": "[encoded data removed]",
      "text/plain": [
       "<Figure size 432x288 with 3 Axes>"
      ]
     },
     "metadata": {
      "needs_background": "light"
     },
     "output_type": "display_data"
    }
   ],
   "source": [
    "################################################ [TODO] ###################################################\n",
    "test_img_paths =  glob.glob(\"data/test/*.jpg\")\n",
    "# Display ten more of test samples\n",
    "for i in range(10):\n",
    "    img=cv2.imread(test_img_paths[i])\n",
    "    img_resize = cv2.resize(img, dsize=(100, 80), interpolation=cv2.INTER_CUBIC)\n",
    "    mask = predict_img(net,img_resize.astype('float'))\n",
    "    \n",
    "    mask =  cv2.resize(mask, dsize=(img.shape[1],img.shape[0]))\n",
    "    mask=np.expand_dims(mask, axis=2)\n",
    "    seg_img = mask*img\n",
    "\n",
    "    plt.subplot(1,3,1)\n",
    "    plt.imshow(img)  #\n",
    "    plt.title(\"Test sample\")\n",
    "    plt.subplot(1,3,2)\n",
    "    plt.imshow(mask[:,:,0])  #\n",
    "    plt.title(\"Mask\")\n",
    "    plt.subplot(1,3,3)\n",
    "    plt.imshow(seg_img)  #\n",
    "    plt.title(\"Segmented Car\")\n",
    "    plt.show()\n",
    "    "
   ]
  },
  {
   "cell_type": "code",
   "execution_count": null,
   "metadata": {},
   "outputs": [],
   "source": []
  },
  {
   "cell_type": "code",
   "execution_count": null,
   "metadata": {},
   "outputs": [],
   "source": []
  }
 ],
 "metadata": {
  "kernelspec": {
   "display_name": "Python 3",
   "language": "python",
   "name": "python3"
  },
  "language_info": {
   "codemirror_mode": {
    "name": "ipython",
    "version": 3
   },
   "file_extension": ".py",
   "mimetype": "text/x-python",
   "name": "python",
   "nbconvert_exporter": "python",
   "pygments_lexer": "ipython3",
   "version": "3.7.7"
  }
 },
 "nbformat": 4,
 "nbformat_minor": 2
}
