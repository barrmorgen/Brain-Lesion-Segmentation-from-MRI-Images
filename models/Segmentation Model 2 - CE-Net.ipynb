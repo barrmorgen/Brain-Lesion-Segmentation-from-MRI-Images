{
 "cells": [
  {
   "cell_type": "markdown",
   "metadata": {},
   "source": [
    "# CE-Net\n"
   ]
  },
  {
   "cell_type": "code",
   "execution_count": 1,
   "metadata": {},
   "outputs": [],
   "source": [
    "import torch\n",
    "import torch.nn as nn\n",
    "import torch.nn.functional as F\n",
    "import random\n",
    "import sys\n",
    "import os\n",
    "import json\n",
    "import h5py\n",
    "from optparse import OptionParser\n",
    "import numpy as np\n",
    "from torch import optim\n",
    "from PIL import Image\n",
    "import progressbar\n",
    "from torch.autograd import Function, Variable\n",
    "import matplotlib.pyplot as plt\n",
    "import matplotlib\n",
    "from torchvision import transforms\n",
    "from glob import glob\n",
    "from skimage import io\n",
    "from sklearn.feature_extraction.image import extract_patches_2d,reconstruct_from_patches_2d\n",
    "import pickle\n",
    "from torch.utils.data import Dataset\n",
    "%matplotlib inline\n",
    "import cv2\n",
    "import torch\n",
    "import torch.nn as nn\n",
    "from torchvision import models\n",
    "import torch.nn.functional as F\n",
    "from functools import partial\n"
   ]
  },
  {
   "cell_type": "code",
   "execution_count": 2,
   "metadata": {},
   "outputs": [
    {
     "name": "stdout",
     "output_type": "stream",
     "text": [
      "cuda:0\n"
     ]
    }
   ],
   "source": [
    "device = torch.device(\"cuda:0\" if torch.cuda.is_available() else \"cpu\")\n",
    "print(device)\n"
   ]
  },
  {
   "cell_type": "code",
   "execution_count": 3,
   "metadata": {},
   "outputs": [],
   "source": [
    "progress = progressbar.ProgressBar(widgets=[progressbar.Bar('*', '[', ']'), progressbar.Percentage(), ' '])"
   ]
  },
  {
   "cell_type": "code",
   "execution_count": 4,
   "metadata": {},
   "outputs": [],
   "source": [
    "nonlinearity = partial(F.relu, inplace=True)"
   ]
  },
  {
   "cell_type": "code",
   "execution_count": 5,
   "metadata": {},
   "outputs": [],
   "source": [
    "class DACblock(nn.Module):\n",
    "    def __init__(self, channel):\n",
    "        super(DACblock, self).__init__()\n",
    "        self.dilate1 = nn.Conv2d(channel, channel, kernel_size=3, dilation=1, padding=1)\n",
    "        self.dilate2 = nn.Conv2d(channel, channel, kernel_size=3, dilation=3, padding=3)\n",
    "        self.dilate3 = nn.Conv2d(channel, channel, kernel_size=3, dilation=5, padding=5)\n",
    "        self.conv1x1 = nn.Conv2d(channel, channel, kernel_size=1, dilation=1, padding=0)\n",
    "        for m in self.modules():\n",
    "            if isinstance(m, nn.Conv2d) or isinstance(m, nn.ConvTranspose2d):\n",
    "                if m.bias is not None:\n",
    "                    m.bias.data.zero_()\n",
    "\n",
    "    def forward(self, x):\n",
    "        dilate1_out = nonlinearity(self.dilate1(x))\n",
    "        dilate2_out = nonlinearity(self.conv1x1(self.dilate2(x)))\n",
    "        dilate3_out = nonlinearity(self.conv1x1(self.dilate2(self.dilate1(x))))\n",
    "        dilate4_out = nonlinearity(self.conv1x1(self.dilate3(self.dilate2(self.dilate1(x)))))\n",
    "        out = x + dilate1_out + dilate2_out + dilate3_out + dilate4_out\n",
    "        return out\n",
    "\n",
    "\n",
    "class DACblock_without_atrous(nn.Module):\n",
    "    def __init__(self, channel):\n",
    "        super(DACblock_without_atrous, self).__init__()\n",
    "        self.dilate1 = nn.Conv2d(channel, channel, kernel_size=3, dilation=1, padding=1)\n",
    "        self.dilate2 = nn.Conv2d(channel, channel, kernel_size=3, dilation=1, padding=1)\n",
    "        self.dilate3 = nn.Conv2d(channel, channel, kernel_size=3, dilation=1, padding=1)\n",
    "        self.conv1x1 = nn.Conv2d(channel, channel, kernel_size=1, dilation=1, padding=0)\n",
    "        for m in self.modules():\n",
    "            if isinstance(m, nn.Conv2d) or isinstance(m, nn.ConvTranspose2d):\n",
    "                if m.bias is not None:\n",
    "                    m.bias.data.zero_()\n",
    "\n",
    "    def forward(self, x):\n",
    "        dilate1_out = nonlinearity(self.dilate1(x))\n",
    "        dilate2_out = nonlinearity(self.conv1x1(self.dilate2(x)))\n",
    "        dilate3_out = nonlinearity(self.conv1x1(self.dilate2(self.dilate1(x))))\n",
    "        dilate4_out = nonlinearity(self.conv1x1(self.dilate3(self.dilate2(self.dilate1(x)))))\n",
    "        out = x + dilate1_out + dilate2_out + dilate3_out + dilate4_out\n",
    "\n",
    "        return out\n",
    "\n",
    "class DACblock_with_inception(nn.Module):\n",
    "    def __init__(self, channel):\n",
    "        super(DACblock_with_inception, self).__init__()\n",
    "        self.dilate1 = nn.Conv2d(channel, channel, kernel_size=1, dilation=1, padding=0)\n",
    "\n",
    "        self.dilate3 = nn.Conv2d(channel, channel, kernel_size=3, dilation=1, padding=1)\n",
    "        self.conv1x1 = nn.Conv2d(2 * channel, channel, kernel_size=1, dilation=1, padding=0)\n",
    "        for m in self.modules():\n",
    "            if isinstance(m, nn.Conv2d) or isinstance(m, nn.ConvTranspose2d):\n",
    "                if m.bias is not None:\n",
    "                    m.bias.data.zero_()\n",
    "\n",
    "    def forward(self, x):\n",
    "        dilate1_out = nonlinearity(self.dilate1(x))\n",
    "        dilate2_out = nonlinearity(self.dilate3(self.dilate1(x)))\n",
    "        dilate_concat = nonlinearity(self.conv1x1(torch.cat([dilate1_out, dilate2_out], 1)))\n",
    "        dilate3_out = nonlinearity(self.dilate1(dilate_concat))\n",
    "        out = x + dilate3_out\n",
    "        return out\n",
    "\n",
    "\n",
    "class DACblock_with_inception_blocks(nn.Module):\n",
    "    def __init__(self, channel):\n",
    "        super(DACblock_with_inception_blocks, self).__init__()\n",
    "        self.conv1x1 = nn.Conv2d(channel, channel, kernel_size=1, dilation=1, padding=0)\n",
    "        self.conv3x3 = nn.Conv2d(channel, channel, kernel_size=3, dilation=1, padding=1)\n",
    "        self.conv5x5 = nn.Conv2d(channel, channel, kernel_size=5, dilation=1, padding=2)\n",
    "        self.pooling = nn.MaxPool2d(kernel_size=3, stride=1, padding=1)\n",
    "\n",
    "        for m in self.modules():\n",
    "            if isinstance(m, nn.Conv2d) or isinstance(m, nn.ConvTranspose2d):\n",
    "                if m.bias is not None:\n",
    "                    m.bias.data.zero_()\n",
    "\n",
    "    def forward(self, x):\n",
    "        dilate1_out = nonlinearity(self.conv1x1(x))\n",
    "        dilate2_out = nonlinearity(self.conv3x3(self.conv1x1(x)))\n",
    "        dilate3_out = nonlinearity(self.conv5x5(self.conv1x1(x)))\n",
    "        dilate4_out = self.pooling(x)\n",
    "        out = dilate1_out + dilate2_out + dilate3_out + dilate4_out\n",
    "        return out\n",
    "\n",
    "\n",
    "\n",
    "class PSPModule(nn.Module):\n",
    "    def __init__(self, features, out_features=1024, sizes=(2, 3, 6, 14)):\n",
    "        super().__init__()\n",
    "        self.stages = []\n",
    "        self.stages = nn.ModuleList([self._make_stage(features, size) for size in sizes])\n",
    "        self.bottleneck = nn.Conv2d(features * (len(sizes) + 1), out_features, kernel_size=1)\n",
    "        self.relu = nn.ReLU()\n",
    "\n",
    "    def _make_stage(self, features, size):\n",
    "        prior = nn.AdaptiveAvgPool2d(output_size=(size, size))\n",
    "        conv = nn.Conv2d(features, features, kernel_size=1, bias=False)\n",
    "        return nn.Sequential(prior, conv)\n",
    "\n",
    "    def forward(self, feats):\n",
    "        h, w = feats.size(2), feats.size(3)\n",
    "        priors = [F.upsample(input=stage(feats), size=(h, w), mode='bilinear') for stage in self.stages] + [feats]\n",
    "        bottle = self.bottleneck(torch.cat(priors, 1))\n",
    "        return self.relu(bottle)\n",
    "\n",
    "\n",
    "class SPPblock(nn.Module):\n",
    "    def __init__(self, in_channels):\n",
    "        super(SPPblock, self).__init__()\n",
    "        self.pool1 = nn.MaxPool2d(kernel_size=[2, 2], stride=2)\n",
    "        self.pool2 = nn.MaxPool2d(kernel_size=[3, 3], stride=3)\n",
    "        self.pool3 = nn.MaxPool2d(kernel_size=[5, 5], stride=5)\n",
    "        #self.pool4 = nn.MaxPool2d(kernel_size=[6, 6], stride=6)\n",
    "\n",
    "        self.conv = nn.Conv2d(in_channels=in_channels, out_channels=1, kernel_size=1, padding=0)\n",
    "\n",
    "    def forward(self, x):\n",
    "        self.in_channels, h, w = x.size(1), x.size(2), x.size(3)\n",
    "        self.layer1 = F.upsample(self.conv(self.pool1(x)), size=(h, w), mode='bilinear')\n",
    "        self.layer2 = F.upsample(self.conv(self.pool2(x)), size=(h, w), mode='bilinear')\n",
    "        self.layer3 = F.upsample(self.conv(self.pool3(x)), size=(h, w), mode='bilinear')\n",
    "        #self.layer4 = F.upsample(self.conv(self.pool4(x)), size=(h, w), mode='bilinear')\n",
    "\n",
    "        out = torch.cat([self.layer1, self.layer2, self.layer3, x], 1)\n",
    "\n",
    "        return out\n",
    "\n",
    "\n",
    "class DecoderBlock(nn.Module):\n",
    "    def __init__(self, in_channels, n_filters):\n",
    "        super(DecoderBlock, self).__init__()\n",
    "\n",
    "        self.conv1 = nn.Conv2d(in_channels, in_channels // 4, 1)\n",
    "        self.norm1 = nn.BatchNorm2d(in_channels // 4)\n",
    "        self.relu1 = nonlinearity\n",
    "\n",
    "        self.deconv2 = nn.ConvTranspose2d(in_channels // 4, in_channels // 4, 3, stride=2, padding=1, output_padding=1)\n",
    "        self.norm2 = nn.BatchNorm2d(in_channels // 4)\n",
    "        self.relu2 = nonlinearity\n",
    "\n",
    "        self.conv3 = nn.Conv2d(in_channels // 4, n_filters, 1)\n",
    "        self.norm3 = nn.BatchNorm2d(n_filters)\n",
    "        self.relu3 = nonlinearity\n",
    "\n",
    "    def forward(self, x):\n",
    "        x = self.conv1(x)\n",
    "        x = self.norm1(x)\n",
    "        x = self.relu1(x)\n",
    "        x = self.deconv2(x)\n",
    "        x = self.norm2(x)\n",
    "        x = self.relu2(x)\n",
    "        x = self.conv3(x)\n",
    "        x = self.norm3(x)\n",
    "        x = self.relu3(x)\n",
    "\n",
    "        return x"
   ]
  },
  {
   "cell_type": "code",
   "execution_count": 6,
   "metadata": {},
   "outputs": [],
   "source": [
    "class CE_Net_(nn.Module):\n",
    "    def __init__(self, num_channels=4, num_classes=5):\n",
    "        super(CE_Net_, self).__init__()\n",
    "\n",
    "        filters = [64,128,256,(512+3)]\n",
    "        resnet = models.resnet34(pretrained=True)\n",
    "        self.firstconv = nn.Conv2d(num_channels, 64, 7, padding=3)\n",
    "        self.firstbn = resnet.bn1\n",
    "        self.firstrelu = resnet.relu\n",
    "        self.firstmaxpool = resnet.maxpool\n",
    "        self.encoder1 = resnet.layer1\n",
    "        self.encoder2 = resnet.layer2\n",
    "        self.encoder3 = resnet.layer3\n",
    "        self.encoder4 = resnet.layer4\n",
    "\n",
    "        self.dblock = DACblock(512)\n",
    "        self.spp = SPPblock(512)\n",
    "\n",
    "        self.decoder4 = DecoderBlock(filters[3], filters[2])\n",
    "        self.decoder3 = DecoderBlock(filters[2], filters[1])\n",
    "        self.decoder2 = DecoderBlock(filters[1], filters[0])\n",
    "        self.decoder1 = DecoderBlock(filters[0], filters[0])\n",
    "\n",
    "        self.finaldeconv1 = nn.ConvTranspose2d(filters[1], 32, 4, 2, 1)\n",
    "        self.finalrelu1 = nonlinearity\n",
    "        self.finalconv2 = nn.Conv2d(32, 32, 10, padding=1)\n",
    "        self.finalrelu2 = nonlinearity\n",
    "        self.finalconv3 = nn.Conv2d(32, num_classes, 3, padding=1)\n",
    "\n",
    "    def forward(self, x):\n",
    "        # Encoder\n",
    "        x = self.firstconv(x)\n",
    "        x = self.firstbn(x)\n",
    "        x = self.firstrelu(x)\n",
    "        x = self.firstmaxpool(x)\n",
    "        e1 = self.encoder1(x)\n",
    "        e2 = self.encoder2(e1)\n",
    "        e3 = self.encoder3(e2)\n",
    "        e4 = self.encoder4(e3)\n",
    "\n",
    "        # Center\n",
    "        e4 = self.dblock(e4)\n",
    "        e4 = F.upsample(e4,size=(5,5),mode='bilinear')\n",
    "        e4 = self.spp(e4)\n",
    "\n",
    "        # Decoder\n",
    "        d4 = self.decoder4(e4) + F.upsample(e3,size=(10,10),mode='bilinear')\n",
    "        d3 = self.decoder3(d4) + F.upsample(e2,size=(20,20),mode='bilinear')#e2\n",
    "        #d2 = self.decoder2(d3) + F.upsample(e1,size=(40,40),mode='bilinear')#e1\n",
    "        #d1 = self.decoder1(d2)\n",
    "\n",
    "        out = self.finaldeconv1(d3)\n",
    "        out = self.finalrelu1(out)\n",
    "        out = self.finalconv2(out)\n",
    "        out = self.finalrelu2(out)\n",
    "        out = self.finalconv3(out)\n",
    "\n",
    "        return out"
   ]
  },
  {
   "cell_type": "code",
   "execution_count": 7,
   "metadata": {},
   "outputs": [],
   "source": [
    "#### define transform classes for  data augmentation\n",
    "class Flip(object):\n",
    "    \"\"\"\n",
    "    Flip the image left or right for data augmentation, but prefer original image.\n",
    "    \"\"\"\n",
    "    def __init__(self,ori_probability=0.60):\n",
    "        self.ori_probability = ori_probability\n",
    " \n",
    "    def __call__(self, sample):\n",
    "        if random.uniform(0,1) < self.ori_probability:\n",
    "            return sample\n",
    "        else:\n",
    "            img, label = sample['img'], sample['label']\n",
    "            img_flip = img[:,:,::-1]\n",
    "            label_flip = label[:,::-1]\n",
    "            \n",
    "            return {'img': img_flip, 'label': label_flip}\n",
    "        \n",
    "class ToTensor(object):\n",
    "    \"\"\"\n",
    "    Convert ndarrays in sample to Tensors.\n",
    "    \"\"\"\n",
    "    def __init__(self):\n",
    "        pass\n",
    "\n",
    "    def __call__(self, sample):\n",
    "        image, label = sample['img'], sample['label']\n",
    "\n",
    "        return {'img': torch.from_numpy(image.copy()).type(torch.FloatTensor),\n",
    "                'label': torch.from_numpy(label.copy()).type(torch.FloatTensor)}"
   ]
  },
  {
   "cell_type": "code",
   "execution_count": 8,
   "metadata": {},
   "outputs": [],
   "source": [
    "\n",
    "train_img_masks_save_path = 'Pickles/train_img_masks.pickle'\n",
    "if os.path.exists(train_img_masks_save_path):\n",
    "    with open(train_img_masks_save_path,'rb') as f:\n",
    "        train_img_masks = pickle.load(f)\n",
    "    f.close()\n",
    "else:\n",
    "    print('Error! Training Set Pickle not found!')\n",
    "\n",
    "val_img_masks_save_path = 'Pickles/val_img_masks.pickle'\n",
    "if os.path.exists(val_img_masks_save_path):\n",
    "    with open(val_img_masks_save_path,'rb') as f:\n",
    "        val_img_masks = pickle.load(f)\n",
    "    f.close()\n",
    "else:\n",
    "    print('Error! Validation Set Pickle not found!')"
   ]
  },
  {
   "cell_type": "code",
   "execution_count": 9,
   "metadata": {},
   "outputs": [],
   "source": [
    "class CustomDataset(Dataset):\n",
    "    def __init__(self, image_masks, transforms=None): \n",
    "\n",
    "        self.image_masks = image_masks\n",
    "        self.transforms = transforms\n",
    "    \n",
    "    def __len__(self):  # return count of sample we have\n",
    "\n",
    "        return len(self.image_masks)\n",
    "    \n",
    "    def __getitem__(self, index):\n",
    "\n",
    "        image = np.array(self.image_masks[index][0]) # Channel,H, W\n",
    "        mask = self.image_masks[index][1]\n",
    "        \n",
    "        sample = {'img': image, 'label': mask}\n",
    "        \n",
    "        if transforms:\n",
    "            sample = self.transforms(sample)\n",
    "            \n",
    "        return sample\n",
    "\n",
    "train_dataset = CustomDataset(train_img_masks, transforms=transforms.Compose([Flip(),ToTensor()]))\n",
    "val_dataset = CustomDataset(val_img_masks, transforms=transforms.Compose([Flip(),ToTensor()]))\n"
   ]
  },
  {
   "cell_type": "code",
   "execution_count": 10,
   "metadata": {},
   "outputs": [
    {
     "name": "stdout",
     "output_type": "stream",
     "text": [
      "CE_Net_(\n",
      "  (firstconv): Conv2d(4, 64, kernel_size=(7, 7), stride=(1, 1), padding=(3, 3))\n",
      "  (firstbn): BatchNorm2d(64, eps=1e-05, momentum=0.1, affine=True, track_running_stats=True)\n",
      "  (firstrelu): ReLU(inplace=True)\n",
      "  (firstmaxpool): MaxPool2d(kernel_size=3, stride=2, padding=1, dilation=1, ceil_mode=False)\n",
      "  (encoder1): Sequential(\n",
      "    (0): BasicBlock(\n",
      "      (conv1): Conv2d(64, 64, kernel_size=(3, 3), stride=(1, 1), padding=(1, 1), bias=False)\n",
      "      (bn1): BatchNorm2d(64, eps=1e-05, momentum=0.1, affine=True, track_running_stats=True)\n",
      "      (relu): ReLU(inplace=True)\n",
      "      (conv2): Conv2d(64, 64, kernel_size=(3, 3), stride=(1, 1), padding=(1, 1), bias=False)\n",
      "      (bn2): BatchNorm2d(64, eps=1e-05, momentum=0.1, affine=True, track_running_stats=True)\n",
      "    )\n",
      "    (1): BasicBlock(\n",
      "      (conv1): Conv2d(64, 64, kernel_size=(3, 3), stride=(1, 1), padding=(1, 1), bias=False)\n",
      "      (bn1): BatchNorm2d(64, eps=1e-05, momentum=0.1, affine=True, track_running_stats=True)\n",
      "      (relu): ReLU(inplace=True)\n",
      "      (conv2): Conv2d(64, 64, kernel_size=(3, 3), stride=(1, 1), padding=(1, 1), bias=False)\n",
      "      (bn2): BatchNorm2d(64, eps=1e-05, momentum=0.1, affine=True, track_running_stats=True)\n",
      "    )\n",
      "    (2): BasicBlock(\n",
      "      (conv1): Conv2d(64, 64, kernel_size=(3, 3), stride=(1, 1), padding=(1, 1), bias=False)\n",
      "      (bn1): BatchNorm2d(64, eps=1e-05, momentum=0.1, affine=True, track_running_stats=True)\n",
      "      (relu): ReLU(inplace=True)\n",
      "      (conv2): Conv2d(64, 64, kernel_size=(3, 3), stride=(1, 1), padding=(1, 1), bias=False)\n",
      "      (bn2): BatchNorm2d(64, eps=1e-05, momentum=0.1, affine=True, track_running_stats=True)\n",
      "    )\n",
      "  )\n",
      "  (encoder2): Sequential(\n",
      "    (0): BasicBlock(\n",
      "      (conv1): Conv2d(64, 128, kernel_size=(3, 3), stride=(2, 2), padding=(1, 1), bias=False)\n",
      "      (bn1): BatchNorm2d(128, eps=1e-05, momentum=0.1, affine=True, track_running_stats=True)\n",
      "      (relu): ReLU(inplace=True)\n",
      "      (conv2): Conv2d(128, 128, kernel_size=(3, 3), stride=(1, 1), padding=(1, 1), bias=False)\n",
      "      (bn2): BatchNorm2d(128, eps=1e-05, momentum=0.1, affine=True, track_running_stats=True)\n",
      "      (downsample): Sequential(\n",
      "        (0): Conv2d(64, 128, kernel_size=(1, 1), stride=(2, 2), bias=False)\n",
      "        (1): BatchNorm2d(128, eps=1e-05, momentum=0.1, affine=True, track_running_stats=True)\n",
      "      )\n",
      "    )\n",
      "    (1): BasicBlock(\n",
      "      (conv1): Conv2d(128, 128, kernel_size=(3, 3), stride=(1, 1), padding=(1, 1), bias=False)\n",
      "      (bn1): BatchNorm2d(128, eps=1e-05, momentum=0.1, affine=True, track_running_stats=True)\n",
      "      (relu): ReLU(inplace=True)\n",
      "      (conv2): Conv2d(128, 128, kernel_size=(3, 3), stride=(1, 1), padding=(1, 1), bias=False)\n",
      "      (bn2): BatchNorm2d(128, eps=1e-05, momentum=0.1, affine=True, track_running_stats=True)\n",
      "    )\n",
      "    (2): BasicBlock(\n",
      "      (conv1): Conv2d(128, 128, kernel_size=(3, 3), stride=(1, 1), padding=(1, 1), bias=False)\n",
      "      (bn1): BatchNorm2d(128, eps=1e-05, momentum=0.1, affine=True, track_running_stats=True)\n",
      "      (relu): ReLU(inplace=True)\n",
      "      (conv2): Conv2d(128, 128, kernel_size=(3, 3), stride=(1, 1), padding=(1, 1), bias=False)\n",
      "      (bn2): BatchNorm2d(128, eps=1e-05, momentum=0.1, affine=True, track_running_stats=True)\n",
      "    )\n",
      "    (3): BasicBlock(\n",
      "      (conv1): Conv2d(128, 128, kernel_size=(3, 3), stride=(1, 1), padding=(1, 1), bias=False)\n",
      "      (bn1): BatchNorm2d(128, eps=1e-05, momentum=0.1, affine=True, track_running_stats=True)\n",
      "      (relu): ReLU(inplace=True)\n",
      "      (conv2): Conv2d(128, 128, kernel_size=(3, 3), stride=(1, 1), padding=(1, 1), bias=False)\n",
      "      (bn2): BatchNorm2d(128, eps=1e-05, momentum=0.1, affine=True, track_running_stats=True)\n",
      "    )\n",
      "  )\n",
      "  (encoder3): Sequential(\n",
      "    (0): BasicBlock(\n",
      "      (conv1): Conv2d(128, 256, kernel_size=(3, 3), stride=(2, 2), padding=(1, 1), bias=False)\n",
      "      (bn1): BatchNorm2d(256, eps=1e-05, momentum=0.1, affine=True, track_running_stats=True)\n",
      "      (relu): ReLU(inplace=True)\n",
      "      (conv2): Conv2d(256, 256, kernel_size=(3, 3), stride=(1, 1), padding=(1, 1), bias=False)\n",
      "      (bn2): BatchNorm2d(256, eps=1e-05, momentum=0.1, affine=True, track_running_stats=True)\n",
      "      (downsample): Sequential(\n",
      "        (0): Conv2d(128, 256, kernel_size=(1, 1), stride=(2, 2), bias=False)\n",
      "        (1): BatchNorm2d(256, eps=1e-05, momentum=0.1, affine=True, track_running_stats=True)\n",
      "      )\n",
      "    )\n",
      "    (1): BasicBlock(\n",
      "      (conv1): Conv2d(256, 256, kernel_size=(3, 3), stride=(1, 1), padding=(1, 1), bias=False)\n",
      "      (bn1): BatchNorm2d(256, eps=1e-05, momentum=0.1, affine=True, track_running_stats=True)\n",
      "      (relu): ReLU(inplace=True)\n",
      "      (conv2): Conv2d(256, 256, kernel_size=(3, 3), stride=(1, 1), padding=(1, 1), bias=False)\n",
      "      (bn2): BatchNorm2d(256, eps=1e-05, momentum=0.1, affine=True, track_running_stats=True)\n",
      "    )\n",
      "    (2): BasicBlock(\n",
      "      (conv1): Conv2d(256, 256, kernel_size=(3, 3), stride=(1, 1), padding=(1, 1), bias=False)\n",
      "      (bn1): BatchNorm2d(256, eps=1e-05, momentum=0.1, affine=True, track_running_stats=True)\n",
      "      (relu): ReLU(inplace=True)\n",
      "      (conv2): Conv2d(256, 256, kernel_size=(3, 3), stride=(1, 1), padding=(1, 1), bias=False)\n",
      "      (bn2): BatchNorm2d(256, eps=1e-05, momentum=0.1, affine=True, track_running_stats=True)\n",
      "    )\n",
      "    (3): BasicBlock(\n",
      "      (conv1): Conv2d(256, 256, kernel_size=(3, 3), stride=(1, 1), padding=(1, 1), bias=False)\n",
      "      (bn1): BatchNorm2d(256, eps=1e-05, momentum=0.1, affine=True, track_running_stats=True)\n",
      "      (relu): ReLU(inplace=True)\n",
      "      (conv2): Conv2d(256, 256, kernel_size=(3, 3), stride=(1, 1), padding=(1, 1), bias=False)\n",
      "      (bn2): BatchNorm2d(256, eps=1e-05, momentum=0.1, affine=True, track_running_stats=True)\n",
      "    )\n",
      "    (4): BasicBlock(\n",
      "      (conv1): Conv2d(256, 256, kernel_size=(3, 3), stride=(1, 1), padding=(1, 1), bias=False)\n",
      "      (bn1): BatchNorm2d(256, eps=1e-05, momentum=0.1, affine=True, track_running_stats=True)\n",
      "      (relu): ReLU(inplace=True)\n",
      "      (conv2): Conv2d(256, 256, kernel_size=(3, 3), stride=(1, 1), padding=(1, 1), bias=False)\n",
      "      (bn2): BatchNorm2d(256, eps=1e-05, momentum=0.1, affine=True, track_running_stats=True)\n",
      "    )\n",
      "    (5): BasicBlock(\n",
      "      (conv1): Conv2d(256, 256, kernel_size=(3, 3), stride=(1, 1), padding=(1, 1), bias=False)\n",
      "      (bn1): BatchNorm2d(256, eps=1e-05, momentum=0.1, affine=True, track_running_stats=True)\n",
      "      (relu): ReLU(inplace=True)\n",
      "      (conv2): Conv2d(256, 256, kernel_size=(3, 3), stride=(1, 1), padding=(1, 1), bias=False)\n",
      "      (bn2): BatchNorm2d(256, eps=1e-05, momentum=0.1, affine=True, track_running_stats=True)\n",
      "    )\n",
      "  )\n",
      "  (encoder4): Sequential(\n",
      "    (0): BasicBlock(\n",
      "      (conv1): Conv2d(256, 512, kernel_size=(3, 3), stride=(2, 2), padding=(1, 1), bias=False)\n",
      "      (bn1): BatchNorm2d(512, eps=1e-05, momentum=0.1, affine=True, track_running_stats=True)\n",
      "      (relu): ReLU(inplace=True)\n",
      "      (conv2): Conv2d(512, 512, kernel_size=(3, 3), stride=(1, 1), padding=(1, 1), bias=False)\n",
      "      (bn2): BatchNorm2d(512, eps=1e-05, momentum=0.1, affine=True, track_running_stats=True)\n",
      "      (downsample): Sequential(\n",
      "        (0): Conv2d(256, 512, kernel_size=(1, 1), stride=(2, 2), bias=False)\n",
      "        (1): BatchNorm2d(512, eps=1e-05, momentum=0.1, affine=True, track_running_stats=True)\n",
      "      )\n",
      "    )\n",
      "    (1): BasicBlock(\n",
      "      (conv1): Conv2d(512, 512, kernel_size=(3, 3), stride=(1, 1), padding=(1, 1), bias=False)\n",
      "      (bn1): BatchNorm2d(512, eps=1e-05, momentum=0.1, affine=True, track_running_stats=True)\n",
      "      (relu): ReLU(inplace=True)\n",
      "      (conv2): Conv2d(512, 512, kernel_size=(3, 3), stride=(1, 1), padding=(1, 1), bias=False)\n",
      "      (bn2): BatchNorm2d(512, eps=1e-05, momentum=0.1, affine=True, track_running_stats=True)\n",
      "    )\n",
      "    (2): BasicBlock(\n",
      "      (conv1): Conv2d(512, 512, kernel_size=(3, 3), stride=(1, 1), padding=(1, 1), bias=False)\n",
      "      (bn1): BatchNorm2d(512, eps=1e-05, momentum=0.1, affine=True, track_running_stats=True)\n",
      "      (relu): ReLU(inplace=True)\n",
      "      (conv2): Conv2d(512, 512, kernel_size=(3, 3), stride=(1, 1), padding=(1, 1), bias=False)\n",
      "      (bn2): BatchNorm2d(512, eps=1e-05, momentum=0.1, affine=True, track_running_stats=True)\n",
      "    )\n",
      "  )\n",
      "  (dblock): DACblock(\n",
      "    (dilate1): Conv2d(512, 512, kernel_size=(3, 3), stride=(1, 1), padding=(1, 1))\n",
      "    (dilate2): Conv2d(512, 512, kernel_size=(3, 3), stride=(1, 1), padding=(3, 3), dilation=(3, 3))\n",
      "    (dilate3): Conv2d(512, 512, kernel_size=(3, 3), stride=(1, 1), padding=(5, 5), dilation=(5, 5))\n",
      "    (conv1x1): Conv2d(512, 512, kernel_size=(1, 1), stride=(1, 1))\n",
      "  )\n",
      "  (spp): SPPblock(\n",
      "    (pool1): MaxPool2d(kernel_size=[2, 2], stride=2, padding=0, dilation=1, ceil_mode=False)\n",
      "    (pool2): MaxPool2d(kernel_size=[3, 3], stride=3, padding=0, dilation=1, ceil_mode=False)\n",
      "    (pool3): MaxPool2d(kernel_size=[5, 5], stride=5, padding=0, dilation=1, ceil_mode=False)\n",
      "    (conv): Conv2d(512, 1, kernel_size=(1, 1), stride=(1, 1))\n",
      "  )\n",
      "  (decoder4): DecoderBlock(\n",
      "    (conv1): Conv2d(515, 128, kernel_size=(1, 1), stride=(1, 1))\n",
      "    (norm1): BatchNorm2d(128, eps=1e-05, momentum=0.1, affine=True, track_running_stats=True)\n",
      "    (deconv2): ConvTranspose2d(128, 128, kernel_size=(3, 3), stride=(2, 2), padding=(1, 1), output_padding=(1, 1))\n",
      "    (norm2): BatchNorm2d(128, eps=1e-05, momentum=0.1, affine=True, track_running_stats=True)\n",
      "    (conv3): Conv2d(128, 256, kernel_size=(1, 1), stride=(1, 1))\n",
      "    (norm3): BatchNorm2d(256, eps=1e-05, momentum=0.1, affine=True, track_running_stats=True)\n",
      "  )\n",
      "  (decoder3): DecoderBlock(\n",
      "    (conv1): Conv2d(256, 64, kernel_size=(1, 1), stride=(1, 1))\n",
      "    (norm1): BatchNorm2d(64, eps=1e-05, momentum=0.1, affine=True, track_running_stats=True)\n",
      "    (deconv2): ConvTranspose2d(64, 64, kernel_size=(3, 3), stride=(2, 2), padding=(1, 1), output_padding=(1, 1))\n",
      "    (norm2): BatchNorm2d(64, eps=1e-05, momentum=0.1, affine=True, track_running_stats=True)\n",
      "    (conv3): Conv2d(64, 128, kernel_size=(1, 1), stride=(1, 1))\n",
      "    (norm3): BatchNorm2d(128, eps=1e-05, momentum=0.1, affine=True, track_running_stats=True)\n",
      "  )\n",
      "  (decoder2): DecoderBlock(\n",
      "    (conv1): Conv2d(128, 32, kernel_size=(1, 1), stride=(1, 1))\n",
      "    (norm1): BatchNorm2d(32, eps=1e-05, momentum=0.1, affine=True, track_running_stats=True)\n",
      "    (deconv2): ConvTranspose2d(32, 32, kernel_size=(3, 3), stride=(2, 2), padding=(1, 1), output_padding=(1, 1))\n",
      "    (norm2): BatchNorm2d(32, eps=1e-05, momentum=0.1, affine=True, track_running_stats=True)\n",
      "    (conv3): Conv2d(32, 64, kernel_size=(1, 1), stride=(1, 1))\n",
      "    (norm3): BatchNorm2d(64, eps=1e-05, momentum=0.1, affine=True, track_running_stats=True)\n",
      "  )\n",
      "  (decoder1): DecoderBlock(\n",
      "    (conv1): Conv2d(64, 16, kernel_size=(1, 1), stride=(1, 1))\n",
      "    (norm1): BatchNorm2d(16, eps=1e-05, momentum=0.1, affine=True, track_running_stats=True)\n",
      "    (deconv2): ConvTranspose2d(16, 16, kernel_size=(3, 3), stride=(2, 2), padding=(1, 1), output_padding=(1, 1))\n",
      "    (norm2): BatchNorm2d(16, eps=1e-05, momentum=0.1, affine=True, track_running_stats=True)\n",
      "    (conv3): Conv2d(16, 64, kernel_size=(1, 1), stride=(1, 1))\n",
      "    (norm3): BatchNorm2d(64, eps=1e-05, momentum=0.1, affine=True, track_running_stats=True)\n",
      "  )\n",
      "  (finaldeconv1): ConvTranspose2d(128, 32, kernel_size=(4, 4), stride=(2, 2), padding=(1, 1))\n",
      "  (finalconv2): Conv2d(32, 32, kernel_size=(10, 10), stride=(1, 1), padding=(1, 1))\n",
      "  (finalconv3): Conv2d(32, 5, kernel_size=(3, 3), stride=(1, 1), padding=(1, 1))\n",
      ")\n",
      "Number of parameters in network:  29130182\n"
     ]
    }
   ],
   "source": [
    "# Create Model object from the class defined above. Input channels = 4, output channels = 5\n",
    "net = CE_Net_(num_channels=4, num_classes=5).to(device,dtype=torch.float32)\n",
    "net.to(device) \n",
    "# if using GPU\n",
    "# If continuing from previously saved model, use \n",
    "# net.load_state_dict(torch.load('PATH TO SAVED MODEL FILE'))\n",
    "print(net)\n",
    "\n",
    "# This shows the number of parameters in the network\n",
    "n_params = sum(p.numel() for p in net.parameters() if p.requires_grad)\n",
    "print('Number of parameters in network: ', n_params)"
   ]
  },
  {
   "cell_type": "code",
   "execution_count": 11,
   "metadata": {
    "scrolled": true
   },
   "outputs": [
    {
     "name": "stderr",
     "output_type": "stream",
     "text": [
      "\r",
      "                                                                               \r",
      "\r",
      "[                                                                        ]N/A% "
     ]
    },
    {
     "name": "stdout",
     "output_type": "stream",
     "text": [
      "Starting epoch 1/100.\n"
     ]
    },
    {
     "name": "stderr",
     "output_type": "stream",
     "text": [
      "C:\\Users\\Juan\\anaconda3\\envs\\Image_Processing\\lib\\site-packages\\torch\\nn\\functional.py:2390: UserWarning: nn.functional.upsample is deprecated. Use nn.functional.interpolate instead.\n",
      "  warnings.warn(\"nn.functional.upsample is deprecated. Use nn.functional.interpolate instead.\")\n",
      "C:\\Users\\Juan\\anaconda3\\envs\\Image_Processing\\lib\\site-packages\\torch\\nn\\functional.py:2479: UserWarning: Default upsampling behavior when mode=bilinear is changed to align_corners=False since 0.4.0. Please specify align_corners=True if the old behavior is desired. See the documentation of nn.Upsample for details.\n",
      "  \"See the documentation of nn.Upsample for details.\".format(mode))\n"
     ]
    },
    {
     "name": "stdout",
     "output_type": "stream",
     "text": [
      "0.0000 --- loss: 1.618337\n"
     ]
    },
    {
     "name": "stderr",
     "output_type": "stream",
     "text": [
      "[*************                                                           ] 19% "
     ]
    },
    {
     "name": "stdout",
     "output_type": "stream",
     "text": [
      "0.2000 --- loss: 1.342095\n"
     ]
    },
    {
     "name": "stderr",
     "output_type": "stream",
     "text": [
      "[****************************                                            ] 39% "
     ]
    },
    {
     "name": "stdout",
     "output_type": "stream",
     "text": [
      "0.4000 --- loss: 1.274406\n"
     ]
    },
    {
     "name": "stderr",
     "output_type": "stream",
     "text": [
      "[******************************************                              ] 59% "
     ]
    },
    {
     "name": "stdout",
     "output_type": "stream",
     "text": [
      "0.6000 --- loss: 1.113898\n"
     ]
    },
    {
     "name": "stderr",
     "output_type": "stream",
     "text": [
      "[*********************************************************               ] 79% "
     ]
    },
    {
     "name": "stdout",
     "output_type": "stream",
     "text": [
      "0.8000 --- loss: 1.239554\n"
     ]
    },
    {
     "name": "stderr",
     "output_type": "stream",
     "text": [
      "[                                                                        ]N/A% "
     ]
    },
    {
     "name": "stdout",
     "output_type": "stream",
     "text": [
      "Epoch finished ! Loss: 1.3342341184616089\n"
     ]
    },
    {
     "name": "stderr",
     "output_type": "stream",
     "text": [
      "[************************************************************************]100% "
     ]
    },
    {
     "name": "stdout",
     "output_type": "stream",
     "text": [
      "Validation Cross-Entropy Coeff: 1.1629083156585693\n",
      "Checkpoint 1 saved !\n",
      "Starting epoch 2/100.\n"
     ]
    },
    {
     "name": "stderr",
     "output_type": "stream",
     "text": [
      "\r",
      "                                                                               \r",
      "\r",
      "[                                                                        ]N/A% "
     ]
    },
    {
     "name": "stdout",
     "output_type": "stream",
     "text": [
      "0.0000 --- loss: 1.215697\n"
     ]
    },
    {
     "name": "stderr",
     "output_type": "stream",
     "text": [
      "[*************                                                           ] 19% "
     ]
    },
    {
     "name": "stdout",
     "output_type": "stream",
     "text": [
      "0.2000 --- loss: 1.151205\n"
     ]
    },
    {
     "name": "stderr",
     "output_type": "stream",
     "text": [
      "[****************************                                            ] 39% "
     ]
    },
    {
     "name": "stdout",
     "output_type": "stream",
     "text": [
      "0.4000 --- loss: 1.213452\n"
     ]
    },
    {
     "name": "stderr",
     "output_type": "stream",
     "text": [
      "[******************************************                              ] 59% "
     ]
    },
    {
     "name": "stdout",
     "output_type": "stream",
     "text": [
      "0.6000 --- loss: 1.045758\n"
     ]
    },
    {
     "name": "stderr",
     "output_type": "stream",
     "text": [
      "[*********************************************************               ] 79% "
     ]
    },
    {
     "name": "stdout",
     "output_type": "stream",
     "text": [
      "0.8000 --- loss: 1.032155\n"
     ]
    },
    {
     "name": "stderr",
     "output_type": "stream",
     "text": [
      "[                                                                        ]N/A% "
     ]
    },
    {
     "name": "stdout",
     "output_type": "stream",
     "text": [
      "Epoch finished ! Loss: 1.090538740158081\n"
     ]
    },
    {
     "name": "stderr",
     "output_type": "stream",
     "text": [
      "[                                                                        ]N/A% "
     ]
    },
    {
     "name": "stdout",
     "output_type": "stream",
     "text": [
      "Validation Cross-Entropy Coeff: 0.9397064447402954\n",
      "Checkpoint 2 saved !\n",
      "Starting epoch 3/100.\n",
      "0.0000 --- loss: 0.835290\n"
     ]
    },
    {
     "name": "stderr",
     "output_type": "stream",
     "text": [
      "[*************                                                           ] 19% "
     ]
    },
    {
     "name": "stdout",
     "output_type": "stream",
     "text": [
      "0.2000 --- loss: 1.000237\n"
     ]
    },
    {
     "name": "stderr",
     "output_type": "stream",
     "text": [
      "[****************************                                            ] 39% "
     ]
    },
    {
     "name": "stdout",
     "output_type": "stream",
     "text": [
      "0.4000 --- loss: 0.880533\n"
     ]
    },
    {
     "name": "stderr",
     "output_type": "stream",
     "text": [
      "[******************************************                              ] 59% "
     ]
    },
    {
     "name": "stdout",
     "output_type": "stream",
     "text": [
      "0.6000 --- loss: 0.745990\n"
     ]
    },
    {
     "name": "stderr",
     "output_type": "stream",
     "text": [
      "[*********************************************************               ] 79% "
     ]
    },
    {
     "name": "stdout",
     "output_type": "stream",
     "text": [
      "0.8000 --- loss: 0.793618\n"
     ]
    },
    {
     "name": "stderr",
     "output_type": "stream",
     "text": [
      "[                                                                        ]N/A% "
     ]
    },
    {
     "name": "stdout",
     "output_type": "stream",
     "text": [
      "Epoch finished ! Loss: 0.8971685767173767\n"
     ]
    },
    {
     "name": "stderr",
     "output_type": "stream",
     "text": [
      "[                                                                        ]N/A% "
     ]
    },
    {
     "name": "stdout",
     "output_type": "stream",
     "text": [
      "Validation Cross-Entropy Coeff: 0.9146832227706909\n",
      "Checkpoint 3 saved !\n",
      "Starting epoch 4/100.\n",
      "0.0000 --- loss: 0.980845\n"
     ]
    },
    {
     "name": "stderr",
     "output_type": "stream",
     "text": [
      "[*************                                                           ] 19% "
     ]
    },
    {
     "name": "stdout",
     "output_type": "stream",
     "text": [
      "0.2000 --- loss: 0.797069\n"
     ]
    },
    {
     "name": "stderr",
     "output_type": "stream",
     "text": [
      "[****************************                                            ] 39% "
     ]
    },
    {
     "name": "stdout",
     "output_type": "stream",
     "text": [
      "0.4000 --- loss: 0.898129\n"
     ]
    },
    {
     "name": "stderr",
     "output_type": "stream",
     "text": [
      "[******************************************                              ] 59% "
     ]
    },
    {
     "name": "stdout",
     "output_type": "stream",
     "text": [
      "0.6000 --- loss: 0.888045\n"
     ]
    },
    {
     "name": "stderr",
     "output_type": "stream",
     "text": [
      "[*********************************************************               ] 79% "
     ]
    },
    {
     "name": "stdout",
     "output_type": "stream",
     "text": [
      "0.8000 --- loss: 0.825157\n"
     ]
    },
    {
     "name": "stderr",
     "output_type": "stream",
     "text": [
      "[                                                                        ]N/A% "
     ]
    },
    {
     "name": "stdout",
     "output_type": "stream",
     "text": [
      "Epoch finished ! Loss: 0.8108018040657043\n"
     ]
    },
    {
     "name": "stderr",
     "output_type": "stream",
     "text": [
      "[                                                                        ]N/A% "
     ]
    },
    {
     "name": "stdout",
     "output_type": "stream",
     "text": [
      "Validation Cross-Entropy Coeff: 0.7574312090873718\n",
      "Checkpoint 4 saved !\n",
      "Starting epoch 5/100.\n",
      "0.0000 --- loss: 0.849602\n"
     ]
    },
    {
     "name": "stderr",
     "output_type": "stream",
     "text": [
      "[*************                                                           ] 19% "
     ]
    },
    {
     "name": "stdout",
     "output_type": "stream",
     "text": [
      "0.2000 --- loss: 0.843081\n"
     ]
    },
    {
     "name": "stderr",
     "output_type": "stream",
     "text": [
      "[****************************                                            ] 39% "
     ]
    },
    {
     "name": "stdout",
     "output_type": "stream",
     "text": [
      "0.4000 --- loss: 0.730810\n"
     ]
    },
    {
     "name": "stderr",
     "output_type": "stream",
     "text": [
      "[******************************************                              ] 59% "
     ]
    },
    {
     "name": "stdout",
     "output_type": "stream",
     "text": [
      "0.6000 --- loss: 0.758947\n"
     ]
    },
    {
     "name": "stderr",
     "output_type": "stream",
     "text": [
      "[*********************************************************               ] 79% "
     ]
    },
    {
     "name": "stdout",
     "output_type": "stream",
     "text": [
      "0.8000 --- loss: 0.639444\n"
     ]
    },
    {
     "name": "stderr",
     "output_type": "stream",
     "text": [
      "[                                                                        ]N/A% "
     ]
    },
    {
     "name": "stdout",
     "output_type": "stream",
     "text": [
      "Epoch finished ! Loss: 0.7309741973876953\n"
     ]
    },
    {
     "name": "stderr",
     "output_type": "stream",
     "text": [
      "[                                                                        ]N/A% "
     ]
    },
    {
     "name": "stdout",
     "output_type": "stream",
     "text": [
      "Validation Cross-Entropy Coeff: 0.6890155076980591\n",
      "Checkpoint 5 saved !\n",
      "Starting epoch 6/100.\n",
      "0.0000 --- loss: 0.644118\n"
     ]
    },
    {
     "name": "stderr",
     "output_type": "stream",
     "text": [
      "[*************                                                           ] 19% "
     ]
    },
    {
     "name": "stdout",
     "output_type": "stream",
     "text": [
      "0.2000 --- loss: 0.660316\n"
     ]
    },
    {
     "name": "stderr",
     "output_type": "stream",
     "text": [
      "[****************************                                            ] 39% "
     ]
    },
    {
     "name": "stdout",
     "output_type": "stream",
     "text": [
      "0.4000 --- loss: 0.650885\n"
     ]
    },
    {
     "name": "stderr",
     "output_type": "stream",
     "text": [
      "[******************************************                              ] 59% "
     ]
    },
    {
     "name": "stdout",
     "output_type": "stream",
     "text": [
      "0.6000 --- loss: 0.676900\n"
     ]
    },
    {
     "name": "stderr",
     "output_type": "stream",
     "text": [
      "[*********************************************************               ] 79% "
     ]
    },
    {
     "name": "stdout",
     "output_type": "stream",
     "text": [
      "0.8000 --- loss: 0.738930\n"
     ]
    },
    {
     "name": "stderr",
     "output_type": "stream",
     "text": [
      "[                                                                        ]N/A% "
     ]
    },
    {
     "name": "stdout",
     "output_type": "stream",
     "text": [
      "Epoch finished ! Loss: 0.6965242624282837\n"
     ]
    },
    {
     "name": "stderr",
     "output_type": "stream",
     "text": [
      "[************************************************************************]100% "
     ]
    },
    {
     "name": "stdout",
     "output_type": "stream",
     "text": [
      "Validation Cross-Entropy Coeff: 0.661365807056427\n"
     ]
    },
    {
     "name": "stderr",
     "output_type": "stream",
     "text": [
      "\r",
      "                                                                               \r",
      "\r",
      "[                                                                        ]N/A% "
     ]
    },
    {
     "name": "stdout",
     "output_type": "stream",
     "text": [
      "Checkpoint 6 saved !\n",
      "Starting epoch 7/100.\n",
      "0.0000 --- loss: 0.623519\n"
     ]
    },
    {
     "name": "stderr",
     "output_type": "stream",
     "text": [
      "[*************                                                           ] 19% "
     ]
    },
    {
     "name": "stdout",
     "output_type": "stream",
     "text": [
      "0.2000 --- loss: 0.772523\n"
     ]
    },
    {
     "name": "stderr",
     "output_type": "stream",
     "text": [
      "[****************************                                            ] 39% "
     ]
    },
    {
     "name": "stdout",
     "output_type": "stream",
     "text": [
      "0.4000 --- loss: 0.589179\n"
     ]
    },
    {
     "name": "stderr",
     "output_type": "stream",
     "text": [
      "[******************************************                              ] 59% "
     ]
    },
    {
     "name": "stdout",
     "output_type": "stream",
     "text": [
      "0.6000 --- loss: 0.611331\n"
     ]
    },
    {
     "name": "stderr",
     "output_type": "stream",
     "text": [
      "[*********************************************************               ] 79% "
     ]
    },
    {
     "name": "stdout",
     "output_type": "stream",
     "text": [
      "0.8000 --- loss: 0.683301\n"
     ]
    },
    {
     "name": "stderr",
     "output_type": "stream",
     "text": [
      "[                                                                        ]N/A% "
     ]
    },
    {
     "name": "stdout",
     "output_type": "stream",
     "text": [
      "Epoch finished ! Loss: 0.6632067561149597\n"
     ]
    },
    {
     "name": "stderr",
     "output_type": "stream",
     "text": [
      "[                                                                        ]N/A% "
     ]
    },
    {
     "name": "stdout",
     "output_type": "stream",
     "text": [
      "Validation Cross-Entropy Coeff: 0.6215375661849976\n",
      "Checkpoint 7 saved !\n",
      "Starting epoch 8/100.\n",
      "0.0000 --- loss: 0.681982\n"
     ]
    },
    {
     "name": "stderr",
     "output_type": "stream",
     "text": [
      "[*************                                                           ] 19% "
     ]
    },
    {
     "name": "stdout",
     "output_type": "stream",
     "text": [
      "0.2000 --- loss: 0.560587\n"
     ]
    },
    {
     "name": "stderr",
     "output_type": "stream",
     "text": [
      "[****************************                                            ] 39% "
     ]
    },
    {
     "name": "stdout",
     "output_type": "stream",
     "text": [
      "0.4000 --- loss: 0.571101\n"
     ]
    },
    {
     "name": "stderr",
     "output_type": "stream",
     "text": [
      "[******************************************                              ] 59% "
     ]
    },
    {
     "name": "stdout",
     "output_type": "stream",
     "text": [
      "0.6000 --- loss: 0.603699\n"
     ]
    },
    {
     "name": "stderr",
     "output_type": "stream",
     "text": [
      "[*********************************************************               ] 79% "
     ]
    },
    {
     "name": "stdout",
     "output_type": "stream",
     "text": [
      "0.8000 --- loss: 0.607746\n"
     ]
    },
    {
     "name": "stderr",
     "output_type": "stream",
     "text": [
      "[                                                                        ]N/A% "
     ]
    },
    {
     "name": "stdout",
     "output_type": "stream",
     "text": [
      "Epoch finished ! Loss: 0.6363710165023804\n"
     ]
    },
    {
     "name": "stderr",
     "output_type": "stream",
     "text": [
      "[                                                                        ]N/A% "
     ]
    },
    {
     "name": "stdout",
     "output_type": "stream",
     "text": [
      "Validation Cross-Entropy Coeff: 0.6413861513137817\n",
      "Checkpoint 8 saved !\n",
      "Starting epoch 9/100.\n",
      "0.0000 --- loss: 0.693911\n"
     ]
    },
    {
     "name": "stderr",
     "output_type": "stream",
     "text": [
      "[*************                                                           ] 19% "
     ]
    },
    {
     "name": "stdout",
     "output_type": "stream",
     "text": [
      "0.2000 --- loss: 0.584439\n"
     ]
    },
    {
     "name": "stderr",
     "output_type": "stream",
     "text": [
      "[****************************                                            ] 39% "
     ]
    },
    {
     "name": "stdout",
     "output_type": "stream",
     "text": [
      "0.4000 --- loss: 0.632489\n"
     ]
    },
    {
     "name": "stderr",
     "output_type": "stream",
     "text": [
      "[******************************************                              ] 59% "
     ]
    },
    {
     "name": "stdout",
     "output_type": "stream",
     "text": [
      "0.6000 --- loss: 0.649599\n"
     ]
    },
    {
     "name": "stderr",
     "output_type": "stream",
     "text": [
      "[*********************************************************               ] 79% "
     ]
    },
    {
     "name": "stdout",
     "output_type": "stream",
     "text": [
      "0.8000 --- loss: 0.597633\n"
     ]
    },
    {
     "name": "stderr",
     "output_type": "stream",
     "text": [
      "[                                                                        ]N/A% "
     ]
    },
    {
     "name": "stdout",
     "output_type": "stream",
     "text": [
      "Epoch finished ! Loss: 0.6312862634658813\n"
     ]
    },
    {
     "name": "stderr",
     "output_type": "stream",
     "text": [
      "[                                                                        ]N/A% "
     ]
    },
    {
     "name": "stdout",
     "output_type": "stream",
     "text": [
      "Validation Cross-Entropy Coeff: 0.6110265254974365\n",
      "Checkpoint 9 saved !\n",
      "Starting epoch 10/100.\n",
      "0.0000 --- loss: 0.605528\n"
     ]
    },
    {
     "name": "stderr",
     "output_type": "stream",
     "text": [
      "[*************                                                           ] 19% "
     ]
    },
    {
     "name": "stdout",
     "output_type": "stream",
     "text": [
      "0.2000 --- loss: 0.540703\n"
     ]
    },
    {
     "name": "stderr",
     "output_type": "stream",
     "text": [
      "[****************************                                            ] 39% "
     ]
    },
    {
     "name": "stdout",
     "output_type": "stream",
     "text": [
      "0.4000 --- loss: 0.598304\n"
     ]
    },
    {
     "name": "stderr",
     "output_type": "stream",
     "text": [
      "[******************************************                              ] 59% "
     ]
    },
    {
     "name": "stdout",
     "output_type": "stream",
     "text": [
      "0.6000 --- loss: 0.588586\n"
     ]
    },
    {
     "name": "stderr",
     "output_type": "stream",
     "text": [
      "[*********************************************************               ] 79% "
     ]
    },
    {
     "name": "stdout",
     "output_type": "stream",
     "text": [
      "0.8000 --- loss: 0.607582\n"
     ]
    },
    {
     "name": "stderr",
     "output_type": "stream",
     "text": [
      "[                                                                        ]N/A% "
     ]
    },
    {
     "name": "stdout",
     "output_type": "stream",
     "text": [
      "Epoch finished ! Loss: 0.6085259914398193\n"
     ]
    },
    {
     "name": "stderr",
     "output_type": "stream",
     "text": [
      "[                                                                        ]N/A% "
     ]
    },
    {
     "name": "stdout",
     "output_type": "stream",
     "text": [
      "Validation Cross-Entropy Coeff: 0.6008456945419312\n",
      "Checkpoint 10 saved !\n",
      "Starting epoch 11/100.\n",
      "0.0000 --- loss: 0.469835\n"
     ]
    },
    {
     "name": "stderr",
     "output_type": "stream",
     "text": [
      "[*************                                                           ] 19% "
     ]
    },
    {
     "name": "stdout",
     "output_type": "stream",
     "text": [
      "0.2000 --- loss: 0.705348\n"
     ]
    },
    {
     "name": "stderr",
     "output_type": "stream",
     "text": [
      "[****************************                                            ] 39% "
     ]
    },
    {
     "name": "stdout",
     "output_type": "stream",
     "text": [
      "0.4000 --- loss: 0.576375\n"
     ]
    },
    {
     "name": "stderr",
     "output_type": "stream",
     "text": [
      "[******************************************                              ] 59% "
     ]
    },
    {
     "name": "stdout",
     "output_type": "stream",
     "text": [
      "0.6000 --- loss: 0.554338\n"
     ]
    },
    {
     "name": "stderr",
     "output_type": "stream",
     "text": [
      "[*********************************************************               ] 79% "
     ]
    },
    {
     "name": "stdout",
     "output_type": "stream",
     "text": [
      "0.8000 --- loss: 0.858897\n"
     ]
    },
    {
     "name": "stderr",
     "output_type": "stream",
     "text": [
      "[                                                                        ]N/A% "
     ]
    },
    {
     "name": "stdout",
     "output_type": "stream",
     "text": [
      "Epoch finished ! Loss: 0.600822925567627\n"
     ]
    },
    {
     "name": "stderr",
     "output_type": "stream",
     "text": [
      "[                                                                        ]N/A% "
     ]
    },
    {
     "name": "stdout",
     "output_type": "stream",
     "text": [
      "Validation Cross-Entropy Coeff: 0.6136612892150879\n",
      "Checkpoint 11 saved !\n",
      "Starting epoch 12/100.\n",
      "0.0000 --- loss: 0.563231\n"
     ]
    },
    {
     "name": "stderr",
     "output_type": "stream",
     "text": [
      "[*************                                                           ] 19% "
     ]
    },
    {
     "name": "stdout",
     "output_type": "stream",
     "text": [
      "0.2000 --- loss: 0.535165\n"
     ]
    },
    {
     "name": "stderr",
     "output_type": "stream",
     "text": [
      "[****************************                                            ] 39% "
     ]
    },
    {
     "name": "stdout",
     "output_type": "stream",
     "text": [
      "0.4000 --- loss: 0.618478\n"
     ]
    },
    {
     "name": "stderr",
     "output_type": "stream",
     "text": [
      "[******************************************                              ] 59% "
     ]
    },
    {
     "name": "stdout",
     "output_type": "stream",
     "text": [
      "0.6000 --- loss: 0.560792\n"
     ]
    },
    {
     "name": "stderr",
     "output_type": "stream",
     "text": [
      "[*********************************************************               ] 79% "
     ]
    },
    {
     "name": "stdout",
     "output_type": "stream",
     "text": [
      "0.8000 --- loss: 0.560783\n"
     ]
    },
    {
     "name": "stderr",
     "output_type": "stream",
     "text": [
      "[                                                                        ]N/A% "
     ]
    },
    {
     "name": "stdout",
     "output_type": "stream",
     "text": [
      "Epoch finished ! Loss: 0.5963365435600281\n"
     ]
    },
    {
     "name": "stderr",
     "output_type": "stream",
     "text": [
      "[                                                                        ]N/A% "
     ]
    },
    {
     "name": "stdout",
     "output_type": "stream",
     "text": [
      "Validation Cross-Entropy Coeff: 0.6049625873565674\n",
      "Checkpoint 12 saved !\n",
      "Starting epoch 13/100.\n",
      "0.0000 --- loss: 0.528833\n"
     ]
    },
    {
     "name": "stderr",
     "output_type": "stream",
     "text": [
      "[*************                                                           ] 19% "
     ]
    },
    {
     "name": "stdout",
     "output_type": "stream",
     "text": [
      "0.2000 --- loss: 0.616769\n"
     ]
    },
    {
     "name": "stderr",
     "output_type": "stream",
     "text": [
      "[****************************                                            ] 39% "
     ]
    },
    {
     "name": "stdout",
     "output_type": "stream",
     "text": [
      "0.4000 --- loss: 0.549359\n"
     ]
    },
    {
     "name": "stderr",
     "output_type": "stream",
     "text": [
      "[******************************************                              ] 59% "
     ]
    },
    {
     "name": "stdout",
     "output_type": "stream",
     "text": [
      "0.6000 --- loss: 0.562773\n"
     ]
    },
    {
     "name": "stderr",
     "output_type": "stream",
     "text": [
      "[*********************************************************               ] 79% "
     ]
    },
    {
     "name": "stdout",
     "output_type": "stream",
     "text": [
      "0.8000 --- loss: 0.551909\n"
     ]
    },
    {
     "name": "stderr",
     "output_type": "stream",
     "text": [
      "[                                                                        ]N/A% "
     ]
    },
    {
     "name": "stdout",
     "output_type": "stream",
     "text": [
      "Epoch finished ! Loss: 0.5706179738044739\n"
     ]
    },
    {
     "name": "stderr",
     "output_type": "stream",
     "text": [
      "[************************************************************************]100% "
     ]
    },
    {
     "name": "stdout",
     "output_type": "stream",
     "text": [
      "Validation Cross-Entropy Coeff: 0.6404070854187012\n"
     ]
    },
    {
     "name": "stderr",
     "output_type": "stream",
     "text": [
      "\r",
      "                                                                               \r",
      "\r",
      "[                                                                        ]N/A% "
     ]
    },
    {
     "name": "stdout",
     "output_type": "stream",
     "text": [
      "Checkpoint 13 saved !\n",
      "Starting epoch 14/100.\n",
      "0.0000 --- loss: 0.629087\n"
     ]
    },
    {
     "name": "stderr",
     "output_type": "stream",
     "text": [
      "[*************                                                           ] 19% "
     ]
    },
    {
     "name": "stdout",
     "output_type": "stream",
     "text": [
      "0.2000 --- loss: 0.610792\n"
     ]
    },
    {
     "name": "stderr",
     "output_type": "stream",
     "text": [
      "[****************************                                            ] 39% "
     ]
    },
    {
     "name": "stdout",
     "output_type": "stream",
     "text": [
      "0.4000 --- loss: 0.542932\n"
     ]
    },
    {
     "name": "stderr",
     "output_type": "stream",
     "text": [
      "[******************************************                              ] 59% "
     ]
    },
    {
     "name": "stdout",
     "output_type": "stream",
     "text": [
      "0.6000 --- loss: 0.540919\n"
     ]
    },
    {
     "name": "stderr",
     "output_type": "stream",
     "text": [
      "[*********************************************************               ] 79% "
     ]
    },
    {
     "name": "stdout",
     "output_type": "stream",
     "text": [
      "0.8000 --- loss: 0.606815\n"
     ]
    },
    {
     "name": "stderr",
     "output_type": "stream",
     "text": [
      "[                                                                        ]N/A% "
     ]
    },
    {
     "name": "stdout",
     "output_type": "stream",
     "text": [
      "Epoch finished ! Loss: 0.5707687735557556\n"
     ]
    },
    {
     "name": "stderr",
     "output_type": "stream",
     "text": [
      "[                                                                        ]N/A% "
     ]
    },
    {
     "name": "stdout",
     "output_type": "stream",
     "text": [
      "Validation Cross-Entropy Coeff: 0.6429746150970459\n",
      "Checkpoint 14 saved !\n",
      "Starting epoch 15/100.\n",
      "0.0000 --- loss: 0.603923\n"
     ]
    },
    {
     "name": "stderr",
     "output_type": "stream",
     "text": [
      "[*************                                                           ] 19% "
     ]
    },
    {
     "name": "stdout",
     "output_type": "stream",
     "text": [
      "0.2000 --- loss: 0.586629\n"
     ]
    },
    {
     "name": "stderr",
     "output_type": "stream",
     "text": [
      "[****************************                                            ] 39% "
     ]
    },
    {
     "name": "stdout",
     "output_type": "stream",
     "text": [
      "0.4000 --- loss: 0.597893\n"
     ]
    },
    {
     "name": "stderr",
     "output_type": "stream",
     "text": [
      "[******************************************                              ] 59% "
     ]
    },
    {
     "name": "stdout",
     "output_type": "stream",
     "text": [
      "0.6000 --- loss: 0.554314\n"
     ]
    },
    {
     "name": "stderr",
     "output_type": "stream",
     "text": [
      "[*********************************************************               ] 79% "
     ]
    },
    {
     "name": "stdout",
     "output_type": "stream",
     "text": [
      "0.8000 --- loss: 0.516059\n"
     ]
    },
    {
     "name": "stderr",
     "output_type": "stream",
     "text": [
      "[                                                                        ]N/A% "
     ]
    },
    {
     "name": "stdout",
     "output_type": "stream",
     "text": [
      "Epoch finished ! Loss: 0.5498077869415283\n"
     ]
    },
    {
     "name": "stderr",
     "output_type": "stream",
     "text": [
      "[                                                                        ]N/A% "
     ]
    },
    {
     "name": "stdout",
     "output_type": "stream",
     "text": [
      "Validation Cross-Entropy Coeff: 0.5744478702545166\n",
      "Checkpoint 15 saved !\n",
      "Starting epoch 16/100.\n",
      "0.0000 --- loss: 0.469452\n"
     ]
    },
    {
     "name": "stderr",
     "output_type": "stream",
     "text": [
      "[*************                                                           ] 19% "
     ]
    },
    {
     "name": "stdout",
     "output_type": "stream",
     "text": [
      "0.2000 --- loss: 0.745591\n"
     ]
    },
    {
     "name": "stderr",
     "output_type": "stream",
     "text": [
      "[****************************                                            ] 39% "
     ]
    },
    {
     "name": "stdout",
     "output_type": "stream",
     "text": [
      "0.4000 --- loss: 0.564344\n"
     ]
    },
    {
     "name": "stderr",
     "output_type": "stream",
     "text": [
      "[******************************************                              ] 59% "
     ]
    },
    {
     "name": "stdout",
     "output_type": "stream",
     "text": [
      "0.6000 --- loss: 0.461338\n"
     ]
    },
    {
     "name": "stderr",
     "output_type": "stream",
     "text": [
      "[*********************************************************               ] 79% "
     ]
    },
    {
     "name": "stdout",
     "output_type": "stream",
     "text": [
      "0.8000 --- loss: 0.512714\n"
     ]
    },
    {
     "name": "stderr",
     "output_type": "stream",
     "text": [
      "[                                                                        ]N/A% "
     ]
    },
    {
     "name": "stdout",
     "output_type": "stream",
     "text": [
      "Epoch finished ! Loss: 0.5429564118385315\n"
     ]
    },
    {
     "name": "stderr",
     "output_type": "stream",
     "text": [
      "[                                                                        ]N/A% "
     ]
    },
    {
     "name": "stdout",
     "output_type": "stream",
     "text": [
      "Validation Cross-Entropy Coeff: 0.5878523588180542\n",
      "Checkpoint 16 saved !\n",
      "Starting epoch 17/100.\n",
      "0.0000 --- loss: 0.488578\n"
     ]
    },
    {
     "name": "stderr",
     "output_type": "stream",
     "text": [
      "[*************                                                           ] 19% "
     ]
    },
    {
     "name": "stdout",
     "output_type": "stream",
     "text": [
      "0.2000 --- loss: 0.560130\n"
     ]
    },
    {
     "name": "stderr",
     "output_type": "stream",
     "text": [
      "[****************************                                            ] 39% "
     ]
    },
    {
     "name": "stdout",
     "output_type": "stream",
     "text": [
      "0.4000 --- loss: 0.568386\n"
     ]
    },
    {
     "name": "stderr",
     "output_type": "stream",
     "text": [
      "[******************************************                              ] 59% "
     ]
    },
    {
     "name": "stdout",
     "output_type": "stream",
     "text": [
      "0.6000 --- loss: 0.463971\n"
     ]
    },
    {
     "name": "stderr",
     "output_type": "stream",
     "text": [
      "[*********************************************************               ] 79% "
     ]
    },
    {
     "name": "stdout",
     "output_type": "stream",
     "text": [
      "0.8000 --- loss: 0.562145\n"
     ]
    },
    {
     "name": "stderr",
     "output_type": "stream",
     "text": [
      "[                                                                        ]N/A% "
     ]
    },
    {
     "name": "stdout",
     "output_type": "stream",
     "text": [
      "Epoch finished ! Loss: 0.5428241491317749\n"
     ]
    },
    {
     "name": "stderr",
     "output_type": "stream",
     "text": [
      "[                                                                        ]N/A% "
     ]
    },
    {
     "name": "stdout",
     "output_type": "stream",
     "text": [
      "Validation Cross-Entropy Coeff: 0.6638330221176147\n",
      "Checkpoint 17 saved !\n",
      "Starting epoch 18/100.\n",
      "0.0000 --- loss: 0.422543\n"
     ]
    },
    {
     "name": "stderr",
     "output_type": "stream",
     "text": [
      "[*************                                                           ] 19% "
     ]
    },
    {
     "name": "stdout",
     "output_type": "stream",
     "text": [
      "0.2000 --- loss: 0.579215\n"
     ]
    },
    {
     "name": "stderr",
     "output_type": "stream",
     "text": [
      "[****************************                                            ] 39% "
     ]
    },
    {
     "name": "stdout",
     "output_type": "stream",
     "text": [
      "0.4000 --- loss: 0.593487\n"
     ]
    },
    {
     "name": "stderr",
     "output_type": "stream",
     "text": [
      "[******************************************                              ] 59% "
     ]
    },
    {
     "name": "stdout",
     "output_type": "stream",
     "text": [
      "0.6000 --- loss: 0.515576\n"
     ]
    },
    {
     "name": "stderr",
     "output_type": "stream",
     "text": [
      "[*********************************************************               ] 79% "
     ]
    },
    {
     "name": "stdout",
     "output_type": "stream",
     "text": [
      "0.8000 --- loss: 0.503210\n"
     ]
    },
    {
     "name": "stderr",
     "output_type": "stream",
     "text": [
      "[                                                                        ]N/A% "
     ]
    },
    {
     "name": "stdout",
     "output_type": "stream",
     "text": [
      "Epoch finished ! Loss: 0.5291217565536499\n"
     ]
    },
    {
     "name": "stderr",
     "output_type": "stream",
     "text": [
      "[                                                                        ]N/A% "
     ]
    },
    {
     "name": "stdout",
     "output_type": "stream",
     "text": [
      "Validation Cross-Entropy Coeff: 0.5704442262649536\n",
      "Checkpoint 18 saved !\n",
      "Starting epoch 19/100.\n",
      "0.0000 --- loss: 0.437404\n"
     ]
    },
    {
     "name": "stderr",
     "output_type": "stream",
     "text": [
      "[*************                                                           ] 19% "
     ]
    },
    {
     "name": "stdout",
     "output_type": "stream",
     "text": [
      "0.2000 --- loss: 0.555639\n"
     ]
    },
    {
     "name": "stderr",
     "output_type": "stream",
     "text": [
      "[****************************                                            ] 39% "
     ]
    },
    {
     "name": "stdout",
     "output_type": "stream",
     "text": [
      "0.4000 --- loss: 0.545492\n"
     ]
    },
    {
     "name": "stderr",
     "output_type": "stream",
     "text": [
      "[******************************************                              ] 59% "
     ]
    },
    {
     "name": "stdout",
     "output_type": "stream",
     "text": [
      "0.6000 --- loss: 0.542564\n"
     ]
    },
    {
     "name": "stderr",
     "output_type": "stream",
     "text": [
      "[*********************************************************               ] 79% "
     ]
    },
    {
     "name": "stdout",
     "output_type": "stream",
     "text": [
      "0.8000 --- loss: 0.438346\n"
     ]
    },
    {
     "name": "stderr",
     "output_type": "stream",
     "text": [
      "[                                                                        ]N/A% "
     ]
    },
    {
     "name": "stdout",
     "output_type": "stream",
     "text": [
      "Epoch finished ! Loss: 0.5159469842910767\n"
     ]
    },
    {
     "name": "stderr",
     "output_type": "stream",
     "text": [
      "[                                                                        ]N/A% "
     ]
    },
    {
     "name": "stdout",
     "output_type": "stream",
     "text": [
      "Validation Cross-Entropy Coeff: 0.5701499581336975\n",
      "Checkpoint 19 saved !\n",
      "Starting epoch 20/100.\n",
      "0.0000 --- loss: 0.461612\n"
     ]
    },
    {
     "name": "stderr",
     "output_type": "stream",
     "text": [
      "[*************                                                           ] 19% "
     ]
    },
    {
     "name": "stdout",
     "output_type": "stream",
     "text": [
      "0.2000 --- loss: 0.473960\n"
     ]
    },
    {
     "name": "stderr",
     "output_type": "stream",
     "text": [
      "[****************************                                            ] 39% "
     ]
    },
    {
     "name": "stdout",
     "output_type": "stream",
     "text": [
      "0.4000 --- loss: 0.484789\n"
     ]
    },
    {
     "name": "stderr",
     "output_type": "stream",
     "text": [
      "[******************************************                              ] 59% "
     ]
    },
    {
     "name": "stdout",
     "output_type": "stream",
     "text": [
      "0.6000 --- loss: 0.444344\n"
     ]
    },
    {
     "name": "stderr",
     "output_type": "stream",
     "text": [
      "[*********************************************************               ] 79% "
     ]
    },
    {
     "name": "stdout",
     "output_type": "stream",
     "text": [
      "0.8000 --- loss: 0.498198\n"
     ]
    },
    {
     "name": "stderr",
     "output_type": "stream",
     "text": [
      "[                                                                        ]N/A% "
     ]
    },
    {
     "name": "stdout",
     "output_type": "stream",
     "text": [
      "Epoch finished ! Loss: 0.513220489025116\n"
     ]
    },
    {
     "name": "stderr",
     "output_type": "stream",
     "text": [
      "[                                                                        ]N/A% "
     ]
    },
    {
     "name": "stdout",
     "output_type": "stream",
     "text": [
      "Validation Cross-Entropy Coeff: 0.5654911398887634\n",
      "Checkpoint 20 saved !\n",
      "Starting epoch 21/100.\n",
      "0.0000 --- loss: 0.601565\n"
     ]
    },
    {
     "name": "stderr",
     "output_type": "stream",
     "text": [
      "[*************                                                           ] 19% "
     ]
    },
    {
     "name": "stdout",
     "output_type": "stream",
     "text": [
      "0.2000 --- loss: 0.488137\n"
     ]
    },
    {
     "name": "stderr",
     "output_type": "stream",
     "text": [
      "[****************************                                            ] 39% "
     ]
    },
    {
     "name": "stdout",
     "output_type": "stream",
     "text": [
      "0.4000 --- loss: 0.490095\n"
     ]
    },
    {
     "name": "stderr",
     "output_type": "stream",
     "text": [
      "[******************************************                              ] 59% "
     ]
    },
    {
     "name": "stdout",
     "output_type": "stream",
     "text": [
      "0.6000 --- loss: 0.470316\n"
     ]
    },
    {
     "name": "stderr",
     "output_type": "stream",
     "text": [
      "[*********************************************************               ] 79% "
     ]
    },
    {
     "name": "stdout",
     "output_type": "stream",
     "text": [
      "0.8000 --- loss: 0.472753\n"
     ]
    },
    {
     "name": "stderr",
     "output_type": "stream",
     "text": [
      "[                                                                        ]N/A% "
     ]
    },
    {
     "name": "stdout",
     "output_type": "stream",
     "text": [
      "Epoch finished ! Loss: 0.5072932243347168\n"
     ]
    },
    {
     "name": "stderr",
     "output_type": "stream",
     "text": [
      "[                                                                        ]N/A% "
     ]
    },
    {
     "name": "stdout",
     "output_type": "stream",
     "text": [
      "Validation Cross-Entropy Coeff: 0.6016690731048584\n",
      "Checkpoint 21 saved !\n",
      "Starting epoch 22/100.\n",
      "0.0000 --- loss: 0.550690\n"
     ]
    },
    {
     "name": "stderr",
     "output_type": "stream",
     "text": [
      "[*************                                                           ] 19% "
     ]
    },
    {
     "name": "stdout",
     "output_type": "stream",
     "text": [
      "0.2000 --- loss: 0.440691\n"
     ]
    },
    {
     "name": "stderr",
     "output_type": "stream",
     "text": [
      "[****************************                                            ] 39% "
     ]
    },
    {
     "name": "stdout",
     "output_type": "stream",
     "text": [
      "0.4000 --- loss: 0.570175\n"
     ]
    },
    {
     "name": "stderr",
     "output_type": "stream",
     "text": [
      "[******************************************                              ] 59% "
     ]
    },
    {
     "name": "stdout",
     "output_type": "stream",
     "text": [
      "0.6000 --- loss: 0.444772\n"
     ]
    },
    {
     "name": "stderr",
     "output_type": "stream",
     "text": [
      "[*********************************************************               ] 79% "
     ]
    },
    {
     "name": "stdout",
     "output_type": "stream",
     "text": [
      "0.8000 --- loss: 0.443991\n"
     ]
    },
    {
     "name": "stderr",
     "output_type": "stream",
     "text": [
      "[                                                                        ]N/A% "
     ]
    },
    {
     "name": "stdout",
     "output_type": "stream",
     "text": [
      "Epoch finished ! Loss: 0.4980997145175934\n"
     ]
    },
    {
     "name": "stderr",
     "output_type": "stream",
     "text": [
      "[                                                                        ]N/A% "
     ]
    },
    {
     "name": "stdout",
     "output_type": "stream",
     "text": [
      "Validation Cross-Entropy Coeff: 0.5775552988052368\n",
      "Checkpoint 22 saved !\n",
      "Starting epoch 23/100.\n",
      "0.0000 --- loss: 0.452854\n"
     ]
    },
    {
     "name": "stderr",
     "output_type": "stream",
     "text": [
      "[*************                                                           ] 19% "
     ]
    },
    {
     "name": "stdout",
     "output_type": "stream",
     "text": [
      "0.2000 --- loss: 0.512339\n"
     ]
    },
    {
     "name": "stderr",
     "output_type": "stream",
     "text": [
      "[****************************                                            ] 39% "
     ]
    },
    {
     "name": "stdout",
     "output_type": "stream",
     "text": [
      "0.4000 --- loss: 0.537608\n"
     ]
    },
    {
     "name": "stderr",
     "output_type": "stream",
     "text": [
      "[******************************************                              ] 59% "
     ]
    },
    {
     "name": "stdout",
     "output_type": "stream",
     "text": [
      "0.6000 --- loss: 0.485459\n"
     ]
    },
    {
     "name": "stderr",
     "output_type": "stream",
     "text": [
      "[*********************************************************               ] 79% "
     ]
    },
    {
     "name": "stdout",
     "output_type": "stream",
     "text": [
      "0.8000 --- loss: 0.523355\n"
     ]
    },
    {
     "name": "stderr",
     "output_type": "stream",
     "text": [
      "[***                                                                     ]  4% "
     ]
    },
    {
     "name": "stdout",
     "output_type": "stream",
     "text": [
      "Epoch finished ! Loss: 0.49117511510849\n"
     ]
    },
    {
     "name": "stderr",
     "output_type": "stream",
     "text": [
      "[                                                                        ]N/A% "
     ]
    },
    {
     "name": "stdout",
     "output_type": "stream",
     "text": [
      "Validation Cross-Entropy Coeff: 0.5684535503387451\n",
      "Checkpoint 23 saved !\n",
      "Starting epoch 24/100.\n",
      "0.0000 --- loss: 0.560985\n"
     ]
    },
    {
     "name": "stderr",
     "output_type": "stream",
     "text": [
      "[*************                                                           ] 19% "
     ]
    },
    {
     "name": "stdout",
     "output_type": "stream",
     "text": [
      "0.2000 --- loss: 0.512225\n"
     ]
    },
    {
     "name": "stderr",
     "output_type": "stream",
     "text": [
      "[****************************                                            ] 39% "
     ]
    },
    {
     "name": "stdout",
     "output_type": "stream",
     "text": [
      "0.4000 --- loss: 0.491493\n"
     ]
    },
    {
     "name": "stderr",
     "output_type": "stream",
     "text": [
      "[******************************************                              ] 59% "
     ]
    },
    {
     "name": "stdout",
     "output_type": "stream",
     "text": [
      "0.6000 --- loss: 0.485442\n"
     ]
    },
    {
     "name": "stderr",
     "output_type": "stream",
     "text": [
      "[*********************************************************               ] 79% "
     ]
    },
    {
     "name": "stdout",
     "output_type": "stream",
     "text": [
      "0.8000 --- loss: 0.492893\n"
     ]
    },
    {
     "name": "stderr",
     "output_type": "stream",
     "text": [
      "[***                                                                     ]  4% "
     ]
    },
    {
     "name": "stdout",
     "output_type": "stream",
     "text": [
      "Epoch finished ! Loss: 0.4818025827407837\n"
     ]
    },
    {
     "name": "stderr",
     "output_type": "stream",
     "text": [
      "[                                                                        ]N/A% "
     ]
    },
    {
     "name": "stdout",
     "output_type": "stream",
     "text": [
      "Validation Cross-Entropy Coeff: 0.5640151500701904\n",
      "Checkpoint 24 saved !\n",
      "Starting epoch 25/100.\n",
      "0.0000 --- loss: 0.416527\n"
     ]
    },
    {
     "name": "stderr",
     "output_type": "stream",
     "text": [
      "[*************                                                           ] 19% "
     ]
    },
    {
     "name": "stdout",
     "output_type": "stream",
     "text": [
      "0.2000 --- loss: 0.515271\n"
     ]
    },
    {
     "name": "stderr",
     "output_type": "stream",
     "text": [
      "[****************************                                            ] 39% "
     ]
    },
    {
     "name": "stdout",
     "output_type": "stream",
     "text": [
      "0.4000 --- loss: 0.424733\n"
     ]
    },
    {
     "name": "stderr",
     "output_type": "stream",
     "text": [
      "[******************************************                              ] 59% "
     ]
    },
    {
     "name": "stdout",
     "output_type": "stream",
     "text": [
      "0.6000 --- loss: 0.518304\n"
     ]
    },
    {
     "name": "stderr",
     "output_type": "stream",
     "text": [
      "[*********************************************************               ] 79% "
     ]
    },
    {
     "name": "stdout",
     "output_type": "stream",
     "text": [
      "0.8000 --- loss: 0.486242\n"
     ]
    },
    {
     "name": "stderr",
     "output_type": "stream",
     "text": [
      "[***                                                                     ]  4% "
     ]
    },
    {
     "name": "stdout",
     "output_type": "stream",
     "text": [
      "Epoch finished ! Loss: 0.48172685503959656\n"
     ]
    },
    {
     "name": "stderr",
     "output_type": "stream",
     "text": [
      "[                                                                        ]N/A% "
     ]
    },
    {
     "name": "stdout",
     "output_type": "stream",
     "text": [
      "Validation Cross-Entropy Coeff: 0.5959221124649048\n",
      "Checkpoint 25 saved !\n",
      "Starting epoch 26/100.\n",
      "0.0000 --- loss: 0.452992\n"
     ]
    },
    {
     "name": "stderr",
     "output_type": "stream",
     "text": [
      "[*************                                                           ] 19% "
     ]
    },
    {
     "name": "stdout",
     "output_type": "stream",
     "text": [
      "0.2000 --- loss: 0.398108\n"
     ]
    },
    {
     "name": "stderr",
     "output_type": "stream",
     "text": [
      "[****************************                                            ] 39% "
     ]
    },
    {
     "name": "stdout",
     "output_type": "stream",
     "text": [
      "0.4000 --- loss: 0.429780\n"
     ]
    },
    {
     "name": "stderr",
     "output_type": "stream",
     "text": [
      "[******************************************                              ] 59% "
     ]
    },
    {
     "name": "stdout",
     "output_type": "stream",
     "text": [
      "0.6000 --- loss: 0.496517\n"
     ]
    },
    {
     "name": "stderr",
     "output_type": "stream",
     "text": [
      "[*********************************************************               ] 79% "
     ]
    },
    {
     "name": "stdout",
     "output_type": "stream",
     "text": [
      "0.8000 --- loss: 0.447847\n"
     ]
    },
    {
     "name": "stderr",
     "output_type": "stream",
     "text": [
      "[***                                                                     ]  4% "
     ]
    },
    {
     "name": "stdout",
     "output_type": "stream",
     "text": [
      "Epoch finished ! Loss: 0.46838730573654175\n"
     ]
    },
    {
     "name": "stderr",
     "output_type": "stream",
     "text": [
      "[                                                                        ]N/A% "
     ]
    },
    {
     "name": "stdout",
     "output_type": "stream",
     "text": [
      "Validation Cross-Entropy Coeff: 0.5688489079475403\n",
      "Checkpoint 26 saved !\n",
      "Starting epoch 27/100.\n",
      "0.0000 --- loss: 0.544580\n"
     ]
    },
    {
     "name": "stderr",
     "output_type": "stream",
     "text": [
      "[*************                                                           ] 19% "
     ]
    },
    {
     "name": "stdout",
     "output_type": "stream",
     "text": [
      "0.2000 --- loss: 0.426259\n"
     ]
    },
    {
     "name": "stderr",
     "output_type": "stream",
     "text": [
      "[****************************                                            ] 39% "
     ]
    },
    {
     "name": "stdout",
     "output_type": "stream",
     "text": [
      "0.4000 --- loss: 0.421250\n"
     ]
    },
    {
     "name": "stderr",
     "output_type": "stream",
     "text": [
      "[******************************************                              ] 59% "
     ]
    },
    {
     "name": "stdout",
     "output_type": "stream",
     "text": [
      "0.6000 --- loss: 0.447282\n"
     ]
    },
    {
     "name": "stderr",
     "output_type": "stream",
     "text": [
      "[*********************************************************               ] 79% "
     ]
    },
    {
     "name": "stdout",
     "output_type": "stream",
     "text": [
      "0.8000 --- loss: 0.460397\n"
     ]
    },
    {
     "name": "stderr",
     "output_type": "stream",
     "text": [
      "[***                                                                     ]  4% "
     ]
    },
    {
     "name": "stdout",
     "output_type": "stream",
     "text": [
      "Epoch finished ! Loss: 0.4645317792892456\n"
     ]
    },
    {
     "name": "stderr",
     "output_type": "stream",
     "text": [
      "[                                                                        ]N/A% "
     ]
    },
    {
     "name": "stdout",
     "output_type": "stream",
     "text": [
      "Validation Cross-Entropy Coeff: 0.5794023871421814\n",
      "Checkpoint 27 saved !\n",
      "Starting epoch 28/100.\n",
      "0.0000 --- loss: 0.468458\n"
     ]
    },
    {
     "name": "stderr",
     "output_type": "stream",
     "text": [
      "[*************                                                           ] 19% "
     ]
    },
    {
     "name": "stdout",
     "output_type": "stream",
     "text": [
      "0.2000 --- loss: 0.444360\n"
     ]
    },
    {
     "name": "stderr",
     "output_type": "stream",
     "text": [
      "[****************************                                            ] 39% "
     ]
    },
    {
     "name": "stdout",
     "output_type": "stream",
     "text": [
      "0.4000 --- loss: 0.391530\n"
     ]
    },
    {
     "name": "stderr",
     "output_type": "stream",
     "text": [
      "[******************************************                              ] 59% "
     ]
    },
    {
     "name": "stdout",
     "output_type": "stream",
     "text": [
      "0.6000 --- loss: 0.523028\n"
     ]
    },
    {
     "name": "stderr",
     "output_type": "stream",
     "text": [
      "[*********************************************************               ] 79% "
     ]
    },
    {
     "name": "stdout",
     "output_type": "stream",
     "text": [
      "0.8000 --- loss: 0.374286\n"
     ]
    },
    {
     "name": "stderr",
     "output_type": "stream",
     "text": [
      "[***                                                                     ]  4% "
     ]
    },
    {
     "name": "stdout",
     "output_type": "stream",
     "text": [
      "Epoch finished ! Loss: 0.466413676738739\n"
     ]
    },
    {
     "name": "stderr",
     "output_type": "stream",
     "text": [
      "[                                                                        ]N/A% "
     ]
    },
    {
     "name": "stdout",
     "output_type": "stream",
     "text": [
      "Validation Cross-Entropy Coeff: 0.5547884106636047\n",
      "Checkpoint 28 saved !\n",
      "Starting epoch 29/100.\n",
      "0.0000 --- loss: 0.395685\n"
     ]
    },
    {
     "name": "stderr",
     "output_type": "stream",
     "text": [
      "[*************                                                           ] 19% "
     ]
    },
    {
     "name": "stdout",
     "output_type": "stream",
     "text": [
      "0.2000 --- loss: 0.467008\n"
     ]
    },
    {
     "name": "stderr",
     "output_type": "stream",
     "text": [
      "[****************************                                            ] 39% "
     ]
    },
    {
     "name": "stdout",
     "output_type": "stream",
     "text": [
      "0.4000 --- loss: 0.408193\n"
     ]
    },
    {
     "name": "stderr",
     "output_type": "stream",
     "text": [
      "[******************************************                              ] 59% "
     ]
    },
    {
     "name": "stdout",
     "output_type": "stream",
     "text": [
      "0.6000 --- loss: 0.406387\n"
     ]
    },
    {
     "name": "stderr",
     "output_type": "stream",
     "text": [
      "[*********************************************************               ] 79% "
     ]
    },
    {
     "name": "stdout",
     "output_type": "stream",
     "text": [
      "0.8000 --- loss: 0.488620\n"
     ]
    },
    {
     "name": "stderr",
     "output_type": "stream",
     "text": [
      "[***                                                                     ]  4% "
     ]
    },
    {
     "name": "stdout",
     "output_type": "stream",
     "text": [
      "Epoch finished ! Loss: 0.45657896995544434\n"
     ]
    },
    {
     "name": "stderr",
     "output_type": "stream",
     "text": [
      "[                                                                        ]N/A% "
     ]
    },
    {
     "name": "stdout",
     "output_type": "stream",
     "text": [
      "Validation Cross-Entropy Coeff: 0.5608885884284973\n",
      "Checkpoint 29 saved !\n",
      "Starting epoch 30/100.\n",
      "0.0000 --- loss: 0.444966\n"
     ]
    },
    {
     "name": "stderr",
     "output_type": "stream",
     "text": [
      "[*************                                                           ] 19% "
     ]
    },
    {
     "name": "stdout",
     "output_type": "stream",
     "text": [
      "0.2000 --- loss: 0.391700\n"
     ]
    },
    {
     "name": "stderr",
     "output_type": "stream",
     "text": [
      "[****************************                                            ] 39% "
     ]
    },
    {
     "name": "stdout",
     "output_type": "stream",
     "text": [
      "0.4000 --- loss: 0.446863\n"
     ]
    },
    {
     "name": "stderr",
     "output_type": "stream",
     "text": [
      "[******************************************                              ] 59% "
     ]
    },
    {
     "name": "stdout",
     "output_type": "stream",
     "text": [
      "0.6000 --- loss: 0.363113\n"
     ]
    },
    {
     "name": "stderr",
     "output_type": "stream",
     "text": [
      "[*********************************************************               ] 79% "
     ]
    },
    {
     "name": "stdout",
     "output_type": "stream",
     "text": [
      "0.8000 --- loss: 0.387649\n"
     ]
    },
    {
     "name": "stderr",
     "output_type": "stream",
     "text": [
      "[***                                                                     ]  4% "
     ]
    },
    {
     "name": "stdout",
     "output_type": "stream",
     "text": [
      "Epoch finished ! Loss: 0.44987720251083374\n"
     ]
    },
    {
     "name": "stderr",
     "output_type": "stream",
     "text": [
      "[                                                                        ]N/A% "
     ]
    },
    {
     "name": "stdout",
     "output_type": "stream",
     "text": [
      "Validation Cross-Entropy Coeff: 0.5709726810455322\n",
      "Checkpoint 30 saved !\n",
      "Starting epoch 31/100.\n",
      "0.0000 --- loss: 0.442608\n"
     ]
    },
    {
     "name": "stderr",
     "output_type": "stream",
     "text": [
      "[*************                                                           ] 19% "
     ]
    },
    {
     "name": "stdout",
     "output_type": "stream",
     "text": [
      "0.2000 --- loss: 0.398497\n"
     ]
    },
    {
     "name": "stderr",
     "output_type": "stream",
     "text": [
      "[****************************                                            ] 39% "
     ]
    },
    {
     "name": "stdout",
     "output_type": "stream",
     "text": [
      "0.4000 --- loss: 0.355772\n"
     ]
    },
    {
     "name": "stderr",
     "output_type": "stream",
     "text": [
      "[******************************************                              ] 59% "
     ]
    },
    {
     "name": "stdout",
     "output_type": "stream",
     "text": [
      "0.6000 --- loss: 0.446253\n"
     ]
    },
    {
     "name": "stderr",
     "output_type": "stream",
     "text": [
      "[*********************************************************               ] 79% "
     ]
    },
    {
     "name": "stdout",
     "output_type": "stream",
     "text": [
      "0.8000 --- loss: 0.430518\n"
     ]
    },
    {
     "name": "stderr",
     "output_type": "stream",
     "text": [
      "[***                                                                     ]  4% "
     ]
    },
    {
     "name": "stdout",
     "output_type": "stream",
     "text": [
      "Epoch finished ! Loss: 0.44722652435302734\n"
     ]
    },
    {
     "name": "stderr",
     "output_type": "stream",
     "text": [
      "[                                                                        ]N/A% "
     ]
    },
    {
     "name": "stdout",
     "output_type": "stream",
     "text": [
      "Validation Cross-Entropy Coeff: 0.5551589727401733\n",
      "Checkpoint 31 saved !\n",
      "Starting epoch 32/100.\n",
      "0.0000 --- loss: 0.340986\n"
     ]
    },
    {
     "name": "stderr",
     "output_type": "stream",
     "text": [
      "[*************                                                           ] 19% "
     ]
    },
    {
     "name": "stdout",
     "output_type": "stream",
     "text": [
      "0.2000 --- loss: 0.435223\n"
     ]
    },
    {
     "name": "stderr",
     "output_type": "stream",
     "text": [
      "[****************************                                            ] 39% "
     ]
    },
    {
     "name": "stdout",
     "output_type": "stream",
     "text": [
      "0.4000 --- loss: 0.422062\n"
     ]
    },
    {
     "name": "stderr",
     "output_type": "stream",
     "text": [
      "[******************************************                              ] 59% "
     ]
    },
    {
     "name": "stdout",
     "output_type": "stream",
     "text": [
      "0.6000 --- loss: 0.581560\n"
     ]
    },
    {
     "name": "stderr",
     "output_type": "stream",
     "text": [
      "[*********************************************************               ] 79% "
     ]
    },
    {
     "name": "stdout",
     "output_type": "stream",
     "text": [
      "0.8000 --- loss: 0.436640\n"
     ]
    },
    {
     "name": "stderr",
     "output_type": "stream",
     "text": [
      "[***                                                                     ]  4% "
     ]
    },
    {
     "name": "stdout",
     "output_type": "stream",
     "text": [
      "Epoch finished ! Loss: 0.44861000776290894\n"
     ]
    },
    {
     "name": "stderr",
     "output_type": "stream",
     "text": [
      "[                                                                        ]N/A% "
     ]
    },
    {
     "name": "stdout",
     "output_type": "stream",
     "text": [
      "Validation Cross-Entropy Coeff: 0.594473659992218\n",
      "Checkpoint 32 saved !\n",
      "Starting epoch 33/100.\n",
      "0.0000 --- loss: 0.432196\n"
     ]
    },
    {
     "name": "stderr",
     "output_type": "stream",
     "text": [
      "[*************                                                           ] 19% "
     ]
    },
    {
     "name": "stdout",
     "output_type": "stream",
     "text": [
      "0.2000 --- loss: 0.445706\n"
     ]
    },
    {
     "name": "stderr",
     "output_type": "stream",
     "text": [
      "[****************************                                            ] 39% "
     ]
    },
    {
     "name": "stdout",
     "output_type": "stream",
     "text": [
      "0.4000 --- loss: 0.416359\n"
     ]
    },
    {
     "name": "stderr",
     "output_type": "stream",
     "text": [
      "[******************************************                              ] 59% "
     ]
    },
    {
     "name": "stdout",
     "output_type": "stream",
     "text": [
      "0.6000 --- loss: 0.507242\n"
     ]
    },
    {
     "name": "stderr",
     "output_type": "stream",
     "text": [
      "[*********************************************************               ] 79% "
     ]
    },
    {
     "name": "stdout",
     "output_type": "stream",
     "text": [
      "0.8000 --- loss: 0.438631\n"
     ]
    },
    {
     "name": "stderr",
     "output_type": "stream",
     "text": [
      "[***                                                                     ]  4% "
     ]
    },
    {
     "name": "stdout",
     "output_type": "stream",
     "text": [
      "Epoch finished ! Loss: 0.4425209164619446\n"
     ]
    },
    {
     "name": "stderr",
     "output_type": "stream",
     "text": [
      "[                                                                        ]N/A% "
     ]
    },
    {
     "name": "stdout",
     "output_type": "stream",
     "text": [
      "Validation Cross-Entropy Coeff: 0.5674097537994385\n",
      "Checkpoint 33 saved !\n",
      "Starting epoch 34/100.\n",
      "0.0000 --- loss: 0.513043\n"
     ]
    },
    {
     "name": "stderr",
     "output_type": "stream",
     "text": [
      "[*************                                                           ] 19% "
     ]
    },
    {
     "name": "stdout",
     "output_type": "stream",
     "text": [
      "0.2000 --- loss: 0.445387\n"
     ]
    },
    {
     "name": "stderr",
     "output_type": "stream",
     "text": [
      "[****************************                                            ] 39% "
     ]
    },
    {
     "name": "stdout",
     "output_type": "stream",
     "text": [
      "0.4000 --- loss: 0.404549\n"
     ]
    },
    {
     "name": "stderr",
     "output_type": "stream",
     "text": [
      "[******************************************                              ] 59% "
     ]
    },
    {
     "name": "stdout",
     "output_type": "stream",
     "text": [
      "0.6000 --- loss: 0.437114\n"
     ]
    },
    {
     "name": "stderr",
     "output_type": "stream",
     "text": [
      "[*********************************************************               ] 79% "
     ]
    },
    {
     "name": "stdout",
     "output_type": "stream",
     "text": [
      "0.8000 --- loss: 0.487628\n"
     ]
    },
    {
     "name": "stderr",
     "output_type": "stream",
     "text": [
      "[***                                                                     ]  4% "
     ]
    },
    {
     "name": "stdout",
     "output_type": "stream",
     "text": [
      "Epoch finished ! Loss: 0.43753013014793396\n"
     ]
    },
    {
     "name": "stderr",
     "output_type": "stream",
     "text": [
      "[                                                                        ]N/A% "
     ]
    },
    {
     "name": "stdout",
     "output_type": "stream",
     "text": [
      "Validation Cross-Entropy Coeff: 0.576138436794281\n",
      "Checkpoint 34 saved !\n",
      "Starting epoch 35/100.\n",
      "0.0000 --- loss: 0.409467\n"
     ]
    },
    {
     "name": "stderr",
     "output_type": "stream",
     "text": [
      "[*************                                                           ] 19% "
     ]
    },
    {
     "name": "stdout",
     "output_type": "stream",
     "text": [
      "0.2000 --- loss: 0.520098\n"
     ]
    },
    {
     "name": "stderr",
     "output_type": "stream",
     "text": [
      "[****************************                                            ] 39% "
     ]
    },
    {
     "name": "stdout",
     "output_type": "stream",
     "text": [
      "0.4000 --- loss: 0.441438\n"
     ]
    },
    {
     "name": "stderr",
     "output_type": "stream",
     "text": [
      "[******************************************                              ] 59% "
     ]
    },
    {
     "name": "stdout",
     "output_type": "stream",
     "text": [
      "0.6000 --- loss: 0.538898\n"
     ]
    },
    {
     "name": "stderr",
     "output_type": "stream",
     "text": [
      "[*********************************************************               ] 79% "
     ]
    },
    {
     "name": "stdout",
     "output_type": "stream",
     "text": [
      "0.8000 --- loss: 0.479250\n"
     ]
    },
    {
     "name": "stderr",
     "output_type": "stream",
     "text": [
      "[***                                                                     ]  4% "
     ]
    },
    {
     "name": "stdout",
     "output_type": "stream",
     "text": [
      "Epoch finished ! Loss: 0.4317280948162079\n"
     ]
    },
    {
     "name": "stderr",
     "output_type": "stream",
     "text": [
      "[                                                                        ]N/A% "
     ]
    },
    {
     "name": "stdout",
     "output_type": "stream",
     "text": [
      "Validation Cross-Entropy Coeff: 0.5677719116210938\n",
      "Checkpoint 35 saved !\n",
      "Starting epoch 36/100.\n",
      "0.0000 --- loss: 0.429058\n"
     ]
    },
    {
     "name": "stderr",
     "output_type": "stream",
     "text": [
      "[*************                                                           ] 19% "
     ]
    },
    {
     "name": "stdout",
     "output_type": "stream",
     "text": [
      "0.2000 --- loss: 0.459413\n"
     ]
    },
    {
     "name": "stderr",
     "output_type": "stream",
     "text": [
      "[****************************                                            ] 39% "
     ]
    },
    {
     "name": "stdout",
     "output_type": "stream",
     "text": [
      "0.4000 --- loss: 0.440368\n"
     ]
    },
    {
     "name": "stderr",
     "output_type": "stream",
     "text": [
      "[******************************************                              ] 59% "
     ]
    },
    {
     "name": "stdout",
     "output_type": "stream",
     "text": [
      "0.6000 --- loss: 0.428909\n"
     ]
    },
    {
     "name": "stderr",
     "output_type": "stream",
     "text": [
      "[*********************************************************               ] 79% "
     ]
    },
    {
     "name": "stdout",
     "output_type": "stream",
     "text": [
      "0.8000 --- loss: 0.381548\n"
     ]
    },
    {
     "name": "stderr",
     "output_type": "stream",
     "text": [
      "[***                                                                     ]  4% "
     ]
    },
    {
     "name": "stdout",
     "output_type": "stream",
     "text": [
      "Epoch finished ! Loss: 0.4252224862575531\n"
     ]
    },
    {
     "name": "stderr",
     "output_type": "stream",
     "text": [
      "[                                                                        ]N/A% "
     ]
    },
    {
     "name": "stdout",
     "output_type": "stream",
     "text": [
      "Validation Cross-Entropy Coeff: 0.5846017599105835\n",
      "Checkpoint 36 saved !\n",
      "Starting epoch 37/100.\n",
      "0.0000 --- loss: 0.383436\n"
     ]
    },
    {
     "name": "stderr",
     "output_type": "stream",
     "text": [
      "[*************                                                           ] 19% "
     ]
    },
    {
     "name": "stdout",
     "output_type": "stream",
     "text": [
      "0.2000 --- loss: 0.462783\n"
     ]
    },
    {
     "name": "stderr",
     "output_type": "stream",
     "text": [
      "[****************************                                            ] 39% "
     ]
    },
    {
     "name": "stdout",
     "output_type": "stream",
     "text": [
      "0.4000 --- loss: 0.463224\n"
     ]
    },
    {
     "name": "stderr",
     "output_type": "stream",
     "text": [
      "[******************************************                              ] 59% "
     ]
    },
    {
     "name": "stdout",
     "output_type": "stream",
     "text": [
      "0.6000 --- loss: 0.419891\n"
     ]
    },
    {
     "name": "stderr",
     "output_type": "stream",
     "text": [
      "[*********************************************************               ] 79% "
     ]
    },
    {
     "name": "stdout",
     "output_type": "stream",
     "text": [
      "0.8000 --- loss: 0.430386\n"
     ]
    },
    {
     "name": "stderr",
     "output_type": "stream",
     "text": [
      "[***                                                                     ]  4% "
     ]
    },
    {
     "name": "stdout",
     "output_type": "stream",
     "text": [
      "Epoch finished ! Loss: 0.42245742678642273\n"
     ]
    },
    {
     "name": "stderr",
     "output_type": "stream",
     "text": [
      "[                                                                        ]N/A% "
     ]
    },
    {
     "name": "stdout",
     "output_type": "stream",
     "text": [
      "Validation Cross-Entropy Coeff: 0.5701395869255066\n",
      "Checkpoint 37 saved !\n",
      "Starting epoch 38/100.\n",
      "0.0000 --- loss: 0.419243\n"
     ]
    },
    {
     "name": "stderr",
     "output_type": "stream",
     "text": [
      "[*************                                                           ] 19% "
     ]
    },
    {
     "name": "stdout",
     "output_type": "stream",
     "text": [
      "0.2000 --- loss: 0.570675\n"
     ]
    },
    {
     "name": "stderr",
     "output_type": "stream",
     "text": [
      "[****************************                                            ] 39% "
     ]
    },
    {
     "name": "stdout",
     "output_type": "stream",
     "text": [
      "0.4000 --- loss: 0.372087\n"
     ]
    },
    {
     "name": "stderr",
     "output_type": "stream",
     "text": [
      "[******************************************                              ] 59% "
     ]
    },
    {
     "name": "stdout",
     "output_type": "stream",
     "text": [
      "0.6000 --- loss: 0.329824\n"
     ]
    },
    {
     "name": "stderr",
     "output_type": "stream",
     "text": [
      "[*********************************************************               ] 79% "
     ]
    },
    {
     "name": "stdout",
     "output_type": "stream",
     "text": [
      "0.8000 --- loss: 0.412759\n"
     ]
    },
    {
     "name": "stderr",
     "output_type": "stream",
     "text": [
      "[***                                                                     ]  4% "
     ]
    },
    {
     "name": "stdout",
     "output_type": "stream",
     "text": [
      "Epoch finished ! Loss: 0.42533349990844727\n"
     ]
    },
    {
     "name": "stderr",
     "output_type": "stream",
     "text": [
      "[                                                                        ]N/A% "
     ]
    },
    {
     "name": "stdout",
     "output_type": "stream",
     "text": [
      "Validation Cross-Entropy Coeff: 0.5866661071777344\n",
      "Checkpoint 38 saved !\n",
      "Starting epoch 39/100.\n",
      "0.0000 --- loss: 0.374038\n"
     ]
    },
    {
     "name": "stderr",
     "output_type": "stream",
     "text": [
      "[*************                                                           ] 19% "
     ]
    },
    {
     "name": "stdout",
     "output_type": "stream",
     "text": [
      "0.2000 --- loss: 0.535496\n"
     ]
    },
    {
     "name": "stderr",
     "output_type": "stream",
     "text": [
      "[****************************                                            ] 39% "
     ]
    },
    {
     "name": "stdout",
     "output_type": "stream",
     "text": [
      "0.4000 --- loss: 0.419535\n"
     ]
    },
    {
     "name": "stderr",
     "output_type": "stream",
     "text": [
      "[******************************************                              ] 59% "
     ]
    },
    {
     "name": "stdout",
     "output_type": "stream",
     "text": [
      "0.6000 --- loss: 0.398718\n"
     ]
    },
    {
     "name": "stderr",
     "output_type": "stream",
     "text": [
      "[*********************************************************               ] 79% "
     ]
    },
    {
     "name": "stdout",
     "output_type": "stream",
     "text": [
      "0.8000 --- loss: 0.425898\n"
     ]
    },
    {
     "name": "stderr",
     "output_type": "stream",
     "text": [
      "[***                                                                     ]  4% "
     ]
    },
    {
     "name": "stdout",
     "output_type": "stream",
     "text": [
      "Epoch finished ! Loss: 0.4201967716217041\n"
     ]
    },
    {
     "name": "stderr",
     "output_type": "stream",
     "text": [
      "[                                                                        ]N/A% "
     ]
    },
    {
     "name": "stdout",
     "output_type": "stream",
     "text": [
      "Validation Cross-Entropy Coeff: 0.5640910863876343\n",
      "Checkpoint 39 saved !\n",
      "Starting epoch 40/100.\n",
      "0.0000 --- loss: 0.408875\n"
     ]
    },
    {
     "name": "stderr",
     "output_type": "stream",
     "text": [
      "[*************                                                           ] 19% "
     ]
    },
    {
     "name": "stdout",
     "output_type": "stream",
     "text": [
      "0.2000 --- loss: 0.418994\n"
     ]
    },
    {
     "name": "stderr",
     "output_type": "stream",
     "text": [
      "[****************************                                            ] 39% "
     ]
    },
    {
     "name": "stdout",
     "output_type": "stream",
     "text": [
      "0.4000 --- loss: 0.444449\n"
     ]
    },
    {
     "name": "stderr",
     "output_type": "stream",
     "text": [
      "[******************************************                              ] 59% "
     ]
    },
    {
     "name": "stdout",
     "output_type": "stream",
     "text": [
      "0.6000 --- loss: 0.343210\n"
     ]
    },
    {
     "name": "stderr",
     "output_type": "stream",
     "text": [
      "[*********************************************************               ] 79% "
     ]
    },
    {
     "name": "stdout",
     "output_type": "stream",
     "text": [
      "0.8000 --- loss: 0.400077\n"
     ]
    },
    {
     "name": "stderr",
     "output_type": "stream",
     "text": [
      "[***                                                                     ]  4% "
     ]
    },
    {
     "name": "stdout",
     "output_type": "stream",
     "text": [
      "Epoch finished ! Loss: 0.41693854331970215\n"
     ]
    },
    {
     "name": "stderr",
     "output_type": "stream",
     "text": [
      "[                                                                        ]N/A% "
     ]
    },
    {
     "name": "stdout",
     "output_type": "stream",
     "text": [
      "Validation Cross-Entropy Coeff: 0.575961709022522\n",
      "Checkpoint 40 saved !\n",
      "Starting epoch 41/100.\n",
      "0.0000 --- loss: 0.488774\n"
     ]
    },
    {
     "name": "stderr",
     "output_type": "stream",
     "text": [
      "[*************                                                           ] 19% "
     ]
    },
    {
     "name": "stdout",
     "output_type": "stream",
     "text": [
      "0.2000 --- loss: 0.368571\n"
     ]
    },
    {
     "name": "stderr",
     "output_type": "stream",
     "text": [
      "[****************************                                            ] 39% "
     ]
    },
    {
     "name": "stdout",
     "output_type": "stream",
     "text": [
      "0.4000 --- loss: 0.360417\n"
     ]
    },
    {
     "name": "stderr",
     "output_type": "stream",
     "text": [
      "[******************************************                              ] 59% "
     ]
    },
    {
     "name": "stdout",
     "output_type": "stream",
     "text": [
      "0.6000 --- loss: 0.419497\n"
     ]
    },
    {
     "name": "stderr",
     "output_type": "stream",
     "text": [
      "[*********************************************************               ] 79% "
     ]
    },
    {
     "name": "stdout",
     "output_type": "stream",
     "text": [
      "0.8000 --- loss: 0.454151\n"
     ]
    },
    {
     "name": "stderr",
     "output_type": "stream",
     "text": [
      "[***                                                                     ]  4% "
     ]
    },
    {
     "name": "stdout",
     "output_type": "stream",
     "text": [
      "Epoch finished ! Loss: 0.4125625193119049\n"
     ]
    },
    {
     "name": "stderr",
     "output_type": "stream",
     "text": [
      "[                                                                        ]N/A% "
     ]
    },
    {
     "name": "stdout",
     "output_type": "stream",
     "text": [
      "Validation Cross-Entropy Coeff: 0.5622698664665222\n",
      "Checkpoint 41 saved !\n",
      "Starting epoch 42/100.\n",
      "0.0000 --- loss: 0.411545\n"
     ]
    },
    {
     "name": "stderr",
     "output_type": "stream",
     "text": [
      "[*************                                                           ] 19% "
     ]
    },
    {
     "name": "stdout",
     "output_type": "stream",
     "text": [
      "0.2000 --- loss: 0.367160\n"
     ]
    },
    {
     "name": "stderr",
     "output_type": "stream",
     "text": [
      "[****************************                                            ] 39% "
     ]
    },
    {
     "name": "stdout",
     "output_type": "stream",
     "text": [
      "0.4000 --- loss: 0.396488\n"
     ]
    },
    {
     "name": "stderr",
     "output_type": "stream",
     "text": [
      "[******************************************                              ] 59% "
     ]
    },
    {
     "name": "stdout",
     "output_type": "stream",
     "text": [
      "0.6000 --- loss: 0.387038\n"
     ]
    },
    {
     "name": "stderr",
     "output_type": "stream",
     "text": [
      "[*********************************************************               ] 79% "
     ]
    },
    {
     "name": "stdout",
     "output_type": "stream",
     "text": [
      "0.8000 --- loss: 0.371834\n"
     ]
    },
    {
     "name": "stderr",
     "output_type": "stream",
     "text": [
      "[***                                                                     ]  4% "
     ]
    },
    {
     "name": "stdout",
     "output_type": "stream",
     "text": [
      "Epoch finished ! Loss: 0.4093990623950958\n"
     ]
    },
    {
     "name": "stderr",
     "output_type": "stream",
     "text": [
      "[                                                                        ]N/A% "
     ]
    },
    {
     "name": "stdout",
     "output_type": "stream",
     "text": [
      "Validation Cross-Entropy Coeff: 0.5601679682731628\n",
      "Checkpoint 42 saved !\n",
      "Starting epoch 43/100.\n",
      "0.0000 --- loss: 0.394573\n"
     ]
    },
    {
     "name": "stderr",
     "output_type": "stream",
     "text": [
      "[*************                                                           ] 19% "
     ]
    },
    {
     "name": "stdout",
     "output_type": "stream",
     "text": [
      "0.2000 --- loss: 0.343887\n"
     ]
    },
    {
     "name": "stderr",
     "output_type": "stream",
     "text": [
      "[****************************                                            ] 39% "
     ]
    },
    {
     "name": "stdout",
     "output_type": "stream",
     "text": [
      "0.4000 --- loss: 0.394860\n"
     ]
    },
    {
     "name": "stderr",
     "output_type": "stream",
     "text": [
      "[******************************************                              ] 59% "
     ]
    },
    {
     "name": "stdout",
     "output_type": "stream",
     "text": [
      "0.6000 --- loss: 0.426893\n"
     ]
    },
    {
     "name": "stderr",
     "output_type": "stream",
     "text": [
      "[*********************************************************               ] 79% "
     ]
    },
    {
     "name": "stdout",
     "output_type": "stream",
     "text": [
      "0.8000 --- loss: 0.388211\n"
     ]
    },
    {
     "name": "stderr",
     "output_type": "stream",
     "text": [
      "[***                                                                     ]  4% "
     ]
    },
    {
     "name": "stdout",
     "output_type": "stream",
     "text": [
      "Epoch finished ! Loss: 0.4063197672367096\n"
     ]
    },
    {
     "name": "stderr",
     "output_type": "stream",
     "text": [
      "[                                                                        ]N/A% "
     ]
    },
    {
     "name": "stdout",
     "output_type": "stream",
     "text": [
      "Validation Cross-Entropy Coeff: 0.5653594732284546\n",
      "Checkpoint 43 saved !\n",
      "Starting epoch 44/100.\n",
      "0.0000 --- loss: 0.448227\n"
     ]
    },
    {
     "name": "stderr",
     "output_type": "stream",
     "text": [
      "[*************                                                           ] 19% "
     ]
    },
    {
     "name": "stdout",
     "output_type": "stream",
     "text": [
      "0.2000 --- loss: 0.379441\n"
     ]
    },
    {
     "name": "stderr",
     "output_type": "stream",
     "text": [
      "[****************************                                            ] 39% "
     ]
    },
    {
     "name": "stdout",
     "output_type": "stream",
     "text": [
      "0.4000 --- loss: 0.422512\n"
     ]
    },
    {
     "name": "stderr",
     "output_type": "stream",
     "text": [
      "[******************************************                              ] 59% "
     ]
    },
    {
     "name": "stdout",
     "output_type": "stream",
     "text": [
      "0.6000 --- loss: 0.441001\n"
     ]
    },
    {
     "name": "stderr",
     "output_type": "stream",
     "text": [
      "[*********************************************************               ] 79% "
     ]
    },
    {
     "name": "stdout",
     "output_type": "stream",
     "text": [
      "0.8000 --- loss: 0.382879\n"
     ]
    },
    {
     "name": "stderr",
     "output_type": "stream",
     "text": [
      "[***                                                                     ]  4% "
     ]
    },
    {
     "name": "stdout",
     "output_type": "stream",
     "text": [
      "Epoch finished ! Loss: 0.4018612205982208\n"
     ]
    },
    {
     "name": "stderr",
     "output_type": "stream",
     "text": [
      "[                                                                        ]N/A% "
     ]
    },
    {
     "name": "stdout",
     "output_type": "stream",
     "text": [
      "Validation Cross-Entropy Coeff: 0.5723506212234497\n",
      "Checkpoint 44 saved !\n",
      "Starting epoch 45/100.\n",
      "0.0000 --- loss: 0.388959\n"
     ]
    },
    {
     "name": "stderr",
     "output_type": "stream",
     "text": [
      "[*************                                                           ] 19% "
     ]
    },
    {
     "name": "stdout",
     "output_type": "stream",
     "text": [
      "0.2000 --- loss: 0.392469\n"
     ]
    },
    {
     "name": "stderr",
     "output_type": "stream",
     "text": [
      "[****************************                                            ] 39% "
     ]
    },
    {
     "name": "stdout",
     "output_type": "stream",
     "text": [
      "0.4000 --- loss: 0.421411\n"
     ]
    },
    {
     "name": "stderr",
     "output_type": "stream",
     "text": [
      "[******************************************                              ] 59% "
     ]
    },
    {
     "name": "stdout",
     "output_type": "stream",
     "text": [
      "0.6000 --- loss: 0.373851\n"
     ]
    },
    {
     "name": "stderr",
     "output_type": "stream",
     "text": [
      "[*********************************************************               ] 79% "
     ]
    },
    {
     "name": "stdout",
     "output_type": "stream",
     "text": [
      "0.8000 --- loss: 0.476429\n"
     ]
    },
    {
     "name": "stderr",
     "output_type": "stream",
     "text": [
      "[***                                                                     ]  4% "
     ]
    },
    {
     "name": "stdout",
     "output_type": "stream",
     "text": [
      "Epoch finished ! Loss: 0.4033862054347992\n"
     ]
    },
    {
     "name": "stderr",
     "output_type": "stream",
     "text": [
      "[                                                                        ]N/A% "
     ]
    },
    {
     "name": "stdout",
     "output_type": "stream",
     "text": [
      "Validation Cross-Entropy Coeff: 0.5888180136680603\n",
      "Checkpoint 45 saved !\n",
      "Starting epoch 46/100.\n",
      "0.0000 --- loss: 0.375443\n"
     ]
    },
    {
     "name": "stderr",
     "output_type": "stream",
     "text": [
      "[*************                                                           ] 19% "
     ]
    },
    {
     "name": "stdout",
     "output_type": "stream",
     "text": [
      "0.2000 --- loss: 0.459727\n"
     ]
    },
    {
     "name": "stderr",
     "output_type": "stream",
     "text": [
      "[****************************                                            ] 39% "
     ]
    },
    {
     "name": "stdout",
     "output_type": "stream",
     "text": [
      "0.4000 --- loss: 0.380193\n"
     ]
    },
    {
     "name": "stderr",
     "output_type": "stream",
     "text": [
      "[******************************************                              ] 59% "
     ]
    },
    {
     "name": "stdout",
     "output_type": "stream",
     "text": [
      "0.6000 --- loss: 0.358161\n"
     ]
    },
    {
     "name": "stderr",
     "output_type": "stream",
     "text": [
      "[*********************************************************               ] 79% "
     ]
    },
    {
     "name": "stdout",
     "output_type": "stream",
     "text": [
      "0.8000 --- loss: 0.393072\n"
     ]
    },
    {
     "name": "stderr",
     "output_type": "stream",
     "text": [
      "[***                                                                     ]  4% "
     ]
    },
    {
     "name": "stdout",
     "output_type": "stream",
     "text": [
      "Epoch finished ! Loss: 0.40069589018821716\n"
     ]
    },
    {
     "name": "stderr",
     "output_type": "stream",
     "text": [
      "[                                                                        ]N/A% "
     ]
    },
    {
     "name": "stdout",
     "output_type": "stream",
     "text": [
      "Validation Cross-Entropy Coeff: 0.5640788078308105\n",
      "Checkpoint 46 saved !\n",
      "Starting epoch 47/100.\n",
      "0.0000 --- loss: 0.343936\n"
     ]
    },
    {
     "name": "stderr",
     "output_type": "stream",
     "text": [
      "[*************                                                           ] 19% "
     ]
    },
    {
     "name": "stdout",
     "output_type": "stream",
     "text": [
      "0.2000 --- loss: 0.376606\n"
     ]
    },
    {
     "name": "stderr",
     "output_type": "stream",
     "text": [
      "[****************************                                            ] 39% "
     ]
    },
    {
     "name": "stdout",
     "output_type": "stream",
     "text": [
      "0.4000 --- loss: 0.348815\n"
     ]
    },
    {
     "name": "stderr",
     "output_type": "stream",
     "text": [
      "[******************************************                              ] 59% "
     ]
    },
    {
     "name": "stdout",
     "output_type": "stream",
     "text": [
      "0.6000 --- loss: 0.327921\n"
     ]
    },
    {
     "name": "stderr",
     "output_type": "stream",
     "text": [
      "[*********************************************************               ] 79% "
     ]
    },
    {
     "name": "stdout",
     "output_type": "stream",
     "text": [
      "0.8000 --- loss: 0.415698\n"
     ]
    },
    {
     "name": "stderr",
     "output_type": "stream",
     "text": [
      "[***                                                                     ]  4% "
     ]
    },
    {
     "name": "stdout",
     "output_type": "stream",
     "text": [
      "Epoch finished ! Loss: 0.3927949368953705\n"
     ]
    },
    {
     "name": "stderr",
     "output_type": "stream",
     "text": [
      "[                                                                        ]N/A% "
     ]
    },
    {
     "name": "stdout",
     "output_type": "stream",
     "text": [
      "Validation Cross-Entropy Coeff: 0.5746934413909912\n",
      "Checkpoint 47 saved !\n",
      "Starting epoch 48/100.\n",
      "0.0000 --- loss: 0.349427\n"
     ]
    },
    {
     "name": "stderr",
     "output_type": "stream",
     "text": [
      "[*************                                                           ] 19% "
     ]
    },
    {
     "name": "stdout",
     "output_type": "stream",
     "text": [
      "0.2000 --- loss: 0.363450\n"
     ]
    },
    {
     "name": "stderr",
     "output_type": "stream",
     "text": [
      "[****************************                                            ] 39% "
     ]
    },
    {
     "name": "stdout",
     "output_type": "stream",
     "text": [
      "0.4000 --- loss: 0.471973\n"
     ]
    },
    {
     "name": "stderr",
     "output_type": "stream",
     "text": [
      "[******************************************                              ] 59% "
     ]
    },
    {
     "name": "stdout",
     "output_type": "stream",
     "text": [
      "0.6000 --- loss: 0.436449\n"
     ]
    },
    {
     "name": "stderr",
     "output_type": "stream",
     "text": [
      "[*********************************************************               ] 79% "
     ]
    },
    {
     "name": "stdout",
     "output_type": "stream",
     "text": [
      "0.8000 --- loss: 0.416331\n"
     ]
    },
    {
     "name": "stderr",
     "output_type": "stream",
     "text": [
      "[***                                                                     ]  4% "
     ]
    },
    {
     "name": "stdout",
     "output_type": "stream",
     "text": [
      "Epoch finished ! Loss: 0.3995048701763153\n"
     ]
    },
    {
     "name": "stderr",
     "output_type": "stream",
     "text": [
      "[                                                                        ]N/A% "
     ]
    },
    {
     "name": "stdout",
     "output_type": "stream",
     "text": [
      "Validation Cross-Entropy Coeff: 0.5530834197998047\n",
      "Checkpoint 48 saved !\n",
      "Starting epoch 49/100.\n",
      "0.0000 --- loss: 0.386222\n"
     ]
    },
    {
     "name": "stderr",
     "output_type": "stream",
     "text": [
      "[*************                                                           ] 19% "
     ]
    },
    {
     "name": "stdout",
     "output_type": "stream",
     "text": [
      "0.2000 --- loss: 0.350542\n"
     ]
    },
    {
     "name": "stderr",
     "output_type": "stream",
     "text": [
      "[****************************                                            ] 39% "
     ]
    },
    {
     "name": "stdout",
     "output_type": "stream",
     "text": [
      "0.4000 --- loss: 0.387096\n"
     ]
    },
    {
     "name": "stderr",
     "output_type": "stream",
     "text": [
      "[******************************************                              ] 59% "
     ]
    },
    {
     "name": "stdout",
     "output_type": "stream",
     "text": [
      "0.6000 --- loss: 0.322047\n"
     ]
    },
    {
     "name": "stderr",
     "output_type": "stream",
     "text": [
      "[*********************************************************               ] 79% "
     ]
    },
    {
     "name": "stdout",
     "output_type": "stream",
     "text": [
      "0.8000 --- loss: 0.372262\n"
     ]
    },
    {
     "name": "stderr",
     "output_type": "stream",
     "text": [
      "[***                                                                     ]  4% "
     ]
    },
    {
     "name": "stdout",
     "output_type": "stream",
     "text": [
      "Epoch finished ! Loss: 0.39253339171409607\n"
     ]
    },
    {
     "name": "stderr",
     "output_type": "stream",
     "text": [
      "[************************************************************************]100% "
     ]
    },
    {
     "name": "stdout",
     "output_type": "stream",
     "text": [
      "Validation Cross-Entropy Coeff: 0.5911328792572021\n",
      "Checkpoint 49 saved !\n",
      "Starting epoch 50/100.\n"
     ]
    },
    {
     "name": "stderr",
     "output_type": "stream",
     "text": [
      "\r",
      "                                                                               \r",
      "\r",
      "[                                                                        ]N/A% "
     ]
    },
    {
     "name": "stdout",
     "output_type": "stream",
     "text": [
      "0.0000 --- loss: 0.438897\n"
     ]
    },
    {
     "name": "stderr",
     "output_type": "stream",
     "text": [
      "[*************                                                           ] 19% "
     ]
    },
    {
     "name": "stdout",
     "output_type": "stream",
     "text": [
      "0.2000 --- loss: 0.398232\n"
     ]
    },
    {
     "name": "stderr",
     "output_type": "stream",
     "text": [
      "[****************************                                            ] 39% "
     ]
    },
    {
     "name": "stdout",
     "output_type": "stream",
     "text": [
      "0.4000 --- loss: 0.355851\n"
     ]
    },
    {
     "name": "stderr",
     "output_type": "stream",
     "text": [
      "[******************************************                              ] 59% "
     ]
    },
    {
     "name": "stdout",
     "output_type": "stream",
     "text": [
      "0.6000 --- loss: 0.375226\n"
     ]
    },
    {
     "name": "stderr",
     "output_type": "stream",
     "text": [
      "[*********************************************************               ] 79% "
     ]
    },
    {
     "name": "stdout",
     "output_type": "stream",
     "text": [
      "0.8000 --- loss: 0.359962\n"
     ]
    },
    {
     "name": "stderr",
     "output_type": "stream",
     "text": [
      "[***                                                                     ]  4% "
     ]
    },
    {
     "name": "stdout",
     "output_type": "stream",
     "text": [
      "Epoch finished ! Loss: 0.3914468288421631\n"
     ]
    },
    {
     "name": "stderr",
     "output_type": "stream",
     "text": [
      "[                                                                        ]N/A% "
     ]
    },
    {
     "name": "stdout",
     "output_type": "stream",
     "text": [
      "Validation Cross-Entropy Coeff: 0.5594530701637268\n",
      "Checkpoint 50 saved !\n",
      "Starting epoch 51/100.\n",
      "0.0000 --- loss: 0.336628\n"
     ]
    },
    {
     "name": "stderr",
     "output_type": "stream",
     "text": [
      "[*************                                                           ] 19% "
     ]
    },
    {
     "name": "stdout",
     "output_type": "stream",
     "text": [
      "0.2000 --- loss: 0.415268\n"
     ]
    },
    {
     "name": "stderr",
     "output_type": "stream",
     "text": [
      "[****************************                                            ] 39% "
     ]
    },
    {
     "name": "stdout",
     "output_type": "stream",
     "text": [
      "0.4000 --- loss: 0.427612\n"
     ]
    },
    {
     "name": "stderr",
     "output_type": "stream",
     "text": [
      "[******************************************                              ] 59% "
     ]
    },
    {
     "name": "stdout",
     "output_type": "stream",
     "text": [
      "0.6000 --- loss: 0.410004\n"
     ]
    },
    {
     "name": "stderr",
     "output_type": "stream",
     "text": [
      "[*********************************************************               ] 79% "
     ]
    },
    {
     "name": "stdout",
     "output_type": "stream",
     "text": [
      "0.8000 --- loss: 0.366054\n"
     ]
    },
    {
     "name": "stderr",
     "output_type": "stream",
     "text": [
      "[***                                                                     ]  4% "
     ]
    },
    {
     "name": "stdout",
     "output_type": "stream",
     "text": [
      "Epoch finished ! Loss: 0.3947438597679138\n"
     ]
    },
    {
     "name": "stderr",
     "output_type": "stream",
     "text": [
      "[                                                                        ]N/A% "
     ]
    },
    {
     "name": "stdout",
     "output_type": "stream",
     "text": [
      "Validation Cross-Entropy Coeff: 0.5620200634002686\n",
      "Checkpoint 51 saved !\n",
      "Starting epoch 52/100.\n",
      "0.0000 --- loss: 0.378807\n"
     ]
    },
    {
     "name": "stderr",
     "output_type": "stream",
     "text": [
      "[*************                                                           ] 19% "
     ]
    },
    {
     "name": "stdout",
     "output_type": "stream",
     "text": [
      "0.2000 --- loss: 0.404028\n"
     ]
    },
    {
     "name": "stderr",
     "output_type": "stream",
     "text": [
      "[****************************                                            ] 39% "
     ]
    },
    {
     "name": "stdout",
     "output_type": "stream",
     "text": [
      "0.4000 --- loss: 0.378973\n"
     ]
    },
    {
     "name": "stderr",
     "output_type": "stream",
     "text": [
      "[******************************************                              ] 59% "
     ]
    },
    {
     "name": "stdout",
     "output_type": "stream",
     "text": [
      "0.6000 --- loss: 0.382246\n"
     ]
    },
    {
     "name": "stderr",
     "output_type": "stream",
     "text": [
      "[*********************************************************               ] 79% "
     ]
    },
    {
     "name": "stdout",
     "output_type": "stream",
     "text": [
      "0.8000 --- loss: 0.335249\n"
     ]
    },
    {
     "name": "stderr",
     "output_type": "stream",
     "text": [
      "[***                                                                     ]  4% "
     ]
    },
    {
     "name": "stdout",
     "output_type": "stream",
     "text": [
      "Epoch finished ! Loss: 0.3884453773498535\n"
     ]
    },
    {
     "name": "stderr",
     "output_type": "stream",
     "text": [
      "[                                                                        ]N/A% "
     ]
    },
    {
     "name": "stdout",
     "output_type": "stream",
     "text": [
      "Validation Cross-Entropy Coeff: 0.5613742470741272\n",
      "Checkpoint 52 saved !\n",
      "Starting epoch 53/100.\n",
      "0.0000 --- loss: 0.353278\n"
     ]
    },
    {
     "name": "stderr",
     "output_type": "stream",
     "text": [
      "[*************                                                           ] 19% "
     ]
    },
    {
     "name": "stdout",
     "output_type": "stream",
     "text": [
      "0.2000 --- loss: 0.348298\n"
     ]
    },
    {
     "name": "stderr",
     "output_type": "stream",
     "text": [
      "[****************************                                            ] 39% "
     ]
    },
    {
     "name": "stdout",
     "output_type": "stream",
     "text": [
      "0.4000 --- loss: 0.313896\n"
     ]
    },
    {
     "name": "stderr",
     "output_type": "stream",
     "text": [
      "[******************************************                              ] 59% "
     ]
    },
    {
     "name": "stdout",
     "output_type": "stream",
     "text": [
      "0.6000 --- loss: 0.361776\n"
     ]
    },
    {
     "name": "stderr",
     "output_type": "stream",
     "text": [
      "[*********************************************************               ] 79% "
     ]
    },
    {
     "name": "stdout",
     "output_type": "stream",
     "text": [
      "0.8000 --- loss: 0.444788\n"
     ]
    },
    {
     "name": "stderr",
     "output_type": "stream",
     "text": [
      "[***                                                                     ]  4% "
     ]
    },
    {
     "name": "stdout",
     "output_type": "stream",
     "text": [
      "Epoch finished ! Loss: 0.38694238662719727\n"
     ]
    },
    {
     "name": "stderr",
     "output_type": "stream",
     "text": [
      "[                                                                        ]N/A% "
     ]
    },
    {
     "name": "stdout",
     "output_type": "stream",
     "text": [
      "Validation Cross-Entropy Coeff: 0.5686842203140259\n",
      "Checkpoint 53 saved !\n",
      "Starting epoch 54/100.\n",
      "0.0000 --- loss: 0.418820\n"
     ]
    },
    {
     "name": "stderr",
     "output_type": "stream",
     "text": [
      "[*************                                                           ] 19% "
     ]
    },
    {
     "name": "stdout",
     "output_type": "stream",
     "text": [
      "0.2000 --- loss: 0.422593\n"
     ]
    },
    {
     "name": "stderr",
     "output_type": "stream",
     "text": [
      "[****************************                                            ] 39% "
     ]
    },
    {
     "name": "stdout",
     "output_type": "stream",
     "text": [
      "0.4000 --- loss: 0.489046\n"
     ]
    },
    {
     "name": "stderr",
     "output_type": "stream",
     "text": [
      "[******************************************                              ] 59% "
     ]
    },
    {
     "name": "stdout",
     "output_type": "stream",
     "text": [
      "0.6000 --- loss: 0.302343\n"
     ]
    },
    {
     "name": "stderr",
     "output_type": "stream",
     "text": [
      "[*********************************************************               ] 79% "
     ]
    },
    {
     "name": "stdout",
     "output_type": "stream",
     "text": [
      "0.8000 --- loss: 0.382158\n"
     ]
    },
    {
     "name": "stderr",
     "output_type": "stream",
     "text": [
      "[***                                                                     ]  4% "
     ]
    },
    {
     "name": "stdout",
     "output_type": "stream",
     "text": [
      "Epoch finished ! Loss: 0.3854880928993225\n"
     ]
    },
    {
     "name": "stderr",
     "output_type": "stream",
     "text": [
      "[                                                                        ]N/A% "
     ]
    },
    {
     "name": "stdout",
     "output_type": "stream",
     "text": [
      "Validation Cross-Entropy Coeff: 0.5683996677398682\n",
      "Checkpoint 54 saved !\n",
      "Starting epoch 55/100.\n",
      "0.0000 --- loss: 0.361590\n"
     ]
    },
    {
     "name": "stderr",
     "output_type": "stream",
     "text": [
      "[*************                                                           ] 19% "
     ]
    },
    {
     "name": "stdout",
     "output_type": "stream",
     "text": [
      "0.2000 --- loss: 0.316823\n"
     ]
    },
    {
     "name": "stderr",
     "output_type": "stream",
     "text": [
      "[****************************                                            ] 39% "
     ]
    },
    {
     "name": "stdout",
     "output_type": "stream",
     "text": [
      "0.4000 --- loss: 0.426578\n"
     ]
    },
    {
     "name": "stderr",
     "output_type": "stream",
     "text": [
      "[******************************************                              ] 59% "
     ]
    },
    {
     "name": "stdout",
     "output_type": "stream",
     "text": [
      "0.6000 --- loss: 0.365842\n"
     ]
    },
    {
     "name": "stderr",
     "output_type": "stream",
     "text": [
      "[*********************************************************               ] 79% "
     ]
    },
    {
     "name": "stdout",
     "output_type": "stream",
     "text": [
      "0.8000 --- loss: 0.327903\n"
     ]
    },
    {
     "name": "stderr",
     "output_type": "stream",
     "text": [
      "[***                                                                     ]  4% "
     ]
    },
    {
     "name": "stdout",
     "output_type": "stream",
     "text": [
      "Epoch finished ! Loss: 0.37554818391799927\n"
     ]
    },
    {
     "name": "stderr",
     "output_type": "stream",
     "text": [
      "[                                                                        ]N/A% "
     ]
    },
    {
     "name": "stdout",
     "output_type": "stream",
     "text": [
      "Validation Cross-Entropy Coeff: 0.5776855945587158\n",
      "Checkpoint 55 saved !\n",
      "Starting epoch 56/100.\n",
      "0.0000 --- loss: 0.395663\n"
     ]
    },
    {
     "name": "stderr",
     "output_type": "stream",
     "text": [
      "[*************                                                           ] 19% "
     ]
    },
    {
     "name": "stdout",
     "output_type": "stream",
     "text": [
      "0.2000 --- loss: 0.303168\n"
     ]
    },
    {
     "name": "stderr",
     "output_type": "stream",
     "text": [
      "[****************************                                            ] 39% "
     ]
    },
    {
     "name": "stdout",
     "output_type": "stream",
     "text": [
      "0.4000 --- loss: 0.392858\n"
     ]
    },
    {
     "name": "stderr",
     "output_type": "stream",
     "text": [
      "[******************************************                              ] 59% "
     ]
    },
    {
     "name": "stdout",
     "output_type": "stream",
     "text": [
      "0.6000 --- loss: 0.326861\n"
     ]
    },
    {
     "name": "stderr",
     "output_type": "stream",
     "text": [
      "[*********************************************************               ] 79% "
     ]
    },
    {
     "name": "stdout",
     "output_type": "stream",
     "text": [
      "0.8000 --- loss: 0.363857\n"
     ]
    },
    {
     "name": "stderr",
     "output_type": "stream",
     "text": [
      "[***                                                                     ]  4% "
     ]
    },
    {
     "name": "stdout",
     "output_type": "stream",
     "text": [
      "Epoch finished ! Loss: 0.3763750493526459\n"
     ]
    },
    {
     "name": "stderr",
     "output_type": "stream",
     "text": [
      "[                                                                        ]N/A% "
     ]
    },
    {
     "name": "stdout",
     "output_type": "stream",
     "text": [
      "Validation Cross-Entropy Coeff: 0.5611927509307861\n",
      "Checkpoint 56 saved !\n",
      "Starting epoch 57/100.\n",
      "0.0000 --- loss: 0.369238\n"
     ]
    },
    {
     "name": "stderr",
     "output_type": "stream",
     "text": [
      "[*************                                                           ] 19% "
     ]
    },
    {
     "name": "stdout",
     "output_type": "stream",
     "text": [
      "0.2000 --- loss: 0.415254\n"
     ]
    },
    {
     "name": "stderr",
     "output_type": "stream",
     "text": [
      "[****************************                                            ] 39% "
     ]
    },
    {
     "name": "stdout",
     "output_type": "stream",
     "text": [
      "0.4000 --- loss: 0.422926\n"
     ]
    },
    {
     "name": "stderr",
     "output_type": "stream",
     "text": [
      "[******************************************                              ] 59% "
     ]
    },
    {
     "name": "stdout",
     "output_type": "stream",
     "text": [
      "0.6000 --- loss: 0.336884\n"
     ]
    },
    {
     "name": "stderr",
     "output_type": "stream",
     "text": [
      "[*********************************************************               ] 79% "
     ]
    },
    {
     "name": "stdout",
     "output_type": "stream",
     "text": [
      "0.8000 --- loss: 0.351715\n"
     ]
    },
    {
     "name": "stderr",
     "output_type": "stream",
     "text": [
      "[***                                                                     ]  4% "
     ]
    },
    {
     "name": "stdout",
     "output_type": "stream",
     "text": [
      "Epoch finished ! Loss: 0.3753930926322937\n"
     ]
    },
    {
     "name": "stderr",
     "output_type": "stream",
     "text": [
      "[                                                                        ]N/A% "
     ]
    },
    {
     "name": "stdout",
     "output_type": "stream",
     "text": [
      "Validation Cross-Entropy Coeff: 0.5954900979995728\n",
      "Checkpoint 57 saved !\n",
      "Starting epoch 58/100.\n",
      "0.0000 --- loss: 0.377125\n"
     ]
    },
    {
     "name": "stderr",
     "output_type": "stream",
     "text": [
      "[*************                                                           ] 19% "
     ]
    },
    {
     "name": "stdout",
     "output_type": "stream",
     "text": [
      "0.2000 --- loss: 0.419118\n"
     ]
    },
    {
     "name": "stderr",
     "output_type": "stream",
     "text": [
      "[****************************                                            ] 39% "
     ]
    },
    {
     "name": "stdout",
     "output_type": "stream",
     "text": [
      "0.4000 --- loss: 0.331589\n"
     ]
    },
    {
     "name": "stderr",
     "output_type": "stream",
     "text": [
      "[******************************************                              ] 59% "
     ]
    },
    {
     "name": "stdout",
     "output_type": "stream",
     "text": [
      "0.6000 --- loss: 0.353479\n"
     ]
    },
    {
     "name": "stderr",
     "output_type": "stream",
     "text": [
      "[*********************************************************               ] 79% "
     ]
    },
    {
     "name": "stdout",
     "output_type": "stream",
     "text": [
      "0.8000 --- loss: 0.379102\n"
     ]
    },
    {
     "name": "stderr",
     "output_type": "stream",
     "text": [
      "[***                                                                     ]  4% "
     ]
    },
    {
     "name": "stdout",
     "output_type": "stream",
     "text": [
      "Epoch finished ! Loss: 0.3745959401130676\n"
     ]
    },
    {
     "name": "stderr",
     "output_type": "stream",
     "text": [
      "[                                                                        ]N/A% "
     ]
    },
    {
     "name": "stdout",
     "output_type": "stream",
     "text": [
      "Validation Cross-Entropy Coeff: 0.569551944732666\n",
      "Checkpoint 58 saved !\n",
      "Starting epoch 59/100.\n",
      "0.0000 --- loss: 0.417699\n"
     ]
    },
    {
     "name": "stderr",
     "output_type": "stream",
     "text": [
      "[*************                                                           ] 19% "
     ]
    },
    {
     "name": "stdout",
     "output_type": "stream",
     "text": [
      "0.2000 --- loss: 0.403205\n"
     ]
    },
    {
     "name": "stderr",
     "output_type": "stream",
     "text": [
      "[****************************                                            ] 39% "
     ]
    },
    {
     "name": "stdout",
     "output_type": "stream",
     "text": [
      "0.4000 --- loss: 0.332266\n"
     ]
    },
    {
     "name": "stderr",
     "output_type": "stream",
     "text": [
      "[******************************************                              ] 59% "
     ]
    },
    {
     "name": "stdout",
     "output_type": "stream",
     "text": [
      "0.6000 --- loss: 0.365240\n"
     ]
    },
    {
     "name": "stderr",
     "output_type": "stream",
     "text": [
      "[*********************************************************               ] 79% "
     ]
    },
    {
     "name": "stdout",
     "output_type": "stream",
     "text": [
      "0.8000 --- loss: 0.440703\n"
     ]
    },
    {
     "name": "stderr",
     "output_type": "stream",
     "text": [
      "[***                                                                     ]  4% "
     ]
    },
    {
     "name": "stdout",
     "output_type": "stream",
     "text": [
      "Epoch finished ! Loss: 0.37532123923301697\n"
     ]
    },
    {
     "name": "stderr",
     "output_type": "stream",
     "text": [
      "[                                                                        ]N/A% "
     ]
    },
    {
     "name": "stdout",
     "output_type": "stream",
     "text": [
      "Validation Cross-Entropy Coeff: 0.5705480575561523\n",
      "Checkpoint 59 saved !\n",
      "Starting epoch 60/100.\n",
      "0.0000 --- loss: 0.374447\n"
     ]
    },
    {
     "name": "stderr",
     "output_type": "stream",
     "text": [
      "[*************                                                           ] 19% "
     ]
    },
    {
     "name": "stdout",
     "output_type": "stream",
     "text": [
      "0.2000 --- loss: 0.345034\n"
     ]
    },
    {
     "name": "stderr",
     "output_type": "stream",
     "text": [
      "[****************************                                            ] 39% "
     ]
    },
    {
     "name": "stdout",
     "output_type": "stream",
     "text": [
      "0.4000 --- loss: 0.327173\n"
     ]
    },
    {
     "name": "stderr",
     "output_type": "stream",
     "text": [
      "[******************************************                              ] 59% "
     ]
    },
    {
     "name": "stdout",
     "output_type": "stream",
     "text": [
      "0.6000 --- loss: 0.319263\n"
     ]
    },
    {
     "name": "stderr",
     "output_type": "stream",
     "text": [
      "[*********************************************************               ] 79% "
     ]
    },
    {
     "name": "stdout",
     "output_type": "stream",
     "text": [
      "0.8000 --- loss: 0.390556\n"
     ]
    },
    {
     "name": "stderr",
     "output_type": "stream",
     "text": [
      "[***                                                                     ]  4% "
     ]
    },
    {
     "name": "stdout",
     "output_type": "stream",
     "text": [
      "Epoch finished ! Loss: 0.37491413950920105\n"
     ]
    },
    {
     "name": "stderr",
     "output_type": "stream",
     "text": [
      "[                                                                        ]N/A% "
     ]
    },
    {
     "name": "stdout",
     "output_type": "stream",
     "text": [
      "Validation Cross-Entropy Coeff: 0.5656666159629822\n",
      "Checkpoint 60 saved !\n",
      "Starting epoch 61/100.\n",
      "0.0000 --- loss: 0.448958\n"
     ]
    },
    {
     "name": "stderr",
     "output_type": "stream",
     "text": [
      "[*************                                                           ] 19% "
     ]
    },
    {
     "name": "stdout",
     "output_type": "stream",
     "text": [
      "0.2000 --- loss: 0.283356\n"
     ]
    },
    {
     "name": "stderr",
     "output_type": "stream",
     "text": [
      "[****************************                                            ] 39% "
     ]
    },
    {
     "name": "stdout",
     "output_type": "stream",
     "text": [
      "0.4000 --- loss: 0.337439\n"
     ]
    },
    {
     "name": "stderr",
     "output_type": "stream",
     "text": [
      "[******************************************                              ] 59% "
     ]
    },
    {
     "name": "stdout",
     "output_type": "stream",
     "text": [
      "0.6000 --- loss: 0.343956\n"
     ]
    },
    {
     "name": "stderr",
     "output_type": "stream",
     "text": [
      "[*********************************************************               ] 79% "
     ]
    },
    {
     "name": "stdout",
     "output_type": "stream",
     "text": [
      "0.8000 --- loss: 0.387018\n"
     ]
    },
    {
     "name": "stderr",
     "output_type": "stream",
     "text": [
      "[***                                                                     ]  4% "
     ]
    },
    {
     "name": "stdout",
     "output_type": "stream",
     "text": [
      "Epoch finished ! Loss: 0.377381831407547\n"
     ]
    },
    {
     "name": "stderr",
     "output_type": "stream",
     "text": [
      "[                                                                        ]N/A% "
     ]
    },
    {
     "name": "stdout",
     "output_type": "stream",
     "text": [
      "Validation Cross-Entropy Coeff: 0.5715708136558533\n",
      "Checkpoint 61 saved !\n",
      "Starting epoch 62/100.\n",
      "0.0000 --- loss: 0.318261\n"
     ]
    },
    {
     "name": "stderr",
     "output_type": "stream",
     "text": [
      "[*************                                                           ] 19% "
     ]
    },
    {
     "name": "stdout",
     "output_type": "stream",
     "text": [
      "0.2000 --- loss: 0.437013\n"
     ]
    },
    {
     "name": "stderr",
     "output_type": "stream",
     "text": [
      "[****************************                                            ] 39% "
     ]
    },
    {
     "name": "stdout",
     "output_type": "stream",
     "text": [
      "0.4000 --- loss: 0.379916\n"
     ]
    },
    {
     "name": "stderr",
     "output_type": "stream",
     "text": [
      "[******************************************                              ] 59% "
     ]
    },
    {
     "name": "stdout",
     "output_type": "stream",
     "text": [
      "0.6000 --- loss: 0.319215\n"
     ]
    },
    {
     "name": "stderr",
     "output_type": "stream",
     "text": [
      "[*********************************************************               ] 79% "
     ]
    },
    {
     "name": "stdout",
     "output_type": "stream",
     "text": [
      "0.8000 --- loss: 0.344914\n"
     ]
    },
    {
     "name": "stderr",
     "output_type": "stream",
     "text": [
      "[***                                                                     ]  4% "
     ]
    },
    {
     "name": "stdout",
     "output_type": "stream",
     "text": [
      "Epoch finished ! Loss: 0.36778169870376587\n"
     ]
    },
    {
     "name": "stderr",
     "output_type": "stream",
     "text": [
      "[                                                                        ]N/A% "
     ]
    },
    {
     "name": "stdout",
     "output_type": "stream",
     "text": [
      "Validation Cross-Entropy Coeff: 0.5717458128929138\n",
      "Checkpoint 62 saved !\n",
      "Starting epoch 63/100.\n",
      "0.0000 --- loss: 0.375124\n"
     ]
    },
    {
     "name": "stderr",
     "output_type": "stream",
     "text": [
      "[*************                                                           ] 19% "
     ]
    },
    {
     "name": "stdout",
     "output_type": "stream",
     "text": [
      "0.2000 --- loss: 0.337183\n"
     ]
    },
    {
     "name": "stderr",
     "output_type": "stream",
     "text": [
      "[****************************                                            ] 39% "
     ]
    },
    {
     "name": "stdout",
     "output_type": "stream",
     "text": [
      "0.4000 --- loss: 0.328953\n"
     ]
    },
    {
     "name": "stderr",
     "output_type": "stream",
     "text": [
      "[******************************************                              ] 59% "
     ]
    },
    {
     "name": "stdout",
     "output_type": "stream",
     "text": [
      "0.6000 --- loss: 0.335192\n"
     ]
    },
    {
     "name": "stderr",
     "output_type": "stream",
     "text": [
      "[*********************************************************               ] 79% "
     ]
    },
    {
     "name": "stdout",
     "output_type": "stream",
     "text": [
      "0.8000 --- loss: 0.314666\n"
     ]
    },
    {
     "name": "stderr",
     "output_type": "stream",
     "text": [
      "[***                                                                     ]  4% "
     ]
    },
    {
     "name": "stdout",
     "output_type": "stream",
     "text": [
      "Epoch finished ! Loss: 0.3626660406589508\n"
     ]
    },
    {
     "name": "stderr",
     "output_type": "stream",
     "text": [
      "[                                                                        ]N/A% "
     ]
    },
    {
     "name": "stdout",
     "output_type": "stream",
     "text": [
      "Validation Cross-Entropy Coeff: 0.5758917331695557\n",
      "Checkpoint 63 saved !\n",
      "Starting epoch 64/100.\n",
      "0.0000 --- loss: 0.350507\n"
     ]
    },
    {
     "name": "stderr",
     "output_type": "stream",
     "text": [
      "[*************                                                           ] 19% "
     ]
    },
    {
     "name": "stdout",
     "output_type": "stream",
     "text": [
      "0.2000 --- loss: 0.390209\n"
     ]
    },
    {
     "name": "stderr",
     "output_type": "stream",
     "text": [
      "[****************************                                            ] 39% "
     ]
    },
    {
     "name": "stdout",
     "output_type": "stream",
     "text": [
      "0.4000 --- loss: 0.354200\n"
     ]
    },
    {
     "name": "stderr",
     "output_type": "stream",
     "text": [
      "[******************************************                              ] 59% "
     ]
    },
    {
     "name": "stdout",
     "output_type": "stream",
     "text": [
      "0.6000 --- loss: 0.350672\n"
     ]
    },
    {
     "name": "stderr",
     "output_type": "stream",
     "text": [
      "[*********************************************************               ] 79% "
     ]
    },
    {
     "name": "stdout",
     "output_type": "stream",
     "text": [
      "0.8000 --- loss: 0.467767\n"
     ]
    },
    {
     "name": "stderr",
     "output_type": "stream",
     "text": [
      "[***                                                                     ]  4% "
     ]
    },
    {
     "name": "stdout",
     "output_type": "stream",
     "text": [
      "Epoch finished ! Loss: 0.36519190669059753\n"
     ]
    },
    {
     "name": "stderr",
     "output_type": "stream",
     "text": [
      "[                                                                        ]N/A% "
     ]
    },
    {
     "name": "stdout",
     "output_type": "stream",
     "text": [
      "Validation Cross-Entropy Coeff: 0.5692613124847412\n",
      "Checkpoint 64 saved !\n",
      "Starting epoch 65/100.\n",
      "0.0000 --- loss: 0.346900\n"
     ]
    },
    {
     "name": "stderr",
     "output_type": "stream",
     "text": [
      "[*************                                                           ] 19% "
     ]
    },
    {
     "name": "stdout",
     "output_type": "stream",
     "text": [
      "0.2000 --- loss: 0.345960\n"
     ]
    },
    {
     "name": "stderr",
     "output_type": "stream",
     "text": [
      "[****************************                                            ] 39% "
     ]
    },
    {
     "name": "stdout",
     "output_type": "stream",
     "text": [
      "0.4000 --- loss: 0.349535\n"
     ]
    },
    {
     "name": "stderr",
     "output_type": "stream",
     "text": [
      "[******************************************                              ] 59% "
     ]
    },
    {
     "name": "stdout",
     "output_type": "stream",
     "text": [
      "0.6000 --- loss: 0.394768\n"
     ]
    },
    {
     "name": "stderr",
     "output_type": "stream",
     "text": [
      "[*********************************************************               ] 79% "
     ]
    },
    {
     "name": "stdout",
     "output_type": "stream",
     "text": [
      "0.8000 --- loss: 0.293099\n"
     ]
    },
    {
     "name": "stderr",
     "output_type": "stream",
     "text": [
      "[***                                                                     ]  4% "
     ]
    },
    {
     "name": "stdout",
     "output_type": "stream",
     "text": [
      "Epoch finished ! Loss: 0.3594876229763031\n"
     ]
    },
    {
     "name": "stderr",
     "output_type": "stream",
     "text": [
      "[                                                                        ]N/A% "
     ]
    },
    {
     "name": "stdout",
     "output_type": "stream",
     "text": [
      "Validation Cross-Entropy Coeff: 0.5712945461273193\n",
      "Checkpoint 65 saved !\n",
      "Starting epoch 66/100.\n",
      "0.0000 --- loss: 0.303172\n"
     ]
    },
    {
     "name": "stderr",
     "output_type": "stream",
     "text": [
      "[*************                                                           ] 19% "
     ]
    },
    {
     "name": "stdout",
     "output_type": "stream",
     "text": [
      "0.2000 --- loss: 0.342786\n"
     ]
    },
    {
     "name": "stderr",
     "output_type": "stream",
     "text": [
      "[****************************                                            ] 39% "
     ]
    },
    {
     "name": "stdout",
     "output_type": "stream",
     "text": [
      "0.4000 --- loss: 0.364006\n"
     ]
    },
    {
     "name": "stderr",
     "output_type": "stream",
     "text": [
      "[******************************************                              ] 59% "
     ]
    },
    {
     "name": "stdout",
     "output_type": "stream",
     "text": [
      "0.6000 --- loss: 0.424317\n"
     ]
    },
    {
     "name": "stderr",
     "output_type": "stream",
     "text": [
      "[*********************************************************               ] 79% "
     ]
    },
    {
     "name": "stdout",
     "output_type": "stream",
     "text": [
      "0.8000 --- loss: 0.372640\n"
     ]
    },
    {
     "name": "stderr",
     "output_type": "stream",
     "text": [
      "[***                                                                     ]  4% "
     ]
    },
    {
     "name": "stdout",
     "output_type": "stream",
     "text": [
      "Epoch finished ! Loss: 0.3585001230239868\n"
     ]
    },
    {
     "name": "stderr",
     "output_type": "stream",
     "text": [
      "[                                                                        ]N/A% "
     ]
    },
    {
     "name": "stdout",
     "output_type": "stream",
     "text": [
      "Validation Cross-Entropy Coeff: 0.572563111782074\n",
      "Checkpoint 66 saved !\n",
      "Starting epoch 67/100.\n",
      "0.0000 --- loss: 0.361652\n"
     ]
    },
    {
     "name": "stderr",
     "output_type": "stream",
     "text": [
      "[*************                                                           ] 19% "
     ]
    },
    {
     "name": "stdout",
     "output_type": "stream",
     "text": [
      "0.2000 --- loss: 0.301356\n"
     ]
    },
    {
     "name": "stderr",
     "output_type": "stream",
     "text": [
      "[****************************                                            ] 39% "
     ]
    },
    {
     "name": "stdout",
     "output_type": "stream",
     "text": [
      "0.4000 --- loss: 0.339132\n"
     ]
    },
    {
     "name": "stderr",
     "output_type": "stream",
     "text": [
      "[******************************************                              ] 59% "
     ]
    },
    {
     "name": "stdout",
     "output_type": "stream",
     "text": [
      "0.6000 --- loss: 0.367413\n"
     ]
    },
    {
     "name": "stderr",
     "output_type": "stream",
     "text": [
      "[*********************************************************               ] 79% "
     ]
    },
    {
     "name": "stdout",
     "output_type": "stream",
     "text": [
      "0.8000 --- loss: 0.363981\n"
     ]
    },
    {
     "name": "stderr",
     "output_type": "stream",
     "text": [
      "[***                                                                     ]  4% "
     ]
    },
    {
     "name": "stdout",
     "output_type": "stream",
     "text": [
      "Epoch finished ! Loss: 0.3572257459163666\n"
     ]
    },
    {
     "name": "stderr",
     "output_type": "stream",
     "text": [
      "[                                                                        ]N/A% "
     ]
    },
    {
     "name": "stdout",
     "output_type": "stream",
     "text": [
      "Validation Cross-Entropy Coeff: 0.5651596784591675\n",
      "Checkpoint 67 saved !\n",
      "Starting epoch 68/100.\n",
      "0.0000 --- loss: 0.311501\n"
     ]
    },
    {
     "name": "stderr",
     "output_type": "stream",
     "text": [
      "[*************                                                           ] 19% "
     ]
    },
    {
     "name": "stdout",
     "output_type": "stream",
     "text": [
      "0.2000 --- loss: 0.425902\n"
     ]
    },
    {
     "name": "stderr",
     "output_type": "stream",
     "text": [
      "[****************************                                            ] 39% "
     ]
    },
    {
     "name": "stdout",
     "output_type": "stream",
     "text": [
      "0.4000 --- loss: 0.342848\n"
     ]
    },
    {
     "name": "stderr",
     "output_type": "stream",
     "text": [
      "[******************************************                              ] 59% "
     ]
    },
    {
     "name": "stdout",
     "output_type": "stream",
     "text": [
      "0.6000 --- loss: 0.377264\n"
     ]
    },
    {
     "name": "stderr",
     "output_type": "stream",
     "text": [
      "[*********************************************************               ] 79% "
     ]
    },
    {
     "name": "stdout",
     "output_type": "stream",
     "text": [
      "0.8000 --- loss: 0.333516\n"
     ]
    },
    {
     "name": "stderr",
     "output_type": "stream",
     "text": [
      "[***                                                                     ]  4% "
     ]
    },
    {
     "name": "stdout",
     "output_type": "stream",
     "text": [
      "Epoch finished ! Loss: 0.3568953573703766\n"
     ]
    },
    {
     "name": "stderr",
     "output_type": "stream",
     "text": [
      "[                                                                        ]N/A% "
     ]
    },
    {
     "name": "stdout",
     "output_type": "stream",
     "text": [
      "Validation Cross-Entropy Coeff: 0.5644741654396057\n",
      "Checkpoint 68 saved !\n",
      "Starting epoch 69/100.\n",
      "0.0000 --- loss: 0.360106\n"
     ]
    },
    {
     "name": "stderr",
     "output_type": "stream",
     "text": [
      "[*************                                                           ] 19% "
     ]
    },
    {
     "name": "stdout",
     "output_type": "stream",
     "text": [
      "0.2000 --- loss: 0.330657\n"
     ]
    },
    {
     "name": "stderr",
     "output_type": "stream",
     "text": [
      "[****************************                                            ] 39% "
     ]
    },
    {
     "name": "stdout",
     "output_type": "stream",
     "text": [
      "0.4000 --- loss: 0.301209\n"
     ]
    },
    {
     "name": "stderr",
     "output_type": "stream",
     "text": [
      "[******************************************                              ] 59% "
     ]
    },
    {
     "name": "stdout",
     "output_type": "stream",
     "text": [
      "0.6000 --- loss: 0.315205\n"
     ]
    },
    {
     "name": "stderr",
     "output_type": "stream",
     "text": [
      "[*********************************************************               ] 79% "
     ]
    },
    {
     "name": "stdout",
     "output_type": "stream",
     "text": [
      "0.8000 --- loss: 0.308457\n"
     ]
    },
    {
     "name": "stderr",
     "output_type": "stream",
     "text": [
      "[***                                                                     ]  4% "
     ]
    },
    {
     "name": "stdout",
     "output_type": "stream",
     "text": [
      "Epoch finished ! Loss: 0.3564372658729553\n"
     ]
    },
    {
     "name": "stderr",
     "output_type": "stream",
     "text": [
      "[************************************************************************]100% "
     ]
    },
    {
     "name": "stdout",
     "output_type": "stream",
     "text": [
      "Validation Cross-Entropy Coeff: 0.5685192942619324\n",
      "Checkpoint 69 saved !\n",
      "Starting epoch 70/100.\n"
     ]
    },
    {
     "name": "stderr",
     "output_type": "stream",
     "text": [
      "\r",
      "                                                                               \r",
      "\r",
      "[                                                                        ]N/A% "
     ]
    },
    {
     "name": "stdout",
     "output_type": "stream",
     "text": [
      "0.0000 --- loss: 0.390418\n"
     ]
    },
    {
     "name": "stderr",
     "output_type": "stream",
     "text": [
      "[*************                                                           ] 19% "
     ]
    },
    {
     "name": "stdout",
     "output_type": "stream",
     "text": [
      "0.2000 --- loss: 0.325618\n"
     ]
    },
    {
     "name": "stderr",
     "output_type": "stream",
     "text": [
      "[****************************                                            ] 39% "
     ]
    },
    {
     "name": "stdout",
     "output_type": "stream",
     "text": [
      "0.4000 --- loss: 0.334998\n"
     ]
    },
    {
     "name": "stderr",
     "output_type": "stream",
     "text": [
      "[******************************************                              ] 59% "
     ]
    },
    {
     "name": "stdout",
     "output_type": "stream",
     "text": [
      "0.6000 --- loss: 0.321670\n"
     ]
    },
    {
     "name": "stderr",
     "output_type": "stream",
     "text": [
      "[*********************************************************               ] 79% "
     ]
    },
    {
     "name": "stdout",
     "output_type": "stream",
     "text": [
      "0.8000 --- loss: 0.438564\n"
     ]
    },
    {
     "name": "stderr",
     "output_type": "stream",
     "text": [
      "[***                                                                     ]  4% "
     ]
    },
    {
     "name": "stdout",
     "output_type": "stream",
     "text": [
      "Epoch finished ! Loss: 0.35769572854042053\n"
     ]
    },
    {
     "name": "stderr",
     "output_type": "stream",
     "text": [
      "[************************************************************************]100% "
     ]
    },
    {
     "name": "stdout",
     "output_type": "stream",
     "text": [
      "Validation Cross-Entropy Coeff: 0.5657368302345276\n",
      "Checkpoint 70 saved !\n",
      "Starting epoch 71/100.\n"
     ]
    },
    {
     "name": "stderr",
     "output_type": "stream",
     "text": [
      "\r",
      "                                                                               \r",
      "\r",
      "[                                                                        ]N/A% "
     ]
    },
    {
     "name": "stdout",
     "output_type": "stream",
     "text": [
      "0.0000 --- loss: 0.338906\n"
     ]
    },
    {
     "name": "stderr",
     "output_type": "stream",
     "text": [
      "[*************                                                           ] 19% "
     ]
    },
    {
     "name": "stdout",
     "output_type": "stream",
     "text": [
      "0.2000 --- loss: 0.308178\n"
     ]
    },
    {
     "name": "stderr",
     "output_type": "stream",
     "text": [
      "[****************************                                            ] 39% "
     ]
    },
    {
     "name": "stdout",
     "output_type": "stream",
     "text": [
      "0.4000 --- loss: 0.370630\n"
     ]
    },
    {
     "name": "stderr",
     "output_type": "stream",
     "text": [
      "[******************************************                              ] 59% "
     ]
    },
    {
     "name": "stdout",
     "output_type": "stream",
     "text": [
      "0.6000 --- loss: 0.399988\n"
     ]
    },
    {
     "name": "stderr",
     "output_type": "stream",
     "text": [
      "[*********************************************************               ] 79% "
     ]
    },
    {
     "name": "stdout",
     "output_type": "stream",
     "text": [
      "0.8000 --- loss: 0.356704\n"
     ]
    },
    {
     "name": "stderr",
     "output_type": "stream",
     "text": [
      "[***                                                                     ]  4% "
     ]
    },
    {
     "name": "stdout",
     "output_type": "stream",
     "text": [
      "Epoch finished ! Loss: 0.35849565267562866\n"
     ]
    },
    {
     "name": "stderr",
     "output_type": "stream",
     "text": [
      "[                                                                        ]N/A% "
     ]
    },
    {
     "name": "stdout",
     "output_type": "stream",
     "text": [
      "Validation Cross-Entropy Coeff: 0.5625477433204651\n",
      "Checkpoint 71 saved !\n",
      "Starting epoch 72/100.\n",
      "0.0000 --- loss: 0.297573\n"
     ]
    },
    {
     "name": "stderr",
     "output_type": "stream",
     "text": [
      "[*************                                                           ] 19% "
     ]
    },
    {
     "name": "stdout",
     "output_type": "stream",
     "text": [
      "0.2000 --- loss: 0.303189\n"
     ]
    },
    {
     "name": "stderr",
     "output_type": "stream",
     "text": [
      "[****************************                                            ] 39% "
     ]
    },
    {
     "name": "stdout",
     "output_type": "stream",
     "text": [
      "0.4000 --- loss: 0.377746\n"
     ]
    },
    {
     "name": "stderr",
     "output_type": "stream",
     "text": [
      "[******************************************                              ] 59% "
     ]
    },
    {
     "name": "stdout",
     "output_type": "stream",
     "text": [
      "0.6000 --- loss: 0.336244\n"
     ]
    },
    {
     "name": "stderr",
     "output_type": "stream",
     "text": [
      "[*********************************************************               ] 79% "
     ]
    },
    {
     "name": "stdout",
     "output_type": "stream",
     "text": [
      "0.8000 --- loss: 0.295163\n"
     ]
    },
    {
     "name": "stderr",
     "output_type": "stream",
     "text": [
      "[***                                                                     ]  4% "
     ]
    },
    {
     "name": "stdout",
     "output_type": "stream",
     "text": [
      "Epoch finished ! Loss: 0.3523644804954529\n"
     ]
    },
    {
     "name": "stderr",
     "output_type": "stream",
     "text": [
      "[                                                                        ]N/A% "
     ]
    },
    {
     "name": "stdout",
     "output_type": "stream",
     "text": [
      "Validation Cross-Entropy Coeff: 0.5746372938156128\n",
      "Checkpoint 72 saved !\n",
      "Starting epoch 73/100.\n",
      "0.0000 --- loss: 0.355331\n"
     ]
    },
    {
     "name": "stderr",
     "output_type": "stream",
     "text": [
      "[*************                                                           ] 19% "
     ]
    },
    {
     "name": "stdout",
     "output_type": "stream",
     "text": [
      "0.2000 --- loss: 0.324391\n"
     ]
    },
    {
     "name": "stderr",
     "output_type": "stream",
     "text": [
      "[****************************                                            ] 39% "
     ]
    },
    {
     "name": "stdout",
     "output_type": "stream",
     "text": [
      "0.4000 --- loss: 0.375551\n"
     ]
    },
    {
     "name": "stderr",
     "output_type": "stream",
     "text": [
      "[******************************************                              ] 59% "
     ]
    },
    {
     "name": "stdout",
     "output_type": "stream",
     "text": [
      "0.6000 --- loss: 0.355470\n"
     ]
    },
    {
     "name": "stderr",
     "output_type": "stream",
     "text": [
      "[*********************************************************               ] 79% "
     ]
    },
    {
     "name": "stdout",
     "output_type": "stream",
     "text": [
      "0.8000 --- loss: 0.436826\n"
     ]
    },
    {
     "name": "stderr",
     "output_type": "stream",
     "text": [
      "[***                                                                     ]  4% "
     ]
    },
    {
     "name": "stdout",
     "output_type": "stream",
     "text": [
      "Epoch finished ! Loss: 0.34841182827949524\n"
     ]
    },
    {
     "name": "stderr",
     "output_type": "stream",
     "text": [
      "[                                                                        ]N/A% "
     ]
    },
    {
     "name": "stdout",
     "output_type": "stream",
     "text": [
      "Validation Cross-Entropy Coeff: 0.6047648191452026\n",
      "Checkpoint 73 saved !\n",
      "Starting epoch 74/100.\n",
      "0.0000 --- loss: 0.336003\n"
     ]
    },
    {
     "name": "stderr",
     "output_type": "stream",
     "text": [
      "[*************                                                           ] 19% "
     ]
    },
    {
     "name": "stdout",
     "output_type": "stream",
     "text": [
      "0.2000 --- loss: 0.339807\n"
     ]
    },
    {
     "name": "stderr",
     "output_type": "stream",
     "text": [
      "[****************************                                            ] 39% "
     ]
    },
    {
     "name": "stdout",
     "output_type": "stream",
     "text": [
      "0.4000 --- loss: 0.300286\n"
     ]
    },
    {
     "name": "stderr",
     "output_type": "stream",
     "text": [
      "[******************************************                              ] 59% "
     ]
    },
    {
     "name": "stdout",
     "output_type": "stream",
     "text": [
      "0.6000 --- loss: 0.340425\n"
     ]
    },
    {
     "name": "stderr",
     "output_type": "stream",
     "text": [
      "[*********************************************************               ] 79% "
     ]
    },
    {
     "name": "stdout",
     "output_type": "stream",
     "text": [
      "0.8000 --- loss: 0.370345\n"
     ]
    },
    {
     "name": "stderr",
     "output_type": "stream",
     "text": [
      "[***                                                                     ]  4% "
     ]
    },
    {
     "name": "stdout",
     "output_type": "stream",
     "text": [
      "Epoch finished ! Loss: 0.35048529505729675\n"
     ]
    },
    {
     "name": "stderr",
     "output_type": "stream",
     "text": [
      "[************************************************************************]100% "
     ]
    },
    {
     "name": "stdout",
     "output_type": "stream",
     "text": [
      "Validation Cross-Entropy Coeff: 0.5808890461921692\n"
     ]
    },
    {
     "name": "stderr",
     "output_type": "stream",
     "text": [
      "\r",
      "                                                                               \r",
      "\r",
      "[                                                                        ]N/A% "
     ]
    },
    {
     "name": "stdout",
     "output_type": "stream",
     "text": [
      "Checkpoint 74 saved !\n",
      "Starting epoch 75/100.\n",
      "0.0000 --- loss: 0.385430\n"
     ]
    },
    {
     "name": "stderr",
     "output_type": "stream",
     "text": [
      "[*************                                                           ] 19% "
     ]
    },
    {
     "name": "stdout",
     "output_type": "stream",
     "text": [
      "0.2000 --- loss: 0.317294\n"
     ]
    },
    {
     "name": "stderr",
     "output_type": "stream",
     "text": [
      "[****************************                                            ] 39% "
     ]
    },
    {
     "name": "stdout",
     "output_type": "stream",
     "text": [
      "0.4000 --- loss: 0.354272\n"
     ]
    },
    {
     "name": "stderr",
     "output_type": "stream",
     "text": [
      "[******************************************                              ] 59% "
     ]
    },
    {
     "name": "stdout",
     "output_type": "stream",
     "text": [
      "0.6000 --- loss: 0.379428\n"
     ]
    },
    {
     "name": "stderr",
     "output_type": "stream",
     "text": [
      "[*********************************************************               ] 79% "
     ]
    },
    {
     "name": "stdout",
     "output_type": "stream",
     "text": [
      "0.8000 --- loss: 0.355700\n"
     ]
    },
    {
     "name": "stderr",
     "output_type": "stream",
     "text": [
      "[***                                                                     ]  4% "
     ]
    },
    {
     "name": "stdout",
     "output_type": "stream",
     "text": [
      "Epoch finished ! Loss: 0.34456565976142883\n"
     ]
    },
    {
     "name": "stderr",
     "output_type": "stream",
     "text": [
      "[                                                                        ]N/A% "
     ]
    },
    {
     "name": "stdout",
     "output_type": "stream",
     "text": [
      "Validation Cross-Entropy Coeff: 0.5763870477676392\n",
      "Checkpoint 75 saved !\n",
      "Starting epoch 76/100.\n",
      "0.0000 --- loss: 0.342801\n"
     ]
    },
    {
     "name": "stderr",
     "output_type": "stream",
     "text": [
      "[*************                                                           ] 19% "
     ]
    },
    {
     "name": "stdout",
     "output_type": "stream",
     "text": [
      "0.2000 --- loss: 0.330545\n"
     ]
    },
    {
     "name": "stderr",
     "output_type": "stream",
     "text": [
      "[****************************                                            ] 39% "
     ]
    },
    {
     "name": "stdout",
     "output_type": "stream",
     "text": [
      "0.4000 --- loss: 0.348079\n"
     ]
    },
    {
     "name": "stderr",
     "output_type": "stream",
     "text": [
      "[******************************************                              ] 59% "
     ]
    },
    {
     "name": "stdout",
     "output_type": "stream",
     "text": [
      "0.6000 --- loss: 0.354322\n"
     ]
    },
    {
     "name": "stderr",
     "output_type": "stream",
     "text": [
      "[*********************************************************               ] 79% "
     ]
    },
    {
     "name": "stdout",
     "output_type": "stream",
     "text": [
      "0.8000 --- loss: 0.311886\n"
     ]
    },
    {
     "name": "stderr",
     "output_type": "stream",
     "text": [
      "[***                                                                     ]  4% "
     ]
    },
    {
     "name": "stdout",
     "output_type": "stream",
     "text": [
      "Epoch finished ! Loss: 0.3449012041091919\n"
     ]
    },
    {
     "name": "stderr",
     "output_type": "stream",
     "text": [
      "[                                                                        ]N/A% "
     ]
    },
    {
     "name": "stdout",
     "output_type": "stream",
     "text": [
      "Validation Cross-Entropy Coeff: 0.5768731832504272\n",
      "Checkpoint 76 saved !\n",
      "Starting epoch 77/100.\n",
      "0.0000 --- loss: 0.301778\n"
     ]
    },
    {
     "name": "stderr",
     "output_type": "stream",
     "text": [
      "[*************                                                           ] 19% "
     ]
    },
    {
     "name": "stdout",
     "output_type": "stream",
     "text": [
      "0.2000 --- loss: 0.302176\n"
     ]
    },
    {
     "name": "stderr",
     "output_type": "stream",
     "text": [
      "[****************************                                            ] 39% "
     ]
    },
    {
     "name": "stdout",
     "output_type": "stream",
     "text": [
      "0.4000 --- loss: 0.360120\n"
     ]
    },
    {
     "name": "stderr",
     "output_type": "stream",
     "text": [
      "[******************************************                              ] 59% "
     ]
    },
    {
     "name": "stdout",
     "output_type": "stream",
     "text": [
      "0.6000 --- loss: 0.323081\n"
     ]
    },
    {
     "name": "stderr",
     "output_type": "stream",
     "text": [
      "[*********************************************************               ] 79% "
     ]
    },
    {
     "name": "stdout",
     "output_type": "stream",
     "text": [
      "0.8000 --- loss: 0.368707\n"
     ]
    },
    {
     "name": "stderr",
     "output_type": "stream",
     "text": [
      "[***                                                                     ]  4% "
     ]
    },
    {
     "name": "stdout",
     "output_type": "stream",
     "text": [
      "Epoch finished ! Loss: 0.3465449810028076\n"
     ]
    },
    {
     "name": "stderr",
     "output_type": "stream",
     "text": [
      "[                                                                        ]N/A% "
     ]
    },
    {
     "name": "stdout",
     "output_type": "stream",
     "text": [
      "Validation Cross-Entropy Coeff: 0.5764293074607849\n",
      "Checkpoint 77 saved !\n",
      "Starting epoch 78/100.\n",
      "0.0000 --- loss: 0.330394\n"
     ]
    },
    {
     "name": "stderr",
     "output_type": "stream",
     "text": [
      "[*************                                                           ] 19% "
     ]
    },
    {
     "name": "stdout",
     "output_type": "stream",
     "text": [
      "0.2000 --- loss: 0.358723\n"
     ]
    },
    {
     "name": "stderr",
     "output_type": "stream",
     "text": [
      "[****************************                                            ] 39% "
     ]
    },
    {
     "name": "stdout",
     "output_type": "stream",
     "text": [
      "0.4000 --- loss: 0.297624\n"
     ]
    },
    {
     "name": "stderr",
     "output_type": "stream",
     "text": [
      "[******************************************                              ] 59% "
     ]
    },
    {
     "name": "stdout",
     "output_type": "stream",
     "text": [
      "0.6000 --- loss: 0.346789\n"
     ]
    },
    {
     "name": "stderr",
     "output_type": "stream",
     "text": [
      "[*********************************************************               ] 79% "
     ]
    },
    {
     "name": "stdout",
     "output_type": "stream",
     "text": [
      "0.8000 --- loss: 0.314422\n"
     ]
    },
    {
     "name": "stderr",
     "output_type": "stream",
     "text": [
      "[***                                                                     ]  4% "
     ]
    },
    {
     "name": "stdout",
     "output_type": "stream",
     "text": [
      "Epoch finished ! Loss: 0.349086731672287\n"
     ]
    },
    {
     "name": "stderr",
     "output_type": "stream",
     "text": [
      "[                                                                        ]N/A% "
     ]
    },
    {
     "name": "stdout",
     "output_type": "stream",
     "text": [
      "Validation Cross-Entropy Coeff: 0.5819303393363953\n",
      "Checkpoint 78 saved !\n",
      "Starting epoch 79/100.\n",
      "0.0000 --- loss: 0.315383\n"
     ]
    },
    {
     "name": "stderr",
     "output_type": "stream",
     "text": [
      "[*************                                                           ] 19% "
     ]
    },
    {
     "name": "stdout",
     "output_type": "stream",
     "text": [
      "0.2000 --- loss: 0.367307\n"
     ]
    },
    {
     "name": "stderr",
     "output_type": "stream",
     "text": [
      "[****************************                                            ] 39% "
     ]
    },
    {
     "name": "stdout",
     "output_type": "stream",
     "text": [
      "0.4000 --- loss: 0.315388\n"
     ]
    },
    {
     "name": "stderr",
     "output_type": "stream",
     "text": [
      "[******************************************                              ] 59% "
     ]
    },
    {
     "name": "stdout",
     "output_type": "stream",
     "text": [
      "0.6000 --- loss: 0.353392\n"
     ]
    },
    {
     "name": "stderr",
     "output_type": "stream",
     "text": [
      "[*********************************************************               ] 79% "
     ]
    },
    {
     "name": "stdout",
     "output_type": "stream",
     "text": [
      "0.8000 --- loss: 0.277788\n"
     ]
    },
    {
     "name": "stderr",
     "output_type": "stream",
     "text": [
      "[***                                                                     ]  4% "
     ]
    },
    {
     "name": "stdout",
     "output_type": "stream",
     "text": [
      "Epoch finished ! Loss: 0.3408818244934082\n"
     ]
    },
    {
     "name": "stderr",
     "output_type": "stream",
     "text": [
      "[                                                                        ]N/A% "
     ]
    },
    {
     "name": "stdout",
     "output_type": "stream",
     "text": [
      "Validation Cross-Entropy Coeff: 0.5813062787055969\n",
      "Checkpoint 79 saved !\n",
      "Starting epoch 80/100.\n",
      "0.0000 --- loss: 0.305571\n"
     ]
    },
    {
     "name": "stderr",
     "output_type": "stream",
     "text": [
      "[*************                                                           ] 19% "
     ]
    },
    {
     "name": "stdout",
     "output_type": "stream",
     "text": [
      "0.2000 --- loss: 0.314443\n"
     ]
    },
    {
     "name": "stderr",
     "output_type": "stream",
     "text": [
      "[****************************                                            ] 39% "
     ]
    },
    {
     "name": "stdout",
     "output_type": "stream",
     "text": [
      "0.4000 --- loss: 0.324466\n"
     ]
    },
    {
     "name": "stderr",
     "output_type": "stream",
     "text": [
      "[******************************************                              ] 59% "
     ]
    },
    {
     "name": "stdout",
     "output_type": "stream",
     "text": [
      "0.6000 --- loss: 0.353422\n"
     ]
    },
    {
     "name": "stderr",
     "output_type": "stream",
     "text": [
      "[*********************************************************               ] 79% "
     ]
    },
    {
     "name": "stdout",
     "output_type": "stream",
     "text": [
      "0.8000 --- loss: 0.360879\n"
     ]
    },
    {
     "name": "stderr",
     "output_type": "stream",
     "text": [
      "[***                                                                     ]  4% "
     ]
    },
    {
     "name": "stdout",
     "output_type": "stream",
     "text": [
      "Epoch finished ! Loss: 0.33969444036483765\n"
     ]
    },
    {
     "name": "stderr",
     "output_type": "stream",
     "text": [
      "[                                                                        ]N/A% "
     ]
    },
    {
     "name": "stdout",
     "output_type": "stream",
     "text": [
      "Validation Cross-Entropy Coeff: 0.5805199146270752\n",
      "Checkpoint 80 saved !\n",
      "Starting epoch 81/100.\n",
      "0.0000 --- loss: 0.348731\n"
     ]
    },
    {
     "name": "stderr",
     "output_type": "stream",
     "text": [
      "[*************                                                           ] 19% "
     ]
    },
    {
     "name": "stdout",
     "output_type": "stream",
     "text": [
      "0.2000 --- loss: 0.390660\n"
     ]
    },
    {
     "name": "stderr",
     "output_type": "stream",
     "text": [
      "[****************************                                            ] 39% "
     ]
    },
    {
     "name": "stdout",
     "output_type": "stream",
     "text": [
      "0.4000 --- loss: 0.419466\n"
     ]
    },
    {
     "name": "stderr",
     "output_type": "stream",
     "text": [
      "[******************************************                              ] 59% "
     ]
    },
    {
     "name": "stdout",
     "output_type": "stream",
     "text": [
      "0.6000 --- loss: 0.361029\n"
     ]
    },
    {
     "name": "stderr",
     "output_type": "stream",
     "text": [
      "[*********************************************************               ] 79% "
     ]
    },
    {
     "name": "stdout",
     "output_type": "stream",
     "text": [
      "0.8000 --- loss: 0.363815\n"
     ]
    },
    {
     "name": "stderr",
     "output_type": "stream",
     "text": [
      "[***                                                                     ]  4% "
     ]
    },
    {
     "name": "stdout",
     "output_type": "stream",
     "text": [
      "Epoch finished ! Loss: 0.3351198732852936\n"
     ]
    },
    {
     "name": "stderr",
     "output_type": "stream",
     "text": [
      "[                                                                        ]N/A% "
     ]
    },
    {
     "name": "stdout",
     "output_type": "stream",
     "text": [
      "Validation Cross-Entropy Coeff: 0.597052812576294\n",
      "Checkpoint 81 saved !\n",
      "Starting epoch 82/100.\n",
      "0.0000 --- loss: 0.359082\n"
     ]
    },
    {
     "name": "stderr",
     "output_type": "stream",
     "text": [
      "[*************                                                           ] 19% "
     ]
    },
    {
     "name": "stdout",
     "output_type": "stream",
     "text": [
      "0.2000 --- loss: 0.291501\n"
     ]
    },
    {
     "name": "stderr",
     "output_type": "stream",
     "text": [
      "[****************************                                            ] 39% "
     ]
    },
    {
     "name": "stdout",
     "output_type": "stream",
     "text": [
      "0.4000 --- loss: 0.312682\n"
     ]
    },
    {
     "name": "stderr",
     "output_type": "stream",
     "text": [
      "[******************************************                              ] 59% "
     ]
    },
    {
     "name": "stdout",
     "output_type": "stream",
     "text": [
      "0.6000 --- loss: 0.307715\n"
     ]
    },
    {
     "name": "stderr",
     "output_type": "stream",
     "text": [
      "[*********************************************************               ] 79% "
     ]
    },
    {
     "name": "stdout",
     "output_type": "stream",
     "text": [
      "0.8000 --- loss: 0.335706\n"
     ]
    },
    {
     "name": "stderr",
     "output_type": "stream",
     "text": [
      "[***                                                                     ]  4% "
     ]
    },
    {
     "name": "stdout",
     "output_type": "stream",
     "text": [
      "Epoch finished ! Loss: 0.3360748589038849\n"
     ]
    },
    {
     "name": "stderr",
     "output_type": "stream",
     "text": [
      "[                                                                        ]N/A% "
     ]
    },
    {
     "name": "stdout",
     "output_type": "stream",
     "text": [
      "Validation Cross-Entropy Coeff: 0.5781564116477966\n",
      "Checkpoint 82 saved !\n",
      "Starting epoch 83/100.\n",
      "0.0000 --- loss: 0.382833\n"
     ]
    },
    {
     "name": "stderr",
     "output_type": "stream",
     "text": [
      "[*************                                                           ] 19% "
     ]
    },
    {
     "name": "stdout",
     "output_type": "stream",
     "text": [
      "0.2000 --- loss: 0.335334\n"
     ]
    },
    {
     "name": "stderr",
     "output_type": "stream",
     "text": [
      "[****************************                                            ] 39% "
     ]
    },
    {
     "name": "stdout",
     "output_type": "stream",
     "text": [
      "0.4000 --- loss: 0.332283\n"
     ]
    },
    {
     "name": "stderr",
     "output_type": "stream",
     "text": [
      "[******************************************                              ] 59% "
     ]
    },
    {
     "name": "stdout",
     "output_type": "stream",
     "text": [
      "0.6000 --- loss: 0.329083\n"
     ]
    },
    {
     "name": "stderr",
     "output_type": "stream",
     "text": [
      "[*********************************************************               ] 79% "
     ]
    },
    {
     "name": "stdout",
     "output_type": "stream",
     "text": [
      "0.8000 --- loss: 0.306437\n"
     ]
    },
    {
     "name": "stderr",
     "output_type": "stream",
     "text": [
      "[***                                                                     ]  4% "
     ]
    },
    {
     "name": "stdout",
     "output_type": "stream",
     "text": [
      "Epoch finished ! Loss: 0.338837593793869\n"
     ]
    },
    {
     "name": "stderr",
     "output_type": "stream",
     "text": [
      "[                                                                        ]N/A% "
     ]
    },
    {
     "name": "stdout",
     "output_type": "stream",
     "text": [
      "Validation Cross-Entropy Coeff: 0.5684000849723816\n",
      "Checkpoint 83 saved !\n",
      "Starting epoch 84/100.\n",
      "0.0000 --- loss: 0.367195\n"
     ]
    },
    {
     "name": "stderr",
     "output_type": "stream",
     "text": [
      "[*************                                                           ] 19% "
     ]
    },
    {
     "name": "stdout",
     "output_type": "stream",
     "text": [
      "0.2000 --- loss: 0.327160\n"
     ]
    },
    {
     "name": "stderr",
     "output_type": "stream",
     "text": [
      "[****************************                                            ] 39% "
     ]
    },
    {
     "name": "stdout",
     "output_type": "stream",
     "text": [
      "0.4000 --- loss: 0.337177\n"
     ]
    },
    {
     "name": "stderr",
     "output_type": "stream",
     "text": [
      "[******************************************                              ] 59% "
     ]
    },
    {
     "name": "stdout",
     "output_type": "stream",
     "text": [
      "0.6000 --- loss: 0.350457\n"
     ]
    },
    {
     "name": "stderr",
     "output_type": "stream",
     "text": [
      "[*********************************************************               ] 79% "
     ]
    },
    {
     "name": "stdout",
     "output_type": "stream",
     "text": [
      "0.8000 --- loss: 0.266372\n"
     ]
    },
    {
     "name": "stderr",
     "output_type": "stream",
     "text": [
      "[***                                                                     ]  4% "
     ]
    },
    {
     "name": "stdout",
     "output_type": "stream",
     "text": [
      "Epoch finished ! Loss: 0.3335348069667816\n"
     ]
    },
    {
     "name": "stderr",
     "output_type": "stream",
     "text": [
      "[************************************************************************]100% "
     ]
    },
    {
     "name": "stdout",
     "output_type": "stream",
     "text": [
      "Validation Cross-Entropy Coeff: 0.5725334882736206\n",
      "Checkpoint 84 saved !\n",
      "Starting epoch 85/100.\n"
     ]
    },
    {
     "name": "stderr",
     "output_type": "stream",
     "text": [
      "\r",
      "                                                                               \r",
      "\r",
      "[                                                                        ]N/A% "
     ]
    },
    {
     "name": "stdout",
     "output_type": "stream",
     "text": [
      "0.0000 --- loss: 0.373591\n"
     ]
    },
    {
     "name": "stderr",
     "output_type": "stream",
     "text": [
      "[*************                                                           ] 19% "
     ]
    },
    {
     "name": "stdout",
     "output_type": "stream",
     "text": [
      "0.2000 --- loss: 0.320106\n"
     ]
    },
    {
     "name": "stderr",
     "output_type": "stream",
     "text": [
      "[****************************                                            ] 39% "
     ]
    },
    {
     "name": "stdout",
     "output_type": "stream",
     "text": [
      "0.4000 --- loss: 0.318076\n"
     ]
    },
    {
     "name": "stderr",
     "output_type": "stream",
     "text": [
      "[******************************************                              ] 59% "
     ]
    },
    {
     "name": "stdout",
     "output_type": "stream",
     "text": [
      "0.6000 --- loss: 0.301022\n"
     ]
    },
    {
     "name": "stderr",
     "output_type": "stream",
     "text": [
      "[*********************************************************               ] 79% "
     ]
    },
    {
     "name": "stdout",
     "output_type": "stream",
     "text": [
      "0.8000 --- loss: 0.385005\n"
     ]
    },
    {
     "name": "stderr",
     "output_type": "stream",
     "text": [
      "[***                                                                     ]  4% "
     ]
    },
    {
     "name": "stdout",
     "output_type": "stream",
     "text": [
      "Epoch finished ! Loss: 0.329121470451355\n"
     ]
    },
    {
     "name": "stderr",
     "output_type": "stream",
     "text": [
      "[                                                                        ]N/A% "
     ]
    },
    {
     "name": "stdout",
     "output_type": "stream",
     "text": [
      "Validation Cross-Entropy Coeff: 0.5729354023933411\n",
      "Checkpoint 85 saved !\n",
      "Starting epoch 86/100.\n",
      "0.0000 --- loss: 0.413832\n"
     ]
    },
    {
     "name": "stderr",
     "output_type": "stream",
     "text": [
      "[*************                                                           ] 19% "
     ]
    },
    {
     "name": "stdout",
     "output_type": "stream",
     "text": [
      "0.2000 --- loss: 0.336320\n"
     ]
    },
    {
     "name": "stderr",
     "output_type": "stream",
     "text": [
      "[****************************                                            ] 39% "
     ]
    },
    {
     "name": "stdout",
     "output_type": "stream",
     "text": [
      "0.4000 --- loss: 0.362588\n"
     ]
    },
    {
     "name": "stderr",
     "output_type": "stream",
     "text": [
      "[******************************************                              ] 59% "
     ]
    },
    {
     "name": "stdout",
     "output_type": "stream",
     "text": [
      "0.6000 --- loss: 0.331264\n"
     ]
    },
    {
     "name": "stderr",
     "output_type": "stream",
     "text": [
      "[*********************************************************               ] 79% "
     ]
    },
    {
     "name": "stdout",
     "output_type": "stream",
     "text": [
      "0.8000 --- loss: 0.307839\n"
     ]
    },
    {
     "name": "stderr",
     "output_type": "stream",
     "text": [
      "[***                                                                     ]  4% "
     ]
    },
    {
     "name": "stdout",
     "output_type": "stream",
     "text": [
      "Epoch finished ! Loss: 0.329884797334671\n"
     ]
    },
    {
     "name": "stderr",
     "output_type": "stream",
     "text": [
      "[                                                                        ]N/A% "
     ]
    },
    {
     "name": "stdout",
     "output_type": "stream",
     "text": [
      "Validation Cross-Entropy Coeff: 0.5947098731994629\n",
      "Checkpoint 86 saved !\n",
      "Starting epoch 87/100.\n",
      "0.0000 --- loss: 0.358933\n"
     ]
    },
    {
     "name": "stderr",
     "output_type": "stream",
     "text": [
      "[*************                                                           ] 19% "
     ]
    },
    {
     "name": "stdout",
     "output_type": "stream",
     "text": [
      "0.2000 --- loss: 0.317987\n"
     ]
    },
    {
     "name": "stderr",
     "output_type": "stream",
     "text": [
      "[****************************                                            ] 39% "
     ]
    },
    {
     "name": "stdout",
     "output_type": "stream",
     "text": [
      "0.4000 --- loss: 0.299269\n"
     ]
    },
    {
     "name": "stderr",
     "output_type": "stream",
     "text": [
      "[******************************************                              ] 59% "
     ]
    },
    {
     "name": "stdout",
     "output_type": "stream",
     "text": [
      "0.6000 --- loss: 0.295089\n"
     ]
    },
    {
     "name": "stderr",
     "output_type": "stream",
     "text": [
      "[*********************************************************               ] 79% "
     ]
    },
    {
     "name": "stdout",
     "output_type": "stream",
     "text": [
      "0.8000 --- loss: 0.319891\n"
     ]
    },
    {
     "name": "stderr",
     "output_type": "stream",
     "text": [
      "[***                                                                     ]  4% "
     ]
    },
    {
     "name": "stdout",
     "output_type": "stream",
     "text": [
      "Epoch finished ! Loss: 0.33049601316452026\n"
     ]
    },
    {
     "name": "stderr",
     "output_type": "stream",
     "text": [
      "[************************************************************************]100% "
     ]
    },
    {
     "name": "stdout",
     "output_type": "stream",
     "text": [
      "Validation Cross-Entropy Coeff: 0.5663591623306274\n",
      "Checkpoint 87 saved !"
     ]
    },
    {
     "name": "stderr",
     "output_type": "stream",
     "text": [
      "\r",
      "                                                                               \r",
      "\r",
      "[                                                                        ]N/A% "
     ]
    },
    {
     "name": "stdout",
     "output_type": "stream",
     "text": [
      "\n",
      "Starting epoch 88/100.\n",
      "0.0000 --- loss: 0.342001\n"
     ]
    },
    {
     "name": "stderr",
     "output_type": "stream",
     "text": [
      "[*************                                                           ] 19% "
     ]
    },
    {
     "name": "stdout",
     "output_type": "stream",
     "text": [
      "0.2000 --- loss: 0.353700\n"
     ]
    },
    {
     "name": "stderr",
     "output_type": "stream",
     "text": [
      "[****************************                                            ] 39% "
     ]
    },
    {
     "name": "stdout",
     "output_type": "stream",
     "text": [
      "0.4000 --- loss: 0.376473\n"
     ]
    },
    {
     "name": "stderr",
     "output_type": "stream",
     "text": [
      "[******************************************                              ] 59% "
     ]
    },
    {
     "name": "stdout",
     "output_type": "stream",
     "text": [
      "0.6000 --- loss: 0.361494\n"
     ]
    },
    {
     "name": "stderr",
     "output_type": "stream",
     "text": [
      "[*********************************************************               ] 79% "
     ]
    },
    {
     "name": "stdout",
     "output_type": "stream",
     "text": [
      "0.8000 --- loss: 0.333444\n"
     ]
    },
    {
     "name": "stderr",
     "output_type": "stream",
     "text": [
      "[***                                                                     ]  4% "
     ]
    },
    {
     "name": "stdout",
     "output_type": "stream",
     "text": [
      "Epoch finished ! Loss: 0.3325212299823761\n"
     ]
    },
    {
     "name": "stderr",
     "output_type": "stream",
     "text": [
      "[************************************************************************]100% "
     ]
    },
    {
     "name": "stdout",
     "output_type": "stream",
     "text": [
      "Validation Cross-Entropy Coeff: 0.5715752840042114\n",
      "Checkpoint 88 saved !\n",
      "Starting epoch 89/100.\n"
     ]
    },
    {
     "name": "stderr",
     "output_type": "stream",
     "text": [
      "\r",
      "                                                                               \r",
      "\r",
      "[                                                                        ]N/A% "
     ]
    },
    {
     "name": "stdout",
     "output_type": "stream",
     "text": [
      "0.0000 --- loss: 0.304281\n"
     ]
    },
    {
     "name": "stderr",
     "output_type": "stream",
     "text": [
      "[*************                                                           ] 19% "
     ]
    },
    {
     "name": "stdout",
     "output_type": "stream",
     "text": [
      "0.2000 --- loss: 0.324466\n"
     ]
    },
    {
     "name": "stderr",
     "output_type": "stream",
     "text": [
      "[****************************                                            ] 39% "
     ]
    },
    {
     "name": "stdout",
     "output_type": "stream",
     "text": [
      "0.4000 --- loss: 0.377284\n"
     ]
    },
    {
     "name": "stderr",
     "output_type": "stream",
     "text": [
      "[******************************************                              ] 59% "
     ]
    },
    {
     "name": "stdout",
     "output_type": "stream",
     "text": [
      "0.6000 --- loss: 0.323549\n"
     ]
    },
    {
     "name": "stderr",
     "output_type": "stream",
     "text": [
      "[*********************************************************               ] 79% "
     ]
    },
    {
     "name": "stdout",
     "output_type": "stream",
     "text": [
      "0.8000 --- loss: 0.303374\n"
     ]
    },
    {
     "name": "stderr",
     "output_type": "stream",
     "text": [
      "[***                                                                     ]  4% "
     ]
    },
    {
     "name": "stdout",
     "output_type": "stream",
     "text": [
      "Epoch finished ! Loss: 0.3332323431968689\n"
     ]
    },
    {
     "name": "stderr",
     "output_type": "stream",
     "text": [
      "[                                                                        ]N/A% "
     ]
    },
    {
     "name": "stdout",
     "output_type": "stream",
     "text": [
      "Validation Cross-Entropy Coeff: 0.5747457146644592\n",
      "Checkpoint 89 saved !\n",
      "Starting epoch 90/100.\n",
      "0.0000 --- loss: 0.272122\n"
     ]
    },
    {
     "name": "stderr",
     "output_type": "stream",
     "text": [
      "[*************                                                           ] 19% "
     ]
    },
    {
     "name": "stdout",
     "output_type": "stream",
     "text": [
      "0.2000 --- loss: 0.305523\n"
     ]
    },
    {
     "name": "stderr",
     "output_type": "stream",
     "text": [
      "[****************************                                            ] 39% "
     ]
    },
    {
     "name": "stdout",
     "output_type": "stream",
     "text": [
      "0.4000 --- loss: 0.382398\n"
     ]
    },
    {
     "name": "stderr",
     "output_type": "stream",
     "text": [
      "[******************************************                              ] 59% "
     ]
    },
    {
     "name": "stdout",
     "output_type": "stream",
     "text": [
      "0.6000 --- loss: 0.388254\n"
     ]
    },
    {
     "name": "stderr",
     "output_type": "stream",
     "text": [
      "[*********************************************************               ] 79% "
     ]
    },
    {
     "name": "stdout",
     "output_type": "stream",
     "text": [
      "0.8000 --- loss: 0.339900\n"
     ]
    },
    {
     "name": "stderr",
     "output_type": "stream",
     "text": [
      "[***                                                                     ]  4% "
     ]
    },
    {
     "name": "stdout",
     "output_type": "stream",
     "text": [
      "Epoch finished ! Loss: 0.32995232939720154\n"
     ]
    },
    {
     "name": "stderr",
     "output_type": "stream",
     "text": [
      "[                                                                        ]N/A% "
     ]
    },
    {
     "name": "stdout",
     "output_type": "stream",
     "text": [
      "Validation Cross-Entropy Coeff: 0.577698290348053\n",
      "Checkpoint 90 saved !\n",
      "Starting epoch 91/100.\n",
      "0.0000 --- loss: 0.360319\n"
     ]
    },
    {
     "name": "stderr",
     "output_type": "stream",
     "text": [
      "[*************                                                           ] 19% "
     ]
    },
    {
     "name": "stdout",
     "output_type": "stream",
     "text": [
      "0.2000 --- loss: 0.334504\n"
     ]
    },
    {
     "name": "stderr",
     "output_type": "stream",
     "text": [
      "[****************************                                            ] 39% "
     ]
    },
    {
     "name": "stdout",
     "output_type": "stream",
     "text": [
      "0.4000 --- loss: 0.384368\n"
     ]
    },
    {
     "name": "stderr",
     "output_type": "stream",
     "text": [
      "[******************************************                              ] 59% "
     ]
    },
    {
     "name": "stdout",
     "output_type": "stream",
     "text": [
      "0.6000 --- loss: 0.328999\n"
     ]
    },
    {
     "name": "stderr",
     "output_type": "stream",
     "text": [
      "[*********************************************************               ] 79% "
     ]
    },
    {
     "name": "stdout",
     "output_type": "stream",
     "text": [
      "0.8000 --- loss: 0.337903\n"
     ]
    },
    {
     "name": "stderr",
     "output_type": "stream",
     "text": [
      "[***                                                                     ]  4% "
     ]
    },
    {
     "name": "stdout",
     "output_type": "stream",
     "text": [
      "Epoch finished ! Loss: 0.33274826407432556\n"
     ]
    },
    {
     "name": "stderr",
     "output_type": "stream",
     "text": [
      "[                                                                        ]N/A% "
     ]
    },
    {
     "name": "stdout",
     "output_type": "stream",
     "text": [
      "Validation Cross-Entropy Coeff: 0.5806605815887451\n",
      "Checkpoint 91 saved !\n",
      "Starting epoch 92/100.\n",
      "0.0000 --- loss: 0.334541\n"
     ]
    },
    {
     "name": "stderr",
     "output_type": "stream",
     "text": [
      "[*************                                                           ] 19% "
     ]
    },
    {
     "name": "stdout",
     "output_type": "stream",
     "text": [
      "0.2000 --- loss: 0.315266\n"
     ]
    },
    {
     "name": "stderr",
     "output_type": "stream",
     "text": [
      "[****************************                                            ] 39% "
     ]
    },
    {
     "name": "stdout",
     "output_type": "stream",
     "text": [
      "0.4000 --- loss: 0.342646\n"
     ]
    },
    {
     "name": "stderr",
     "output_type": "stream",
     "text": [
      "[******************************************                              ] 59% "
     ]
    },
    {
     "name": "stdout",
     "output_type": "stream",
     "text": [
      "0.6000 --- loss: 0.358939\n"
     ]
    },
    {
     "name": "stderr",
     "output_type": "stream",
     "text": [
      "[*********************************************************               ] 79% "
     ]
    },
    {
     "name": "stdout",
     "output_type": "stream",
     "text": [
      "0.8000 --- loss: 0.300487\n"
     ]
    },
    {
     "name": "stderr",
     "output_type": "stream",
     "text": [
      "[***                                                                     ]  4% "
     ]
    },
    {
     "name": "stdout",
     "output_type": "stream",
     "text": [
      "Epoch finished ! Loss: 0.3255288600921631\n"
     ]
    },
    {
     "name": "stderr",
     "output_type": "stream",
     "text": [
      "[                                                                        ]N/A% "
     ]
    },
    {
     "name": "stdout",
     "output_type": "stream",
     "text": [
      "Validation Cross-Entropy Coeff: 0.5928126573562622\n",
      "Checkpoint 92 saved !\n",
      "Starting epoch 93/100.\n",
      "0.0000 --- loss: 0.293673\n"
     ]
    },
    {
     "name": "stderr",
     "output_type": "stream",
     "text": [
      "[*************                                                           ] 19% "
     ]
    },
    {
     "name": "stdout",
     "output_type": "stream",
     "text": [
      "0.2000 --- loss: 0.281634\n"
     ]
    },
    {
     "name": "stderr",
     "output_type": "stream",
     "text": [
      "[****************************                                            ] 39% "
     ]
    },
    {
     "name": "stdout",
     "output_type": "stream",
     "text": [
      "0.4000 --- loss: 0.299004\n"
     ]
    },
    {
     "name": "stderr",
     "output_type": "stream",
     "text": [
      "[******************************************                              ] 59% "
     ]
    },
    {
     "name": "stdout",
     "output_type": "stream",
     "text": [
      "0.6000 --- loss: 0.293092\n"
     ]
    },
    {
     "name": "stderr",
     "output_type": "stream",
     "text": [
      "[*********************************************************               ] 79% "
     ]
    },
    {
     "name": "stdout",
     "output_type": "stream",
     "text": [
      "0.8000 --- loss: 0.310196\n"
     ]
    },
    {
     "name": "stderr",
     "output_type": "stream",
     "text": [
      "[***                                                                     ]  4% "
     ]
    },
    {
     "name": "stdout",
     "output_type": "stream",
     "text": [
      "Epoch finished ! Loss: 0.3269873261451721\n"
     ]
    },
    {
     "name": "stderr",
     "output_type": "stream",
     "text": [
      "[************************************************************************]100% "
     ]
    },
    {
     "name": "stdout",
     "output_type": "stream",
     "text": [
      "Validation Cross-Entropy Coeff: 0.5815263986587524\n"
     ]
    },
    {
     "name": "stderr",
     "output_type": "stream",
     "text": [
      "\r",
      "                                                                               \r",
      "\r",
      "[                                                                        ]N/A% "
     ]
    },
    {
     "name": "stdout",
     "output_type": "stream",
     "text": [
      "Checkpoint 93 saved !\n",
      "Starting epoch 94/100.\n",
      "0.0000 --- loss: 0.301176\n"
     ]
    },
    {
     "name": "stderr",
     "output_type": "stream",
     "text": [
      "[*************                                                           ] 19% "
     ]
    },
    {
     "name": "stdout",
     "output_type": "stream",
     "text": [
      "0.2000 --- loss: 0.289850\n"
     ]
    },
    {
     "name": "stderr",
     "output_type": "stream",
     "text": [
      "[****************************                                            ] 39% "
     ]
    },
    {
     "name": "stdout",
     "output_type": "stream",
     "text": [
      "0.4000 --- loss: 0.314719\n"
     ]
    },
    {
     "name": "stderr",
     "output_type": "stream",
     "text": [
      "[******************************************                              ] 59% "
     ]
    },
    {
     "name": "stdout",
     "output_type": "stream",
     "text": [
      "0.6000 --- loss: 0.364600\n"
     ]
    },
    {
     "name": "stderr",
     "output_type": "stream",
     "text": [
      "[*********************************************************               ] 79% "
     ]
    },
    {
     "name": "stdout",
     "output_type": "stream",
     "text": [
      "0.8000 --- loss: 0.306940\n"
     ]
    },
    {
     "name": "stderr",
     "output_type": "stream",
     "text": [
      "[***                                                                     ]  4% "
     ]
    },
    {
     "name": "stdout",
     "output_type": "stream",
     "text": [
      "Epoch finished ! Loss: 0.3224920332431793\n"
     ]
    },
    {
     "name": "stderr",
     "output_type": "stream",
     "text": [
      "[                                                                        ]N/A% "
     ]
    },
    {
     "name": "stdout",
     "output_type": "stream",
     "text": [
      "Validation Cross-Entropy Coeff: 0.5761120319366455\n",
      "Checkpoint 94 saved !\n",
      "Starting epoch 95/100.\n",
      "0.0000 --- loss: 0.391071\n"
     ]
    },
    {
     "name": "stderr",
     "output_type": "stream",
     "text": [
      "[*************                                                           ] 19% "
     ]
    },
    {
     "name": "stdout",
     "output_type": "stream",
     "text": [
      "0.2000 --- loss: 0.352298\n"
     ]
    },
    {
     "name": "stderr",
     "output_type": "stream",
     "text": [
      "[****************************                                            ] 39% "
     ]
    },
    {
     "name": "stdout",
     "output_type": "stream",
     "text": [
      "0.4000 --- loss: 0.289535\n"
     ]
    },
    {
     "name": "stderr",
     "output_type": "stream",
     "text": [
      "[******************************************                              ] 59% "
     ]
    },
    {
     "name": "stdout",
     "output_type": "stream",
     "text": [
      "0.6000 --- loss: 0.290165\n"
     ]
    },
    {
     "name": "stderr",
     "output_type": "stream",
     "text": [
      "[*********************************************************               ] 79% "
     ]
    },
    {
     "name": "stdout",
     "output_type": "stream",
     "text": [
      "0.8000 --- loss: 0.320952\n"
     ]
    },
    {
     "name": "stderr",
     "output_type": "stream",
     "text": [
      "[***                                                                     ]  4% "
     ]
    },
    {
     "name": "stdout",
     "output_type": "stream",
     "text": [
      "Epoch finished ! Loss: 0.31949979066848755\n"
     ]
    },
    {
     "name": "stderr",
     "output_type": "stream",
     "text": [
      "[                                                                        ]N/A% "
     ]
    },
    {
     "name": "stdout",
     "output_type": "stream",
     "text": [
      "Validation Cross-Entropy Coeff: 0.6105604767799377\n",
      "Checkpoint 95 saved !\n",
      "Starting epoch 96/100.\n",
      "0.0000 --- loss: 0.290310\n"
     ]
    },
    {
     "name": "stderr",
     "output_type": "stream",
     "text": [
      "[*************                                                           ] 19% "
     ]
    },
    {
     "name": "stdout",
     "output_type": "stream",
     "text": [
      "0.2000 --- loss: 0.315832\n"
     ]
    },
    {
     "name": "stderr",
     "output_type": "stream",
     "text": [
      "[****************************                                            ] 39% "
     ]
    },
    {
     "name": "stdout",
     "output_type": "stream",
     "text": [
      "0.4000 --- loss: 0.286540\n"
     ]
    },
    {
     "name": "stderr",
     "output_type": "stream",
     "text": [
      "[******************************************                              ] 59% "
     ]
    },
    {
     "name": "stdout",
     "output_type": "stream",
     "text": [
      "0.6000 --- loss: 0.328831\n"
     ]
    },
    {
     "name": "stderr",
     "output_type": "stream",
     "text": [
      "[*********************************************************               ] 79% "
     ]
    },
    {
     "name": "stdout",
     "output_type": "stream",
     "text": [
      "0.8000 --- loss: 0.331427\n"
     ]
    },
    {
     "name": "stderr",
     "output_type": "stream",
     "text": [
      "[***                                                                     ]  4% "
     ]
    },
    {
     "name": "stdout",
     "output_type": "stream",
     "text": [
      "Epoch finished ! Loss: 0.32256969809532166\n"
     ]
    },
    {
     "name": "stderr",
     "output_type": "stream",
     "text": [
      "[                                                                        ]N/A% "
     ]
    },
    {
     "name": "stdout",
     "output_type": "stream",
     "text": [
      "Validation Cross-Entropy Coeff: 0.5895455479621887\n",
      "Checkpoint 96 saved !\n",
      "Starting epoch 97/100.\n",
      "0.0000 --- loss: 0.297814\n"
     ]
    },
    {
     "name": "stderr",
     "output_type": "stream",
     "text": [
      "[*************                                                           ] 19% "
     ]
    },
    {
     "name": "stdout",
     "output_type": "stream",
     "text": [
      "0.2000 --- loss: 0.260309\n"
     ]
    },
    {
     "name": "stderr",
     "output_type": "stream",
     "text": [
      "[****************************                                            ] 39% "
     ]
    },
    {
     "name": "stdout",
     "output_type": "stream",
     "text": [
      "0.4000 --- loss: 0.319453\n"
     ]
    },
    {
     "name": "stderr",
     "output_type": "stream",
     "text": [
      "[******************************************                              ] 59% "
     ]
    },
    {
     "name": "stdout",
     "output_type": "stream",
     "text": [
      "0.6000 --- loss: 0.297678\n"
     ]
    },
    {
     "name": "stderr",
     "output_type": "stream",
     "text": [
      "[*********************************************************               ] 79% "
     ]
    },
    {
     "name": "stdout",
     "output_type": "stream",
     "text": [
      "0.8000 --- loss: 0.301084\n"
     ]
    },
    {
     "name": "stderr",
     "output_type": "stream",
     "text": [
      "[***                                                                     ]  4% "
     ]
    },
    {
     "name": "stdout",
     "output_type": "stream",
     "text": [
      "Epoch finished ! Loss: 0.3178294897079468\n"
     ]
    },
    {
     "name": "stderr",
     "output_type": "stream",
     "text": [
      "[                                                                        ]N/A% "
     ]
    },
    {
     "name": "stdout",
     "output_type": "stream",
     "text": [
      "Validation Cross-Entropy Coeff: 0.5886340737342834\n",
      "Checkpoint 97 saved !\n",
      "Starting epoch 98/100.\n",
      "0.0000 --- loss: 0.320184\n"
     ]
    },
    {
     "name": "stderr",
     "output_type": "stream",
     "text": [
      "[*************                                                           ] 19% "
     ]
    },
    {
     "name": "stdout",
     "output_type": "stream",
     "text": [
      "0.2000 --- loss: 0.308924\n"
     ]
    },
    {
     "name": "stderr",
     "output_type": "stream",
     "text": [
      "[****************************                                            ] 39% "
     ]
    },
    {
     "name": "stdout",
     "output_type": "stream",
     "text": [
      "0.4000 --- loss: 0.285638\n"
     ]
    },
    {
     "name": "stderr",
     "output_type": "stream",
     "text": [
      "[******************************************                              ] 59% "
     ]
    },
    {
     "name": "stdout",
     "output_type": "stream",
     "text": [
      "0.6000 --- loss: 0.343688\n"
     ]
    },
    {
     "name": "stderr",
     "output_type": "stream",
     "text": [
      "[*********************************************************               ] 79% "
     ]
    },
    {
     "name": "stdout",
     "output_type": "stream",
     "text": [
      "0.8000 --- loss: 0.314579\n"
     ]
    },
    {
     "name": "stderr",
     "output_type": "stream",
     "text": [
      "[***                                                                     ]  4% "
     ]
    },
    {
     "name": "stdout",
     "output_type": "stream",
     "text": [
      "Epoch finished ! Loss: 0.3168559670448303\n"
     ]
    },
    {
     "name": "stderr",
     "output_type": "stream",
     "text": [
      "[                                                                        ]N/A% "
     ]
    },
    {
     "name": "stdout",
     "output_type": "stream",
     "text": [
      "Validation Cross-Entropy Coeff: 0.5842548608779907\n",
      "Checkpoint 98 saved !\n",
      "Starting epoch 99/100.\n",
      "0.0000 --- loss: 0.349307\n"
     ]
    },
    {
     "name": "stderr",
     "output_type": "stream",
     "text": [
      "[*************                                                           ] 19% "
     ]
    },
    {
     "name": "stdout",
     "output_type": "stream",
     "text": [
      "0.2000 --- loss: 0.283654\n"
     ]
    },
    {
     "name": "stderr",
     "output_type": "stream",
     "text": [
      "[****************************                                            ] 39% "
     ]
    },
    {
     "name": "stdout",
     "output_type": "stream",
     "text": [
      "0.4000 --- loss: 0.309220\n"
     ]
    },
    {
     "name": "stderr",
     "output_type": "stream",
     "text": [
      "[******************************************                              ] 59% "
     ]
    },
    {
     "name": "stdout",
     "output_type": "stream",
     "text": [
      "0.6000 --- loss: 0.342436\n"
     ]
    },
    {
     "name": "stderr",
     "output_type": "stream",
     "text": [
      "[*********************************************************               ] 79% "
     ]
    },
    {
     "name": "stdout",
     "output_type": "stream",
     "text": [
      "0.8000 --- loss: 0.310839\n"
     ]
    },
    {
     "name": "stderr",
     "output_type": "stream",
     "text": [
      "[***                                                                     ]  4% "
     ]
    },
    {
     "name": "stdout",
     "output_type": "stream",
     "text": [
      "Epoch finished ! Loss: 0.31534671783447266\n"
     ]
    },
    {
     "name": "stderr",
     "output_type": "stream",
     "text": [
      "[                                                                        ]N/A% "
     ]
    },
    {
     "name": "stdout",
     "output_type": "stream",
     "text": [
      "Validation Cross-Entropy Coeff: 0.5730385780334473\n",
      "Checkpoint 99 saved !\n",
      "Starting epoch 100/100.\n",
      "0.0000 --- loss: 0.329441\n"
     ]
    },
    {
     "name": "stderr",
     "output_type": "stream",
     "text": [
      "[*************                                                           ] 19% "
     ]
    },
    {
     "name": "stdout",
     "output_type": "stream",
     "text": [
      "0.2000 --- loss: 0.340379\n"
     ]
    },
    {
     "name": "stderr",
     "output_type": "stream",
     "text": [
      "[****************************                                            ] 39% "
     ]
    },
    {
     "name": "stdout",
     "output_type": "stream",
     "text": [
      "0.4000 --- loss: 0.324413\n"
     ]
    },
    {
     "name": "stderr",
     "output_type": "stream",
     "text": [
      "[******************************************                              ] 59% "
     ]
    },
    {
     "name": "stdout",
     "output_type": "stream",
     "text": [
      "0.6000 --- loss: 0.308329\n"
     ]
    },
    {
     "name": "stderr",
     "output_type": "stream",
     "text": [
      "[*********************************************************               ] 79% "
     ]
    },
    {
     "name": "stdout",
     "output_type": "stream",
     "text": [
      "0.8000 --- loss: 0.308309\n"
     ]
    },
    {
     "name": "stderr",
     "output_type": "stream",
     "text": [
      "[***                                                                     ]  4% "
     ]
    },
    {
     "name": "stdout",
     "output_type": "stream",
     "text": [
      "Epoch finished ! Loss: 0.3162442147731781\n"
     ]
    },
    {
     "name": "stderr",
     "output_type": "stream",
     "text": [
      "[************************************************************************]100% "
     ]
    },
    {
     "name": "stdout",
     "output_type": "stream",
     "text": [
      "Validation Cross-Entropy Coeff: 0.5847631692886353\n",
      "Checkpoint 100 saved !\n"
     ]
    }
   ],
   "source": [
    "# Specify number of epochs, image scale factor, batch size and learning rate\n",
    "epochs =  100        # e.g. 10, or more until CE converge\n",
    "batch_size = 40    # e.g. 16\n",
    "lr =   0.001          # e.g. 0.01\n",
    "N_train = len(train_img_masks)\n",
    "if not os.path.exists('Model_2'):\n",
    "    os.mkdir('Model_2')\n",
    "model_save_path = 'Model_2/'  # directory to same the model after each epoch. \n",
    "\n",
    "optimizer = optim.SGD(net.parameters(), lr=lr, momentum=0.9,weight_decay=0.0005)\n",
    "#suggested parameter settings: momentum=0.9, weight_decay=0.0005\n",
    "\n",
    "# The loss function we use is Cross Entropy\n",
    "criterion = nn.CrossEntropyLoss()\n",
    "\n",
    "# Start training  #This part takes very long time to run if using CPU\n",
    "for epoch in range(epochs):\n",
    "    print('Starting epoch {}/{}.'.format(epoch + 1, epochs))\n",
    "    net.train()\n",
    "    # Reload images and masks for training and validation and perform random shuffling at the begining of each epoch\n",
    "    train_loader = torch.utils.data.DataLoader(train_dataset, batch_size=batch_size, shuffle=True, num_workers=0)\n",
    "    val_loader = torch.utils.data.DataLoader(val_dataset, batch_size=batch_size, shuffle=True, num_workers=0)\n",
    "    \n",
    "    epoch_loss = 0\n",
    "    count = 0\n",
    "    progress.currval = 0\n",
    "    progress.max_value=len(train_loader)-1\n",
    "    progress.start()\n",
    "    for i, b in enumerate(train_loader):\n",
    "        \n",
    "        imgs = b['img'].to(device,dtype=torch.float32)\n",
    "        true_masks = b['label'].to(device,dtype=torch.long)        \n",
    "        masks_pred = net(imgs)\n",
    "        # Calculate the loss by comparing the predicted masks vector and true masks vector\n",
    "        # And sum the losses together \n",
    "        loss = criterion(masks_pred,true_masks.long())\n",
    "        epoch_loss += loss\n",
    "        if count % 20 == 0:  #Print status every 20 batch\n",
    "            print('{0:.4f} --- loss: {1:.6f}'.format(i * batch_size / N_train, loss.item())) \n",
    "        count = count + 1\n",
    "        progress.update(i)\n",
    "        # It’s important to call this before loss.backward(), otherwise you’ll accumulate the gradients from multiple passes.\n",
    "        optimizer.zero_grad()\n",
    "        loss.backward()\n",
    "        optimizer.step()\n",
    "        \n",
    "    print('Epoch finished ! Loss: {}'.format(epoch_loss / i))\n",
    "    net.eval()\n",
    "    val_cross=0.0\n",
    "    val_tot=1\n",
    "    with torch.no_grad():\n",
    "        progress.currval = 0\n",
    "        progress.max_value=len(val_loader)-1\n",
    "        progress.start()\n",
    "        for i, b in enumerate(val_loader):\n",
    "            vimgs = b['img'].to(device,dtype=torch.float32)\n",
    "            vtrue_masks = b['label'].to(device,dtype=torch.long)\n",
    "            vmasks_pred = net(vimgs)\n",
    "            vloss=criterion(vmasks_pred,vtrue_masks.long())\n",
    "            val_cross += vloss\n",
    "            val_tot=i+1\n",
    "            progress.update(i)\n",
    "    print('Validation Cross-Entropy Coeff: {}'.format(val_cross/i))\n",
    "    \n",
    "    # Save the model after each epoch\n",
    "    if os.path.isdir(model_save_path):\n",
    "        torch.save(net.state_dict(),model_save_path + 'Brain_Seg_Epoch{}.pth'.format(epoch + 1))\n",
    "    else:\n",
    "        os.makedirs(model_save_path, exist_ok=True)\n",
    "        torch.save(net.state_dict(),model_save_path + 'Brain_Seg_Epoch{}.pth'.format(epoch + 1))\n",
    "    print('Checkpoint {} saved !'.format(epoch + 1))"
   ]
  },
  {
   "cell_type": "code",
   "execution_count": 12,
   "metadata": {},
   "outputs": [],
   "source": [
    "# Define a function for prediction/testing\n",
    "def predict_img(net,full_img,batch):\n",
    "    # set the mode of your network to evaluation\n",
    "    net.eval()\n",
    "\n",
    "    full_img = np.array(full_img)\n",
    "    test_dataset=torch.from_numpy(full_img).type(torch.FloatTensor)\n",
    "    test_loader = torch.utils.data.DataLoader(test_dataset, batch_size=batch, shuffle=False, num_workers=0)\n",
    "    #X_img = X_img.unsqueeze(0)    \n",
    "    \n",
    "    with torch.no_grad():\n",
    "        # predict the masks\n",
    "        outsy=[]\n",
    "        for i, b in enumerate(test_loader):\n",
    "            imgt = b.to(device,dtype=torch.float32)\n",
    "            #imgt=imgt.to(device,dtype=torch.float32)\n",
    "            output_img = net(imgt)\n",
    "            out_probs = output_img.squeeze(0).squeeze(0)\n",
    "\n",
    "            # change back to numpy, set to uint8 \n",
    "            out_mask_np = out_probs.cpu().numpy().astype(float)\n",
    "            outsy.append(out_mask_np)\n",
    "    return outsy\n"
   ]
  },
  {
   "cell_type": "code",
   "execution_count": 13,
   "metadata": {},
   "outputs": [],
   "source": [
    "def patchify(imgs,patch_size=(33,33)):\n",
    "    '''\n",
    "        Takes 4 channels of test image and converts into 4-channel patches. Use as input for Segmentation test_loader.\n",
    "        INPUT   (1) list 'imgs': 4-Channels of image\n",
    "                (2) tuple 'patch_size': size of patches to be created\n",
    "        OUTPUT: list of patches and length of this list.\n",
    "        '''\n",
    "    patched=[]\n",
    "    for i in range(4):\n",
    "        patched.append(extract_patches_2d(imgs[i],patch_size))\n",
    "    test_patch=tuple(zip(patched[0],patched[1],patched[2],patched[3]))\n",
    "    print(len(test_patch))\n",
    "    return test_patch,len(test_patch)"
   ]
  },
  {
   "cell_type": "code",
   "execution_count": 14,
   "metadata": {},
   "outputs": [],
   "source": [
    "def depatchify(patches,img_size=(240,240)):\n",
    "    '''\n",
    "        Takes patches of segmented image and reconstructs the original image. Use on output of Segmentation test model.\n",
    "        INPUT   (1) list 'patches': Patches of segmented image obtained from NN output\n",
    "                (2) tuple 'img_size': size of original image  to reconstruct\n",
    "        OUTPUT: Reconstructed, segmented image.\n",
    "        '''\n",
    "    #reconstruct_from_patches_2d(patches,img_size)\n",
    "    return reconstruct_from_patches_2d(patches,img_size)"
   ]
  },
  {
   "cell_type": "code",
   "execution_count": 15,
   "metadata": {},
   "outputs": [],
   "source": [
    "def test_segmentation(img_num):\n",
    "    # Load an image from testing dataset\n",
    "    if os.path.exists('Pickles/test_imgs.pickle'):\n",
    "        with open('Pickles/test_imgs.pickle','rb') as f:\n",
    "            test_imgs = pickle.load(f)\n",
    "        f.close()\n",
    "    else:\n",
    "        print('Error! Test Images Pickle not found!')\n",
    "\n",
    "    palt,numt=patchify(test_imgs[img_num],(33,33))\n",
    "    itr_size=100\n",
    "    torch.cuda.empty_cache()\n",
    "    num_itr=int(float(numt)/float(itr_size))\n",
    "    if not (numt%itr_size)==0:\n",
    "        num_itr+=1\n",
    "    patched=predict_img(net,palt[0:itr_size],numt)\n",
    "    for itr in range(num_itr):\n",
    "    #    patched = predict_img(net,palt[0:2000],numt)\n",
    "        if itr<(num_itr-2):\n",
    "            patched.extend(predict_img(net,palt[int((itr+1)*itr_size):int((itr+2)*itr_size)],numt))\n",
    "        elif itr==(num_itr-2):\n",
    "            patched.extend(predict_img(net,palt[int((itr+1)*itr_size):],numt))\n",
    "        else:\n",
    "            continue\n",
    "    patched=np.array(patched)\n",
    "    print(patched.shape)\n",
    "    final_patches_r=[]\n",
    "    final_patches_g=[]\n",
    "    final_patches_b=[]\n",
    "    for i in range(patched.shape[0]):\n",
    "        for j in range(patched[i].shape[0]):\n",
    "            img_seg=np.zeros((3,patched[i].shape[2],patched[i].shape[3]))\n",
    "            #RGB Colour Code-> black(0,0,0):0,else  red(255,0,0):1,necrosis  blue(0,0,255):2,edema  green(0,255,0):3,non-enhancing tumor  yellow(255,255,0):4,enhancing tumor\n",
    "            for k in range(patched[i].shape[1]):\n",
    "                img_seg[0] += (patched[i][j][k])*(255.0*(k==1 or k==4))#red\n",
    "                img_seg[1] += (patched[i][j][k])*(255.0*(k==3 or k==4))#green\n",
    "                img_seg[2] += (patched[i][j][k])*(255.0*(k==2))#green\n",
    "            final_patches_r.append(np.array(img_seg[0]))\n",
    "            final_patches_g.append(np.array(img_seg[1]))\n",
    "            final_patches_b.append(np.array(img_seg[2]))\n",
    "    final_patches_r=np.array(final_patches_r)\n",
    "    print(final_patches_r.shape)\n",
    "    final_patches_g=np.array(final_patches_g)\n",
    "    print(final_patches_g.shape)\n",
    "    final_patches_b=np.array(final_patches_b)\n",
    "    print(final_patches_b.shape)\n",
    "    final_patches=[final_patches_r,final_patches_g,final_patches_b]\n",
    "    mask=[]\n",
    "    for i in range(3):\n",
    "          mask.append(depatchify(final_patches[i],(240,240)))\n",
    "    mask=np.array(mask).transpose((1,2,0))\n",
    "    print(mask.shape)\n",
    "\n",
    "    plt.figure(figsize = (10,10))\n",
    "    for i in range(4):\n",
    "        plt.subplot(2,2,i+1)\n",
    "        plt.imshow(test_imgs[img_num][i],cmap='gray')\n",
    "    plt.title(\"4-Channel-Testing Patch {}\".format(img_num))\n",
    "\n",
    "    plt.figure(figsize = (5,5))\n",
    "    plt.imshow(mask,cmap='gray')#vmax=img_seg.max())\n",
    "    plt.title('Tumor')"
   ]
  },
  {
   "cell_type": "code",
   "execution_count": 16,
   "metadata": {
    "scrolled": false
   },
   "outputs": [
    {
     "name": "stdout",
     "output_type": "stream",
     "text": [
      "43264\n"
     ]
    },
    {
     "name": "stderr",
     "output_type": "stream",
     "text": [
      "C:\\Users\\Juan\\anaconda3\\envs\\Image_Processing\\lib\\site-packages\\torch\\nn\\functional.py:2390: UserWarning: nn.functional.upsample is deprecated. Use nn.functional.interpolate instead.\n",
      "  warnings.warn(\"nn.functional.upsample is deprecated. Use nn.functional.interpolate instead.\")\n",
      "C:\\Users\\Juan\\anaconda3\\envs\\Image_Processing\\lib\\site-packages\\torch\\nn\\functional.py:2479: UserWarning: Default upsampling behavior when mode=bilinear is changed to align_corners=False since 0.4.0. Please specify align_corners=True if the old behavior is desired. See the documentation of nn.Upsample for details.\n",
      "  \"See the documentation of nn.Upsample for details.\".format(mode))\n"
     ]
    },
    {
     "name": "stdout",
     "output_type": "stream",
     "text": [
      "(433,)\n",
      "(43264, 33, 33)\n",
      "(43264, 33, 33)\n",
      "(43264, 33, 33)\n"
     ]
    },
    {
     "name": "stderr",
     "output_type": "stream",
     "text": [
      "Clipping input data to the valid range for imshow with RGB data ([0..1] for floats or [0..255] for integers).\n"
     ]
    },
    {
     "name": "stdout",
     "output_type": "stream",
     "text": [
      "(240, 240, 3)\n"
     ]
    },
    {
     "data": {
      "image/png": "[encoded data removed]",
      "text/plain": [
       "<Figure size 720x720 with 4 Axes>"
      ]
     },
     "metadata": {
      "needs_background": "light"
     },
     "output_type": "display_data"
    },
    {
     "data": {
      "image/png": "[encoded data removed]",
      "text/plain": [
       "<Figure size 360x360 with 1 Axes>"
      ]
     },
     "metadata": {
      "needs_background": "light"
     },
     "output_type": "display_data"
    }
   ],
   "source": [
    "test_segmentation(3)    "
   ]
  },
  {
   "cell_type": "code",
   "execution_count": 17,
   "metadata": {},
   "outputs": [
    {
     "name": "stdout",
     "output_type": "stream",
     "text": [
      "43264\n"
     ]
    },
    {
     "name": "stderr",
     "output_type": "stream",
     "text": [
      "C:\\Users\\Juan\\anaconda3\\envs\\Image_Processing\\lib\\site-packages\\torch\\nn\\functional.py:2390: UserWarning: nn.functional.upsample is deprecated. Use nn.functional.interpolate instead.\n",
      "  warnings.warn(\"nn.functional.upsample is deprecated. Use nn.functional.interpolate instead.\")\n",
      "C:\\Users\\Juan\\anaconda3\\envs\\Image_Processing\\lib\\site-packages\\torch\\nn\\functional.py:2479: UserWarning: Default upsampling behavior when mode=bilinear is changed to align_corners=False since 0.4.0. Please specify align_corners=True if the old behavior is desired. See the documentation of nn.Upsample for details.\n",
      "  \"See the documentation of nn.Upsample for details.\".format(mode))\n"
     ]
    },
    {
     "name": "stdout",
     "output_type": "stream",
     "text": [
      "(433,)\n",
      "(43264, 33, 33)\n",
      "(43264, 33, 33)\n",
      "(43264, 33, 33)\n"
     ]
    },
    {
     "name": "stderr",
     "output_type": "stream",
     "text": [
      "Clipping input data to the valid range for imshow with RGB data ([0..1] for floats or [0..255] for integers).\n"
     ]
    },
    {
     "name": "stdout",
     "output_type": "stream",
     "text": [
      "(240, 240, 3)\n",
      "43264\n"
     ]
    },
    {
     "name": "stderr",
     "output_type": "stream",
     "text": [
      "C:\\Users\\Juan\\anaconda3\\envs\\Image_Processing\\lib\\site-packages\\torch\\nn\\functional.py:2390: UserWarning: nn.functional.upsample is deprecated. Use nn.functional.interpolate instead.\n",
      "  warnings.warn(\"nn.functional.upsample is deprecated. Use nn.functional.interpolate instead.\")\n",
      "C:\\Users\\Juan\\anaconda3\\envs\\Image_Processing\\lib\\site-packages\\torch\\nn\\functional.py:2479: UserWarning: Default upsampling behavior when mode=bilinear is changed to align_corners=False since 0.4.0. Please specify align_corners=True if the old behavior is desired. See the documentation of nn.Upsample for details.\n",
      "  \"See the documentation of nn.Upsample for details.\".format(mode))\n"
     ]
    },
    {
     "name": "stdout",
     "output_type": "stream",
     "text": [
      "(433,)\n",
      "(43264, 33, 33)\n",
      "(43264, 33, 33)\n",
      "(43264, 33, 33)\n"
     ]
    },
    {
     "name": "stderr",
     "output_type": "stream",
     "text": [
      "Clipping input data to the valid range for imshow with RGB data ([0..1] for floats or [0..255] for integers).\n"
     ]
    },
    {
     "name": "stdout",
     "output_type": "stream",
     "text": [
      "(240, 240, 3)\n",
      "43264\n"
     ]
    },
    {
     "name": "stderr",
     "output_type": "stream",
     "text": [
      "C:\\Users\\Juan\\anaconda3\\envs\\Image_Processing\\lib\\site-packages\\torch\\nn\\functional.py:2390: UserWarning: nn.functional.upsample is deprecated. Use nn.functional.interpolate instead.\n",
      "  warnings.warn(\"nn.functional.upsample is deprecated. Use nn.functional.interpolate instead.\")\n",
      "C:\\Users\\Juan\\anaconda3\\envs\\Image_Processing\\lib\\site-packages\\torch\\nn\\functional.py:2479: UserWarning: Default upsampling behavior when mode=bilinear is changed to align_corners=False since 0.4.0. Please specify align_corners=True if the old behavior is desired. See the documentation of nn.Upsample for details.\n",
      "  \"See the documentation of nn.Upsample for details.\".format(mode))\n"
     ]
    },
    {
     "name": "stdout",
     "output_type": "stream",
     "text": [
      "(433,)\n",
      "(43264, 33, 33)\n",
      "(43264, 33, 33)\n",
      "(43264, 33, 33)\n",
      "(240, 240, 3)\n"
     ]
    },
    {
     "name": "stderr",
     "output_type": "stream",
     "text": [
      "Clipping input data to the valid range for imshow with RGB data ([0..1] for floats or [0..255] for integers).\n"
     ]
    },
    {
     "data": {
      "image/png": "[encoded data removed]",
      "text/plain": [
       "<Figure size 720x720 with 4 Axes>"
      ]
     },
     "metadata": {
      "needs_background": "light"
     },
     "output_type": "display_data"
    },
    {
     "data": {
      "image/png": "[encoded data removed]",
      "text/plain": [
       "<Figure size 360x360 with 1 Axes>"
      ]
     },
     "metadata": {
      "needs_background": "light"
     },
     "output_type": "display_data"
    },
    {
     "data": {
      "image/png": "[encoded data removed]",
      "text/plain": [
       "<Figure size 720x720 with 4 Axes>"
      ]
     },
     "metadata": {
      "needs_background": "light"
     },
     "output_type": "display_data"
    },
    {
     "data": {
      "image/png": "[encoded data removed]",
      "text/plain": [
       "<Figure size 360x360 with 1 Axes>"
      ]
     },
     "metadata": {
      "needs_background": "light"
     },
     "output_type": "display_data"
    },
    {
     "data": {
      "image/png": "[encoded data removed]",
      "text/plain": [
       "<Figure size 720x720 with 4 Axes>"
      ]
     },
     "metadata": {
      "needs_background": "light"
     },
     "output_type": "display_data"
    },
    {
     "data": {
      "image/png": "[encoded data removed]",
      "text/plain": [
       "<Figure size 360x360 with 1 Axes>"
      ]
     },
     "metadata": {
      "needs_background": "light"
     },
     "output_type": "display_data"
    }
   ],
   "source": [
    "for i in range(3):\n",
    "    test_segmentation(i+3)"
   ]
  },
  {
   "cell_type": "code",
   "execution_count": null,
   "metadata": {},
   "outputs": [],
   "source": []
  }
 ],
 "metadata": {
  "kernelspec": {
   "display_name": "Python 3",
   "language": "python",
   "name": "python3"
  },
  "language_info": {
   "codemirror_mode": {
    "name": "ipython",
    "version": 3
   },
   "file_extension": ".py",
   "mimetype": "text/x-python",
   "name": "python",
   "nbconvert_exporter": "python",
   "pygments_lexer": "ipython3",
   "version": "3.7.7"
  }
 },
 "nbformat": 4,
 "nbformat_minor": 2
}
